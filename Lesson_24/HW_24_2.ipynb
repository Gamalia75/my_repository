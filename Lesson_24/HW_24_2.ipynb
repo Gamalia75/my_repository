{
 "cells": [
  {
   "cell_type": "markdown",
   "id": "394a1259-3b18-401d-808a-ca7aa2e68336",
   "metadata": {},
   "source": [
    "### 2. Є можливість вибрати спосіб виробництва і реалізації двох наборів товарів широкого вжитку. За даними відділу маркетингу, яким були проведені дослідження ринку, можливий прибуток від виробництва і реалізації X і Y наведено в таблицях (X, Y - прибуток у грошових одиницях):"
   ]
  },
  {
   "cell_type": "markdown",
   "id": "ed72188b-b678-454d-bbc1-de1765495421",
   "metadata": {},
   "source": [
    "![Alt-текст](24_2.JPG \"Picture\")"
   ]
  },
  {
   "cell_type": "markdown",
   "id": "12cd89e8-5da3-473c-91e4-94152e4ddb89",
   "metadata": {},
   "source": [
    "### Потрібно оцінити ступінь ризику і запропонувати рішення щодо випуску і реалізації одного із наборів товарів."
   ]
  },
  {
   "cell_type": "markdown",
   "id": "57e5cf16-3246-49c0-9a69-fb3eb91a0877",
   "metadata": {},
   "source": [
    "#### Розв'язок:"
   ]
  },
  {
   "cell_type": "markdown",
   "id": "0afaba85-9c55-4466-b13d-bca437a8b820",
   "metadata": {},
   "source": [
    "##### Щоб оцінити ступінь ризику, потрібно обчислити середньоквадратичне відхилення для X та Y "
   ]
  },
  {
   "cell_type": "markdown",
   "id": "3d76b01e-24cb-4f60-bca7-610d50ccb8bb",
   "metadata": {},
   "source": [
    "#### a) Вираховуємо математичне очікування можливого прибутку для X та Y  "
   ]
  },
  {
   "cell_type": "markdown",
   "id": "14bd0eac-89a0-44de-a493-b687064e48ca",
   "metadata": {},
   "source": [
    "##### $M(X) = 1000 * 0,5  +  1500 * 0,3  +  2000 * 0,2  = 1350$\n",
    "##### $M(Y) = 1000 * 0,4  +  1500 * 0,4  +  1750 * 0,2  = 1350$"
   ]
  },
  {
   "cell_type": "markdown",
   "id": "4289e407-1fbf-4011-98b0-d1252e4055d2",
   "metadata": {},
   "source": [
    "#### b) Вираховуємо дисперсію для X та Y  "
   ]
  },
  {
   "cell_type": "markdown",
   "id": "73095e64-c2bd-46f0-a615-aa0e9cd19391",
   "metadata": {},
   "source": [
    "##### $D(X) =  M(X^2) - M(X)^2$\n",
    "##### $D(X) =  (1000^2  *  0,5)  +  (1500^2 * 0,3)  +  (2000^2 * 0,2)  - 1350^2 = 152 500$\n",
    "##### $D(Y) =  M(Y^2) - M(Y)^2$\n",
    "##### $D(Y) =  (1000^2  *  0,4)  +  (1500^2 * 0,4)  +  (1750^2 * 0,2)  - 1350^2 = 90 000$"
   ]
  },
  {
   "cell_type": "markdown",
   "id": "fe546dc0-1ef5-478e-b8e7-f1c3a43b302e",
   "metadata": {},
   "source": [
    "#### c) Вираховуємо середньоквадратичне відхилення для X та Y  "
   ]
  },
  {
   "cell_type": "markdown",
   "id": "ad345328-752e-4a4f-8f4d-fa3e16b3f598",
   "metadata": {},
   "source": [
    "$\\delta (X) = \\sqrt{D(X)}$"
   ]
  },
  {
   "cell_type": "markdown",
   "id": "afd0a857-594a-4d8d-b457-ef007d9d8d53",
   "metadata": {},
   "source": [
    "$\\delta (X) = \\sqrt{152500} = 390,51$"
   ]
  },
  {
   "cell_type": "markdown",
   "id": "32493188-2021-4a03-8f37-d0a29cf7dd33",
   "metadata": {},
   "source": [
    "$\\delta (Y) = \\sqrt{D(Y)}$"
   ]
  },
  {
   "cell_type": "markdown",
   "id": "4d153f0e-2632-4cea-a6a9-9faf0d4130d3",
   "metadata": {},
   "source": [
    "$\\delta (Y) = \\sqrt{90000} = 300$"
   ]
  },
  {
   "cell_type": "markdown",
   "id": "db6c9549-7d79-4666-9d31-5f485fe8863f",
   "metadata": {},
   "source": [
    "#### Відповідь: Оскільки середньоквадратичне відхилення для Y менше, то варіант Y більш привабливий."
   ]
  },
  {
   "cell_type": "code",
   "execution_count": null,
   "id": "a91dc8f6-1c06-4f1c-84a8-fa30262f8d37",
   "metadata": {},
   "outputs": [],
   "source": []
  }
 ],
 "metadata": {
  "kernelspec": {
   "display_name": "Python 3 (ipykernel)",
   "language": "python",
   "name": "python3"
  },
  "language_info": {
   "codemirror_mode": {
    "name": "ipython",
    "version": 3
   },
   "file_extension": ".py",
   "mimetype": "text/x-python",
   "name": "python",
   "nbconvert_exporter": "python",
   "pygments_lexer": "ipython3",
   "version": "3.11.0"
  }
 },
 "nbformat": 4,
 "nbformat_minor": 5
}
