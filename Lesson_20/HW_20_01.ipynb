{
 "cells": [
  {
   "cell_type": "markdown",
   "id": "4da5ad9c-d9b0-4a26-94c2-d508ef6df3c8",
   "metadata": {},
   "source": [
    "![Alt-текст](HW_20.JPG \"Picture\")"
   ]
  },
  {
   "cell_type": "markdown",
   "id": "d3f8684d-0807-45e2-8676-133a454ea24d",
   "metadata": {},
   "source": [
    "## Завдання 1"
   ]
  },
  {
   "cell_type": "markdown",
   "id": "d4de3f50-d54b-4aff-83d9-fd5faf141d7e",
   "metadata": {},
   "source": [
    "| year   |  rank  | company               | revenue | profit |\n",
    "|:---    | :----: | :----:                | :----:  |    ---:|\n",
    "| 1955   | 229    | Norton                |135.0    |   NA   |\n",
    "| 1955   | 291    | Schlitz Brewing       |100.0    |   NA   |\n",
    "| 1955   | 295    | Pacific Vegetable Oil | 97.9    |   NA   |\n",
    "| 1955   | 297    | Liebmann Breweries    | 96.0    |   NA   |\n",
    "| 1955   | 353    | Minneapolis-Moline    | 77.4    |   NA   |"
   ]
  },
  {
   "cell_type": "markdown",
   "id": "e5b7009d-ec44-430c-bb43-ca29a4ea56bb",
   "metadata": {},
   "source": [
    "## Завдання 2"
   ]
  },
  {
   "cell_type": "code",
   "execution_count": 33,
   "id": "d2763342-ae2a-47e0-9828-158508c544e2",
   "metadata": {},
   "outputs": [
    {
     "name": "stdin",
     "output_type": "stream",
     "text": [
      "Введіть кількість ітерацій:  7\n"
     ]
    },
    {
     "name": "stdout",
     "output_type": "stream",
     "text": [
      "****************************************************************************************************\n",
      "Середній час сортування для цілих чисел: 1.800114665712629 секунд\n",
      "Середній час сортування для чисел з плаваючою крапкою: 1.7160403728485107 секунд\n",
      "Середній час сортування слів: 2.0044678279331754 секунд\n",
      "****************************************************************************************************\n"
     ]
    }
   ],
   "source": [
    "#Код з 13 лекції\n",
    "\n",
    "import random\n",
    "import time\n",
    "from random_words import RandomWords\n",
    "\n",
    "\n",
    "# Bubble Sort Algorithm\n",
    "def bubble_sort(data):\n",
    "    length = len(data)\n",
    "    for iIndex in range(length):\n",
    "        swapped = False\n",
    "        for jIndex in range(0, length - iIndex - 1):\n",
    "            if data[jIndex] > data[jIndex + 1]:\n",
    "               data[jIndex], data[jIndex + 1] = data[jIndex + 1], data[jIndex]\n",
    "               swapped = True\n",
    "        if not swapped:\n",
    "            break\n",
    "    #print(\"Bubble Sort: \", data)\n",
    "\n",
    "\n",
    "num = input(\"Введіть кількість ітерацій: \")\n",
    "x = int(num)\n",
    "\n",
    "#print(f\"Сортуємо цілі числа \\n\")\n",
    "time_sum = 0\n",
    "for i in range(x):\n",
    "    int_list = []\n",
    "    for n in range(0, 5000):\n",
    "        int_list.append(random.randint(0, 1000))\n",
    "    #print(\"Int List:\", int_list)\n",
    "    cur_time = time.time()\n",
    "    bubble_sort(int_list)\n",
    "    time1 = time.time() - cur_time\n",
    "    time_sum += time1\n",
    "    #print(f\"Duration time attempt {i+1}: {time1} \\n\")\n",
    "avg_time1 = time_sum / x\n",
    "#print(f\"Середній час сортування для цілих чисел: {avg_time1} секунд \\n\")\n",
    "\n",
    "#print(f\"Сортуємо числа з плаваючою крапкою \\n\")\n",
    "time_sum = 0\n",
    "for i in range(x):\n",
    "    float_list = []\n",
    "    for n in range(0, 5000):\n",
    "        float_list.append(random.uniform(0.1, 100.0))\n",
    "    #print(\"Float List:\", float_list)\n",
    "    cur_time = time.time()\n",
    "    bubble_sort(float_list)\n",
    "    time1 = time.time() - cur_time\n",
    "    time_sum += time1\n",
    "    #print(f\"Duration time attempt {i+1}: {time1} \\n\")\n",
    "avg_time2 = time_sum / x\n",
    "#print(f\"Середній час сортування для чисел з плаваючою крапкою: {avg_time2} секунд \\n\")\n",
    "\n",
    "#print(f\"Сортуємо слова \\n\")\n",
    "time_sum = 0\n",
    "for i in range(x):\n",
    "    str_list = []\n",
    "    w = RandomWords()\n",
    "    for n in range(0, 5000):\n",
    "        str_list.append(w.random_word())\n",
    "    #print(\"Str List:\", str_list)\n",
    "    cur_time = time.time()\n",
    "    bubble_sort(str_list)\n",
    "    time1 = time.time() - cur_time\n",
    "    time_sum += time1\n",
    "    #print(f\"Duration time attempt {i+1}: {time1} \\n\")\n",
    "avg_time3 = time_sum / x\n",
    "#print(f\"Середній час сортування слів: {avg_time3} секунд \\n\")\n",
    "\n",
    "print(\"*\"*100)\n",
    "print(f\"Середній час сортування для цілих чисел: {avg_time1} секунд\")\n",
    "print(f\"Середній час сортування для чисел з плаваючою крапкою: {avg_time2} секунд\")\n",
    "print(f\"Середній час сортування слів: {avg_time3} секунд\")\n",
    "print(\"*\"*100)\n"
   ]
  },
  {
   "cell_type": "code",
   "execution_count": 34,
   "id": "9f8f6262-b4ce-4001-af97-09ad31af733e",
   "metadata": {},
   "outputs": [
    {
     "name": "stdout",
     "output_type": "stream",
     "text": [
      "1.82 s ± 31.9 ms per loop (mean ± std. dev. of 7 runs, 1 loop each)\n"
     ]
    }
   ],
   "source": [
    "%%timeit\n",
    "\n",
    "# Bubble Sort Algorithm\n",
    "def bubble_sort(data):\n",
    "    length = len(data)\n",
    "    for iIndex in range(length):\n",
    "        swapped = False\n",
    "        for jIndex in range(0, length - iIndex - 1):\n",
    "            if data[jIndex] > data[jIndex + 1]:\n",
    "               data[jIndex], data[jIndex + 1] = data[jIndex + 1], data[jIndex]\n",
    "               swapped = True\n",
    "        if not swapped:\n",
    "            break\n",
    "            \n",
    "x = 1\n",
    "\n",
    "for i in range(x):\n",
    "    int_list = []\n",
    "    for n in range(0, 5000):\n",
    "        int_list.append(random.randint(0, 1000))\n",
    "    \n",
    "    bubble_sort(int_list)\n"
   ]
  },
  {
   "cell_type": "code",
   "execution_count": 35,
   "id": "75062be2-5b32-4d4a-ad95-d4329051e312",
   "metadata": {},
   "outputs": [
    {
     "name": "stdout",
     "output_type": "stream",
     "text": [
      "1.7 s ± 22.9 ms per loop (mean ± std. dev. of 7 runs, 1 loop each)\n"
     ]
    }
   ],
   "source": [
    "%%timeit\n",
    "\n",
    "\n",
    "# Bubble Sort Algorithm\n",
    "def bubble_sort(data):\n",
    "    length = len(data)\n",
    "    for iIndex in range(length):\n",
    "        swapped = False\n",
    "        for jIndex in range(0, length - iIndex - 1):\n",
    "            if data[jIndex] > data[jIndex + 1]:\n",
    "               data[jIndex], data[jIndex + 1] = data[jIndex + 1], data[jIndex]\n",
    "               swapped = True\n",
    "        if not swapped:\n",
    "            break\n",
    "\n",
    "x = 1\n",
    "\n",
    "#print(f\"Сортуємо числа з плаваючою крапкою \\n\")\n",
    "\n",
    "for i in range(x):\n",
    "    float_list = []\n",
    "    for n in range(0, 5000):\n",
    "        float_list.append(random.uniform(0.1, 100.0))\n",
    "    \n",
    "    bubble_sort(float_list)\n"
   ]
  },
  {
   "cell_type": "code",
   "execution_count": 31,
   "id": "18aa8813-aa18-4646-8b66-2251982c5219",
   "metadata": {},
   "outputs": [
    {
     "name": "stdout",
     "output_type": "stream",
     "text": [
      "3.49 s ± 59.4 ms per loop (mean ± std. dev. of 7 runs, 1 loop each)\n"
     ]
    }
   ],
   "source": [
    "%%timeit\n",
    "\n",
    "# Bubble Sort Algorithm\n",
    "def bubble_sort(data):\n",
    "    length = len(data)\n",
    "    for iIndex in range(length):\n",
    "        swapped = False\n",
    "        for jIndex in range(0, length - iIndex - 1):\n",
    "            if data[jIndex] > data[jIndex + 1]:\n",
    "               data[jIndex], data[jIndex + 1] = data[jIndex + 1], data[jIndex]\n",
    "               swapped = True\n",
    "        if not swapped:\n",
    "            break\n",
    "\n",
    "x = 1\n",
    "\n",
    "for i in range(x):\n",
    "    str_list = []\n",
    "    w = RandomWords()\n",
    "    for n in range(0, 5000):\n",
    "        str_list.append(w.random_word())\n",
    "    \n",
    "    bubble_sort(str_list)\n"
   ]
  },
  {
   "cell_type": "code",
   "execution_count": null,
   "id": "3d02ba57-90a2-46ab-8675-0597be2efe61",
   "metadata": {},
   "outputs": [],
   "source": []
  }
 ],
 "metadata": {
  "kernelspec": {
   "display_name": "Python 3 (ipykernel)",
   "language": "python",
   "name": "python3"
  },
  "language_info": {
   "codemirror_mode": {
    "name": "ipython",
    "version": 3
   },
   "file_extension": ".py",
   "mimetype": "text/x-python",
   "name": "python",
   "nbconvert_exporter": "python",
   "pygments_lexer": "ipython3",
   "version": "3.11.0"
  }
 },
 "nbformat": 4,
 "nbformat_minor": 5
}
