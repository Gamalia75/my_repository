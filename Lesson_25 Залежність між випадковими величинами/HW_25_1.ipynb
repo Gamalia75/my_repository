{
 "cells": [
  {
   "cell_type": "markdown",
   "id": "d91b6d03-877d-4d0b-ac3b-90c40964448b",
   "metadata": {},
   "source": [
    "### 1. Ймовірність того, що при перевірці деталь виявиться стандартною, дорівнює 0,6. Перевірці підлягають З деталі. Побудувати закон розподілу системи двох дискретних випадкових величин X - появи числа бракованих деталей і Y-появи числа стандартних деталей.\n",
    "### Обчислити коефіцієнт кореляції  $ r_{ху}$."
   ]
  },
  {
   "cell_type": "markdown",
   "id": "f4329c59-0d52-48ef-a80a-62e52950a325",
   "metadata": {},
   "source": [
    "#### Розв'язок:"
   ]
  },
  {
   "cell_type": "markdown",
   "id": "fd0288dc-434d-4d2a-9d76-520553be2e60",
   "metadata": {},
   "source": [
    "##### Подія Х - поява бракованих деталей\n",
    "##### Подія Y - поява стандартних деталей\n",
    "##### Ймовірність того, що при перевірці деталь виявиться стандартною p = 0,6\n",
    "##### Ймовірність того, що при перевірці деталь виявиться бракованою q = 1 - p = 1 - 0,6 = 0,4"
   ]
  },
  {
   "cell_type": "markdown",
   "id": "97e7ecb7-e0b8-4d29-a4d5-11831a0bc299",
   "metadata": {},
   "source": [
    "#### a) Будуємо закон розподілу системи двох дискретних випадкових величин X - появи числа бракованих деталей і Y-появи числа стандартних деталей."
   ]
  },
  {
   "cell_type": "markdown",
   "id": "c3f2281d-04d3-48d8-bbf5-6d264ccc3d64",
   "metadata": {},
   "source": [
    "##### Цей закон розподілу можна зобразити у виді таблиці, де вказана ймовірність появи k стандартних деталей з n деталей. Таку ймовірність можна обчислити за формулою:"
   ]
  },
  {
   "cell_type": "markdown",
   "id": "6aaccd02-306a-4d39-823a-320de96a103f",
   "metadata": {},
   "source": [
    "$ P(X_iY_j) = C^k_n  p^x q^y = \\frac{n!}{k!(n-k)!} p^x q^y $"
   ]
  },
  {
   "cell_type": "markdown",
   "id": "da38a417-96d2-4ccd-abb0-6032aabfc555",
   "metadata": {},
   "source": [
    "#### Наприклад: $ P(X_1Y_4) = C^3_3  p^3 q^0 = \\frac{3!}{3!(3-3)!} 0,6^3 \\bullet 0,4^0 $ = 0,216"
   ]
  },
  {
   "cell_type": "markdown",
   "id": "ccddc598-ce2b-4980-bc73-fbda02e03ea1",
   "metadata": {},
   "source": [
    "| Y/X |  0   | 1      | 2       |3       | P(Y) |\n",
    "|:--- |:----:| :----: | :----:  | :----: |  ---:|\n",
    "| 0   | 0    | 0      | 0       | 0,064  |0,064 |\n",
    "| 1   | 0    | 0      | 0,288   | 0      |0,288 |\n",
    "| 2   | 0    | 0,432  | 0       | 0      |0,432 |\n",
    "| 3   | 0,216| 0      | 0       | 0      |0,216 |\n",
    "| P(X)| 0,216| 0,432  | 0,288   | 0,064  |1     |"
   ]
  },
  {
   "cell_type": "markdown",
   "id": "1068cdf0-d24e-4e09-ae8a-7cbd56d98a44",
   "metadata": {},
   "source": [
    "#### б) Обчислюємо математичне сподівання для X та Y "
   ]
  },
  {
   "cell_type": "markdown",
   "id": "ee6b2c5f-bc97-430b-83a2-373f64c9c709",
   "metadata": {},
   "source": [
    "##### M[X] = 0 * 0,216  +  1 * 0,432  +  2 * 0,288  +  3 * 0,064 = 1,2\n",
    "##### M[Y] = 0 * 0,064  +  1 * 0,288  +  2 * 0,432  +  3 * 0,216 = 1,8"
   ]
  },
  {
   "cell_type": "markdown",
   "id": "ac2c6dc8-c371-4e47-8ec4-b0051ee88eea",
   "metadata": {},
   "source": [
    "#### c) Обчислюємо дисперсію для X та Y "
   ]
  },
  {
   "cell_type": "markdown",
   "id": "e19a89d6-a005-4331-9ce1-89bd08600702",
   "metadata": {},
   "source": [
    "$ D[X] = M[X^2] - (M[X])^2 $"
   ]
  },
  {
   "cell_type": "markdown",
   "id": "477b42da-5761-4394-9083-0a4a93f2d537",
   "metadata": {},
   "source": [
    "$ D[X] = (0^2 \\bullet 0,216  +  1^2 \\bullet 0,432  +  2^2 \\bullet 0,288  +  3^2 \\bullet 0,064) - 1,2^2 = 0,72 $"
   ]
  },
  {
   "cell_type": "markdown",
   "id": "2ee1d364-5fb5-49db-ad5c-389262439f48",
   "metadata": {},
   "source": [
    "$ D[Y] = M[Y^2] - (M[Y])^2 $"
   ]
  },
  {
   "cell_type": "markdown",
   "id": "11245a02-8f4e-4346-bd30-b605f2499c81",
   "metadata": {},
   "source": [
    "$ D[Y] = (0^2 \\bullet 0,064  +  1^2 \\bullet 0,288  +  2^2 \\bullet 0,432  +  3^2 \\bullet 0,216) - 1,8^2 = 0,72 $"
   ]
  },
  {
   "cell_type": "markdown",
   "id": "c3c0a2c4-f1f9-4b1a-96aa-28b7b73cb734",
   "metadata": {},
   "source": [
    "#### d) Обчислюємо середньоквадратичне відхилення для X та Y "
   ]
  },
  {
   "cell_type": "markdown",
   "id": "3b1fe4bb-41b6-49fa-ab54-4eaef6f92cba",
   "metadata": {},
   "source": [
    "$\\delta (X) = \\sqrt{D(X)}$"
   ]
  },
  {
   "cell_type": "markdown",
   "id": "25fab0d5-bfaf-4674-8277-0f865387f744",
   "metadata": {},
   "source": [
    "$\\delta (X) = \\sqrt{0,72} = 0,85$"
   ]
  },
  {
   "cell_type": "markdown",
   "id": "1741cc55-6930-4e2d-a520-8ed3708f7031",
   "metadata": {},
   "source": [
    "$\\delta (Y) = \\sqrt{D(Y)}$"
   ]
  },
  {
   "cell_type": "markdown",
   "id": "b66c6d0f-882b-422a-a718-fe08c884a4aa",
   "metadata": {},
   "source": [
    "$\\delta (Y) = \\sqrt{0,72} = 0,85$"
   ]
  },
  {
   "cell_type": "markdown",
   "id": "687f8371-601c-42a6-8a3b-516de6f84c79",
   "metadata": {},
   "source": [
    "#### e) Обчислюємо коваріацію для X та Y "
   ]
  },
  {
   "cell_type": "markdown",
   "id": "7f5a8301-7ad9-4a18-80d1-2158da7edc36",
   "metadata": {},
   "source": [
    "$ cov(X,Y) = M(XY) - M(X) \\bullet M(Y) $"
   ]
  },
  {
   "cell_type": "markdown",
   "id": "942d5a9f-8696-418a-acbb-ad73a70b88fb",
   "metadata": {},
   "source": [
    "$ M(XY) = 0*(0*0+1*0+2*0+3*0,216) + 1*(0*0+1*0+2*0,432+3*0) + 2*(0*0+1*0,288+2*0+3*0) + 3*(0*0,064+1*0+2*0+3*0) = 1,44$ "
   ]
  },
  {
   "cell_type": "markdown",
   "id": "af559492-e538-4f27-83f6-0272145f1172",
   "metadata": {},
   "source": [
    "$ cov(X,Y) = 1,44 - 1,2 \\bullet 1,8 = -0,72 $"
   ]
  },
  {
   "cell_type": "markdown",
   "id": "db0dfaf8-7ee1-4d37-939c-76a10c1d723c",
   "metadata": {},
   "source": [
    "#### f) Обчислюємо коефіцієнт кореляції"
   ]
  },
  {
   "cell_type": "markdown",
   "id": "fd776abd-b6a4-4222-824f-147a4cea3cae",
   "metadata": {},
   "source": [
    "$ r_{xy} = \\frac {cov(X,Y)}{\\delta (X)\\delta (Y)}$ "
   ]
  },
  {
   "cell_type": "markdown",
   "id": "146e2478-4045-44f9-b10d-df0186230dce",
   "metadata": {},
   "source": [
    "$ r_{xy} = \\frac {-0,72}{0,85*0,85} = -1$ "
   ]
  },
  {
   "cell_type": "code",
   "execution_count": null,
   "id": "c94a411d-b0e6-4b06-b07b-aedd60fa3840",
   "metadata": {},
   "outputs": [],
   "source": []
  }
 ],
 "metadata": {
  "kernelspec": {
   "display_name": "Python 3 (ipykernel)",
   "language": "python",
   "name": "python3"
  },
  "language_info": {
   "codemirror_mode": {
    "name": "ipython",
    "version": 3
   },
   "file_extension": ".py",
   "mimetype": "text/x-python",
   "name": "python",
   "nbconvert_exporter": "python",
   "pygments_lexer": "ipython3",
   "version": "3.11.0"
  }
 },
 "nbformat": 4,
 "nbformat_minor": 5
}
