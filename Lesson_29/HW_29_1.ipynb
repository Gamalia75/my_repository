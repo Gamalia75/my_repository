{
 "cells": [
  {
   "cell_type": "markdown",
   "id": "6ef54f01-8582-43c9-9c4e-3505a842036a",
   "metadata": {},
   "source": [
    "#### 1. Протягом 50 років вимірювався рівень води навесні під час повені відносно умовного нуля. Результати вимірювання наведено у вигляді інтервального статистичного розподілу:"
   ]
  },
  {
   "cell_type": "markdown",
   "id": "dafbd956-1340-4328-b354-9010cffdfbc9",
   "metadata": {},
   "source": [
    "| $ \\boxed {x_i} $  | 0-24 | 24-48  | 48-72   |72-96    | 96-120|120-144| 144-168 |168-192 | 192-216|\n",
    "|:---      |:----:| :----: | :----:  | :----:  |:----: |:----: | :----:  | :----: |----:   | \n",
    "| $ \\boxed {n_i} $  | 1    | 2      | 4       | 6       |12     |16     | 6       | 2      |1       |"
   ]
  },
  {
   "cell_type": "markdown",
   "id": "4d07ce43-bca9-4971-a5cc-d9ece0a15980",
   "metadata": {},
   "source": [
    "#### За заданими статистичними розподілами вибірки висунути $H_о$ про закон розподілу ознаки генеральної сукупності і при рівні значущості $ \\boldsymbol{\\alpha} = 0,01 $ перевірити її правильність."
   ]
  },
  {
   "cell_type": "markdown",
   "id": "2b62a247-6369-4e6f-8be4-3e498548e4bf",
   "metadata": {},
   "source": [
    "  "
   ]
  },
  {
   "cell_type": "markdown",
   "id": "81e5280e-9049-4657-a499-1817af23b0d8",
   "metadata": {},
   "source": [
    "#### Розв'язок:"
   ]
  },
  {
   "cell_type": "markdown",
   "id": "112a9676-2c3d-47a4-9a1b-3baff463e495",
   "metadata": {},
   "source": [
    "##### 1) Перетворимо інтервали вибірки на точки:"
   ]
  },
  {
   "cell_type": "markdown",
   "id": "54836aed-817f-413b-ae34-b1cff4bc91c9",
   "metadata": {},
   "source": [
    "| $ \\boxed{\\boldsymbol {x_i}} $  | 12    | 36    | 60      |84       | 108   |132   | 156      |180     | 204    |\n",
    "|:---                    |:----:| :----: | :----:  | :----:  |:----: |:----: | :----:  | :----: |----:  | \n",
    "| $ \\boxed{\\boldsymbol {n_i}} $  | 1    | 2      | 4       | 6       | 12     | 16     | 6       | 2      | 1       |"
   ]
  },
  {
   "cell_type": "markdown",
   "id": "707aec42-8aed-4694-8fcf-f6a4b8e302b7",
   "metadata": {},
   "source": [
    "###### 2) Обчислюємо вибіркове середнє:"
   ]
  },
  {
   "cell_type": "markdown",
   "id": "452fc689-909d-463c-a1da-eedaa7f297a1",
   "metadata": {},
   "source": [
    "$ \\bar{x_в} = \\frac{1}{n}\\cdot \\sum_{i=1}^k x_i \\cdot n_i $"
   ]
  },
  {
   "cell_type": "markdown",
   "id": "68c00403-0e76-41f0-83bc-ff3f4ae5b864",
   "metadata": {},
   "source": [
    "$ \\bar{x_в} = \\frac{1}{50}\\cdot (12\\cdot1 + 36\\cdot2 + 60\\cdot4 + 84\\cdot6 + 108\\cdot12 + 132\\cdot16 + 156\\cdot6 + 180\\cdot2 + 204\\cdot1) = 114,72$"
   ]
  },
  {
   "cell_type": "markdown",
   "id": "b210ff72-9506-42c4-b01d-afb6a947d147",
   "metadata": {},
   "source": [
    "###### 3) Обчислюємо вибіркову дисперсію:"
   ]
  },
  {
   "cell_type": "markdown",
   "id": "b30f74a6-5eff-4492-9aba-5fee90fa5ed9",
   "metadata": {},
   "source": [
    "$ \\bar {D} = \\frac{1}{n}\\cdot \\sum_{i=1}^k x_i^2 \\cdot n_i - (\\bar{x_в})^2$"
   ]
  },
  {
   "cell_type": "markdown",
   "id": "1ec2e7b9-6b73-4c3a-9772-8b05a4bfe2db",
   "metadata": {},
   "source": [
    "$ \\bar{D} = \\frac{1}{50}\\cdot (12^2\\cdot1 + 36^2\\cdot2 + 60^2\\cdot4 + 84^2\\cdot6 + 108^2\\cdot12 + 132^2\\cdot16 + 156^2\\cdot6 + 180^2\\cdot2 + 204^2\\cdot1) - (114,72)^2 = 1452,44$"
   ]
  },
  {
   "cell_type": "markdown",
   "id": "d5032b33-c0b3-48b9-8513-2789de0bc11f",
   "metadata": {},
   "source": [
    "###### 4) Середньоквадратичне відхилення:"
   ]
  },
  {
   "cell_type": "markdown",
   "id": "0740c075-a780-435e-85af-2e42ed6f7b9c",
   "metadata": {},
   "source": [
    "$\\sigma = \\sqrt{\\bar{D}} = \\sqrt{1452,44} = 38,11$"
   ]
  },
  {
   "cell_type": "markdown",
   "id": "7e48172d-e9ae-449e-8b2d-fd79bdceb70f",
   "metadata": {},
   "source": [
    "###### 5) Знаходимо нормовані інтервали а результати заносимо в таблицю:"
   ]
  },
  {
   "cell_type": "markdown",
   "id": "738b07fc-9e9b-4875-abd3-3699a79a6aa2",
   "metadata": {},
   "source": [
    "![Alt-текст](29_11.JPG \"Picture\")"
   ]
  },
  {
   "cell_type": "markdown",
   "id": "baa4f415-b314-4271-8ba9-c91daf2a4dbb",
   "metadata": {},
   "source": [
    "###### 6) Розраховуємо $ K_{emp} $ а результати заносимо в таблицю:"
   ]
  },
  {
   "cell_type": "markdown",
   "id": "3f8635ba-eaa1-4fbb-8e16-f4e47a39e000",
   "metadata": {},
   "source": [
    "$ K_{emp} = \\sum_{i=1}^k {\\frac {(n_i - n_i')^2} {n_i'}}$"
   ]
  },
  {
   "cell_type": "markdown",
   "id": "38949e42-a203-4e0c-a598-d8a093205c31",
   "metadata": {},
   "source": [
    "![Alt-текст](29_12.JPG \"Picture\")"
   ]
  },
  {
   "cell_type": "markdown",
   "id": "babf4f01-785b-4459-821c-33e36e378bb2",
   "metadata": {},
   "source": [
    "$ K_{emp} = 4,4824$"
   ]
  },
  {
   "cell_type": "markdown",
   "id": "5f5a011d-2464-41a0-8a3d-914bd98149a1",
   "metadata": {},
   "source": [
    "###### 7) Знаходимо критичну точку розподілу $ K_{кр} $ із таблиці."
   ]
  },
  {
   "cell_type": "markdown",
   "id": "16a9f217-0787-4c1e-99b9-a98bba4f4350",
   "metadata": {},
   "source": [
    "##### Маємо: $ \\boldsymbol{\\alpha} = 0,01 $ \n",
    "##### та r = m - s - 1 = 9 - 2 -1 = 6"
   ]
  },
  {
   "cell_type": "markdown",
   "id": "4aff6877-8ee6-4677-85e6-040939452596",
   "metadata": {},
   "source": [
    "![Alt-текст](29_13.JPG \"Picture\")"
   ]
  },
  {
   "cell_type": "markdown",
   "id": "27e4c891-e7ac-4613-88a8-92a5446b21a1",
   "metadata": {},
   "source": [
    "#### Оскільки $K_{emp} < K_{кр} = 4,4824 < 16,8$ то можемо зробити висновок, що наша гіпотеза $Н_о$ вірна."
   ]
  }
 ],
 "metadata": {
  "kernelspec": {
   "display_name": "Python 3 (ipykernel)",
   "language": "python",
   "name": "python3"
  },
  "language_info": {
   "codemirror_mode": {
    "name": "ipython",
    "version": 3
   },
   "file_extension": ".py",
   "mimetype": "text/x-python",
   "name": "python",
   "nbconvert_exporter": "python",
   "pygments_lexer": "ipython3",
   "version": "3.11.0"
  }
 },
 "nbformat": 4,
 "nbformat_minor": 5
}
