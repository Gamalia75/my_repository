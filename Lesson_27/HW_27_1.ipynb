{
 "cells": [
  {
   "cell_type": "markdown",
   "id": "a2abee8b-c8b0-451d-b5bd-f809a7815a40",
   "metadata": {},
   "source": [
    "### 1. Мікропроцесор має 10000 транзисторів, які працюють незалежно один від одного. Імовірність того, що транзистор вийде з ладу під час роботи приладу, є величиною малоймовірною і становить 0,0007. Визначити математичне сподівання М (X) і середнє квадратичне відхилення $\\delta (X) $ випадкової величини X — числа транзисторів, що вийдуть із ладу під час роботи мікропроцесора."
   ]
  },
  {
   "cell_type": "markdown",
   "id": "098ad007-a760-423e-8b0e-609124f063e1",
   "metadata": {},
   "source": [
    "   "
   ]
  },
  {
   "cell_type": "markdown",
   "id": "29a535b8-7918-4181-ab14-f1766a40f163",
   "metadata": {},
   "source": [
    "#### Розв'язок:"
   ]
  },
  {
   "cell_type": "markdown",
   "id": "5035d1b4-585c-4627-b42a-c439d5f32af5",
   "metadata": {},
   "source": [
    "##### Маємо n = 10000, p = 0,0007\n"
   ]
  },
  {
   "cell_type": "markdown",
   "id": "18d49244-dc81-400c-ab41-f91ba21e5d6d",
   "metadata": {},
   "source": [
    "##### 1) Знаходимо математичне очікування"
   ]
  },
  {
   "cell_type": "markdown",
   "id": "7582abe8-de82-478a-8931-6b222ce7ec17",
   "metadata": {},
   "source": [
    "$ M(X) = n * p = 10000 * 0,0007 = 7 $"
   ]
  },
  {
   "cell_type": "markdown",
   "id": "60ed9888-5c7c-465b-ade5-9f644ecb0384",
   "metadata": {},
   "source": [
    "##### 2) Знаходимо дисперсію"
   ]
  },
  {
   "cell_type": "markdown",
   "id": "b4553ddf-435e-4f45-9f04-4e0a73c6b4d3",
   "metadata": {},
   "source": [
    "$ D(X) = M (X) = n * p = 7 $"
   ]
  },
  {
   "cell_type": "markdown",
   "id": "45224d47-817c-43cd-8dbb-31700d4e3b37",
   "metadata": {},
   "source": [
    "##### 3) Знаходимо середнє квадратичне відхилення"
   ]
  },
  {
   "cell_type": "markdown",
   "id": "844a0d9a-cd80-4c78-9ac2-55c3c14dedae",
   "metadata": {},
   "source": [
    "$\\delta (X) = \\sqrt{D(X)}$"
   ]
  },
  {
   "cell_type": "markdown",
   "id": "21164060-d899-4a18-90e5-a6b08d672a5e",
   "metadata": {},
   "source": [
    "$\\delta (X) = \\sqrt{7} = 2,6457$"
   ]
  }
 ],
 "metadata": {
  "kernelspec": {
   "display_name": "Python 3 (ipykernel)",
   "language": "python",
   "name": "python3"
  },
  "language_info": {
   "codemirror_mode": {
    "name": "ipython",
    "version": 3
   },
   "file_extension": ".py",
   "mimetype": "text/x-python",
   "name": "python",
   "nbconvert_exporter": "python",
   "pygments_lexer": "ipython3",
   "version": "3.11.0"
  }
 },
 "nbformat": 4,
 "nbformat_minor": 5
}
