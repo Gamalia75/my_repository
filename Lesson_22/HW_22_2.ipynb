{
 "cells": [
  {
   "cell_type": "markdown",
   "id": "06b87bf8-f673-44b5-8c74-33534a306e73",
   "metadata": {},
   "source": [
    "#### 2. Вирішіть задачу: \n",
    "####   Протягом 30 днів вересня було 12 дощових, 8 вітряних,\n",
    "####   4 холодних, 5 дощових та вітряних, 3 дощових та холодних, 2 вітряних та холодних,\n",
    "####   а один день був дощовий, вітряний та холодний одночасно. Скільки днів у вересні була гарна погода?\n",
    "####   Роботу виконати у середовищі Jupyter Notebook."
   ]
  },
  {
   "cell_type": "code",
   "execution_count": 2,
   "id": "540e0f53-697c-41a7-bc42-a2bea51d8155",
   "metadata": {},
   "outputs": [
    {
     "name": "stdout",
     "output_type": "stream",
     "text": [
      "15 днів у вересні була гарна погода\n"
     ]
    }
   ],
   "source": [
    "total_days = 30\n",
    "rainy = 12\n",
    "windy = 8\n",
    "cold = 4\n",
    "r_w = 5\n",
    "r_c = 3\n",
    "w_c = 2\n",
    "r_w_c = 1\n",
    "nice_weather = total_days - (rainy + cold + windy - r_c - r_w - w_c + r_w_c)\n",
    "print(f\"{nice_weather} днів у вересні була гарна погода\")"
   ]
  },
  {
   "cell_type": "markdown",
   "id": "5b175f01-b90c-42bd-9c19-f86c704ba52b",
   "metadata": {},
   "source": [
    "![Alt-текст](22_2.JPG \"Picture\")"
   ]
  },
  {
   "cell_type": "code",
   "execution_count": null,
   "id": "9b9e4b52-7605-4684-a076-273988270bfe",
   "metadata": {},
   "outputs": [],
   "source": []
  }
 ],
 "metadata": {
  "kernelspec": {
   "display_name": "Python 3 (ipykernel)",
   "language": "python",
   "name": "python3"
  },
  "language_info": {
   "codemirror_mode": {
    "name": "ipython",
    "version": 3
   },
   "file_extension": ".py",
   "mimetype": "text/x-python",
   "name": "python",
   "nbconvert_exporter": "python",
   "pygments_lexer": "ipython3",
   "version": "3.11.0"
  }
 },
 "nbformat": 4,
 "nbformat_minor": 5
}
