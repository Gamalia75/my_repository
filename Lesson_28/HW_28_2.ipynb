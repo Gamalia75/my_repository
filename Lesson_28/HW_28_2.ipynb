{
 "cells": [
  {
   "cell_type": "markdown",
   "id": "0319b3c3-06e4-4316-adf7-692e5b2fb597",
   "metadata": {},
   "source": [
    "#### 2. Знайти з надійністю $ \\gamma=0,95$ інтервальну оцінку для ймовірності настання події А в кожному із n = 100 незалежних повторних випробувань, якщо подія відбулась m = 40 раз."
   ]
  },
  {
   "cell_type": "markdown",
   "id": "3008b6c6-c736-447d-8925-d2c11281b032",
   "metadata": {},
   "source": [
    "  "
   ]
  },
  {
   "cell_type": "markdown",
   "id": "3aa9403b-b109-4623-a7a0-5c62dee04887",
   "metadata": {},
   "source": [
    "#### Розв'язок:"
   ]
  },
  {
   "cell_type": "markdown",
   "id": "64c30ed3-dc42-4262-83bd-1202f6945661",
   "metadata": {},
   "source": [
    "![Alt-текст](28_21.JPG \"Picture\")"
   ]
  },
  {
   "cell_type": "markdown",
   "id": "9777c282-3538-4d6a-b7b6-92bc4849a04e",
   "metadata": {},
   "source": [
    "##### Параметр t знаходимо з таблиці: "
   ]
  },
  {
   "cell_type": "markdown",
   "id": "9aa5924b-906d-4ff0-8d6b-5b406513d7c3",
   "metadata": {},
   "source": [
    "$ \\phi(t) = \\frac {\\gamma}{2} = \\frac {0,95}{2} = 0,475$"
   ]
  },
  {
   "cell_type": "markdown",
   "id": "b26087ea-278f-44da-9403-ff65926717b6",
   "metadata": {},
   "source": [
    "$ t = 1,96 $ згідно таблиці"
   ]
  },
  {
   "cell_type": "markdown",
   "id": "37183b71-a048-4918-a073-d40fb2fc1dbc",
   "metadata": {},
   "source": [
    "$ p_1 = \\frac {1}{1,96^2 + 100} \\left(40 + \\frac {1,96^2}{2} - 1,96 \\cdot \n",
    "\\sqrt{\\frac {40 \\cdot (100 - 40)}{100} + \\frac {1,96^2}{4}} \n",
    "\\right) = 0,309$"
   ]
  },
  {
   "cell_type": "markdown",
   "id": "a95371b0-ed7d-458f-96f2-03de1af2500d",
   "metadata": {},
   "source": [
    "$ p_2 = \\frac {1}{1,96^2 + 100} \\left(40 + \\frac {1,96^2}{2} + 1,96 \\cdot \n",
    "\\sqrt{\\frac {40 \\cdot (100 - 40)}{100} + \\frac {1,96^2}{4}} \n",
    "\\right) = 0,498$"
   ]
  },
  {
   "cell_type": "markdown",
   "id": "4170142a-1048-45e7-868f-32b61e585209",
   "metadata": {},
   "source": [
    "##### Отже, ми отримали наступний довірчий інтервал:"
   ]
  },
  {
   "cell_type": "markdown",
   "id": "d5f7c256-384c-453e-93f0-f7a66236c304",
   "metadata": {},
   "source": [
    "$ (0,309; 0,498) $"
   ]
  }
 ],
 "metadata": {
  "kernelspec": {
   "display_name": "Python 3 (ipykernel)",
   "language": "python",
   "name": "python3"
  },
  "language_info": {
   "codemirror_mode": {
    "name": "ipython",
    "version": 3
   },
   "file_extension": ".py",
   "mimetype": "text/x-python",
   "name": "python",
   "nbconvert_exporter": "python",
   "pygments_lexer": "ipython3",
   "version": "3.11.0"
  }
 },
 "nbformat": 4,
 "nbformat_minor": 5
}
