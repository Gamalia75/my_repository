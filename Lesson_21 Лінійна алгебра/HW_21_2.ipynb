{
 "cells": [
  {
   "cell_type": "markdown",
   "id": "a65a5dad-608a-4377-ab31-dd12e644702d",
   "metadata": {},
   "source": [
    "# Приклад."
   ]
  },
  {
   "cell_type": "markdown",
   "id": "f45b1c37-a6b3-45c0-875d-7acee2140437",
   "metadata": {},
   "source": [
    "#### Використовуючи елементарні перетворення рядків, перетворити матрицю A в верхню трикутну матрицю, де:"
   ]
  },
  {
   "cell_type": "markdown",
   "id": "03d59d11-b9d9-4ef1-8289-d6c56f633410",
   "metadata": {},
   "source": [
    "![Alt-текст](pics/pic1.png \"Picture\")"
   ]
  },
  {
   "cell_type": "code",
   "execution_count": 10,
   "id": "16986ce8-d64f-4975-9b50-32d361a2c2c6",
   "metadata": {},
   "outputs": [
    {
     "name": "stdout",
     "output_type": "stream",
     "text": [
      "[[ 4  2  0]\n",
      " [ 1  3  2]\n",
      " [-1  3 10]]\n"
     ]
    }
   ],
   "source": [
    "import numpy\n",
    "A = numpy.array([[4, 2, 0],[1, 3, 2],[-1, 3, 10]])\n",
    "print(A)"
   ]
  },
  {
   "cell_type": "markdown",
   "id": "ba5304b2-6b2a-4155-8ad0-e64815a4cbdd",
   "metadata": {},
   "source": [
    "### Розвязок:\n",
    "#### поміняємо перший та другий рядок місцями\n"
   ]
  },
  {
   "cell_type": "markdown",
   "id": "a9765014-c476-46d7-9a15-5d7f7abe96e8",
   "metadata": {},
   "source": [
    "![Alt-текст](pics/pic2.png \"Picture\")"
   ]
  },
  {
   "cell_type": "code",
   "execution_count": 11,
   "id": "d733c232-caa1-4165-bb98-262f214b9cf3",
   "metadata": {},
   "outputs": [
    {
     "name": "stdout",
     "output_type": "stream",
     "text": [
      "[[ 1  3  2]\n",
      " [ 4  2  0]\n",
      " [-1  3 10]]\n"
     ]
    }
   ],
   "source": [
    "A1 = numpy.array([A[1],A[0],A[2]])\n",
    "print(A1)"
   ]
  },
  {
   "cell_type": "markdown",
   "id": "0f4929e2-10b5-4436-a2be-b01733f5de91",
   "metadata": {},
   "source": [
    "#### до 2-го рядка додати 1-ший, помножений на -4; до третього рядка додати перший\n"
   ]
  },
  {
   "cell_type": "markdown",
   "id": "57f94422-5848-41c7-b538-5647c12eb7fd",
   "metadata": {},
   "source": [
    "![Alt-текст](pics/pic3.png \"Picture\")"
   ]
  },
  {
   "cell_type": "code",
   "execution_count": 14,
   "id": "7e241746-ce77-49a3-9a80-a482979f35b6",
   "metadata": {},
   "outputs": [
    {
     "name": "stdout",
     "output_type": "stream",
     "text": [
      "[[  1   3   2]\n",
      " [  0 -10  -8]\n",
      " [  0   6  12]]\n"
     ]
    }
   ],
   "source": [
    "A2 = numpy.array([A1[0], A1[1] + A1[0]*(-4), A1[2] + A1[0]])\n",
    "print(A2)"
   ]
  },
  {
   "cell_type": "markdown",
   "id": "a7f49031-977d-47f2-aac7-b48046ab3f38",
   "metadata": {},
   "source": [
    "#### 2-ий рядок поділити на -2, третій рядок ділимо на 6"
   ]
  },
  {
   "cell_type": "code",
   "execution_count": 16,
   "id": "bfc78063-722c-4a86-8716-4cbafb826491",
   "metadata": {},
   "outputs": [
    {
     "name": "stdout",
     "output_type": "stream",
     "text": [
      "[[1 3 2]\n",
      " [0 5 4]\n",
      " [0 1 2]]\n"
     ]
    }
   ],
   "source": [
    "A3 = numpy.array([A2[0], A2[1] / (-2), A2[2] / 6], dtype=int)\n",
    "print(A3)"
   ]
  },
  {
   "cell_type": "markdown",
   "id": "abfd8de3-6b08-4b2a-9bb4-bc2794b1c46e",
   "metadata": {},
   "source": [
    "#### поміняємо другий та третій рядок місцями\n"
   ]
  },
  {
   "cell_type": "markdown",
   "id": "c7adf488-293f-4908-a201-15952dbca5cc",
   "metadata": {},
   "source": [
    "![Alt-текст](pics/pic5.png \"Picture\")"
   ]
  },
  {
   "cell_type": "code",
   "execution_count": 17,
   "id": "07540f1c-7394-41f5-afb1-50b0935289c6",
   "metadata": {},
   "outputs": [
    {
     "name": "stdout",
     "output_type": "stream",
     "text": [
      "[[1 3 2]\n",
      " [0 1 2]\n",
      " [0 5 4]]\n"
     ]
    }
   ],
   "source": [
    "A4 = numpy.array([A3[0],A3[2],A3[1]])\n",
    "print(A4)"
   ]
  },
  {
   "cell_type": "markdown",
   "id": "630b831a-7eba-4bf9-a961-f9413c166089",
   "metadata": {},
   "source": [
    "#### до 3-тього рядка додамо 2-ий, помножений на -5"
   ]
  },
  {
   "cell_type": "markdown",
   "id": "e351771f-35ec-4a6e-8eeb-02f3325681fb",
   "metadata": {},
   "source": [
    "![Alt-текст](pics/pic6.png \"Picture\")"
   ]
  },
  {
   "cell_type": "code",
   "execution_count": 19,
   "id": "662e53c3-6a58-42dd-8c36-086264c80911",
   "metadata": {},
   "outputs": [
    {
     "name": "stdout",
     "output_type": "stream",
     "text": [
      "[[ 1  3  2]\n",
      " [ 0  1  2]\n",
      " [ 0  0 -6]]\n"
     ]
    }
   ],
   "source": [
    "A5 = numpy.array([A4[0],A4[1],A4[2] + A4[1]*(-5)])\n",
    "print(A5)"
   ]
  },
  {
   "cell_type": "code",
   "execution_count": null,
   "id": "cd9849ef-79df-4253-b1aa-17ab9871ee66",
   "metadata": {},
   "outputs": [],
   "source": []
  }
 ],
 "metadata": {
  "kernelspec": {
   "display_name": "Python 3 (ipykernel)",
   "language": "python",
   "name": "python3"
  },
  "language_info": {
   "codemirror_mode": {
    "name": "ipython",
    "version": 3
   },
   "file_extension": ".py",
   "mimetype": "text/x-python",
   "name": "python",
   "nbconvert_exporter": "python",
   "pygments_lexer": "ipython3",
   "version": "3.11.0"
  }
 },
 "nbformat": 4,
 "nbformat_minor": 5
}
