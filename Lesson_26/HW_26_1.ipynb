{
 "cells": [
  {
   "cell_type": "markdown",
   "id": "5cab16e3-571e-4143-8a89-05361d86a16c",
   "metadata": {},
   "source": [
    "### 1.\tЙмовірність того, що телевізор витримає гарантійний термін роботи, дорівнює 0,9 для всіх телевізорів, які обслуговує гарантійна майстерня. Оцінити ймовірність того, що число телевізорів, які витримають гарантійний термін роботи, буде в межах [85:95]."
   ]
  },
  {
   "cell_type": "code",
   "execution_count": null,
   "id": "e50c687c-415f-46e2-92e2-fd706218511e",
   "metadata": {},
   "outputs": [],
   "source": []
  },
  {
   "cell_type": "markdown",
   "id": "cec712fc-64da-4923-b1a9-23982e190958",
   "metadata": {},
   "source": [
    "#### Розв'язок:"
   ]
  },
  {
   "cell_type": "markdown",
   "id": "4043d72e-8424-49a8-b4b3-d1dca26841ae",
   "metadata": {},
   "source": [
    "$M(X) = n * P = 100 * 0,9 = 90$"
   ]
  },
  {
   "cell_type": "markdown",
   "id": "cb0d7446-b51a-4465-adf1-f1b8d8492969",
   "metadata": {},
   "source": [
    "$D(X) = n * P * q = 100 * 0,9 *(1 - 0,9) = 9$"
   ]
  },
  {
   "cell_type": "markdown",
   "id": "aa04d970-25b8-40a7-9b6f-9033d77ee4c7",
   "metadata": {},
   "source": [
    "$ \\varepsilon = 95-90 = |85 - 90| = 5$"
   ]
  },
  {
   "cell_type": "markdown",
   "id": "d8c64d55-1a55-452d-96d9-742c19c522af",
   "metadata": {},
   "source": [
    "##### Для розв'язку використовуємо нерівність Чебишева "
   ]
  },
  {
   "cell_type": "markdown",
   "id": "777427df-88ee-4de5-86c4-bcfd6c478119",
   "metadata": {},
   "source": [
    "$ P(|X - M(X)| \\leq \\varepsilon)\\geq 1 - \\frac {D(X)}  {\\varepsilon ^ 2}$ "
   ]
  },
  {
   "cell_type": "markdown",
   "id": "9a3fce03-b7a6-4fe2-b549-21f7fff47f66",
   "metadata": {},
   "source": [
    "$ P(|X - 90| \\leq 5)\\geq 1 - \\frac {9}  {5 ^ 2} = \\frac {16}{25} = 0,64$ "
   ]
  },
  {
   "cell_type": "markdown",
   "id": "44353c5a-3766-4201-b58e-875cb43ed56f",
   "metadata": {},
   "source": [
    "#### Отже ймовірність того, що число телевізорів, які витримають гарантійний термін роботи, буде в межах [85:95] - 0,64"
   ]
  },
  {
   "cell_type": "code",
   "execution_count": null,
   "id": "cc83fd6e-16b6-455f-979d-73013fc0bae2",
   "metadata": {},
   "outputs": [],
   "source": []
  }
 ],
 "metadata": {
  "kernelspec": {
   "display_name": "Python 3 (ipykernel)",
   "language": "python",
   "name": "python3"
  },
  "language_info": {
   "codemirror_mode": {
    "name": "ipython",
    "version": 3
   },
   "file_extension": ".py",
   "mimetype": "text/x-python",
   "name": "python",
   "nbconvert_exporter": "python",
   "pygments_lexer": "ipython3",
   "version": "3.11.0"
  }
 },
 "nbformat": 4,
 "nbformat_minor": 5
}
