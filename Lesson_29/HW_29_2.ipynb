{
 "cells": [
  {
   "cell_type": "markdown",
   "id": "8f1618a4-3e09-46bb-83bf-4352c9fd780e",
   "metadata": {},
   "source": [
    "#### 2. Випадкова величина X розподілена рівномірно. Знайти щільність її розподілу, якщо Р(Х $\\ge$3)0,4, а математичне сподівання рівне М(Х)=2."
   ]
  },
  {
   "cell_type": "markdown",
   "id": "ba9e56ca-4b94-46c1-b1db-9d16a1f463d6",
   "metadata": {},
   "source": [
    "  "
   ]
  },
  {
   "cell_type": "markdown",
   "id": "375eed50-94d1-46cd-9e6a-ad790e2a13f4",
   "metadata": {},
   "source": [
    "#### Розв'язок:"
   ]
  },
  {
   "cell_type": "markdown",
   "id": "80c66035-ff9c-4f73-b0db-72c3ac22e56d",
   "metadata": {},
   "source": [
    "#####  Щільність розподілу будемо визначати за формулою:"
   ]
  },
  {
   "cell_type": "markdown",
   "id": "90c2f6f3-2dff-4cf1-8b5e-010cb9a5777e",
   "metadata": {},
   "source": [
    "$ \n",
    "\\begin{equation*}\n",
    "f(x) = \n",
    " \\begin{cases}\n",
    "   0, &\\text{$x \\leq a$}\\\\\n",
    "   \\frac {1}{b-a}, &\\text{$ a < x \\leq b $}\\\\\n",
    "   0, &\\text{$x > b$}\n",
    " \\end{cases}\n",
    "\\end{equation*}\n",
    "$"
   ]
  },
  {
   "cell_type": "markdown",
   "id": "452f8a53-648a-442c-9d09-209ea13849d9",
   "metadata": {},
   "source": [
    "##### нам потрібно визначити межі діапазону, тобто значення a і b"
   ]
  },
  {
   "cell_type": "markdown",
   "id": "b091789b-8d2f-42e9-9a94-659e90c32374",
   "metadata": {},
   "source": [
    "##### Обчислюємо математичне сподівання та дисперсію:"
   ]
  },
  {
   "cell_type": "markdown",
   "id": "475489c6-7d25-470d-a324-70ef3d794e73",
   "metadata": {},
   "source": [
    "$ M(X) = \\frac {a+b}{2}$"
   ]
  },
  {
   "cell_type": "markdown",
   "id": "b6158d5e-cb63-483b-9fb9-1ce77957bb43",
   "metadata": {},
   "source": [
    "$ D(X) = \\frac {(b-a)^2}{12}$"
   ]
  },
  {
   "cell_type": "markdown",
   "id": "204b38ab-b6d2-4aae-9237-fd08e9f3e1b2",
   "metadata": {},
   "source": [
    "$ P(c < X < d) = \\int_c^d \\frac {1}{b-a} \\cdot dx = \\frac {d-c}{b-a}$"
   ]
  },
  {
   "cell_type": "markdown",
   "id": "f0dc89f7-17d0-4f0b-9ecb-b3208e3af91f",
   "metadata": {},
   "source": [
    "##### якщо Р(Х $\\ge$3) = 0,4, то с = 3  а  d = b"
   ]
  },
  {
   "cell_type": "markdown",
   "id": "54d3ec3e-3f69-4cef-a826-a11c19982c6e",
   "metadata": {},
   "source": [
    "$ \\frac {b-3}{b-a} = 0,4$"
   ]
  },
  {
   "cell_type": "markdown",
   "id": "14a6d4a9-405b-4927-964b-0b4fcf58b32d",
   "metadata": {},
   "source": [
    "##### Складемо систему рівнянь:"
   ]
  },
  {
   "cell_type": "markdown",
   "id": "9e135760-a5a0-482b-80b2-0bef90b50fa9",
   "metadata": {},
   "source": [
    "$ \n",
    "\\begin{equation*}\n",
    " \\begin{cases}\n",
    "   \\frac {b-3}{b-a} = 0,4 \\\\\n",
    "   \\frac {a+b}{2} = 2\n",
    " \\end{cases}\n",
    "\\end{equation*}\n",
    "$"
   ]
  },
  {
   "cell_type": "markdown",
   "id": "730902f2-70fd-4a64-b168-f06f52d5ed56",
   "metadata": {},
   "source": [
    "$ \n",
    "\\begin{equation*}\n",
    " \\begin{cases}\n",
    "   b-3 = 0,4 (b - a) \\\\\n",
    "   a+b = 4\n",
    " \\end{cases}\n",
    "\\end{equation*}\n",
    "$"
   ]
  },
  {
   "cell_type": "markdown",
   "id": "2f4fe8ba-03a3-4633-8132-4cce447c6771",
   "metadata": {},
   "source": [
    "$ a = -3,\\\\ b = 7 $"
   ]
  },
  {
   "cell_type": "markdown",
   "id": "153a8a12-aa3b-4069-8e76-3da24baa1088",
   "metadata": {},
   "source": [
    "#### Отже щільність розподілу випадкової величини Х буде мати вигляд:"
   ]
  },
  {
   "cell_type": "markdown",
   "id": "8f069bd3-ffed-44bd-b4e7-f1a28c63e152",
   "metadata": {},
   "source": [
    "$ \n",
    "\\begin{equation*}\n",
    "f(x) = \n",
    " \\begin{cases}\n",
    "   0, &\\text{$x \\leq  -3$}\\\\\n",
    "   0,1 , &\\text{$ -3 < x \\leq 7 $}\\\\\n",
    "   0, &\\text{$x > 7$}\n",
    " \\end{cases}\n",
    "\\end{equation*}\n",
    "$"
   ]
  }
 ],
 "metadata": {
  "kernelspec": {
   "display_name": "Python 3 (ipykernel)",
   "language": "python",
   "name": "python3"
  },
  "language_info": {
   "codemirror_mode": {
    "name": "ipython",
    "version": 3
   },
   "file_extension": ".py",
   "mimetype": "text/x-python",
   "name": "python",
   "nbconvert_exporter": "python",
   "pygments_lexer": "ipython3",
   "version": "3.11.0"
  }
 },
 "nbformat": 4,
 "nbformat_minor": 5
}
