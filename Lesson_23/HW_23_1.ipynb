{
 "cells": [
  {
   "cell_type": "markdown",
   "id": "1cd06d78-d4fa-4f98-a8b0-befd94567890",
   "metadata": {},
   "source": [
    "# Задача №1"
   ]
  },
  {
   "cell_type": "markdown",
   "id": "4da2b265-6c79-4e00-ad96-5b5b727bd556",
   "metadata": {},
   "source": [
    "#### Прилад містить 7 елементів, з яких три зношені.\n",
    "#### При включенні приладу випадковим чином включаються три елементи.\n",
    "#### Знайти ймовірність того, що при цьому виявляться включеними два незношені елементи."
   ]
  },
  {
   "cell_type": "code",
   "execution_count": null,
   "id": "87b7a481-1eb1-4133-ad1d-66b283d0c232",
   "metadata": {},
   "outputs": [],
   "source": []
  },
  {
   "cell_type": "code",
   "execution_count": 4,
   "id": "0fb58053-05f4-4766-b2ea-c440fa285729",
   "metadata": {},
   "outputs": [
    {
     "name": "stdout",
     "output_type": "stream",
     "text": [
      "Вірогідність даної події: 51.43 % \n",
      "\n"
     ]
    }
   ],
   "source": [
    "from math import *\n",
    "\n",
    "n = factorial(7)/((factorial(3))*(factorial(7-3))) \n",
    "#Кількість можливих варіантів включення 3х елементів з 7\n",
    "\n",
    "m = (factorial(4)/(factorial(2)*factorial(4-2))) * (factorial(3)/(factorial(1)*factorial(3-1)))\n",
    "#Кількість можливих варіантів включення 2х незношених елементів з 4 а потім 1го незношеного елемента з 3х\n",
    "\n",
    "Pa = m/n \n",
    "#Подія А - виявляться включеними два незношені елементи\n",
    "\n",
    "print(f'Вірогідність даної події: {round(Pa*100, 2)} % \\n')"
   ]
  },
  {
   "cell_type": "code",
   "execution_count": null,
   "id": "adbf03df-c334-4dd9-bcc3-2ccb7cbb90ad",
   "metadata": {},
   "outputs": [],
   "source": []
  }
 ],
 "metadata": {
  "kernelspec": {
   "display_name": "Python 3 (ipykernel)",
   "language": "python",
   "name": "python3"
  },
  "language_info": {
   "codemirror_mode": {
    "name": "ipython",
    "version": 3
   },
   "file_extension": ".py",
   "mimetype": "text/x-python",
   "name": "python",
   "nbconvert_exporter": "python",
   "pygments_lexer": "ipython3",
   "version": "3.11.0"
  }
 },
 "nbformat": 4,
 "nbformat_minor": 5
}
