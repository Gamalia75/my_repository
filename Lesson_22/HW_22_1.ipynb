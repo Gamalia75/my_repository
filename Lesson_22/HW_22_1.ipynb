{
 "cells": [
  {
   "cell_type": "markdown",
   "id": "94f0e178-631e-4b56-aa63-88951c7d8c92",
   "metadata": {},
   "source": [
    "#####  1. Вирішіть задачу: За підсумками іспитів з 37 студентів відмінну оцінку\n",
    "##### з математики мали 15 студентів, з фізики - 16, з хімії - 19,\n",
    "##### з математики та фізики - 7, з математики та хімії - 9, з фізики та хімії - 6,\n",
    "##### з усіх трьох дисциплін - 4. \n",
    "##### Скільки студентів отримали хоча б по одній відмінній оцінці?\n",
    "##### Роботу виконайте у середовищі Jupyter Notebook."
   ]
  },
  {
   "cell_type": "code",
   "execution_count": 1,
   "id": "42bb9fc7-4a58-472d-a94a-ade6124268e4",
   "metadata": {},
   "outputs": [
    {
     "name": "stdout",
     "output_type": "stream",
     "text": [
      "18 cтудентів отримали тільки по одній відмінній оцінці\n",
      "32 cтудентів отримали хоча б по одній відмінній оцінці\n"
     ]
    }
   ],
   "source": [
    "total = 37\n",
    "m = 15\n",
    "p = 16\n",
    "c = 19\n",
    "m_p = 7\n",
    "m_c = 9\n",
    "p_c = 6\n",
    "m_p_c = 4\n",
    "ex_grage = m + p + c - m_c - m_p - p_c + m_p_c\n",
    "only_math = m - ((m_c - m_p_c) + (m_p - m_p_c)) - m_p_c\n",
    "only_ph = p - ((m_p - m_p_c) + (p_c - m_p_c)) - m_p_c\n",
    "only_ch = c - ((m_c - m_p_c) + (p_c - m_p_c)) - m_p_c\n",
    "only_total = only_ph + only_math + only_ch\n",
    "print(f\"{only_total} cтудентів отримали тільки по одній відмінній оцінці\")\n",
    "print(f\"{ex_grage} cтудентів отримали хоча б по одній відмінній оцінці\")"
   ]
  },
  {
   "cell_type": "markdown",
   "id": "0cc04adc-26f0-47fe-8f63-1558ea9bb496",
   "metadata": {},
   "source": [
    "![Alt-текст](22_1.JPG \"Picture\")"
   ]
  }
 ],
 "metadata": {
  "kernelspec": {
   "display_name": "Python 3 (ipykernel)",
   "language": "python",
   "name": "python3"
  },
  "language_info": {
   "codemirror_mode": {
    "name": "ipython",
    "version": 3
   },
   "file_extension": ".py",
   "mimetype": "text/x-python",
   "name": "python",
   "nbconvert_exporter": "python",
   "pygments_lexer": "ipython3",
   "version": "3.11.0"
  }
 },
 "nbformat": 4,
 "nbformat_minor": 5
}
