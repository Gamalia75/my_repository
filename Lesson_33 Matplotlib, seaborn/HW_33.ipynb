{
 "cells": [
  {
   "cell_type": "markdown",
   "id": "c5dc98a3-49e3-4b99-b599-a1985d818494",
   "metadata": {},
   "source": [
    "####  1.\tСтворіть xls-документ, що містить дані про марки автомобілів, їхню вартість, споживання палива, максимальну швидкість та вантажопідйомність. Кількість записів у документі - 20.\n",
    "####  2.\tВізуалізуйте залежності: споживання палива від вартості - лінійною діаграмою; споживання палива від швидкості - точковим графіком; вантажопідйомності від швидкості - точковим графіком.\n",
    "####  3.\tПобудуйте гістограму для розділення автомобілів на 5 груп за швидкістю.\n",
    "####  4.\tПобудуйте коробковий графік для відображення швидкостей різних марок.\n",
    "####  5.\tПобудуйте парний графік для відображення залежностей величин."
   ]
  },
  {
   "cell_type": "markdown",
   "id": "93a2b150-2eb3-4fd7-b2ed-13a780d45a32",
   "metadata": {},
   "source": [
    "  "
   ]
  },
  {
   "cell_type": "markdown",
   "id": "ee616222-2013-493c-a780-ac8b3b89167a",
   "metadata": {},
   "source": [
    "#### 1. Створіть xls-документ, що містить дані про марки автомобілів, їхню вартість, споживання палива, максимальну швидкість та вантажопідйомність"
   ]
  },
  {
   "cell_type": "code",
   "execution_count": 11,
   "id": "876c3307-aad5-49bd-9214-abb39093e12f",
   "metadata": {},
   "outputs": [
    {
     "data": {
      "text/html": [
       "<div>\n",
       "<style scoped>\n",
       "    .dataframe tbody tr th:only-of-type {\n",
       "        vertical-align: middle;\n",
       "    }\n",
       "\n",
       "    .dataframe tbody tr th {\n",
       "        vertical-align: top;\n",
       "    }\n",
       "\n",
       "    .dataframe thead th {\n",
       "        text-align: right;\n",
       "    }\n",
       "</style>\n",
       "<table border=\"1\" class=\"dataframe\">\n",
       "  <thead>\n",
       "    <tr style=\"text-align: right;\">\n",
       "      <th></th>\n",
       "      <th>Brand</th>\n",
       "      <th>Model</th>\n",
       "      <th>Cost</th>\n",
       "      <th>Oil</th>\n",
       "      <th>Speed</th>\n",
       "      <th>Load_capacity</th>\n",
       "    </tr>\n",
       "  </thead>\n",
       "  <tbody>\n",
       "    <tr>\n",
       "      <th>0</th>\n",
       "      <td>Honda</td>\n",
       "      <td>Accord</td>\n",
       "      <td>32990</td>\n",
       "      <td>9.1</td>\n",
       "      <td>210</td>\n",
       "      <td>416</td>\n",
       "    </tr>\n",
       "    <tr>\n",
       "      <th>1</th>\n",
       "      <td>Honda</td>\n",
       "      <td>CR-V</td>\n",
       "      <td>27000</td>\n",
       "      <td>9.8</td>\n",
       "      <td>188</td>\n",
       "      <td>520</td>\n",
       "    </tr>\n",
       "    <tr>\n",
       "      <th>2</th>\n",
       "      <td>BMW</td>\n",
       "      <td>X6</td>\n",
       "      <td>50000</td>\n",
       "      <td>10.1</td>\n",
       "      <td>240</td>\n",
       "      <td>600</td>\n",
       "    </tr>\n",
       "    <tr>\n",
       "      <th>3</th>\n",
       "      <td>Bentley</td>\n",
       "      <td>Continental</td>\n",
       "      <td>75000</td>\n",
       "      <td>14.5</td>\n",
       "      <td>330</td>\n",
       "      <td>358</td>\n",
       "    </tr>\n",
       "    <tr>\n",
       "      <th>4</th>\n",
       "      <td>Volkswagen</td>\n",
       "      <td>Amarok</td>\n",
       "      <td>30000</td>\n",
       "      <td>7.6</td>\n",
       "      <td>179</td>\n",
       "      <td>835</td>\n",
       "    </tr>\n",
       "    <tr>\n",
       "      <th>5</th>\n",
       "      <td>Volvo</td>\n",
       "      <td>S60</td>\n",
       "      <td>35000</td>\n",
       "      <td>4.1</td>\n",
       "      <td>190</td>\n",
       "      <td>415</td>\n",
       "    </tr>\n",
       "    <tr>\n",
       "      <th>6</th>\n",
       "      <td>Infiniti</td>\n",
       "      <td>JX35</td>\n",
       "      <td>30000</td>\n",
       "      <td>10.7</td>\n",
       "      <td>190</td>\n",
       "      <td>534</td>\n",
       "    </tr>\n",
       "    <tr>\n",
       "      <th>7</th>\n",
       "      <td>Land Rover</td>\n",
       "      <td>Range Rover</td>\n",
       "      <td>60000</td>\n",
       "      <td>7.5</td>\n",
       "      <td>210</td>\n",
       "      <td>840</td>\n",
       "    </tr>\n",
       "    <tr>\n",
       "      <th>8</th>\n",
       "      <td>Lexus</td>\n",
       "      <td>CT</td>\n",
       "      <td>55000</td>\n",
       "      <td>4.1</td>\n",
       "      <td>180</td>\n",
       "      <td>360</td>\n",
       "    </tr>\n",
       "    <tr>\n",
       "      <th>9</th>\n",
       "      <td>Mazda</td>\n",
       "      <td>3</td>\n",
       "      <td>24000</td>\n",
       "      <td>7.8</td>\n",
       "      <td>174</td>\n",
       "      <td>460</td>\n",
       "    </tr>\n",
       "    <tr>\n",
       "      <th>10</th>\n",
       "      <td>Mercedes-Benz</td>\n",
       "      <td>A-Class</td>\n",
       "      <td>50000</td>\n",
       "      <td>5.8</td>\n",
       "      <td>202</td>\n",
       "      <td>565</td>\n",
       "    </tr>\n",
       "    <tr>\n",
       "      <th>11</th>\n",
       "      <td>Mini</td>\n",
       "      <td>Countryman</td>\n",
       "      <td>25000</td>\n",
       "      <td>7.9</td>\n",
       "      <td>223</td>\n",
       "      <td>510</td>\n",
       "    </tr>\n",
       "    <tr>\n",
       "      <th>12</th>\n",
       "      <td>Mitsubishi</td>\n",
       "      <td>ASX</td>\n",
       "      <td>28000</td>\n",
       "      <td>7.6</td>\n",
       "      <td>186</td>\n",
       "      <td>580</td>\n",
       "    </tr>\n",
       "    <tr>\n",
       "      <th>13</th>\n",
       "      <td>Mitsubishi</td>\n",
       "      <td>Outlandar</td>\n",
       "      <td>35000</td>\n",
       "      <td>7.0</td>\n",
       "      <td>200</td>\n",
       "      <td>640</td>\n",
       "    </tr>\n",
       "    <tr>\n",
       "      <th>14</th>\n",
       "      <td>Nissan</td>\n",
       "      <td>Qashqai</td>\n",
       "      <td>28000</td>\n",
       "      <td>8.0</td>\n",
       "      <td>181</td>\n",
       "      <td>415</td>\n",
       "    </tr>\n",
       "    <tr>\n",
       "      <th>15</th>\n",
       "      <td>Skoda</td>\n",
       "      <td>Fabia</td>\n",
       "      <td>16000</td>\n",
       "      <td>4.7</td>\n",
       "      <td>164</td>\n",
       "      <td>515</td>\n",
       "    </tr>\n",
       "    <tr>\n",
       "      <th>16</th>\n",
       "      <td>Toyota</td>\n",
       "      <td>86</td>\n",
       "      <td>27000</td>\n",
       "      <td>7.8</td>\n",
       "      <td>226</td>\n",
       "      <td>403</td>\n",
       "    </tr>\n",
       "    <tr>\n",
       "      <th>17</th>\n",
       "      <td>Ford</td>\n",
       "      <td>Escape</td>\n",
       "      <td>20000</td>\n",
       "      <td>10.2</td>\n",
       "      <td>187</td>\n",
       "      <td>476</td>\n",
       "    </tr>\n",
       "    <tr>\n",
       "      <th>18</th>\n",
       "      <td>Chevrolet</td>\n",
       "      <td>Aveo</td>\n",
       "      <td>15000</td>\n",
       "      <td>7.1</td>\n",
       "      <td>186</td>\n",
       "      <td>445</td>\n",
       "    </tr>\n",
       "    <tr>\n",
       "      <th>19</th>\n",
       "      <td>Hyundai</td>\n",
       "      <td>Elantra</td>\n",
       "      <td>24000</td>\n",
       "      <td>7.1</td>\n",
       "      <td>202</td>\n",
       "      <td>543</td>\n",
       "    </tr>\n",
       "  </tbody>\n",
       "</table>\n",
       "</div>"
      ],
      "text/plain": [
       "            Brand        Model   Cost   Oil  Speed  Load_capacity\n",
       "0           Honda       Accord  32990   9.1    210            416\n",
       "1           Honda         CR-V  27000   9.8    188            520\n",
       "2             BMW           X6  50000  10.1    240            600\n",
       "3         Bentley  Continental  75000  14.5    330            358\n",
       "4      Volkswagen       Amarok  30000   7.6    179            835\n",
       "5           Volvo          S60  35000   4.1    190            415\n",
       "6        Infiniti         JX35  30000  10.7    190            534\n",
       "7      Land Rover  Range Rover  60000   7.5    210            840\n",
       "8           Lexus           CT  55000   4.1    180            360\n",
       "9           Mazda            3  24000   7.8    174            460\n",
       "10  Mercedes-Benz      A-Class  50000   5.8    202            565\n",
       "11           Mini   Countryman  25000   7.9    223            510\n",
       "12     Mitsubishi          ASX  28000   7.6    186            580\n",
       "13     Mitsubishi    Outlandar  35000   7.0    200            640\n",
       "14         Nissan      Qashqai  28000   8.0    181            415\n",
       "15          Skoda        Fabia  16000   4.7    164            515\n",
       "16         Toyota           86  27000   7.8    226            403\n",
       "17           Ford       Escape  20000  10.2    187            476\n",
       "18      Chevrolet         Aveo  15000   7.1    186            445\n",
       "19        Hyundai      Elantra  24000   7.1    202            543"
      ]
     },
     "execution_count": 11,
     "metadata": {},
     "output_type": "execute_result"
    }
   ],
   "source": [
    "import pandas as pd\n",
    "import matplotlib.pyplot as plt\n",
    "import seaborn as sns\n",
    "cars = pd.read_excel('cars.xlsx')\n",
    "cars"
   ]
  },
  {
   "cell_type": "markdown",
   "id": "882c15d1-8bc5-4648-8929-c3699f85041a",
   "metadata": {},
   "source": [
    "#### 2. Візуалізуйте залежності:"
   ]
  },
  {
   "cell_type": "markdown",
   "id": "84fc2ca1-6874-4332-93ed-f5b2649ae2dd",
   "metadata": {},
   "source": [
    "##### a) Cпоживання палива від вартості - лінійною діаграмою"
   ]
  },
  {
   "cell_type": "code",
   "execution_count": 15,
   "id": "32718e4e-8813-42bf-96e0-edd84a93eab8",
   "metadata": {},
   "outputs": [
    {
     "data": {
      "text/html": [
       "<div>\n",
       "<style scoped>\n",
       "    .dataframe tbody tr th:only-of-type {\n",
       "        vertical-align: middle;\n",
       "    }\n",
       "\n",
       "    .dataframe tbody tr th {\n",
       "        vertical-align: top;\n",
       "    }\n",
       "\n",
       "    .dataframe thead th {\n",
       "        text-align: right;\n",
       "    }\n",
       "</style>\n",
       "<table border=\"1\" class=\"dataframe\">\n",
       "  <thead>\n",
       "    <tr style=\"text-align: right;\">\n",
       "      <th></th>\n",
       "      <th>Brand</th>\n",
       "      <th>Model</th>\n",
       "      <th>Cost</th>\n",
       "      <th>Oil</th>\n",
       "      <th>Speed</th>\n",
       "      <th>Load_capacity</th>\n",
       "    </tr>\n",
       "  </thead>\n",
       "  <tbody>\n",
       "    <tr>\n",
       "      <th>18</th>\n",
       "      <td>Chevrolet</td>\n",
       "      <td>Aveo</td>\n",
       "      <td>15000</td>\n",
       "      <td>7.1</td>\n",
       "      <td>186</td>\n",
       "      <td>445</td>\n",
       "    </tr>\n",
       "    <tr>\n",
       "      <th>15</th>\n",
       "      <td>Skoda</td>\n",
       "      <td>Fabia</td>\n",
       "      <td>16000</td>\n",
       "      <td>4.7</td>\n",
       "      <td>164</td>\n",
       "      <td>515</td>\n",
       "    </tr>\n",
       "    <tr>\n",
       "      <th>17</th>\n",
       "      <td>Ford</td>\n",
       "      <td>Escape</td>\n",
       "      <td>20000</td>\n",
       "      <td>10.2</td>\n",
       "      <td>187</td>\n",
       "      <td>476</td>\n",
       "    </tr>\n",
       "    <tr>\n",
       "      <th>9</th>\n",
       "      <td>Mazda</td>\n",
       "      <td>3</td>\n",
       "      <td>24000</td>\n",
       "      <td>7.8</td>\n",
       "      <td>174</td>\n",
       "      <td>460</td>\n",
       "    </tr>\n",
       "    <tr>\n",
       "      <th>19</th>\n",
       "      <td>Hyundai</td>\n",
       "      <td>Elantra</td>\n",
       "      <td>24000</td>\n",
       "      <td>7.1</td>\n",
       "      <td>202</td>\n",
       "      <td>543</td>\n",
       "    </tr>\n",
       "    <tr>\n",
       "      <th>11</th>\n",
       "      <td>Mini</td>\n",
       "      <td>Countryman</td>\n",
       "      <td>25000</td>\n",
       "      <td>7.9</td>\n",
       "      <td>223</td>\n",
       "      <td>510</td>\n",
       "    </tr>\n",
       "    <tr>\n",
       "      <th>16</th>\n",
       "      <td>Toyota</td>\n",
       "      <td>86</td>\n",
       "      <td>27000</td>\n",
       "      <td>7.8</td>\n",
       "      <td>226</td>\n",
       "      <td>403</td>\n",
       "    </tr>\n",
       "    <tr>\n",
       "      <th>1</th>\n",
       "      <td>Honda</td>\n",
       "      <td>CR-V</td>\n",
       "      <td>27000</td>\n",
       "      <td>9.8</td>\n",
       "      <td>188</td>\n",
       "      <td>520</td>\n",
       "    </tr>\n",
       "    <tr>\n",
       "      <th>12</th>\n",
       "      <td>Mitsubishi</td>\n",
       "      <td>ASX</td>\n",
       "      <td>28000</td>\n",
       "      <td>7.6</td>\n",
       "      <td>186</td>\n",
       "      <td>580</td>\n",
       "    </tr>\n",
       "    <tr>\n",
       "      <th>14</th>\n",
       "      <td>Nissan</td>\n",
       "      <td>Qashqai</td>\n",
       "      <td>28000</td>\n",
       "      <td>8.0</td>\n",
       "      <td>181</td>\n",
       "      <td>415</td>\n",
       "    </tr>\n",
       "    <tr>\n",
       "      <th>6</th>\n",
       "      <td>Infiniti</td>\n",
       "      <td>JX35</td>\n",
       "      <td>30000</td>\n",
       "      <td>10.7</td>\n",
       "      <td>190</td>\n",
       "      <td>534</td>\n",
       "    </tr>\n",
       "    <tr>\n",
       "      <th>4</th>\n",
       "      <td>Volkswagen</td>\n",
       "      <td>Amarok</td>\n",
       "      <td>30000</td>\n",
       "      <td>7.6</td>\n",
       "      <td>179</td>\n",
       "      <td>835</td>\n",
       "    </tr>\n",
       "    <tr>\n",
       "      <th>0</th>\n",
       "      <td>Honda</td>\n",
       "      <td>Accord</td>\n",
       "      <td>32990</td>\n",
       "      <td>9.1</td>\n",
       "      <td>210</td>\n",
       "      <td>416</td>\n",
       "    </tr>\n",
       "    <tr>\n",
       "      <th>5</th>\n",
       "      <td>Volvo</td>\n",
       "      <td>S60</td>\n",
       "      <td>35000</td>\n",
       "      <td>4.1</td>\n",
       "      <td>190</td>\n",
       "      <td>415</td>\n",
       "    </tr>\n",
       "    <tr>\n",
       "      <th>13</th>\n",
       "      <td>Mitsubishi</td>\n",
       "      <td>Outlandar</td>\n",
       "      <td>35000</td>\n",
       "      <td>7.0</td>\n",
       "      <td>200</td>\n",
       "      <td>640</td>\n",
       "    </tr>\n",
       "    <tr>\n",
       "      <th>10</th>\n",
       "      <td>Mercedes-Benz</td>\n",
       "      <td>A-Class</td>\n",
       "      <td>50000</td>\n",
       "      <td>5.8</td>\n",
       "      <td>202</td>\n",
       "      <td>565</td>\n",
       "    </tr>\n",
       "    <tr>\n",
       "      <th>2</th>\n",
       "      <td>BMW</td>\n",
       "      <td>X6</td>\n",
       "      <td>50000</td>\n",
       "      <td>10.1</td>\n",
       "      <td>240</td>\n",
       "      <td>600</td>\n",
       "    </tr>\n",
       "    <tr>\n",
       "      <th>8</th>\n",
       "      <td>Lexus</td>\n",
       "      <td>CT</td>\n",
       "      <td>55000</td>\n",
       "      <td>4.1</td>\n",
       "      <td>180</td>\n",
       "      <td>360</td>\n",
       "    </tr>\n",
       "    <tr>\n",
       "      <th>7</th>\n",
       "      <td>Land Rover</td>\n",
       "      <td>Range Rover</td>\n",
       "      <td>60000</td>\n",
       "      <td>7.5</td>\n",
       "      <td>210</td>\n",
       "      <td>840</td>\n",
       "    </tr>\n",
       "    <tr>\n",
       "      <th>3</th>\n",
       "      <td>Bentley</td>\n",
       "      <td>Continental</td>\n",
       "      <td>75000</td>\n",
       "      <td>14.5</td>\n",
       "      <td>330</td>\n",
       "      <td>358</td>\n",
       "    </tr>\n",
       "  </tbody>\n",
       "</table>\n",
       "</div>"
      ],
      "text/plain": [
       "            Brand        Model   Cost   Oil  Speed  Load_capacity\n",
       "18      Chevrolet         Aveo  15000   7.1    186            445\n",
       "15          Skoda        Fabia  16000   4.7    164            515\n",
       "17           Ford       Escape  20000  10.2    187            476\n",
       "9           Mazda            3  24000   7.8    174            460\n",
       "19        Hyundai      Elantra  24000   7.1    202            543\n",
       "11           Mini   Countryman  25000   7.9    223            510\n",
       "16         Toyota           86  27000   7.8    226            403\n",
       "1           Honda         CR-V  27000   9.8    188            520\n",
       "12     Mitsubishi          ASX  28000   7.6    186            580\n",
       "14         Nissan      Qashqai  28000   8.0    181            415\n",
       "6        Infiniti         JX35  30000  10.7    190            534\n",
       "4      Volkswagen       Amarok  30000   7.6    179            835\n",
       "0           Honda       Accord  32990   9.1    210            416\n",
       "5           Volvo          S60  35000   4.1    190            415\n",
       "13     Mitsubishi    Outlandar  35000   7.0    200            640\n",
       "10  Mercedes-Benz      A-Class  50000   5.8    202            565\n",
       "2             BMW           X6  50000  10.1    240            600\n",
       "8           Lexus           CT  55000   4.1    180            360\n",
       "7      Land Rover  Range Rover  60000   7.5    210            840\n",
       "3         Bentley  Continental  75000  14.5    330            358"
      ]
     },
     "execution_count": 15,
     "metadata": {},
     "output_type": "execute_result"
    }
   ],
   "source": [
    "cars_sort = cars.sort_values(by = ['Cost'])\n",
    "cars_sort"
   ]
  },
  {
   "cell_type": "code",
   "execution_count": 24,
   "id": "89bfb6e3-a074-42f2-995a-345a97d23cfd",
   "metadata": {},
   "outputs": [
    {
     "data": {
      "text/plain": [
       "[<matplotlib.lines.Line2D at 0x2432f79de40>]"
      ]
     },
     "execution_count": 24,
     "metadata": {},
     "output_type": "execute_result"
    },
    {
     "data": {
      "image/png": "[encoded data removed]",
      "text/plain": [
       "<Figure size 640x480 with 1 Axes>"
      ]
     },
     "metadata": {},
     "output_type": "display_data"
    }
   ],
   "source": [
    "plt.plot(cars_sort['Cost'], cars_sort['Oil'], color='blue', linewidth = 2)"
   ]
  },
  {
   "cell_type": "markdown",
   "id": "07e25690-a94b-4cab-8473-9b89cb691035",
   "metadata": {},
   "source": [
    "##### b) Cпоживання палива від швидкості - точковим графіком"
   ]
  },
  {
   "cell_type": "code",
   "execution_count": 22,
   "id": "f6197ede-644c-4705-bee1-b300198015d4",
   "metadata": {},
   "outputs": [
    {
     "data": {
      "text/plain": [
       "<matplotlib.collections.PathCollection at 0x2432f6baf20>"
      ]
     },
     "execution_count": 22,
     "metadata": {},
     "output_type": "execute_result"
    },
    {
     "data": {
      "image/png": "[encoded data removed]",
      "text/plain": [
       "<Figure size 640x480 with 1 Axes>"
      ]
     },
     "metadata": {},
     "output_type": "display_data"
    }
   ],
   "source": [
    "plt.scatter(cars_sort['Speed'], cars_sort['Oil'], color = 'green', marker = 'D')"
   ]
  },
  {
   "cell_type": "markdown",
   "id": "d51557ac-7c03-45ec-a111-b285bac37307",
   "metadata": {},
   "source": [
    "##### с) Вантажопідйомності від швидкості - точковим графіком"
   ]
  },
  {
   "cell_type": "code",
   "execution_count": 25,
   "id": "0bb93409-dd20-4b8b-a209-1ed80a47ed3f",
   "metadata": {},
   "outputs": [
    {
     "data": {
      "text/plain": [
       "<matplotlib.collections.PathCollection at 0x2433090f490>"
      ]
     },
     "execution_count": 25,
     "metadata": {},
     "output_type": "execute_result"
    },
    {
     "data": {
      "image/png": "[encoded data removed]",
      "text/plain": [
       "<Figure size 640x480 with 1 Axes>"
      ]
     },
     "metadata": {},
     "output_type": "display_data"
    }
   ],
   "source": [
    "plt.scatter(cars_sort['Speed'], cars_sort['Load_capacity'], color = 'red', marker = 'D')"
   ]
  },
  {
   "cell_type": "markdown",
   "id": "37db5dd8-7882-443a-b4a1-fad9214471ea",
   "metadata": {},
   "source": [
    "#### 3. Побудуйте гістограму для розділення автомобілів на 5 груп за швидкістю."
   ]
  },
  {
   "cell_type": "code",
   "execution_count": 36,
   "id": "2758c8c2-71ab-4ee8-bbae-3039c59ddc43",
   "metadata": {},
   "outputs": [
    {
     "data": {
      "text/plain": [
       "(array([11.,  7.,  1.,  0.,  1.]),\n",
       " array([164. , 197.2, 230.4, 263.6, 296.8, 330. ]),\n",
       " <BarContainer object of 5 artists>)"
      ]
     },
     "execution_count": 36,
     "metadata": {},
     "output_type": "execute_result"
    },
    {
     "data": {
      "image/png": "[encoded data removed]",
      "text/plain": [
       "<Figure size 640x480 with 1 Axes>"
      ]
     },
     "metadata": {},
     "output_type": "display_data"
    }
   ],
   "source": [
    "plt.hist(cars['Speed'], 5, width=32, color='green')"
   ]
  },
  {
   "cell_type": "code",
   "execution_count": 34,
   "id": "b1c8d23c-0d80-4075-b171-5b2129a7e784",
   "metadata": {},
   "outputs": [
    {
     "data": {
      "text/plain": [
       "<AxesSubplot: xlabel='Speed', ylabel='Count'>"
      ]
     },
     "execution_count": 34,
     "metadata": {},
     "output_type": "execute_result"
    },
    {
     "data": {
      "image/png": "[encoded data removed]",
      "text/plain": [
       "<Figure size 640x480 with 1 Axes>"
      ]
     },
     "metadata": {},
     "output_type": "display_data"
    }
   ],
   "source": [
    "sns.histplot(x='Speed', data=cars, bins=5)"
   ]
  },
  {
   "cell_type": "markdown",
   "id": "5684941e-fadc-4da8-8836-d3834374ce9c",
   "metadata": {},
   "source": [
    "#### 4. Побудуйте коробковий графік для відображення швидкостей різних марок."
   ]
  },
  {
   "cell_type": "code",
   "execution_count": 39,
   "id": "6baf82d1-4c8e-4402-9c77-b53cba164756",
   "metadata": {},
   "outputs": [
    {
     "data": {
      "text/html": [
       "<div>\n",
       "<style scoped>\n",
       "    .dataframe tbody tr th:only-of-type {\n",
       "        vertical-align: middle;\n",
       "    }\n",
       "\n",
       "    .dataframe tbody tr th {\n",
       "        vertical-align: top;\n",
       "    }\n",
       "\n",
       "    .dataframe thead th {\n",
       "        text-align: right;\n",
       "    }\n",
       "</style>\n",
       "<table border=\"1\" class=\"dataframe\">\n",
       "  <thead>\n",
       "    <tr style=\"text-align: right;\">\n",
       "      <th></th>\n",
       "      <th>Brand</th>\n",
       "      <th>Model</th>\n",
       "      <th>Cost</th>\n",
       "      <th>Oil</th>\n",
       "      <th>Speed</th>\n",
       "      <th>Load_capacity</th>\n",
       "    </tr>\n",
       "  </thead>\n",
       "  <tbody>\n",
       "    <tr>\n",
       "      <th>2</th>\n",
       "      <td>BMW</td>\n",
       "      <td>X6</td>\n",
       "      <td>50000</td>\n",
       "      <td>10.1</td>\n",
       "      <td>240</td>\n",
       "      <td>600</td>\n",
       "    </tr>\n",
       "    <tr>\n",
       "      <th>3</th>\n",
       "      <td>Bentley</td>\n",
       "      <td>Continental</td>\n",
       "      <td>75000</td>\n",
       "      <td>14.5</td>\n",
       "      <td>330</td>\n",
       "      <td>358</td>\n",
       "    </tr>\n",
       "    <tr>\n",
       "      <th>18</th>\n",
       "      <td>Chevrolet</td>\n",
       "      <td>Aveo</td>\n",
       "      <td>15000</td>\n",
       "      <td>7.1</td>\n",
       "      <td>186</td>\n",
       "      <td>445</td>\n",
       "    </tr>\n",
       "    <tr>\n",
       "      <th>17</th>\n",
       "      <td>Ford</td>\n",
       "      <td>Escape</td>\n",
       "      <td>20000</td>\n",
       "      <td>10.2</td>\n",
       "      <td>187</td>\n",
       "      <td>476</td>\n",
       "    </tr>\n",
       "    <tr>\n",
       "      <th>0</th>\n",
       "      <td>Honda</td>\n",
       "      <td>Accord</td>\n",
       "      <td>32990</td>\n",
       "      <td>9.1</td>\n",
       "      <td>210</td>\n",
       "      <td>416</td>\n",
       "    </tr>\n",
       "    <tr>\n",
       "      <th>1</th>\n",
       "      <td>Honda</td>\n",
       "      <td>CR-V</td>\n",
       "      <td>27000</td>\n",
       "      <td>9.8</td>\n",
       "      <td>188</td>\n",
       "      <td>520</td>\n",
       "    </tr>\n",
       "    <tr>\n",
       "      <th>19</th>\n",
       "      <td>Hyundai</td>\n",
       "      <td>Elantra</td>\n",
       "      <td>24000</td>\n",
       "      <td>7.1</td>\n",
       "      <td>202</td>\n",
       "      <td>543</td>\n",
       "    </tr>\n",
       "    <tr>\n",
       "      <th>6</th>\n",
       "      <td>Infiniti</td>\n",
       "      <td>JX35</td>\n",
       "      <td>30000</td>\n",
       "      <td>10.7</td>\n",
       "      <td>190</td>\n",
       "      <td>534</td>\n",
       "    </tr>\n",
       "    <tr>\n",
       "      <th>7</th>\n",
       "      <td>Land Rover</td>\n",
       "      <td>Range Rover</td>\n",
       "      <td>60000</td>\n",
       "      <td>7.5</td>\n",
       "      <td>210</td>\n",
       "      <td>840</td>\n",
       "    </tr>\n",
       "    <tr>\n",
       "      <th>8</th>\n",
       "      <td>Lexus</td>\n",
       "      <td>CT</td>\n",
       "      <td>55000</td>\n",
       "      <td>4.1</td>\n",
       "      <td>180</td>\n",
       "      <td>360</td>\n",
       "    </tr>\n",
       "    <tr>\n",
       "      <th>9</th>\n",
       "      <td>Mazda</td>\n",
       "      <td>3</td>\n",
       "      <td>24000</td>\n",
       "      <td>7.8</td>\n",
       "      <td>174</td>\n",
       "      <td>460</td>\n",
       "    </tr>\n",
       "    <tr>\n",
       "      <th>10</th>\n",
       "      <td>Mercedes-Benz</td>\n",
       "      <td>A-Class</td>\n",
       "      <td>50000</td>\n",
       "      <td>5.8</td>\n",
       "      <td>202</td>\n",
       "      <td>565</td>\n",
       "    </tr>\n",
       "    <tr>\n",
       "      <th>11</th>\n",
       "      <td>Mini</td>\n",
       "      <td>Countryman</td>\n",
       "      <td>25000</td>\n",
       "      <td>7.9</td>\n",
       "      <td>223</td>\n",
       "      <td>510</td>\n",
       "    </tr>\n",
       "    <tr>\n",
       "      <th>12</th>\n",
       "      <td>Mitsubishi</td>\n",
       "      <td>ASX</td>\n",
       "      <td>28000</td>\n",
       "      <td>7.6</td>\n",
       "      <td>186</td>\n",
       "      <td>580</td>\n",
       "    </tr>\n",
       "    <tr>\n",
       "      <th>13</th>\n",
       "      <td>Mitsubishi</td>\n",
       "      <td>Outlandar</td>\n",
       "      <td>35000</td>\n",
       "      <td>7.0</td>\n",
       "      <td>200</td>\n",
       "      <td>640</td>\n",
       "    </tr>\n",
       "    <tr>\n",
       "      <th>14</th>\n",
       "      <td>Nissan</td>\n",
       "      <td>Qashqai</td>\n",
       "      <td>28000</td>\n",
       "      <td>8.0</td>\n",
       "      <td>181</td>\n",
       "      <td>415</td>\n",
       "    </tr>\n",
       "    <tr>\n",
       "      <th>15</th>\n",
       "      <td>Skoda</td>\n",
       "      <td>Fabia</td>\n",
       "      <td>16000</td>\n",
       "      <td>4.7</td>\n",
       "      <td>164</td>\n",
       "      <td>515</td>\n",
       "    </tr>\n",
       "    <tr>\n",
       "      <th>16</th>\n",
       "      <td>Toyota</td>\n",
       "      <td>86</td>\n",
       "      <td>27000</td>\n",
       "      <td>7.8</td>\n",
       "      <td>226</td>\n",
       "      <td>403</td>\n",
       "    </tr>\n",
       "    <tr>\n",
       "      <th>4</th>\n",
       "      <td>Volkswagen</td>\n",
       "      <td>Amarok</td>\n",
       "      <td>30000</td>\n",
       "      <td>7.6</td>\n",
       "      <td>179</td>\n",
       "      <td>835</td>\n",
       "    </tr>\n",
       "    <tr>\n",
       "      <th>5</th>\n",
       "      <td>Volvo</td>\n",
       "      <td>S60</td>\n",
       "      <td>35000</td>\n",
       "      <td>4.1</td>\n",
       "      <td>190</td>\n",
       "      <td>415</td>\n",
       "    </tr>\n",
       "  </tbody>\n",
       "</table>\n",
       "</div>"
      ],
      "text/plain": [
       "            Brand        Model   Cost   Oil  Speed  Load_capacity\n",
       "2             BMW           X6  50000  10.1    240            600\n",
       "3         Bentley  Continental  75000  14.5    330            358\n",
       "18      Chevrolet         Aveo  15000   7.1    186            445\n",
       "17           Ford       Escape  20000  10.2    187            476\n",
       "0           Honda       Accord  32990   9.1    210            416\n",
       "1           Honda         CR-V  27000   9.8    188            520\n",
       "19        Hyundai      Elantra  24000   7.1    202            543\n",
       "6        Infiniti         JX35  30000  10.7    190            534\n",
       "7      Land Rover  Range Rover  60000   7.5    210            840\n",
       "8           Lexus           CT  55000   4.1    180            360\n",
       "9           Mazda            3  24000   7.8    174            460\n",
       "10  Mercedes-Benz      A-Class  50000   5.8    202            565\n",
       "11           Mini   Countryman  25000   7.9    223            510\n",
       "12     Mitsubishi          ASX  28000   7.6    186            580\n",
       "13     Mitsubishi    Outlandar  35000   7.0    200            640\n",
       "14         Nissan      Qashqai  28000   8.0    181            415\n",
       "15          Skoda        Fabia  16000   4.7    164            515\n",
       "16         Toyota           86  27000   7.8    226            403\n",
       "4      Volkswagen       Amarok  30000   7.6    179            835\n",
       "5           Volvo          S60  35000   4.1    190            415"
      ]
     },
     "execution_count": 39,
     "metadata": {},
     "output_type": "execute_result"
    }
   ],
   "source": [
    "cars_sort1 = cars.sort_values(by = ['Brand'])\n",
    "cars_sort1"
   ]
  },
  {
   "cell_type": "code",
   "execution_count": 41,
   "id": "51e32e2c-b2ce-40a2-8a0b-eec10479db1c",
   "metadata": {},
   "outputs": [
    {
     "data": {
      "text/plain": [
       "<AxesSubplot: xlabel='Speed', ylabel='Brand'>"
      ]
     },
     "execution_count": 41,
     "metadata": {},
     "output_type": "execute_result"
    },
    {
     "data": {
      "image/png": "[encoded data removed]",
      "text/plain": [
       "<Figure size 640x480 with 1 Axes>"
      ]
     },
     "metadata": {},
     "output_type": "display_data"
    }
   ],
   "source": [
    "sns.boxplot(x = 'Speed', y = 'Brand', data = cars_sort1)"
   ]
  },
  {
   "cell_type": "markdown",
   "id": "0b9113b0-0bad-4529-8eff-38ad713d75d2",
   "metadata": {},
   "source": [
    "#### 5. Побудуйте парний графік для відображення залежностей величин."
   ]
  },
  {
   "cell_type": "code",
   "execution_count": 38,
   "id": "1b48b46f-1da7-4cdf-8d65-8a077b9739e5",
   "metadata": {},
   "outputs": [
    {
     "data": {
      "text/plain": [
       "<seaborn.axisgrid.PairGrid at 0x243310216c0>"
      ]
     },
     "execution_count": 38,
     "metadata": {},
     "output_type": "execute_result"
    },
    {
     "data": {
      "image/png": "[encoded data removed]",
      "text/plain": [
       "<Figure size 1000x1000 with 20 Axes>"
      ]
     },
     "metadata": {},
     "output_type": "display_data"
    }
   ],
   "source": [
    "sns.pairplot(cars)"
   ]
  }
 ],
 "metadata": {
  "kernelspec": {
   "display_name": "Python 3 (ipykernel)",
   "language": "python",
   "name": "python3"
  },
  "language_info": {
   "codemirror_mode": {
    "name": "ipython",
    "version": 3
   },
   "file_extension": ".py",
   "mimetype": "text/x-python",
   "name": "python",
   "nbconvert_exporter": "python",
   "pygments_lexer": "ipython3",
   "version": "3.10.8"
  }
 },
 "nbformat": 4,
 "nbformat_minor": 5
}
