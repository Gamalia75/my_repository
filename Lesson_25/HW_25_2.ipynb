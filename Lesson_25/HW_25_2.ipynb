{
 "cells": [
  {
   "cell_type": "markdown",
   "id": "87fa7f29-c5ae-45e5-bd3b-d52f7067ebb1",
   "metadata": {},
   "source": [
    "### 2. Розглянемо дві різні умовні акції Х і Y (табл. на наступному слайді). Для кожної з них за допомогою статистичних досліджень були розраховані відносні частоти очікуваних прибутків залежно від п'яти станів економічного середовища: значне піднесення (ЗП), незначне піднесення (НЗП), стагнація (С), незначний спад (НЗС), значний спад (ЗС). Ці дані занесені відповідно в останній рядок і останній стовпчик таблиці 1. Залежно від економічного середовища прогнозовані норми очікуваних прибутків у відсотках задані відповідно у першому рядку та першому стовпчику таблиці. У клітинках на перетині X і Y проставлені ймовірності появи норм відсотків значень (х, у)."
   ]
  },
  {
   "cell_type": "markdown",
   "id": "23c5abb9-39d9-4c4d-a58a-e237d7eac0f0",
   "metadata": {},
   "source": [
    "![Alt-текст](25_2.JPG \"Picture\")"
   ]
  },
  {
   "cell_type": "markdown",
   "id": "93b47d76-23e4-4689-9c84-98ece52345ef",
   "metadata": {},
   "source": [
    "### Необхідно:\n",
    "### 1)\tобчислити очікувану норму прибутку по кожній з акцій;\n",
    "### 2)\tоцінити ступінь ризику обох акцій за допомогою середньоквадратичного відхилення;\n",
    "### проаналізувати наявність зв'язку між акціями X та Y за допомогою коефіцієнтів коваріації та кореляції."
   ]
  },
  {
   "cell_type": "markdown",
   "id": "2f37a1d7-8873-4071-b2c8-deb155dc9ddf",
   "metadata": {},
   "source": [
    "#### Розв'язок:"
   ]
  },
  {
   "cell_type": "markdown",
   "id": "b39dbcb2-d5a8-4355-a4b8-a84086657cc5",
   "metadata": {},
   "source": [
    "#### 1) Обчислити очікувану норму прибутку по кожній з акцій, тобто визначити математичне сподівання для акцій X та Y"
   ]
  },
  {
   "cell_type": "markdown",
   "id": "b94447db-2cb3-427c-8366-36053442e211",
   "metadata": {},
   "source": [
    "| X   |  10  | 5      | 2       | 1      | -5   |\n",
    "|:--- |:----:| :----: | :----:  | :----: |  ---:|\n",
    "| P(X)| 0,1  | 0,3    | 0,2     | 0,3    |0,1   |"
   ]
  },
  {
   "cell_type": "markdown",
   "id": "993444fd-cb57-4111-a84d-e7ac8fe768d3",
   "metadata": {},
   "source": [
    "$ M[X] = 10*0,1 + 5*0,3 + 2*0,2 + 1*0,3 - 5*0,1 = 2,7$"
   ]
  },
  {
   "cell_type": "markdown",
   "id": "a34db476-519d-4aa0-85e6-79f961f37036",
   "metadata": {},
   "source": [
    "| Y   |  20  | 10     | 2       | -2     | -8   |\n",
    "|:--- |:----:| :----: | :----:  | :----: |  ---:|\n",
    "| P(Y)| 0,1  | 0,3    | 0,2     | 0,3    |0,1   |"
   ]
  },
  {
   "cell_type": "markdown",
   "id": "3f495b03-48f7-4522-a921-5864c3409fc3",
   "metadata": {},
   "source": [
    "$ M[Y] = 20*0,1 + 10*0,3 + 2*0,2 - 2*0,3 - 8*0,1 = 4$"
   ]
  },
  {
   "cell_type": "markdown",
   "id": "3bd93193-256e-45c1-bc79-28b27801c1d8",
   "metadata": {},
   "source": [
    "#### Отже очікуваний прибуток по акціям Y більший ніж по акціям X."
   ]
  },
  {
   "cell_type": "code",
   "execution_count": null,
   "id": "07953c06-b082-4903-8131-e3613cbede65",
   "metadata": {},
   "outputs": [],
   "source": []
  },
  {
   "cell_type": "markdown",
   "id": "ae2ce353-bc15-46f8-9e72-188ce1b992a6",
   "metadata": {},
   "source": [
    "#### 2) Обчислюємо ступінь ризику обох акцій за допомогою середньоквадратичного відхилення"
   ]
  },
  {
   "cell_type": "markdown",
   "id": "c03c81b2-f9a9-40e0-a159-980879e3f489",
   "metadata": {},
   "source": [
    "#### a) Обчислюємо дисперсію для X та Y "
   ]
  },
  {
   "cell_type": "markdown",
   "id": "586c8413-fcb8-4edc-bf25-040eb69d231f",
   "metadata": {},
   "source": [
    "$ D[X] = M[X^2] - (M[X])^2 $"
   ]
  },
  {
   "cell_type": "markdown",
   "id": "8e4c006f-82c1-445b-abe6-44e4008bacb0",
   "metadata": {},
   "source": [
    "$ D[X] = (10^2*0,1 + 5^2*0,3 + 2^2*0,2 + 1^2*0,3 - 5^2*0,1) - 2,7^2 = 13.81 $"
   ]
  },
  {
   "cell_type": "code",
   "execution_count": 18,
   "id": "b9e41f23-809c-4ea2-836a-e7d1fe6be609",
   "metadata": {},
   "outputs": [
    {
     "data": {
      "text/plain": [
       "13.81"
      ]
     },
     "execution_count": 18,
     "metadata": {},
     "output_type": "execute_result"
    }
   ],
   "source": [
    "10**2*0.1 + 5**2*0.3 + 2**2*0.2 + 1**2*0.3 + (- 5)**2*0.1 - 2.7**2"
   ]
  },
  {
   "cell_type": "markdown",
   "id": "513c54cb-9902-4adc-ace3-6a04d8e0eee4",
   "metadata": {},
   "source": [
    "$ D[Y] = M[Y^2] - (M[Y])^2 $"
   ]
  },
  {
   "cell_type": "markdown",
   "id": "83069f01-f8fa-4b05-9543-058d93976a6b",
   "metadata": {},
   "source": [
    "$ D[Y] = (20^2*0,1 + 10^2*0,3 + 2^2*0,2 - 2^2*0,3 - 8^2*0,1) - 4^2 = 62,4 $"
   ]
  },
  {
   "cell_type": "code",
   "execution_count": 17,
   "id": "8a528f1b-464a-4d23-82d6-a0f787243688",
   "metadata": {},
   "outputs": [
    {
     "data": {
      "text/plain": [
       "62.400000000000006"
      ]
     },
     "execution_count": 17,
     "metadata": {},
     "output_type": "execute_result"
    }
   ],
   "source": [
    "20**2*0.1 + 10**2*0.3 + 2**2*0.2 + (- 2)**2*0.3 + (- 8)**2*0.1 - 4**2"
   ]
  },
  {
   "cell_type": "markdown",
   "id": "50486519-cd85-4102-958f-a8bda35506d3",
   "metadata": {},
   "source": [
    "#### b) Обчислюємо середньоквадратичне відхилення для X та Y "
   ]
  },
  {
   "cell_type": "markdown",
   "id": "9d51baa3-25c7-44c1-8f49-9d2e4bde7dd3",
   "metadata": {},
   "source": [
    "$\\delta (X) = \\sqrt{D(X)}$"
   ]
  },
  {
   "cell_type": "markdown",
   "id": "7c8d3c74-cc9d-42cf-9e8f-f9f4183c9132",
   "metadata": {},
   "source": [
    "$\\delta (X) = \\sqrt{13,81} = 3,72$"
   ]
  },
  {
   "cell_type": "markdown",
   "id": "1ee8b9ae-a948-4c22-94a4-dd2b010b1a98",
   "metadata": {},
   "source": [
    "$\\delta (Y) = \\sqrt{D(Y)}$"
   ]
  },
  {
   "cell_type": "markdown",
   "id": "be6cdf67-2119-4e61-951f-8a7ae7d18c92",
   "metadata": {},
   "source": [
    "$\\delta (Y) = \\sqrt{62,4} = 7,9 $"
   ]
  },
  {
   "cell_type": "markdown",
   "id": "88aa377d-6d71-4c39-9ea5-064ab6109686",
   "metadata": {},
   "source": [
    "#### c) Обчислюємо коваріацію для X та Y "
   ]
  },
  {
   "cell_type": "markdown",
   "id": "064522bf-2966-4bee-ae72-cbb864c56f21",
   "metadata": {},
   "source": [
    "$ cov(X,Y) = M(XY) - M(X) \\bullet M(Y) $"
   ]
  },
  {
   "cell_type": "markdown",
   "id": "3e43cfa7-5574-4216-86ed-dec671159723",
   "metadata": {},
   "source": [
    "$ cov(X,Y) = \n",
    "10*(20*0,01 + 10*0,03 + 2*0,02 - 2*0,03 - 8*0,01) + \n",
    "5*(20*0,03 + 10*0,09 + 2*0,06 - 2*0,09 - 8*0,03) + \n",
    "2*(20*0,02 + 10*0,06 + 2*0,04 - 2*0,06 - 8*0,02) +\n",
    "1*(20*0,03 + 10*0,09 + 2*0,06 - 2*0,09 - 8*0,03) -\n",
    "5*(20*0,01 + 10*0,03 + 2*0,02 - 2*0,03 - 8*0,01)-\n",
    "(2,7 * 4) = 0\n",
    "$"
   ]
  },
  {
   "cell_type": "code",
   "execution_count": 28,
   "id": "8ffc6239-bff2-4dfb-9c96-a6bcd7a07c4d",
   "metadata": {},
   "outputs": [
    {
     "data": {
      "text/plain": [
       "0.0"
      ]
     },
     "execution_count": 28,
     "metadata": {},
     "output_type": "execute_result"
    }
   ],
   "source": [
    "10*(20*0.01 + 10*0.03 + 2*0.02 - 2*0.03 - 8*0.01) + 5*(20*0.03 + 10*0.09 + 2*0.06 - 2*0.09 - 8*0.03) + 2*(20*0.02 + 10*0.06 + 2*0.04 - 2*0.06 - 8*0.02) +1*(20*0.03 + 10*0.09 + 2*0.06 - 2*0.09 - 8*0.03) -5*(20*0.01 + 10*0.03 + 2*0.02 - 2*0.03 - 8*0.01)-(2.7 * 4)"
   ]
  },
  {
   "cell_type": "markdown",
   "id": "7456be2b-d0fa-496a-ac43-3fb664fb161b",
   "metadata": {},
   "source": [
    "#### d) Обчислюємо коефіцієнт кореляції"
   ]
  },
  {
   "cell_type": "markdown",
   "id": "639503b2-d028-4734-a7f1-1e79f799671c",
   "metadata": {},
   "source": [
    "$ r_{xy} = \\frac {cov(X,Y)}{\\delta (X)\\delta (Y)}$ "
   ]
  },
  {
   "cell_type": "markdown",
   "id": "bab9678b-f84b-4356-98e6-6adced20102a",
   "metadata": {},
   "source": [
    "$ r_{xy} = \\frac {0}{3,72 * 7,9} = 0$ "
   ]
  },
  {
   "cell_type": "markdown",
   "id": "5122b271-f0b8-47c6-b5d5-d9acdb88690c",
   "metadata": {},
   "source": [
    "### Відповідь: Оскільки середньоквадратичне відхілення у акцій Х менше, то вони менш ризиковані. Звязку між акціями X та Y немає."
   ]
  },
  {
   "cell_type": "code",
   "execution_count": null,
   "id": "f4524633-c469-4be7-8087-efd4aaf19f33",
   "metadata": {},
   "outputs": [],
   "source": []
  }
 ],
 "metadata": {
  "kernelspec": {
   "display_name": "Python 3 (ipykernel)",
   "language": "python",
   "name": "python3"
  },
  "language_info": {
   "codemirror_mode": {
    "name": "ipython",
    "version": 3
   },
   "file_extension": ".py",
   "mimetype": "text/x-python",
   "name": "python",
   "nbconvert_exporter": "python",
   "pygments_lexer": "ipython3",
   "version": "3.11.0"
  }
 },
 "nbformat": 4,
 "nbformat_minor": 5
}
