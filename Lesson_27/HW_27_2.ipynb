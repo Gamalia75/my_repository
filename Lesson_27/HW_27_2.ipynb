{
 "cells": [
  {
   "cell_type": "markdown",
   "id": "ece954b9-1dd1-4505-b553-812c26500f01",
   "metadata": {},
   "source": [
    "### 2. У рибальському містечку 99,99% чоловіків хоча б раз в житті були на рибалці. Проводять соціологічні дослідження серед 10000 навмання вибраних чоловіків. Визначити дисперсію D (X) і середнє квадратичне відхилення S (X) випадкової величини X — числа чоловіків, які жодного разу не були на рибалці."
   ]
  },
  {
   "cell_type": "markdown",
   "id": "f477da59-20fe-47f9-a0bf-77a1b78d5192",
   "metadata": {},
   "source": [
    "   "
   ]
  },
  {
   "cell_type": "markdown",
   "id": "8da04d78-9dc6-4eef-af72-e08ef9912ab6",
   "metadata": {},
   "source": [
    "#### Розв'язок:"
   ]
  },
  {
   "cell_type": "markdown",
   "id": "75b61119-1c10-45a9-836e-5947629b2d7b",
   "metadata": {},
   "source": [
    "##### Маємо n = 100000, q = 99,99"
   ]
  },
  {
   "cell_type": "markdown",
   "id": "aa32f67f-e908-4d19-a97d-67d8ab434b38",
   "metadata": {},
   "source": [
    "##### 1) Визначаємо ймовірність того, що чоловік не був на рибалці"
   ]
  },
  {
   "cell_type": "markdown",
   "id": "79aaf532-609e-48e9-822e-b567a71457ba",
   "metadata": {},
   "source": [
    "$ p = \\frac{100 - 99,99}{100} = 0,0001$"
   ]
  },
  {
   "cell_type": "markdown",
   "id": "58163b72-b405-49ec-b56c-0dbfe7283ac8",
   "metadata": {},
   "source": [
    "##### 2) Знаходимо математичне очікування і дисперсію"
   ]
  },
  {
   "cell_type": "markdown",
   "id": "e189cf91-e47c-438c-bd20-f4a6baaf3b44",
   "metadata": {},
   "source": [
    "$ D(X) = M(X) = n * p = 10000 * 0,0001 = 1 $"
   ]
  },
  {
   "cell_type": "markdown",
   "id": "a1728b84-1ed1-4dc1-b1f4-1d4316372124",
   "metadata": {},
   "source": [
    "##### 3) Знаходимо середнє квадратичне відхилення"
   ]
  },
  {
   "cell_type": "markdown",
   "id": "65c63d93-0457-4fa7-835d-d55a26290eb0",
   "metadata": {},
   "source": [
    "$\\delta (X) = \\sqrt{D(X)} = \\sqrt{1} = 1$"
   ]
  }
 ],
 "metadata": {
  "kernelspec": {
   "display_name": "Python 3 (ipykernel)",
   "language": "python",
   "name": "python3"
  },
  "language_info": {
   "codemirror_mode": {
    "name": "ipython",
    "version": 3
   },
   "file_extension": ".py",
   "mimetype": "text/x-python",
   "name": "python",
   "nbconvert_exporter": "python",
   "pygments_lexer": "ipython3",
   "version": "3.11.0"
  }
 },
 "nbformat": 4,
 "nbformat_minor": 5
}
