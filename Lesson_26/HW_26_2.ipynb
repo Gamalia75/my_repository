{
 "cells": [
  {
   "cell_type": "markdown",
   "id": "ef2ed6b2-b7a7-4710-9702-9de1a5d868ed",
   "metadata": {},
   "source": [
    "### 2. При вивченні випадкової величини X у результаті 40 незалежних спостережень дістали вибірку: 10,13, 10, 9, 9,12,12, 6, 7, 9, 8, 9,11, 9,14, 13,9, 8, 8, 7,10,10,11,11,11,12. 8, 7,9,10,14,13, 8, 8. 9,10, 11,11,12,12. Побудувати дискретний статистичний розподіл для цієї вибірки, а також полігон частот і F*(x). Знайти моду та медіану."
   ]
  },
  {
   "cell_type": "code",
   "execution_count": null,
   "id": "da8b8331-2572-43a5-ac8b-911c848695e6",
   "metadata": {},
   "outputs": [],
   "source": []
  },
  {
   "cell_type": "markdown",
   "id": "3a614135-ddd3-45e1-8eb9-2b979a0b9300",
   "metadata": {},
   "source": [
    "#### Розв'язок:"
   ]
  },
  {
   "cell_type": "markdown",
   "id": "98473866-8465-4d34-b334-3b8550a33e5f",
   "metadata": {},
   "source": [
    "##### 1) Статистичний розподіл частот "
   ]
  },
  {
   "cell_type": "markdown",
   "id": "8ab333ff-44df-4189-89d0-652ce7f20a56",
   "metadata": {},
   "source": [
    "| $ x_i $  |  6   | 7      | 8       |9       | 10   | 11     | 12      | 13      |14    |\n",
    "|:---      |:----:| :----: | :----:  | :----: |:----:| :----: | :----:  | :----:  |  ---:|\n",
    "| $ n_i $  | 1    | 3      | 6       | 8       |6    |6       | 5       | 3       | 2    |"
   ]
  },
  {
   "cell_type": "markdown",
   "id": "949f9176-5170-49e9-9ca2-b2d3eb326e37",
   "metadata": {},
   "source": [
    "##### 2) Статистичний розподіл відносних частот "
   ]
  },
  {
   "cell_type": "markdown",
   "id": "05abaf5f-d49f-4a62-9650-b749314c4d71",
   "metadata": {},
   "source": [
    "##### Об'єм вибірки n = 40"
   ]
  },
  {
   "cell_type": "markdown",
   "id": "96b5a538-a459-42db-9cfd-ad65ba8034f8",
   "metadata": {},
   "source": [
    "| $ x_i $  |  6   | 7      | 8       |9       | 10   | 11     | 12      | 13      |14    |\n",
    "|:---      |:----:| :----: | :----:  | :----: |:----:| :----: | :----:  | :----:  |  ---:|\n",
    "| $ w_i $  | 0,025| 0,075  | 0,15    | 0,2    |0,15  |0,15    | 0,125   | 0,075   | 0,05 |"
   ]
  },
  {
   "cell_type": "markdown",
   "id": "0febbbb5-c8d7-4e10-a0f8-68549e84bd85",
   "metadata": {},
   "source": [
    "##### 3) Полігон частот"
   ]
  },
  {
   "cell_type": "markdown",
   "id": "fcb212a5-cfb2-4012-aa42-e61fd696e084",
   "metadata": {},
   "source": [
    "![Alt-текст](26_2_1.JPG \"Picture\")"
   ]
  },
  {
   "cell_type": "markdown",
   "id": "cfbe9fff-6c33-43a5-860d-fe6df72f6cb1",
   "metadata": {},
   "source": [
    "##### 4) Полігон відносних частот"
   ]
  },
  {
   "cell_type": "markdown",
   "id": "9586a7b2-af41-473a-91c7-c9a473b9dd1a",
   "metadata": {},
   "source": [
    "![Alt-текст](26_2_2.JPG \"Picture\")"
   ]
  },
  {
   "cell_type": "markdown",
   "id": "22f8070f-0cbd-4c78-857e-57ac3bf78254",
   "metadata": {},
   "source": [
    "##### 5) Функція розподілу"
   ]
  },
  {
   "cell_type": "markdown",
   "id": "0b006e92-ac63-475b-b170-c7d67e3b0add",
   "metadata": {},
   "source": [
    "$ F*(x) = \\frac {n_x}{n}$ "
   ]
  },
  {
   "cell_type": "markdown",
   "id": "57d450a0-7dff-47ca-9206-ee397da36347",
   "metadata": {},
   "source": [
    "| $ x_i $  |  6   | 7      | 8       |9       | 10   | 11     | 12      | 13      |14    |\n",
    "|:---      |:----:| :----: | :----:  | :----: |:----:| :----: | :----:  | :----:  |  ---:|\n",
    "| $ F*(x) $| 0,025| 0,1    | 0,25    | 0,45    |0,6  |0,75    | 0,875   | 0,95    | 1    |"
   ]
  },
  {
   "cell_type": "markdown",
   "id": "b9cec691-d2c7-410b-8c1b-7b1898127889",
   "metadata": {},
   "source": [
    "##### 6) Мода"
   ]
  },
  {
   "cell_type": "markdown",
   "id": "b4955caa-7f3b-4102-98c3-62c506819fc6",
   "metadata": {},
   "source": [
    "###### Мода - це варіанта з найбільшою частотою"
   ]
  },
  {
   "cell_type": "markdown",
   "id": "dcdb7934-592e-4ab6-800e-d26c0dda920c",
   "metadata": {},
   "source": [
    "$ M*_o = 9$"
   ]
  },
  {
   "cell_type": "markdown",
   "id": "ec760b1d-c046-472f-8b20-ecd980509b65",
   "metadata": {},
   "source": [
    "##### 7) Медіана"
   ]
  },
  {
   "cell_type": "markdown",
   "id": "ec74ba40-f20b-4932-af06-19b57b24c26b",
   "metadata": {},
   "source": [
    "###### Для визначення медіани потрібно ранжувати елементи нашого ряду. Оскільки у нас парне число елементів - 40, то для визначення медіани потрібно знайти середнє значення 20 і 21 елементів"
   ]
  },
  {
   "cell_type": "markdown",
   "id": "a33475bf-9800-409d-b739-85be91985890",
   "metadata": {},
   "source": [
    "$ M_e = 1/2 * (10 +10) = 10 $"
   ]
  },
  {
   "cell_type": "code",
   "execution_count": null,
   "id": "b0c6412a-abce-469d-9689-b3bf25b493c3",
   "metadata": {},
   "outputs": [],
   "source": []
  }
 ],
 "metadata": {
  "kernelspec": {
   "display_name": "Python 3 (ipykernel)",
   "language": "python",
   "name": "python3"
  },
  "language_info": {
   "codemirror_mode": {
    "name": "ipython",
    "version": 3
   },
   "file_extension": ".py",
   "mimetype": "text/x-python",
   "name": "python",
   "nbconvert_exporter": "python",
   "pygments_lexer": "ipython3",
   "version": "3.11.0"
  }
 },
 "nbformat": 4,
 "nbformat_minor": 5
}
