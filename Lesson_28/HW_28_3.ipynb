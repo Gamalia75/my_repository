{
 "cells": [
  {
   "cell_type": "markdown",
   "id": "c6a296da-20d5-4759-b8df-40465ab03026",
   "metadata": {},
   "source": [
    "#### 3. Знайти мінімальний об’єм вибірки, при якому з надійністю $ \\gamma = 0,99 $ точність оцінки математичного сподівання $ \\alpha $ нормально розподіленої ознаки дорівнює $ \\delta = 0,6 $, якщо середнє квадратичне відхилення $ \\sigma = 3 $."
   ]
  },
  {
   "cell_type": "markdown",
   "id": "3a9dccd3-d7a2-49aa-bfb3-90354ed7d59b",
   "metadata": {},
   "source": [
    "  "
   ]
  },
  {
   "cell_type": "markdown",
   "id": "cc4880ef-32a6-40ac-b32c-77abfc499d5b",
   "metadata": {},
   "source": [
    "#### Розв'язок:"
   ]
  },
  {
   "cell_type": "markdown",
   "id": "5974235f-08c2-4d44-a5ec-fb789679dfb0",
   "metadata": {},
   "source": [
    "#####  Точність оцінки $ \\delta = 0,6 $"
   ]
  },
  {
   "cell_type": "markdown",
   "id": "8d892c4d-b6d5-4067-986d-4ba6217d0918",
   "metadata": {},
   "source": [
    "#####  Надійність $ \\gamma = 0,99 $"
   ]
  },
  {
   "cell_type": "markdown",
   "id": "10dc5d15-8a63-4081-928c-5b8d0e8b3b9a",
   "metadata": {},
   "source": [
    "#####  Середнє квадратичне відхилення $ \\sigma = 3 $"
   ]
  },
  {
   "cell_type": "markdown",
   "id": "b3e73b8b-074d-421a-b7dc-ca9763b9d053",
   "metadata": {},
   "source": [
    "##### Параметр t знаходимо з таблиці: "
   ]
  },
  {
   "cell_type": "markdown",
   "id": "94825c55-ea26-4040-acd5-3965b02a5574",
   "metadata": {},
   "source": [
    "$ \\phi(t) = \\frac {\\gamma}{2} = \\frac {0,99}{2} = 0,495$"
   ]
  },
  {
   "cell_type": "markdown",
   "id": "2ddf9516-2679-4cc0-8b1e-71b07edf871d",
   "metadata": {},
   "source": [
    "$ t = 2,58$"
   ]
  },
  {
   "cell_type": "markdown",
   "id": "13cce46b-a2ee-4d9a-9e73-5dc139701068",
   "metadata": {},
   "source": [
    "#####  Мінімальний об'єм вибірки розраховуємо за формулою:"
   ]
  },
  {
   "cell_type": "markdown",
   "id": "7d78f862-08a7-46c3-bfbb-c2d920d189fd",
   "metadata": {},
   "source": [
    "$ n = \\frac {t^2 \\cdot \\sigma ^2}{\\delta^2} = \\frac {2,58^2 \\cdot 3^2}{0,6^2} = 166,41 $"
   ]
  }
 ],
 "metadata": {
  "kernelspec": {
   "display_name": "Python 3 (ipykernel)",
   "language": "python",
   "name": "python3"
  },
  "language_info": {
   "codemirror_mode": {
    "name": "ipython",
    "version": 3
   },
   "file_extension": ".py",
   "mimetype": "text/x-python",
   "name": "python",
   "nbconvert_exporter": "python",
   "pygments_lexer": "ipython3",
   "version": "3.11.0"
  }
 },
 "nbformat": 4,
 "nbformat_minor": 5
}
