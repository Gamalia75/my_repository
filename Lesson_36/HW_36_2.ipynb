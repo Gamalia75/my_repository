{
 "cells": [
  {
   "cell_type": "markdown",
   "id": "9a3366b2-73aa-4115-8529-8ce1f2fcaa8a",
   "metadata": {},
   "source": [
    "### 2. Проведіть крос-валідацію для моделі, побудованої на основі датафрейму petrol_consumption з попереднього завдання. Обґрунтуйте обраний метод крос-валідації."
   ]
  },
  {
   "cell_type": "code",
   "execution_count": 1,
   "id": "42c34761-efda-451f-ad9e-5f5a9551524c",
   "metadata": {},
   "outputs": [],
   "source": [
    "import pandas as pd\n",
    "import numpy as np\n",
    "import matplotlib.pyplot as plt\n",
    "from sklearn.model_selection import KFold, StratifiedKFold, cross_val_score\n",
    "from sklearn import linear_model, tree, ensemble"
   ]
  },
  {
   "cell_type": "markdown",
   "id": "818eae95-eeed-4f33-bf16-fa7c0636dc05",
   "metadata": {},
   "source": [
    "Завантажуємо наші дані"
   ]
  },
  {
   "cell_type": "code",
   "execution_count": 2,
   "id": "4606227b-674f-46cf-b309-27913d5f9b55",
   "metadata": {},
   "outputs": [
    {
     "data": {
      "text/html": [
       "<div>\n",
       "<style scoped>\n",
       "    .dataframe tbody tr th:only-of-type {\n",
       "        vertical-align: middle;\n",
       "    }\n",
       "\n",
       "    .dataframe tbody tr th {\n",
       "        vertical-align: top;\n",
       "    }\n",
       "\n",
       "    .dataframe thead th {\n",
       "        text-align: right;\n",
       "    }\n",
       "</style>\n",
       "<table border=\"1\" class=\"dataframe\">\n",
       "  <thead>\n",
       "    <tr style=\"text-align: right;\">\n",
       "      <th></th>\n",
       "      <th>Petrol_tax</th>\n",
       "      <th>Average_income</th>\n",
       "      <th>Paved_Highways</th>\n",
       "      <th>Population_Driver_licence(%)</th>\n",
       "      <th>Petrol_Consumption</th>\n",
       "    </tr>\n",
       "  </thead>\n",
       "  <tbody>\n",
       "    <tr>\n",
       "      <th>0</th>\n",
       "      <td>9.0</td>\n",
       "      <td>3571</td>\n",
       "      <td>1976</td>\n",
       "      <td>0.525</td>\n",
       "      <td>541</td>\n",
       "    </tr>\n",
       "    <tr>\n",
       "      <th>1</th>\n",
       "      <td>9.0</td>\n",
       "      <td>4092</td>\n",
       "      <td>1250</td>\n",
       "      <td>0.572</td>\n",
       "      <td>524</td>\n",
       "    </tr>\n",
       "    <tr>\n",
       "      <th>2</th>\n",
       "      <td>9.0</td>\n",
       "      <td>3865</td>\n",
       "      <td>1586</td>\n",
       "      <td>0.580</td>\n",
       "      <td>561</td>\n",
       "    </tr>\n",
       "    <tr>\n",
       "      <th>3</th>\n",
       "      <td>7.5</td>\n",
       "      <td>4870</td>\n",
       "      <td>2351</td>\n",
       "      <td>0.529</td>\n",
       "      <td>414</td>\n",
       "    </tr>\n",
       "    <tr>\n",
       "      <th>4</th>\n",
       "      <td>8.0</td>\n",
       "      <td>4399</td>\n",
       "      <td>431</td>\n",
       "      <td>0.544</td>\n",
       "      <td>410</td>\n",
       "    </tr>\n",
       "  </tbody>\n",
       "</table>\n",
       "</div>"
      ],
      "text/plain": [
       "   Petrol_tax  Average_income  Paved_Highways  Population_Driver_licence(%)  \\\n",
       "0         9.0            3571            1976                         0.525   \n",
       "1         9.0            4092            1250                         0.572   \n",
       "2         9.0            3865            1586                         0.580   \n",
       "3         7.5            4870            2351                         0.529   \n",
       "4         8.0            4399             431                         0.544   \n",
       "\n",
       "   Petrol_Consumption  \n",
       "0                 541  \n",
       "1                 524  \n",
       "2                 561  \n",
       "3                 414  \n",
       "4                 410  "
      ]
     },
     "execution_count": 2,
     "metadata": {},
     "output_type": "execute_result"
    }
   ],
   "source": [
    "train_data = pd.read_csv('petrol_consumption.csv')\n",
    "train_data.head()"
   ]
  },
  {
   "cell_type": "code",
   "execution_count": 4,
   "id": "49102850-d006-4dc5-8b62-50e8f465286a",
   "metadata": {},
   "outputs": [],
   "source": [
    "train_data.dropna(axis=0, subset=['Petrol_Consumption'], inplace=True)\n",
    "\n",
    "y = train_data.Petrol_Consumption          \n",
    "X = train_data.drop(['Petrol_Consumption'], axis=1)"
   ]
  },
  {
   "cell_type": "markdown",
   "id": "2fc6f375-da32-4651-90f5-5ff025a7e6af",
   "metadata": {},
   "source": [
    "Будуємо нашу кросвалідаційну модель"
   ]
  },
  {
   "cell_type": "markdown",
   "id": "fe5b131a-bf3f-4327-afeb-1d339ef36004",
   "metadata": {},
   "source": [
    "Використовуємо K-fold Cross Validation"
   ]
  },
  {
   "cell_type": "code",
   "execution_count": 5,
   "id": "3475dfde-eb22-4d79-8c8f-01419355d874",
   "metadata": {},
   "outputs": [
    {
     "name": "stdout",
     "output_type": "stream",
     "text": [
      "Fold: 1, Train set: 38, Test set: 10\n",
      "Fold: 2, Train set: 38, Test set: 10\n",
      "Fold: 3, Train set: 38, Test set: 10\n",
      "Fold: 4, Train set: 39, Test set: 9\n",
      "Fold: 5, Train set: 39, Test set: 9\n"
     ]
    }
   ],
   "source": [
    "kf = KFold(n_splits=5, shuffle=True, random_state=42)\n",
    "cnt = 1\n",
    "for train_index, test_index in kf.split(X, y):\n",
    "    print(f'Fold: {cnt}, Train set: {len(train_index)}, Test set: {len(test_index)}')\n",
    "    cnt+=1"
   ]
  },
  {
   "cell_type": "code",
   "execution_count": 6,
   "id": "0e8cf0f9-0841-4797-870d-465b13f52f90",
   "metadata": {},
   "outputs": [],
   "source": [
    "def rmse(score):\n",
    "    rmse = np.sqrt(-score)\n",
    "    print(f'RMSE: {rmse: .2f}')"
   ]
  },
  {
   "cell_type": "markdown",
   "id": "2b6eda9b-c0bf-4041-80c8-33cbc6912ea7",
   "metadata": {},
   "source": [
    "Використаємо нашу кросвалідацію для лінійної регресії"
   ]
  },
  {
   "cell_type": "code",
   "execution_count": 7,
   "id": "36cb05e8-c552-4354-a861-838a643af967",
   "metadata": {},
   "outputs": [
    {
     "name": "stdout",
     "output_type": "stream",
     "text": [
      "Score for fold: [ -4083.25587175 -10468.85637678  -2453.65941292  -3853.05818469\n",
      "  -3173.21607154]\n",
      "RMSE:  69.33\n"
     ]
    }
   ],
   "source": [
    "score = cross_val_score(linear_model.LinearRegression(), X, y, cv=kf, scoring=\"neg_mean_squared_error\")\n",
    "print(f\"Score for fold: {score}\")\n",
    "rmse(score.mean())"
   ]
  },
  {
   "cell_type": "code",
   "execution_count": 8,
   "id": "9cda6f65-27fd-46f5-8ae9-2bacb7f88066",
   "metadata": {},
   "outputs": [
    {
     "name": "stdout",
     "output_type": "stream",
     "text": [
      "Scores for each fold: [0.3913664  0.63392548 0.05222032 0.41270325 0.76147919]\n"
     ]
    },
    {
     "data": {
      "text/plain": [
       "0.6710729689048702"
      ]
     },
     "execution_count": 8,
     "metadata": {},
     "output_type": "execute_result"
    }
   ],
   "source": [
    "score = cross_val_score(linear_model.LinearRegression(), X, y, cv= kf)\n",
    "print(f'Scores for each fold: {score}')\n",
    "np.sqrt(score.mean())"
   ]
  },
  {
   "cell_type": "markdown",
   "id": "35a52a65-d10e-4ca8-a7a7-d6e0905afec8",
   "metadata": {},
   "source": [
    "Я використав для нашого набору даних К-кратну крос валідацію для лінійної регресії, оскільки вона найкраще підходить для нашого датасету. Точність оцінюваної нами моделі становить 0,67."
   ]
  }
 ],
 "metadata": {
  "kernelspec": {
   "display_name": "Python 3 (ipykernel)",
   "language": "python",
   "name": "python3"
  },
  "language_info": {
   "codemirror_mode": {
    "name": "ipython",
    "version": 3
   },
   "file_extension": ".py",
   "mimetype": "text/x-python",
   "name": "python",
   "nbconvert_exporter": "python",
   "pygments_lexer": "ipython3",
   "version": "3.10.8"
  }
 },
 "nbformat": 4,
 "nbformat_minor": 5
}
