{
 "cells": [
  {
   "cell_type": "markdown",
   "id": "82f228a3-acc1-4faf-bd6a-c9bafb13eaa1",
   "metadata": {},
   "source": [
    "#### 1. Із генеральної сукупності, розподіленої за нормальним законом, отримано вибірку об’ємом n = 20"
   ]
  },
  {
   "cell_type": "markdown",
   "id": "67d76995-1102-442a-803d-f38ce45faa00",
   "metadata": {},
   "source": [
    "| $ x_i $  |  1   | 2      | 4       |6       | 7   |\n",
    "|:---      |:----:| :----: | :----:  | :----: |----:| \n",
    "| $ n_i $  | 2    | 3      | 10      | 3       |2    |"
   ]
  },
  {
   "cell_type": "markdown",
   "id": "a61c3056-9051-429e-bbe1-ea980ec8a135",
   "metadata": {},
   "source": [
    "#### Знайти з надійністю $ \\gamma =0,95$ інтервальну оцінку для середнього квадратичного відхилення $ \\sigma $ генеральної сукупності."
   ]
  },
  {
   "cell_type": "markdown",
   "id": "817ac1f9-69c7-4276-bee9-27c49eab82bc",
   "metadata": {},
   "source": [
    "  "
   ]
  },
  {
   "cell_type": "markdown",
   "id": "1f55cb49-6fa9-4a23-a583-bb5e71e37d71",
   "metadata": {},
   "source": [
    "#### Розв'язок:"
   ]
  },
  {
   "cell_type": "markdown",
   "id": "977c70b5-17f6-4393-af20-51bf1b53949e",
   "metadata": {},
   "source": [
    "##### Обчислюємо вибіркове середнє: "
   ]
  },
  {
   "cell_type": "markdown",
   "id": "0e72dc50-882c-45f6-85ac-24f84984d71b",
   "metadata": {},
   "source": [
    "$ \\bar{x_в} = \\frac{1}{n}\\cdot \\sum_{i=1}^k x_i \\cdot n_i $"
   ]
  },
  {
   "cell_type": "markdown",
   "id": "d4096868-f683-49fb-b198-3c4511d1ae2e",
   "metadata": {},
   "source": [
    "$ \\bar{x_в} = \\frac{1}{20}\\cdot (1\\cdot2 + 2\\cdot3 + 4\\cdot10 + 6\\cdot3 + 7\\cdot2) = 4$"
   ]
  },
  {
   "cell_type": "markdown",
   "id": "840c7a7a-2e6e-4755-af4e-69ee8f78e112",
   "metadata": {},
   "source": [
    "##### Обчислюємо виправлену дисперсію та середньоквадратичне відхилення: "
   ]
  },
  {
   "cell_type": "markdown",
   "id": "7a6a4c0c-ab6e-4f5d-9c26-32795c5beeeb",
   "metadata": {},
   "source": [
    "$ s^2 =  \\frac{1}{n-1}\\cdot \\sum_{i=1}^k (x_i - x_в)^2 \\cdot n_i $"
   ]
  },
  {
   "cell_type": "markdown",
   "id": "3f6a8da8-dc3b-4e1a-b779-ba8095960998",
   "metadata": {},
   "source": [
    "$ s^2 =  \\frac{1}{20-1}\\cdot ((1-4)^2 \\cdot 2 + (2-4)^2 \\cdot 3 + (4-4)^2 \\cdot 10 + (6-4)^2 \\cdot 3 + \n",
    "(7-4)^2 \\cdot 2) = 3,1579$"
   ]
  },
  {
   "cell_type": "markdown",
   "id": "e15c0010-44ca-4114-a402-ea60691031bb",
   "metadata": {},
   "source": [
    "$ s = \\sqrt {s^2} = \\sqrt {3,1579} = 1,777$"
   ]
  },
  {
   "cell_type": "markdown",
   "id": "465c3356-9467-4218-ac63-7ca4b31dc059",
   "metadata": {},
   "source": [
    "##### Знаходимо значення $t_{\\gamma}$ для n=20 та $ \\gamma = 0,95$:"
   ]
  },
  {
   "cell_type": "markdown",
   "id": "efa422d8-57c7-4b16-9f17-cfd831a27260",
   "metadata": {},
   "source": [
    "$ t_{\\gamma} = 2,093 $ згідно таблиці"
   ]
  },
  {
   "cell_type": "markdown",
   "id": "f88a59b4-5b06-4936-b397-4b6228c4ccc8",
   "metadata": {},
   "source": [
    "##### Знаходимо точність оцінки:"
   ]
  },
  {
   "cell_type": "markdown",
   "id": "df22450d-83b6-4819-899b-851681674530",
   "metadata": {},
   "source": [
    "$ \\delta = t_{\\gamma} \\cdot \\frac {s}{\\sqrt{n}} = 2,093 \\cdot \\frac {1,777}{\\sqrt{20}} = 0,8317$"
   ]
  },
  {
   "cell_type": "markdown",
   "id": "5528a333-da97-47b6-976d-efbcedbdd219",
   "metadata": {},
   "source": [
    "##### Знаходимо кінці довірчого інтервалу:"
   ]
  },
  {
   "cell_type": "markdown",
   "id": "2abefc63-478c-4474-8e92-34d51f055c26",
   "metadata": {},
   "source": [
    "$ \\bar{x_в} - t_{\\gamma} \\cdot \\frac {s}{\\sqrt{n}} = 4 - 0,8317 = 3,1683$"
   ]
  },
  {
   "cell_type": "markdown",
   "id": "4b315771-75ad-41dc-a1d8-a2da0dde096e",
   "metadata": {},
   "source": [
    "$ \\bar{x_в} + t_{\\gamma} \\cdot \\frac {s}{\\sqrt{n}} = 4 + 0,8317 = 4,8317$"
   ]
  },
  {
   "cell_type": "markdown",
   "id": "629d5626-b5cf-4679-b162-f69bb73a58bd",
   "metadata": {},
   "source": [
    "##### Отже, довірчий інтервал  для оцінки математичного сподівання:"
   ]
  },
  {
   "cell_type": "markdown",
   "id": "f865e442-9727-46a0-9707-fdd981a3177a",
   "metadata": {},
   "source": [
    "$ (3,1683; 4,8317) $"
   ]
  },
  {
   "cell_type": "markdown",
   "id": "81279404-57e6-4c63-9c11-a690ff56b11d",
   "metadata": {},
   "source": [
    "##### Тепер обчислимо довірчий інтервал для $\\sigma $:"
   ]
  },
  {
   "cell_type": "markdown",
   "id": "94512891-777e-4a58-a76b-072bf02a6898",
   "metadata": {},
   "source": [
    "##### Знаходимо значення $q$ для n=20 та $ \\gamma = 0,95$:"
   ]
  },
  {
   "cell_type": "markdown",
   "id": "9da10b63-6011-4900-ba5c-76b3b48e92a5",
   "metadata": {},
   "source": [
    "$ q = 0,37 $ згідно таблиці, а отже q < 1. Для обчислень будемо використовувати наступну формулу:"
   ]
  },
  {
   "cell_type": "markdown",
   "id": "d3e5842a-bfbb-427b-99fd-7f7d21492115",
   "metadata": {},
   "source": [
    "$ s \\cdot (1-q) < \\sigma < s \\cdot (1+q)  $"
   ]
  },
  {
   "cell_type": "markdown",
   "id": "3e4589f1-9106-495e-b661-e49bc593d2e2",
   "metadata": {},
   "source": [
    "$ 1.777 \\cdot (1-0,37) < \\sigma < 1,777 \\cdot (1+0,37)$"
   ]
  },
  {
   "cell_type": "markdown",
   "id": "9573f3c1-421e-4096-b6fc-85aa46899d7f",
   "metadata": {},
   "source": [
    "$ 1.1196 < \\sigma < 2,4345$"
   ]
  },
  {
   "cell_type": "markdown",
   "id": "91ca0b5f-429e-410f-9e7b-dc3e7323d13c",
   "metadata": {},
   "source": [
    "##### Довірчий інтервал для $\\sigma $: (1,1196; 2,4345)"
   ]
  }
 ],
 "metadata": {
  "kernelspec": {
   "display_name": "Python 3 (ipykernel)",
   "language": "python",
   "name": "python3"
  },
  "language_info": {
   "codemirror_mode": {
    "name": "ipython",
    "version": 3
   },
   "file_extension": ".py",
   "mimetype": "text/x-python",
   "name": "python",
   "nbconvert_exporter": "python",
   "pygments_lexer": "ipython3",
   "version": "3.11.0"
  }
 },
 "nbformat": 4,
 "nbformat_minor": 5
}
