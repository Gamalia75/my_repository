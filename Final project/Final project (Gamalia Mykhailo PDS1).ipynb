{
 "cells": [
  {
   "cell_type": "markdown",
   "id": "14c12295-e759-4e9e-b687-04d866fdae64",
   "metadata": {},
   "source": [
    "# Назва проекту: `Прогнозування продажів мережі роздрібних магазинів.`"
   ]
  },
  {
   "cell_type": "markdown",
   "id": "aa42d42b-ebc5-41cd-8be8-c5fc6f588329",
   "metadata": {},
   "source": [
    "## Підготував: `Гамаля Михайло`"
   ]
  },
  {
   "cell_type": "markdown",
   "id": "c2d6ffd4-309c-4943-8dc9-f350b2ef454e",
   "metadata": {},
   "source": [
    "#### Мережа `Rossmann` управляє понад 3000 магазинами в 7 країнах Європи. \n",
    "#### Продажі в магазині залежать від багатьох факторів, включаючи акції, конкуренцію, шкільні та державні свята, сезонність і місцевість. \n",
    "#### Датасет містить історичні дані про продажі для 1115 магазинів Rossmann за 3 роки. \n",
    "#### Завдання проекту – створити модель машинного навчання для прогнозування показника «Продажі» для даного датасету."
   ]
  },
  {
   "cell_type": "markdown",
   "id": "59a2e83b-ab1a-42ec-83ac-fe556a3b1286",
   "metadata": {},
   "source": [
    "## `1. Збір та попередня обробка даних`"
   ]
  },
  {
   "cell_type": "markdown",
   "id": "fe2abbf1-dda5-4e08-b7a7-02c27810d05e",
   "metadata": {},
   "source": [
    "### Імпортуємо потрібні бібліотеки"
   ]
  },
  {
   "cell_type": "code",
   "execution_count": 1,
   "id": "21ee566e-9082-4616-bf0a-b3f473541d52",
   "metadata": {},
   "outputs": [],
   "source": [
    "import numpy as np\n",
    "import pandas as pd\n",
    "import datetime as dt\n",
    "from dateutil.relativedelta import relativedelta\n",
    "\n",
    "#Import Libries for graph\n",
    "import matplotlib.pyplot as plt\n",
    "import seaborn as sns\n",
    "\n",
    "#Data Preparation\n",
    "from sklearn.model_selection import train_test_split\n",
    "\n",
    "#Import the Models\n",
    "from sklearn.linear_model import LinearRegression\n",
    "from sklearn.linear_model import Lasso\n",
    "from sklearn.linear_model import Ridge\n",
    "from sklearn.linear_model import SGDRegressor\n",
    "from sklearn.ensemble import RandomForestRegressor\n",
    "from sklearn.preprocessing import LabelEncoder\n",
    "from xgboost import XGBRegressor\n",
    "from catboost import CatBoostRegressor\n",
    "import lightgbm as lgb\n",
    "from lightgbm import LGBMRegressor, train\n",
    "\n",
    "#Cross Validation and Hyperparameter tuning\n",
    "from sklearn.model_selection import GridSearchCV\n",
    "from sklearn.model_selection import cross_val_score, KFold\n",
    "\n",
    "#import the metrics\n",
    "from sklearn.metrics import mean_absolute_error, mean_squared_error, mean_absolute_percentage_error, accuracy_score\n",
    "from sklearn.metrics import r2_score, mean_absolute_percentage_error\n",
    "\n",
    "import warnings\n",
    "warnings.filterwarnings(\"ignore\")"
   ]
  },
  {
   "cell_type": "markdown",
   "id": "6273692b-9960-4bbc-aa0e-19fb6ea1e9d7",
   "metadata": {},
   "source": [
    "### Завантажуємо дані"
   ]
  },
  {
   "cell_type": "code",
   "execution_count": 2,
   "id": "cefbf6b3-5787-4ed9-bffa-7311795f57e4",
   "metadata": {},
   "outputs": [
    {
     "data": {
      "text/html": [
       "<div>\n",
       "<style scoped>\n",
       "    .dataframe tbody tr th:only-of-type {\n",
       "        vertical-align: middle;\n",
       "    }\n",
       "\n",
       "    .dataframe tbody tr th {\n",
       "        vertical-align: top;\n",
       "    }\n",
       "\n",
       "    .dataframe thead th {\n",
       "        text-align: right;\n",
       "    }\n",
       "</style>\n",
       "<table border=\"1\" class=\"dataframe\">\n",
       "  <thead>\n",
       "    <tr style=\"text-align: right;\">\n",
       "      <th></th>\n",
       "      <th>Store</th>\n",
       "      <th>DayOfWeek</th>\n",
       "      <th>Date</th>\n",
       "      <th>Sales</th>\n",
       "      <th>Customers</th>\n",
       "      <th>Open</th>\n",
       "      <th>Promo</th>\n",
       "      <th>StateHoliday</th>\n",
       "      <th>SchoolHoliday</th>\n",
       "    </tr>\n",
       "  </thead>\n",
       "  <tbody>\n",
       "    <tr>\n",
       "      <th>0</th>\n",
       "      <td>1</td>\n",
       "      <td>5</td>\n",
       "      <td>2015-07-31</td>\n",
       "      <td>5263</td>\n",
       "      <td>555</td>\n",
       "      <td>1</td>\n",
       "      <td>1</td>\n",
       "      <td>0</td>\n",
       "      <td>1</td>\n",
       "    </tr>\n",
       "    <tr>\n",
       "      <th>1</th>\n",
       "      <td>2</td>\n",
       "      <td>5</td>\n",
       "      <td>2015-07-31</td>\n",
       "      <td>6064</td>\n",
       "      <td>625</td>\n",
       "      <td>1</td>\n",
       "      <td>1</td>\n",
       "      <td>0</td>\n",
       "      <td>1</td>\n",
       "    </tr>\n",
       "    <tr>\n",
       "      <th>2</th>\n",
       "      <td>3</td>\n",
       "      <td>5</td>\n",
       "      <td>2015-07-31</td>\n",
       "      <td>8314</td>\n",
       "      <td>821</td>\n",
       "      <td>1</td>\n",
       "      <td>1</td>\n",
       "      <td>0</td>\n",
       "      <td>1</td>\n",
       "    </tr>\n",
       "    <tr>\n",
       "      <th>3</th>\n",
       "      <td>4</td>\n",
       "      <td>5</td>\n",
       "      <td>2015-07-31</td>\n",
       "      <td>13995</td>\n",
       "      <td>1498</td>\n",
       "      <td>1</td>\n",
       "      <td>1</td>\n",
       "      <td>0</td>\n",
       "      <td>1</td>\n",
       "    </tr>\n",
       "    <tr>\n",
       "      <th>4</th>\n",
       "      <td>5</td>\n",
       "      <td>5</td>\n",
       "      <td>2015-07-31</td>\n",
       "      <td>4822</td>\n",
       "      <td>559</td>\n",
       "      <td>1</td>\n",
       "      <td>1</td>\n",
       "      <td>0</td>\n",
       "      <td>1</td>\n",
       "    </tr>\n",
       "  </tbody>\n",
       "</table>\n",
       "</div>"
      ],
      "text/plain": [
       "   Store  DayOfWeek        Date  Sales  Customers  Open  Promo StateHoliday  \\\n",
       "0      1          5  2015-07-31   5263        555     1      1            0   \n",
       "1      2          5  2015-07-31   6064        625     1      1            0   \n",
       "2      3          5  2015-07-31   8314        821     1      1            0   \n",
       "3      4          5  2015-07-31  13995       1498     1      1            0   \n",
       "4      5          5  2015-07-31   4822        559     1      1            0   \n",
       "\n",
       "   SchoolHoliday  \n",
       "0              1  \n",
       "1              1  \n",
       "2              1  \n",
       "3              1  \n",
       "4              1  "
      ]
     },
     "execution_count": 2,
     "metadata": {},
     "output_type": "execute_result"
    }
   ],
   "source": [
    "# Перший файл - train.csv містить історичні дані про продажі мережі роздрібних магазинів\n",
    "\n",
    "sales_data = pd.read_csv('Data/train.csv')\n",
    "sales_data.head()"
   ]
  },
  {
   "cell_type": "code",
   "execution_count": 3,
   "id": "3b5a7172-8a34-40ad-9d6a-ba6df4d027f2",
   "metadata": {},
   "outputs": [
    {
     "name": "stdout",
     "output_type": "stream",
     "text": [
      "<class 'pandas.core.frame.DataFrame'>\n",
      "RangeIndex: 1017209 entries, 0 to 1017208\n",
      "Data columns (total 9 columns):\n",
      " #   Column         Non-Null Count    Dtype \n",
      "---  ------         --------------    ----- \n",
      " 0   Store          1017209 non-null  int64 \n",
      " 1   DayOfWeek      1017209 non-null  int64 \n",
      " 2   Date           1017209 non-null  object\n",
      " 3   Sales          1017209 non-null  int64 \n",
      " 4   Customers      1017209 non-null  int64 \n",
      " 5   Open           1017209 non-null  int64 \n",
      " 6   Promo          1017209 non-null  int64 \n",
      " 7   StateHoliday   1017209 non-null  object\n",
      " 8   SchoolHoliday  1017209 non-null  int64 \n",
      "dtypes: int64(7), object(2)\n",
      "memory usage: 69.8+ MB\n"
     ]
    }
   ],
   "source": [
    "sales_data.info()"
   ]
  },
  {
   "cell_type": "code",
   "execution_count": 4,
   "id": "f4ae2ff0-0f5c-4e6a-b94a-a4e1847008b5",
   "metadata": {},
   "outputs": [
    {
     "data": {
      "text/html": [
       "<div>\n",
       "<style scoped>\n",
       "    .dataframe tbody tr th:only-of-type {\n",
       "        vertical-align: middle;\n",
       "    }\n",
       "\n",
       "    .dataframe tbody tr th {\n",
       "        vertical-align: top;\n",
       "    }\n",
       "\n",
       "    .dataframe thead th {\n",
       "        text-align: right;\n",
       "    }\n",
       "</style>\n",
       "<table border=\"1\" class=\"dataframe\">\n",
       "  <thead>\n",
       "    <tr style=\"text-align: right;\">\n",
       "      <th></th>\n",
       "      <th>Store</th>\n",
       "      <th>StoreType</th>\n",
       "      <th>Assortment</th>\n",
       "      <th>CompetitionDistance</th>\n",
       "      <th>CompetitionOpenSinceMonth</th>\n",
       "      <th>CompetitionOpenSinceYear</th>\n",
       "      <th>Promo2</th>\n",
       "      <th>Promo2SinceWeek</th>\n",
       "      <th>Promo2SinceYear</th>\n",
       "      <th>PromoInterval</th>\n",
       "    </tr>\n",
       "  </thead>\n",
       "  <tbody>\n",
       "    <tr>\n",
       "      <th>0</th>\n",
       "      <td>1</td>\n",
       "      <td>c</td>\n",
       "      <td>a</td>\n",
       "      <td>1270.0</td>\n",
       "      <td>9.0</td>\n",
       "      <td>2008.0</td>\n",
       "      <td>0</td>\n",
       "      <td>NaN</td>\n",
       "      <td>NaN</td>\n",
       "      <td>NaN</td>\n",
       "    </tr>\n",
       "    <tr>\n",
       "      <th>1</th>\n",
       "      <td>2</td>\n",
       "      <td>a</td>\n",
       "      <td>a</td>\n",
       "      <td>570.0</td>\n",
       "      <td>11.0</td>\n",
       "      <td>2007.0</td>\n",
       "      <td>1</td>\n",
       "      <td>13.0</td>\n",
       "      <td>2010.0</td>\n",
       "      <td>Jan,Apr,Jul,Oct</td>\n",
       "    </tr>\n",
       "    <tr>\n",
       "      <th>2</th>\n",
       "      <td>3</td>\n",
       "      <td>a</td>\n",
       "      <td>a</td>\n",
       "      <td>14130.0</td>\n",
       "      <td>12.0</td>\n",
       "      <td>2006.0</td>\n",
       "      <td>1</td>\n",
       "      <td>14.0</td>\n",
       "      <td>2011.0</td>\n",
       "      <td>Jan,Apr,Jul,Oct</td>\n",
       "    </tr>\n",
       "    <tr>\n",
       "      <th>3</th>\n",
       "      <td>4</td>\n",
       "      <td>c</td>\n",
       "      <td>c</td>\n",
       "      <td>620.0</td>\n",
       "      <td>9.0</td>\n",
       "      <td>2009.0</td>\n",
       "      <td>0</td>\n",
       "      <td>NaN</td>\n",
       "      <td>NaN</td>\n",
       "      <td>NaN</td>\n",
       "    </tr>\n",
       "    <tr>\n",
       "      <th>4</th>\n",
       "      <td>5</td>\n",
       "      <td>a</td>\n",
       "      <td>a</td>\n",
       "      <td>29910.0</td>\n",
       "      <td>4.0</td>\n",
       "      <td>2015.0</td>\n",
       "      <td>0</td>\n",
       "      <td>NaN</td>\n",
       "      <td>NaN</td>\n",
       "      <td>NaN</td>\n",
       "    </tr>\n",
       "  </tbody>\n",
       "</table>\n",
       "</div>"
      ],
      "text/plain": [
       "   Store StoreType Assortment  CompetitionDistance  CompetitionOpenSinceMonth  \\\n",
       "0      1         c          a               1270.0                        9.0   \n",
       "1      2         a          a                570.0                       11.0   \n",
       "2      3         a          a              14130.0                       12.0   \n",
       "3      4         c          c                620.0                        9.0   \n",
       "4      5         a          a              29910.0                        4.0   \n",
       "\n",
       "   CompetitionOpenSinceYear  Promo2  Promo2SinceWeek  Promo2SinceYear  \\\n",
       "0                    2008.0       0              NaN              NaN   \n",
       "1                    2007.0       1             13.0           2010.0   \n",
       "2                    2006.0       1             14.0           2011.0   \n",
       "3                    2009.0       0              NaN              NaN   \n",
       "4                    2015.0       0              NaN              NaN   \n",
       "\n",
       "     PromoInterval  \n",
       "0              NaN  \n",
       "1  Jan,Apr,Jul,Oct  \n",
       "2  Jan,Apr,Jul,Oct  \n",
       "3              NaN  \n",
       "4              NaN  "
      ]
     },
     "execution_count": 4,
     "metadata": {},
     "output_type": "execute_result"
    }
   ],
   "source": [
    "# Другий файл - store.csv містить докладну інформацію про кожен магазин мережі\n",
    "\n",
    "store_data = pd.read_csv('Data/store.csv')\n",
    "store_data.head()"
   ]
  },
  {
   "cell_type": "code",
   "execution_count": 5,
   "id": "6e0d887b-b8ea-4691-ae1d-8444664eb388",
   "metadata": {},
   "outputs": [
    {
     "name": "stdout",
     "output_type": "stream",
     "text": [
      "<class 'pandas.core.frame.DataFrame'>\n",
      "RangeIndex: 1115 entries, 0 to 1114\n",
      "Data columns (total 10 columns):\n",
      " #   Column                     Non-Null Count  Dtype  \n",
      "---  ------                     --------------  -----  \n",
      " 0   Store                      1115 non-null   int64  \n",
      " 1   StoreType                  1115 non-null   object \n",
      " 2   Assortment                 1115 non-null   object \n",
      " 3   CompetitionDistance        1112 non-null   float64\n",
      " 4   CompetitionOpenSinceMonth  761 non-null    float64\n",
      " 5   CompetitionOpenSinceYear   761 non-null    float64\n",
      " 6   Promo2                     1115 non-null   int64  \n",
      " 7   Promo2SinceWeek            571 non-null    float64\n",
      " 8   Promo2SinceYear            571 non-null    float64\n",
      " 9   PromoInterval              571 non-null    object \n",
      "dtypes: float64(5), int64(2), object(3)\n",
      "memory usage: 87.2+ KB\n"
     ]
    }
   ],
   "source": [
    "store_data.info()"
   ]
  },
  {
   "cell_type": "code",
   "execution_count": 6,
   "id": "97001f4c-0a19-49d3-b5bd-b5296e0fa712",
   "metadata": {},
   "outputs": [
    {
     "data": {
      "text/plain": [
       "Store            0\n",
       "DayOfWeek        0\n",
       "Date             0\n",
       "Sales            0\n",
       "Customers        0\n",
       "Open             0\n",
       "Promo            0\n",
       "StateHoliday     0\n",
       "SchoolHoliday    0\n",
       "dtype: int64"
      ]
     },
     "execution_count": 6,
     "metadata": {},
     "output_type": "execute_result"
    }
   ],
   "source": [
    "# перевіряємо пропущені значення для sales_data\n",
    "sales_data.isna().sum()"
   ]
  },
  {
   "cell_type": "code",
   "execution_count": 7,
   "id": "603c0b0d-c304-4fe0-8b59-a32d7fe10e54",
   "metadata": {},
   "outputs": [
    {
     "data": {
      "text/plain": [
       "Store                          0\n",
       "StoreType                      0\n",
       "Assortment                     0\n",
       "CompetitionDistance            3\n",
       "CompetitionOpenSinceMonth    354\n",
       "CompetitionOpenSinceYear     354\n",
       "Promo2                         0\n",
       "Promo2SinceWeek              544\n",
       "Promo2SinceYear              544\n",
       "PromoInterval                544\n",
       "dtype: int64"
      ]
     },
     "execution_count": 7,
     "metadata": {},
     "output_type": "execute_result"
    }
   ],
   "source": [
    "# перевіряємо пропущені значення для store_data\n",
    "store_data.isna().sum()"
   ]
  },
  {
   "cell_type": "code",
   "execution_count": 8,
   "id": "346236c5-a437-494c-8d69-189b2e066ee0",
   "metadata": {},
   "outputs": [],
   "source": [
    "# сортуємо sales_data за датою\n",
    "sales_data = sales_data.sort_values('Date')"
   ]
  },
  {
   "cell_type": "code",
   "execution_count": 9,
   "id": "d02b7173-e0f1-4436-8710-8b65716c39ba",
   "metadata": {},
   "outputs": [
    {
     "data": {
      "text/html": [
       "<div>\n",
       "<style scoped>\n",
       "    .dataframe tbody tr th:only-of-type {\n",
       "        vertical-align: middle;\n",
       "    }\n",
       "\n",
       "    .dataframe tbody tr th {\n",
       "        vertical-align: top;\n",
       "    }\n",
       "\n",
       "    .dataframe thead th {\n",
       "        text-align: right;\n",
       "    }\n",
       "</style>\n",
       "<table border=\"1\" class=\"dataframe\">\n",
       "  <thead>\n",
       "    <tr style=\"text-align: right;\">\n",
       "      <th></th>\n",
       "      <th>Store</th>\n",
       "      <th>DayOfWeek</th>\n",
       "      <th>Date</th>\n",
       "      <th>Sales</th>\n",
       "      <th>Customers</th>\n",
       "      <th>Open</th>\n",
       "      <th>Promo</th>\n",
       "      <th>StateHoliday</th>\n",
       "      <th>SchoolHoliday</th>\n",
       "    </tr>\n",
       "  </thead>\n",
       "  <tbody>\n",
       "    <tr>\n",
       "      <th>count</th>\n",
       "      <td>1.017209e+06</td>\n",
       "      <td>1.017209e+06</td>\n",
       "      <td>1017209</td>\n",
       "      <td>1.017209e+06</td>\n",
       "      <td>1.017209e+06</td>\n",
       "      <td>1.017209e+06</td>\n",
       "      <td>1.017209e+06</td>\n",
       "      <td>1017209</td>\n",
       "      <td>1.017209e+06</td>\n",
       "    </tr>\n",
       "    <tr>\n",
       "      <th>unique</th>\n",
       "      <td>NaN</td>\n",
       "      <td>NaN</td>\n",
       "      <td>942</td>\n",
       "      <td>NaN</td>\n",
       "      <td>NaN</td>\n",
       "      <td>NaN</td>\n",
       "      <td>NaN</td>\n",
       "      <td>5</td>\n",
       "      <td>NaN</td>\n",
       "    </tr>\n",
       "    <tr>\n",
       "      <th>top</th>\n",
       "      <td>NaN</td>\n",
       "      <td>NaN</td>\n",
       "      <td>2014-04-17</td>\n",
       "      <td>NaN</td>\n",
       "      <td>NaN</td>\n",
       "      <td>NaN</td>\n",
       "      <td>NaN</td>\n",
       "      <td>0</td>\n",
       "      <td>NaN</td>\n",
       "    </tr>\n",
       "    <tr>\n",
       "      <th>freq</th>\n",
       "      <td>NaN</td>\n",
       "      <td>NaN</td>\n",
       "      <td>1115</td>\n",
       "      <td>NaN</td>\n",
       "      <td>NaN</td>\n",
       "      <td>NaN</td>\n",
       "      <td>NaN</td>\n",
       "      <td>855087</td>\n",
       "      <td>NaN</td>\n",
       "    </tr>\n",
       "    <tr>\n",
       "      <th>mean</th>\n",
       "      <td>5.584297e+02</td>\n",
       "      <td>3.998341e+00</td>\n",
       "      <td>NaN</td>\n",
       "      <td>5.773819e+03</td>\n",
       "      <td>6.331459e+02</td>\n",
       "      <td>8.301067e-01</td>\n",
       "      <td>3.815145e-01</td>\n",
       "      <td>NaN</td>\n",
       "      <td>1.786467e-01</td>\n",
       "    </tr>\n",
       "    <tr>\n",
       "      <th>std</th>\n",
       "      <td>3.219087e+02</td>\n",
       "      <td>1.997391e+00</td>\n",
       "      <td>NaN</td>\n",
       "      <td>3.849926e+03</td>\n",
       "      <td>4.644117e+02</td>\n",
       "      <td>3.755392e-01</td>\n",
       "      <td>4.857586e-01</td>\n",
       "      <td>NaN</td>\n",
       "      <td>3.830564e-01</td>\n",
       "    </tr>\n",
       "    <tr>\n",
       "      <th>min</th>\n",
       "      <td>1.000000e+00</td>\n",
       "      <td>1.000000e+00</td>\n",
       "      <td>NaN</td>\n",
       "      <td>0.000000e+00</td>\n",
       "      <td>0.000000e+00</td>\n",
       "      <td>0.000000e+00</td>\n",
       "      <td>0.000000e+00</td>\n",
       "      <td>NaN</td>\n",
       "      <td>0.000000e+00</td>\n",
       "    </tr>\n",
       "    <tr>\n",
       "      <th>25%</th>\n",
       "      <td>2.800000e+02</td>\n",
       "      <td>2.000000e+00</td>\n",
       "      <td>NaN</td>\n",
       "      <td>3.727000e+03</td>\n",
       "      <td>4.050000e+02</td>\n",
       "      <td>1.000000e+00</td>\n",
       "      <td>0.000000e+00</td>\n",
       "      <td>NaN</td>\n",
       "      <td>0.000000e+00</td>\n",
       "    </tr>\n",
       "    <tr>\n",
       "      <th>50%</th>\n",
       "      <td>5.580000e+02</td>\n",
       "      <td>4.000000e+00</td>\n",
       "      <td>NaN</td>\n",
       "      <td>5.744000e+03</td>\n",
       "      <td>6.090000e+02</td>\n",
       "      <td>1.000000e+00</td>\n",
       "      <td>0.000000e+00</td>\n",
       "      <td>NaN</td>\n",
       "      <td>0.000000e+00</td>\n",
       "    </tr>\n",
       "    <tr>\n",
       "      <th>75%</th>\n",
       "      <td>8.380000e+02</td>\n",
       "      <td>6.000000e+00</td>\n",
       "      <td>NaN</td>\n",
       "      <td>7.856000e+03</td>\n",
       "      <td>8.370000e+02</td>\n",
       "      <td>1.000000e+00</td>\n",
       "      <td>1.000000e+00</td>\n",
       "      <td>NaN</td>\n",
       "      <td>0.000000e+00</td>\n",
       "    </tr>\n",
       "    <tr>\n",
       "      <th>max</th>\n",
       "      <td>1.115000e+03</td>\n",
       "      <td>7.000000e+00</td>\n",
       "      <td>NaN</td>\n",
       "      <td>4.155100e+04</td>\n",
       "      <td>7.388000e+03</td>\n",
       "      <td>1.000000e+00</td>\n",
       "      <td>1.000000e+00</td>\n",
       "      <td>NaN</td>\n",
       "      <td>1.000000e+00</td>\n",
       "    </tr>\n",
       "  </tbody>\n",
       "</table>\n",
       "</div>"
      ],
      "text/plain": [
       "               Store     DayOfWeek        Date         Sales     Customers  \\\n",
       "count   1.017209e+06  1.017209e+06     1017209  1.017209e+06  1.017209e+06   \n",
       "unique           NaN           NaN         942           NaN           NaN   \n",
       "top              NaN           NaN  2014-04-17           NaN           NaN   \n",
       "freq             NaN           NaN        1115           NaN           NaN   \n",
       "mean    5.584297e+02  3.998341e+00         NaN  5.773819e+03  6.331459e+02   \n",
       "std     3.219087e+02  1.997391e+00         NaN  3.849926e+03  4.644117e+02   \n",
       "min     1.000000e+00  1.000000e+00         NaN  0.000000e+00  0.000000e+00   \n",
       "25%     2.800000e+02  2.000000e+00         NaN  3.727000e+03  4.050000e+02   \n",
       "50%     5.580000e+02  4.000000e+00         NaN  5.744000e+03  6.090000e+02   \n",
       "75%     8.380000e+02  6.000000e+00         NaN  7.856000e+03  8.370000e+02   \n",
       "max     1.115000e+03  7.000000e+00         NaN  4.155100e+04  7.388000e+03   \n",
       "\n",
       "                Open         Promo StateHoliday  SchoolHoliday  \n",
       "count   1.017209e+06  1.017209e+06      1017209   1.017209e+06  \n",
       "unique           NaN           NaN            5            NaN  \n",
       "top              NaN           NaN            0            NaN  \n",
       "freq             NaN           NaN       855087            NaN  \n",
       "mean    8.301067e-01  3.815145e-01          NaN   1.786467e-01  \n",
       "std     3.755392e-01  4.857586e-01          NaN   3.830564e-01  \n",
       "min     0.000000e+00  0.000000e+00          NaN   0.000000e+00  \n",
       "25%     1.000000e+00  0.000000e+00          NaN   0.000000e+00  \n",
       "50%     1.000000e+00  0.000000e+00          NaN   0.000000e+00  \n",
       "75%     1.000000e+00  1.000000e+00          NaN   0.000000e+00  \n",
       "max     1.000000e+00  1.000000e+00          NaN   1.000000e+00  "
      ]
     },
     "execution_count": 9,
     "metadata": {},
     "output_type": "execute_result"
    }
   ],
   "source": [
    "sales_data.describe(include='all')"
   ]
  },
  {
   "cell_type": "code",
   "execution_count": 10,
   "id": "6e235c15-8568-4fdd-bf3e-7bf2652be0a9",
   "metadata": {},
   "outputs": [
    {
     "data": {
      "text/html": [
       "<div>\n",
       "<style scoped>\n",
       "    .dataframe tbody tr th:only-of-type {\n",
       "        vertical-align: middle;\n",
       "    }\n",
       "\n",
       "    .dataframe tbody tr th {\n",
       "        vertical-align: top;\n",
       "    }\n",
       "\n",
       "    .dataframe thead th {\n",
       "        text-align: right;\n",
       "    }\n",
       "</style>\n",
       "<table border=\"1\" class=\"dataframe\">\n",
       "  <thead>\n",
       "    <tr style=\"text-align: right;\">\n",
       "      <th></th>\n",
       "      <th>Store</th>\n",
       "      <th>StoreType</th>\n",
       "      <th>Assortment</th>\n",
       "      <th>CompetitionDistance</th>\n",
       "      <th>CompetitionOpenSinceMonth</th>\n",
       "      <th>CompetitionOpenSinceYear</th>\n",
       "      <th>Promo2</th>\n",
       "      <th>Promo2SinceWeek</th>\n",
       "      <th>Promo2SinceYear</th>\n",
       "      <th>PromoInterval</th>\n",
       "    </tr>\n",
       "  </thead>\n",
       "  <tbody>\n",
       "    <tr>\n",
       "      <th>count</th>\n",
       "      <td>1115.00000</td>\n",
       "      <td>1115</td>\n",
       "      <td>1115</td>\n",
       "      <td>1112.000000</td>\n",
       "      <td>761.000000</td>\n",
       "      <td>761.000000</td>\n",
       "      <td>1115.000000</td>\n",
       "      <td>571.000000</td>\n",
       "      <td>571.000000</td>\n",
       "      <td>571</td>\n",
       "    </tr>\n",
       "    <tr>\n",
       "      <th>unique</th>\n",
       "      <td>NaN</td>\n",
       "      <td>4</td>\n",
       "      <td>3</td>\n",
       "      <td>NaN</td>\n",
       "      <td>NaN</td>\n",
       "      <td>NaN</td>\n",
       "      <td>NaN</td>\n",
       "      <td>NaN</td>\n",
       "      <td>NaN</td>\n",
       "      <td>3</td>\n",
       "    </tr>\n",
       "    <tr>\n",
       "      <th>top</th>\n",
       "      <td>NaN</td>\n",
       "      <td>a</td>\n",
       "      <td>a</td>\n",
       "      <td>NaN</td>\n",
       "      <td>NaN</td>\n",
       "      <td>NaN</td>\n",
       "      <td>NaN</td>\n",
       "      <td>NaN</td>\n",
       "      <td>NaN</td>\n",
       "      <td>Jan,Apr,Jul,Oct</td>\n",
       "    </tr>\n",
       "    <tr>\n",
       "      <th>freq</th>\n",
       "      <td>NaN</td>\n",
       "      <td>602</td>\n",
       "      <td>593</td>\n",
       "      <td>NaN</td>\n",
       "      <td>NaN</td>\n",
       "      <td>NaN</td>\n",
       "      <td>NaN</td>\n",
       "      <td>NaN</td>\n",
       "      <td>NaN</td>\n",
       "      <td>335</td>\n",
       "    </tr>\n",
       "    <tr>\n",
       "      <th>mean</th>\n",
       "      <td>558.00000</td>\n",
       "      <td>NaN</td>\n",
       "      <td>NaN</td>\n",
       "      <td>5404.901079</td>\n",
       "      <td>7.224704</td>\n",
       "      <td>2008.668857</td>\n",
       "      <td>0.512108</td>\n",
       "      <td>23.595447</td>\n",
       "      <td>2011.763573</td>\n",
       "      <td>NaN</td>\n",
       "    </tr>\n",
       "    <tr>\n",
       "      <th>std</th>\n",
       "      <td>322.01708</td>\n",
       "      <td>NaN</td>\n",
       "      <td>NaN</td>\n",
       "      <td>7663.174720</td>\n",
       "      <td>3.212348</td>\n",
       "      <td>6.195983</td>\n",
       "      <td>0.500078</td>\n",
       "      <td>14.141984</td>\n",
       "      <td>1.674935</td>\n",
       "      <td>NaN</td>\n",
       "    </tr>\n",
       "    <tr>\n",
       "      <th>min</th>\n",
       "      <td>1.00000</td>\n",
       "      <td>NaN</td>\n",
       "      <td>NaN</td>\n",
       "      <td>20.000000</td>\n",
       "      <td>1.000000</td>\n",
       "      <td>1900.000000</td>\n",
       "      <td>0.000000</td>\n",
       "      <td>1.000000</td>\n",
       "      <td>2009.000000</td>\n",
       "      <td>NaN</td>\n",
       "    </tr>\n",
       "    <tr>\n",
       "      <th>25%</th>\n",
       "      <td>279.50000</td>\n",
       "      <td>NaN</td>\n",
       "      <td>NaN</td>\n",
       "      <td>717.500000</td>\n",
       "      <td>4.000000</td>\n",
       "      <td>2006.000000</td>\n",
       "      <td>0.000000</td>\n",
       "      <td>13.000000</td>\n",
       "      <td>2011.000000</td>\n",
       "      <td>NaN</td>\n",
       "    </tr>\n",
       "    <tr>\n",
       "      <th>50%</th>\n",
       "      <td>558.00000</td>\n",
       "      <td>NaN</td>\n",
       "      <td>NaN</td>\n",
       "      <td>2325.000000</td>\n",
       "      <td>8.000000</td>\n",
       "      <td>2010.000000</td>\n",
       "      <td>1.000000</td>\n",
       "      <td>22.000000</td>\n",
       "      <td>2012.000000</td>\n",
       "      <td>NaN</td>\n",
       "    </tr>\n",
       "    <tr>\n",
       "      <th>75%</th>\n",
       "      <td>836.50000</td>\n",
       "      <td>NaN</td>\n",
       "      <td>NaN</td>\n",
       "      <td>6882.500000</td>\n",
       "      <td>10.000000</td>\n",
       "      <td>2013.000000</td>\n",
       "      <td>1.000000</td>\n",
       "      <td>37.000000</td>\n",
       "      <td>2013.000000</td>\n",
       "      <td>NaN</td>\n",
       "    </tr>\n",
       "    <tr>\n",
       "      <th>max</th>\n",
       "      <td>1115.00000</td>\n",
       "      <td>NaN</td>\n",
       "      <td>NaN</td>\n",
       "      <td>75860.000000</td>\n",
       "      <td>12.000000</td>\n",
       "      <td>2015.000000</td>\n",
       "      <td>1.000000</td>\n",
       "      <td>50.000000</td>\n",
       "      <td>2015.000000</td>\n",
       "      <td>NaN</td>\n",
       "    </tr>\n",
       "  </tbody>\n",
       "</table>\n",
       "</div>"
      ],
      "text/plain": [
       "             Store StoreType Assortment  CompetitionDistance  \\\n",
       "count   1115.00000      1115       1115          1112.000000   \n",
       "unique         NaN         4          3                  NaN   \n",
       "top            NaN         a          a                  NaN   \n",
       "freq           NaN       602        593                  NaN   \n",
       "mean     558.00000       NaN        NaN          5404.901079   \n",
       "std      322.01708       NaN        NaN          7663.174720   \n",
       "min        1.00000       NaN        NaN            20.000000   \n",
       "25%      279.50000       NaN        NaN           717.500000   \n",
       "50%      558.00000       NaN        NaN          2325.000000   \n",
       "75%      836.50000       NaN        NaN          6882.500000   \n",
       "max     1115.00000       NaN        NaN         75860.000000   \n",
       "\n",
       "        CompetitionOpenSinceMonth  CompetitionOpenSinceYear       Promo2  \\\n",
       "count                  761.000000                761.000000  1115.000000   \n",
       "unique                        NaN                       NaN          NaN   \n",
       "top                           NaN                       NaN          NaN   \n",
       "freq                          NaN                       NaN          NaN   \n",
       "mean                     7.224704               2008.668857     0.512108   \n",
       "std                      3.212348                  6.195983     0.500078   \n",
       "min                      1.000000               1900.000000     0.000000   \n",
       "25%                      4.000000               2006.000000     0.000000   \n",
       "50%                      8.000000               2010.000000     1.000000   \n",
       "75%                     10.000000               2013.000000     1.000000   \n",
       "max                     12.000000               2015.000000     1.000000   \n",
       "\n",
       "        Promo2SinceWeek  Promo2SinceYear    PromoInterval  \n",
       "count        571.000000       571.000000              571  \n",
       "unique              NaN              NaN                3  \n",
       "top                 NaN              NaN  Jan,Apr,Jul,Oct  \n",
       "freq                NaN              NaN              335  \n",
       "mean          23.595447      2011.763573              NaN  \n",
       "std           14.141984         1.674935              NaN  \n",
       "min            1.000000      2009.000000              NaN  \n",
       "25%           13.000000      2011.000000              NaN  \n",
       "50%           22.000000      2012.000000              NaN  \n",
       "75%           37.000000      2013.000000              NaN  \n",
       "max           50.000000      2015.000000              NaN  "
      ]
     },
     "execution_count": 10,
     "metadata": {},
     "output_type": "execute_result"
    }
   ],
   "source": [
    "store_data.describe(include='all')"
   ]
  },
  {
   "cell_type": "markdown",
   "id": "e7c141c6-af5b-42f3-925e-03cab515d762",
   "metadata": {},
   "source": [
    "#### Як ми бачимо, наша датасет складається з 2х файлів.\n",
    "\n",
    "#### sales_data - містить 1017209 записів в 9 колонках - це продажі в 1115 магазинах мережі.\n",
    "#### store_data - містить докладні дані про кожен з 1115 магазинів мережі в 10 колонках."
   ]
  },
  {
   "cell_type": "markdown",
   "id": "b65a12e7-938a-4919-8a1f-c9c33588179d",
   "metadata": {},
   "source": [
    "### Досліджуємо значення наших змінних по колонкам"
   ]
  },
  {
   "cell_type": "markdown",
   "id": "5ea84ef4-be2a-4fe6-b96f-ed18e023b1f3",
   "metadata": {},
   "source": [
    "* #### `Store` - унікальний ідентифікатор для кожного магазину\n",
    "* #### `Sales` - сума продажів за кожен день\n",
    "* #### `Customers` - кількість покупців за кожен день\n",
    "* #### `Open` - індикатор того, чи був відкритий магазин: 0 = закрито, 1 = відкрито\n",
    "* #### `StateHoliday` - вказує на державне свято. Зазвичай усі магазини, за невеликим винятком, закриті на державні свята. Зверніть увагу, що всі школи закриті у святкові та вихідні дні. a = державне свято, b = Великдень, c = Різдво, 0 = немає\n",
    "* #### `SchoolHoliday` - вказує, чи вплинуло на (Магазин, Дата) закриття державних шкіл\n",
    "* #### `StoreType` - існують 4 різні моделі магазинів: a, b, c, d\n",
    "* #### `Assortment` - описує рівень асортименту: a = базовий, b = збільшений, c = розширений\n",
    "* #### `CompetitionDistance` - відстань у метрах до найближчого магазину конкурента\n",
    "* #### `CompetitionOpenSince` - дає приблизний рік і місяць відкриття найближчого конкурента\n",
    "* #### `Promo` - вказує, чи в цей день магазин проводить рекламну акцію\n",
    "* #### `Promo2` - це безперервна і послідовна акція для деяких магазинів: 0 = магазин не бере участь, 1 = магазин бере участь\n",
    "* #### `Promo2Since` - описує рік і календарний тиждень, коли магазин почав брати участь в Promo2\n",
    "* #### `PromoInterval` - описує послідовні інтервали запуску Promo2, називаючи місяці, коли акція запускається заново. наприклад \"Feb,May,Aug,Nov\" означає, що кожен раунд починається в лютому, травні, серпні, листопаді будь-якого року для цього магазину"
   ]
  },
  {
   "cell_type": "code",
   "execution_count": 11,
   "id": "be4f21b0-34fd-4c9e-8f7f-b5e0abe8afe8",
   "metadata": {},
   "outputs": [
    {
     "name": "stdout",
     "output_type": "stream",
     "text": [
      "Унікальні значення в стовпці Store : [1115  379  378 ...  745  739  988]\n",
      "Унікальні значення в стовпці DayOfWeek : [2 3 4 5 6 7 1]\n",
      "Унікальні значення в стовпці Customers : [   0  820  482 ... 4691 4783 3352]\n",
      "Унікальні значення в стовпці Open : [0 1]\n",
      "Унікальні значення в стовпці Promo : [0 1]\n",
      "Унікальні значення в стовпці StateHoliday : ['a' '0' 'b' 'c' 0]\n",
      "Унікальні значення в стовпці SchoolHoliday : [1 0]\n"
     ]
    }
   ],
   "source": [
    "for col in sales_data.columns:\n",
    "  if col in ['Sales','Date']:\n",
    "    continue\n",
    "  else:\n",
    "    print(f'Унікальні значення в стовпці {col} :',sales_data[col].unique())"
   ]
  },
  {
   "cell_type": "code",
   "execution_count": 12,
   "id": "8487fcff-cbe4-46f2-8250-3de861423826",
   "metadata": {},
   "outputs": [
    {
     "name": "stdout",
     "output_type": "stream",
     "text": [
      "Унікальні значення в стовпці Store : [   1    2    3 ... 1113 1114 1115]\n",
      "Унікальні значення в стовпці StoreType : ['c' 'a' 'd' 'b']\n",
      "Унікальні значення в стовпці Assortment : ['a' 'c' 'b']\n",
      "Унікальні значення в стовпці CompetitionOpenSinceMonth : [ 9. 11. 12.  4. 10.  8. nan  3.  6.  5.  1.  2.  7.]\n",
      "Унікальні значення в стовпці CompetitionOpenSinceYear : [2008. 2007. 2006. 2009. 2015. 2013. 2014. 2000. 2011.   nan 2010. 2005.\n",
      " 1999. 2003. 2012. 2004. 2002. 1961. 1995. 2001. 1990. 1994. 1900. 1998.]\n",
      "Унікальні значення в стовпці Promo2 : [0 1]\n",
      "Унікальні значення в стовпці Promo2SinceWeek : [nan 13. 14.  1. 45. 40. 26. 22.  5.  6. 10. 31. 37.  9. 39. 27. 18. 35.\n",
      " 23. 48. 36. 50. 44. 49. 28.]\n",
      "Унікальні значення в стовпці Promo2SinceYear : [  nan 2010. 2011. 2012. 2009. 2014. 2015. 2013.]\n",
      "Унікальні значення в стовпці PromoInterval : [nan 'Jan,Apr,Jul,Oct' 'Feb,May,Aug,Nov' 'Mar,Jun,Sept,Dec']\n"
     ]
    }
   ],
   "source": [
    "for col in store_data.columns:\n",
    "  if col in ['CompetitionDistance']:\n",
    "    continue\n",
    "  else:\n",
    "    print(f'Унікальні значення в стовпці {col} :',store_data[col].unique())"
   ]
  },
  {
   "cell_type": "markdown",
   "id": "5e000370-dc9a-4fd8-beb2-8b5b550edcc9",
   "metadata": {},
   "source": [
    "### Попереднє очищення даних"
   ]
  },
  {
   "cell_type": "code",
   "execution_count": 13,
   "id": "df3383b3-f316-487c-9d7a-3a3a1c427d1b",
   "metadata": {},
   "outputs": [
    {
     "data": {
      "text/plain": [
       "0.18947368421052632"
      ]
     },
     "execution_count": 13,
     "metadata": {},
     "output_type": "execute_result"
    }
   ],
   "source": [
    "# Обраховуємо долю магазинів, які було відкрито після 2013 року\n",
    "store_data[store_data.CompetitionOpenSinceYear >2013].shape[0]/store_data[store_data.CompetitionOpenSinceYear <2013].shape[0]"
   ]
  },
  {
   "cell_type": "markdown",
   "id": "0539c1b3-fd89-4ab8-9edd-e81477398c83",
   "metadata": {},
   "source": [
    "* #### Ми маємо 354 пропущених значень із 1115 (32%) та долю магазинів конкурентів, по ненульовим даним, які було відкрито до початку наших історичних даних по продажам (81%). Виходячи з цього ми можемо знехтувати даними в цих стовбчиках."
   ]
  },
  {
   "cell_type": "code",
   "execution_count": 14,
   "id": "40b7b9ae-7915-4a7a-b444-7181618ed0f1",
   "metadata": {},
   "outputs": [],
   "source": [
    "#Видаляємо колонки 'CompetitionOpenSinceYear','CompetitionOpenSinceMonth'\n",
    "store_data.drop(['CompetitionOpenSinceYear','CompetitionOpenSinceMonth'],axis=1,inplace=True)"
   ]
  },
  {
   "cell_type": "code",
   "execution_count": 15,
   "id": "33405764-da94-4e4e-84f8-6763bb8f8688",
   "metadata": {},
   "outputs": [
    {
     "data": {
      "text/html": [
       "<div>\n",
       "<style scoped>\n",
       "    .dataframe tbody tr th:only-of-type {\n",
       "        vertical-align: middle;\n",
       "    }\n",
       "\n",
       "    .dataframe tbody tr th {\n",
       "        vertical-align: top;\n",
       "    }\n",
       "\n",
       "    .dataframe thead th {\n",
       "        text-align: right;\n",
       "    }\n",
       "</style>\n",
       "<table border=\"1\" class=\"dataframe\">\n",
       "  <thead>\n",
       "    <tr style=\"text-align: right;\">\n",
       "      <th></th>\n",
       "      <th>Store</th>\n",
       "      <th>StoreType</th>\n",
       "      <th>Assortment</th>\n",
       "      <th>CompetitionDistance</th>\n",
       "      <th>Promo2</th>\n",
       "      <th>Promo2SinceWeek</th>\n",
       "      <th>Promo2SinceYear</th>\n",
       "      <th>PromoInterval</th>\n",
       "    </tr>\n",
       "  </thead>\n",
       "  <tbody>\n",
       "    <tr>\n",
       "      <th>290</th>\n",
       "      <td>291</td>\n",
       "      <td>d</td>\n",
       "      <td>a</td>\n",
       "      <td>NaN</td>\n",
       "      <td>0</td>\n",
       "      <td>NaN</td>\n",
       "      <td>NaN</td>\n",
       "      <td>NaN</td>\n",
       "    </tr>\n",
       "    <tr>\n",
       "      <th>621</th>\n",
       "      <td>622</td>\n",
       "      <td>a</td>\n",
       "      <td>c</td>\n",
       "      <td>NaN</td>\n",
       "      <td>0</td>\n",
       "      <td>NaN</td>\n",
       "      <td>NaN</td>\n",
       "      <td>NaN</td>\n",
       "    </tr>\n",
       "    <tr>\n",
       "      <th>878</th>\n",
       "      <td>879</td>\n",
       "      <td>d</td>\n",
       "      <td>a</td>\n",
       "      <td>NaN</td>\n",
       "      <td>1</td>\n",
       "      <td>5.0</td>\n",
       "      <td>2013.0</td>\n",
       "      <td>Feb,May,Aug,Nov</td>\n",
       "    </tr>\n",
       "  </tbody>\n",
       "</table>\n",
       "</div>"
      ],
      "text/plain": [
       "     Store StoreType Assortment  CompetitionDistance  Promo2  Promo2SinceWeek  \\\n",
       "290    291         d          a                  NaN       0              NaN   \n",
       "621    622         a          c                  NaN       0              NaN   \n",
       "878    879         d          a                  NaN       1              5.0   \n",
       "\n",
       "     Promo2SinceYear    PromoInterval  \n",
       "290              NaN              NaN  \n",
       "621              NaN              NaN  \n",
       "878           2013.0  Feb,May,Aug,Nov  "
      ]
     },
     "execution_count": 15,
     "metadata": {},
     "output_type": "execute_result"
    }
   ],
   "source": [
    "# Пропущені значення в колонці CompetitionDistance\t\n",
    "store_data[store_data.CompetitionDistance.isnull()]"
   ]
  },
  {
   "cell_type": "code",
   "execution_count": 16,
   "id": "bd36fcd4-5ab7-4bbc-b5c4-b0894ea8f228",
   "metadata": {},
   "outputs": [],
   "source": [
    "# Заповнюємо ці пропущені значення середніми значеннями\n",
    "store_data.CompetitionDistance.fillna(value = store_data.CompetitionDistance.mean(), inplace = True)"
   ]
  },
  {
   "cell_type": "markdown",
   "id": "87603a16-9a25-4818-a46e-65aad566b43d",
   "metadata": {},
   "source": [
    "##### Promo2SinceWeek\n",
    "##### Promo2SinceYear\n",
    "##### PromoInterval"
   ]
  },
  {
   "cell_type": "code",
   "execution_count": 17,
   "id": "e94b3d50-323f-490e-a8e5-3b74bcb4d627",
   "metadata": {},
   "outputs": [
    {
     "data": {
      "text/plain": [
       "Store                    0\n",
       "StoreType                0\n",
       "Assortment               0\n",
       "CompetitionDistance      0\n",
       "Promo2                   0\n",
       "Promo2SinceWeek        544\n",
       "Promo2SinceYear        544\n",
       "PromoInterval          544\n",
       "dtype: int64"
      ]
     },
     "execution_count": 17,
     "metadata": {},
     "output_type": "execute_result"
    }
   ],
   "source": [
    "# перевіряємо пропущені значення для store_data\n",
    "store_data.isna().sum()"
   ]
  },
  {
   "cell_type": "code",
   "execution_count": 18,
   "id": "a96f283f-6b29-4fa0-b92b-ead48c0c9193",
   "metadata": {},
   "outputs": [
    {
     "data": {
      "text/plain": [
       "Store                    0\n",
       "StoreType                0\n",
       "Assortment               0\n",
       "CompetitionDistance      0\n",
       "Promo2                   0\n",
       "Promo2SinceWeek        544\n",
       "Promo2SinceYear        544\n",
       "PromoInterval          544\n",
       "dtype: int64"
      ]
     },
     "execution_count": 18,
     "metadata": {},
     "output_type": "execute_result"
    }
   ],
   "source": [
    "store_data[store_data.Promo2==0].isna().sum()"
   ]
  },
  {
   "cell_type": "markdown",
   "id": "3a36ced1-314f-45bc-9410-ce539680d865",
   "metadata": {},
   "source": [
    "* #### Як бачимо, пропущені дані в колонках Promo2SinceWeek, Promo2SinceYear, PromoInterval - це ті дані, де Promo2=0"
   ]
  },
  {
   "cell_type": "code",
   "execution_count": 19,
   "id": "f3d0b2a6-ceed-4f6c-ab9a-27e4fc1a2e5a",
   "metadata": {},
   "outputs": [
    {
     "name": "stdout",
     "output_type": "stream",
     "text": [
      "2015-07-31 00:00:00\n",
      "2015\n",
      "31\n"
     ]
    }
   ],
   "source": [
    "# Визначаємо максимальну дату в наших історичних даних\n",
    "sales_data.Date = pd.to_datetime(sales_data.Date)\n",
    "print(sales_data.Date.max())\n",
    "print(sales_data.Date.max().year)\n",
    "print(sales_data.Date.max().week)"
   ]
  },
  {
   "cell_type": "code",
   "execution_count": 20,
   "id": "42506155-8ad6-4268-93be-37dfb3880f0e",
   "metadata": {},
   "outputs": [
    {
     "data": {
      "text/plain": [
       "Store                    0\n",
       "StoreType                0\n",
       "Assortment               0\n",
       "CompetitionDistance      0\n",
       "Promo2                   0\n",
       "Promo2SinceWeek          0\n",
       "Promo2SinceYear          0\n",
       "PromoInterval          544\n",
       "dtype: int64"
      ]
     },
     "execution_count": 20,
     "metadata": {},
     "output_type": "execute_result"
    }
   ],
   "source": [
    "#Міняємо пропущені дані в колонках Promo2SinceWeek, Promo2SinceYear на максимальну дату в датасеті\n",
    "store_data.Promo2SinceYear.fillna(value = (sales_data.Date.max().year),inplace=True)\n",
    "store_data.Promo2SinceWeek.fillna(value = (sales_data.Date.max().week),inplace=True)\n",
    "store_data.isnull().sum()"
   ]
  },
  {
   "cell_type": "code",
   "execution_count": 21,
   "id": "041be272-1473-44cb-b019-b5f622d08686",
   "metadata": {},
   "outputs": [
    {
     "data": {
      "text/plain": [
       "Store                  0\n",
       "StoreType              0\n",
       "Assortment             0\n",
       "CompetitionDistance    0\n",
       "Promo2                 0\n",
       "Promo2SinceWeek        0\n",
       "Promo2SinceYear        0\n",
       "PromoInterval          0\n",
       "dtype: int64"
      ]
     },
     "execution_count": 21,
     "metadata": {},
     "output_type": "execute_result"
    }
   ],
   "source": [
    "#Міняємо пропущені значення в колонці PromoInterval на None\n",
    "store_data.PromoInterval.fillna(value = 'None',inplace=True)\n",
    "store_data.isnull().sum()"
   ]
  },
  {
   "cell_type": "code",
   "execution_count": 22,
   "id": "729af235-888e-4fb9-ad4b-6d4f5f568ff6",
   "metadata": {},
   "outputs": [],
   "source": [
    "#Функція для отримання дати\n",
    "def get_date(year,week):\n",
    "  year = int(year)\n",
    "  week = int(week)\n",
    "  date = dt.date(year, 1, 1) + relativedelta(weeks=+week)\n",
    "  return(date)"
   ]
  },
  {
   "cell_type": "code",
   "execution_count": 23,
   "id": "2d712de9-4cd0-4966-9a44-343256eebc8c",
   "metadata": {},
   "outputs": [],
   "source": [
    "# Створення стовпця дати за допомогою стовпців Promo2SinceWeek, Promo2SinceYear\n",
    "store_data['promo2_start_date'] = store_data.apply(lambda x: get_date(x.Promo2SinceYear,x.Promo2SinceWeek),axis=1)"
   ]
  },
  {
   "cell_type": "code",
   "execution_count": 24,
   "id": "608d552c-5629-4c4b-b448-e10233de9b8f",
   "metadata": {},
   "outputs": [],
   "source": [
    "# Тепер ми можемо видалити колонки 'Promo2','Promo2SinceWeek','Promo2SinceYear' оскільки ми створили колонку 'promo2_start_date'\n",
    "store_data.drop(['Promo2','Promo2SinceWeek','Promo2SinceYear'],axis=1,inplace=True)"
   ]
  },
  {
   "cell_type": "markdown",
   "id": "0a7d9fb1-a56f-44c5-9d3f-d040414352d2",
   "metadata": {},
   "source": [
    "### Для подальшого аналізу об'єднаємо наші 2 файли по спільному полю Store"
   ]
  },
  {
   "cell_type": "code",
   "execution_count": 25,
   "id": "2867651f-d05b-4c87-acb8-276fe0bc914f",
   "metadata": {},
   "outputs": [
    {
     "data": {
      "text/html": [
       "<div>\n",
       "<style scoped>\n",
       "    .dataframe tbody tr th:only-of-type {\n",
       "        vertical-align: middle;\n",
       "    }\n",
       "\n",
       "    .dataframe tbody tr th {\n",
       "        vertical-align: top;\n",
       "    }\n",
       "\n",
       "    .dataframe thead th {\n",
       "        text-align: right;\n",
       "    }\n",
       "</style>\n",
       "<table border=\"1\" class=\"dataframe\">\n",
       "  <thead>\n",
       "    <tr style=\"text-align: right;\">\n",
       "      <th></th>\n",
       "      <th>Store</th>\n",
       "      <th>DayOfWeek</th>\n",
       "      <th>Date</th>\n",
       "      <th>Sales</th>\n",
       "      <th>Customers</th>\n",
       "      <th>Open</th>\n",
       "      <th>Promo</th>\n",
       "      <th>StateHoliday</th>\n",
       "      <th>SchoolHoliday</th>\n",
       "      <th>StoreType</th>\n",
       "      <th>Assortment</th>\n",
       "      <th>CompetitionDistance</th>\n",
       "      <th>PromoInterval</th>\n",
       "      <th>promo2_start_date</th>\n",
       "    </tr>\n",
       "  </thead>\n",
       "  <tbody>\n",
       "    <tr>\n",
       "      <th>0</th>\n",
       "      <td>1115</td>\n",
       "      <td>2</td>\n",
       "      <td>2013-01-01</td>\n",
       "      <td>0</td>\n",
       "      <td>0</td>\n",
       "      <td>0</td>\n",
       "      <td>0</td>\n",
       "      <td>a</td>\n",
       "      <td>1</td>\n",
       "      <td>d</td>\n",
       "      <td>c</td>\n",
       "      <td>5350.0</td>\n",
       "      <td>Mar,Jun,Sept,Dec</td>\n",
       "      <td>2012-06-03</td>\n",
       "    </tr>\n",
       "    <tr>\n",
       "      <th>1</th>\n",
       "      <td>1115</td>\n",
       "      <td>3</td>\n",
       "      <td>2013-01-02</td>\n",
       "      <td>3697</td>\n",
       "      <td>305</td>\n",
       "      <td>1</td>\n",
       "      <td>0</td>\n",
       "      <td>0</td>\n",
       "      <td>1</td>\n",
       "      <td>d</td>\n",
       "      <td>c</td>\n",
       "      <td>5350.0</td>\n",
       "      <td>Mar,Jun,Sept,Dec</td>\n",
       "      <td>2012-06-03</td>\n",
       "    </tr>\n",
       "    <tr>\n",
       "      <th>2</th>\n",
       "      <td>1115</td>\n",
       "      <td>4</td>\n",
       "      <td>2013-01-03</td>\n",
       "      <td>4297</td>\n",
       "      <td>300</td>\n",
       "      <td>1</td>\n",
       "      <td>0</td>\n",
       "      <td>0</td>\n",
       "      <td>1</td>\n",
       "      <td>d</td>\n",
       "      <td>c</td>\n",
       "      <td>5350.0</td>\n",
       "      <td>Mar,Jun,Sept,Dec</td>\n",
       "      <td>2012-06-03</td>\n",
       "    </tr>\n",
       "    <tr>\n",
       "      <th>3</th>\n",
       "      <td>1115</td>\n",
       "      <td>5</td>\n",
       "      <td>2013-01-04</td>\n",
       "      <td>4540</td>\n",
       "      <td>326</td>\n",
       "      <td>1</td>\n",
       "      <td>0</td>\n",
       "      <td>0</td>\n",
       "      <td>1</td>\n",
       "      <td>d</td>\n",
       "      <td>c</td>\n",
       "      <td>5350.0</td>\n",
       "      <td>Mar,Jun,Sept,Dec</td>\n",
       "      <td>2012-06-03</td>\n",
       "    </tr>\n",
       "    <tr>\n",
       "      <th>4</th>\n",
       "      <td>1115</td>\n",
       "      <td>6</td>\n",
       "      <td>2013-01-05</td>\n",
       "      <td>4771</td>\n",
       "      <td>339</td>\n",
       "      <td>1</td>\n",
       "      <td>0</td>\n",
       "      <td>0</td>\n",
       "      <td>1</td>\n",
       "      <td>d</td>\n",
       "      <td>c</td>\n",
       "      <td>5350.0</td>\n",
       "      <td>Mar,Jun,Sept,Dec</td>\n",
       "      <td>2012-06-03</td>\n",
       "    </tr>\n",
       "    <tr>\n",
       "      <th>...</th>\n",
       "      <td>...</td>\n",
       "      <td>...</td>\n",
       "      <td>...</td>\n",
       "      <td>...</td>\n",
       "      <td>...</td>\n",
       "      <td>...</td>\n",
       "      <td>...</td>\n",
       "      <td>...</td>\n",
       "      <td>...</td>\n",
       "      <td>...</td>\n",
       "      <td>...</td>\n",
       "      <td>...</td>\n",
       "      <td>...</td>\n",
       "      <td>...</td>\n",
       "    </tr>\n",
       "    <tr>\n",
       "      <th>1017204</th>\n",
       "      <td>988</td>\n",
       "      <td>1</td>\n",
       "      <td>2015-07-27</td>\n",
       "      <td>6011</td>\n",
       "      <td>812</td>\n",
       "      <td>1</td>\n",
       "      <td>1</td>\n",
       "      <td>0</td>\n",
       "      <td>1</td>\n",
       "      <td>a</td>\n",
       "      <td>a</td>\n",
       "      <td>30.0</td>\n",
       "      <td>None</td>\n",
       "      <td>2015-08-06</td>\n",
       "    </tr>\n",
       "    <tr>\n",
       "      <th>1017205</th>\n",
       "      <td>988</td>\n",
       "      <td>2</td>\n",
       "      <td>2015-07-28</td>\n",
       "      <td>4592</td>\n",
       "      <td>705</td>\n",
       "      <td>1</td>\n",
       "      <td>1</td>\n",
       "      <td>0</td>\n",
       "      <td>1</td>\n",
       "      <td>a</td>\n",
       "      <td>a</td>\n",
       "      <td>30.0</td>\n",
       "      <td>None</td>\n",
       "      <td>2015-08-06</td>\n",
       "    </tr>\n",
       "    <tr>\n",
       "      <th>1017206</th>\n",
       "      <td>988</td>\n",
       "      <td>3</td>\n",
       "      <td>2015-07-29</td>\n",
       "      <td>4522</td>\n",
       "      <td>689</td>\n",
       "      <td>1</td>\n",
       "      <td>1</td>\n",
       "      <td>0</td>\n",
       "      <td>1</td>\n",
       "      <td>a</td>\n",
       "      <td>a</td>\n",
       "      <td>30.0</td>\n",
       "      <td>None</td>\n",
       "      <td>2015-08-06</td>\n",
       "    </tr>\n",
       "    <tr>\n",
       "      <th>1017207</th>\n",
       "      <td>988</td>\n",
       "      <td>4</td>\n",
       "      <td>2015-07-30</td>\n",
       "      <td>4591</td>\n",
       "      <td>673</td>\n",
       "      <td>1</td>\n",
       "      <td>1</td>\n",
       "      <td>0</td>\n",
       "      <td>1</td>\n",
       "      <td>a</td>\n",
       "      <td>a</td>\n",
       "      <td>30.0</td>\n",
       "      <td>None</td>\n",
       "      <td>2015-08-06</td>\n",
       "    </tr>\n",
       "    <tr>\n",
       "      <th>1017208</th>\n",
       "      <td>988</td>\n",
       "      <td>5</td>\n",
       "      <td>2015-07-31</td>\n",
       "      <td>5494</td>\n",
       "      <td>724</td>\n",
       "      <td>1</td>\n",
       "      <td>1</td>\n",
       "      <td>0</td>\n",
       "      <td>1</td>\n",
       "      <td>a</td>\n",
       "      <td>a</td>\n",
       "      <td>30.0</td>\n",
       "      <td>None</td>\n",
       "      <td>2015-08-06</td>\n",
       "    </tr>\n",
       "  </tbody>\n",
       "</table>\n",
       "<p>1017209 rows × 14 columns</p>\n",
       "</div>"
      ],
      "text/plain": [
       "         Store  DayOfWeek       Date  Sales  Customers  Open  Promo  \\\n",
       "0         1115          2 2013-01-01      0          0     0      0   \n",
       "1         1115          3 2013-01-02   3697        305     1      0   \n",
       "2         1115          4 2013-01-03   4297        300     1      0   \n",
       "3         1115          5 2013-01-04   4540        326     1      0   \n",
       "4         1115          6 2013-01-05   4771        339     1      0   \n",
       "...        ...        ...        ...    ...        ...   ...    ...   \n",
       "1017204    988          1 2015-07-27   6011        812     1      1   \n",
       "1017205    988          2 2015-07-28   4592        705     1      1   \n",
       "1017206    988          3 2015-07-29   4522        689     1      1   \n",
       "1017207    988          4 2015-07-30   4591        673     1      1   \n",
       "1017208    988          5 2015-07-31   5494        724     1      1   \n",
       "\n",
       "        StateHoliday  SchoolHoliday StoreType Assortment  CompetitionDistance  \\\n",
       "0                  a              1         d          c               5350.0   \n",
       "1                  0              1         d          c               5350.0   \n",
       "2                  0              1         d          c               5350.0   \n",
       "3                  0              1         d          c               5350.0   \n",
       "4                  0              1         d          c               5350.0   \n",
       "...              ...            ...       ...        ...                  ...   \n",
       "1017204            0              1         a          a                 30.0   \n",
       "1017205            0              1         a          a                 30.0   \n",
       "1017206            0              1         a          a                 30.0   \n",
       "1017207            0              1         a          a                 30.0   \n",
       "1017208            0              1         a          a                 30.0   \n",
       "\n",
       "            PromoInterval promo2_start_date  \n",
       "0        Mar,Jun,Sept,Dec        2012-06-03  \n",
       "1        Mar,Jun,Sept,Dec        2012-06-03  \n",
       "2        Mar,Jun,Sept,Dec        2012-06-03  \n",
       "3        Mar,Jun,Sept,Dec        2012-06-03  \n",
       "4        Mar,Jun,Sept,Dec        2012-06-03  \n",
       "...                   ...               ...  \n",
       "1017204              None        2015-08-06  \n",
       "1017205              None        2015-08-06  \n",
       "1017206              None        2015-08-06  \n",
       "1017207              None        2015-08-06  \n",
       "1017208              None        2015-08-06  \n",
       "\n",
       "[1017209 rows x 14 columns]"
      ]
     },
     "execution_count": 25,
     "metadata": {},
     "output_type": "execute_result"
    }
   ],
   "source": [
    "df = sales_data.merge(store_data, how='outer', on='Store')\n",
    "df"
   ]
  },
  {
   "cell_type": "code",
   "execution_count": 26,
   "id": "a6d70ff8-3476-4360-b3e6-d245d2efa0a7",
   "metadata": {},
   "outputs": [
    {
     "name": "stdout",
     "output_type": "stream",
     "text": [
      "<class 'pandas.core.frame.DataFrame'>\n",
      "Int64Index: 1017209 entries, 0 to 1017208\n",
      "Data columns (total 14 columns):\n",
      " #   Column               Non-Null Count    Dtype         \n",
      "---  ------               --------------    -----         \n",
      " 0   Store                1017209 non-null  int64         \n",
      " 1   DayOfWeek            1017209 non-null  int64         \n",
      " 2   Date                 1017209 non-null  datetime64[ns]\n",
      " 3   Sales                1017209 non-null  int64         \n",
      " 4   Customers            1017209 non-null  int64         \n",
      " 5   Open                 1017209 non-null  int64         \n",
      " 6   Promo                1017209 non-null  int64         \n",
      " 7   StateHoliday         1017209 non-null  object        \n",
      " 8   SchoolHoliday        1017209 non-null  int64         \n",
      " 9   StoreType            1017209 non-null  object        \n",
      " 10  Assortment           1017209 non-null  object        \n",
      " 11  CompetitionDistance  1017209 non-null  float64       \n",
      " 12  PromoInterval        1017209 non-null  object        \n",
      " 13  promo2_start_date    1017209 non-null  object        \n",
      "dtypes: datetime64[ns](1), float64(1), int64(7), object(5)\n",
      "memory usage: 116.4+ MB\n"
     ]
    }
   ],
   "source": [
    "# Докладна інформація по нашому датасету\n",
    "df.info()"
   ]
  },
  {
   "cell_type": "code",
   "execution_count": 27,
   "id": "41db7642-3250-408f-b65e-e5ee049274a4",
   "metadata": {},
   "outputs": [
    {
     "name": "stdout",
     "output_type": "stream",
     "text": [
      "Кількість дублікатів в датасеті: 0\n"
     ]
    }
   ],
   "source": [
    "# Перевіряємо наявність дублікатів в нашому датасеті\n",
    "duplicate_rows_in_store_data = df.duplicated().sum()\n",
    "print('Кількість дублікатів в датасеті:',duplicate_rows_in_store_data)"
   ]
  },
  {
   "cell_type": "code",
   "execution_count": 28,
   "id": "2fedf5cb-25df-4bf5-b0d3-9e6549e7e902",
   "metadata": {},
   "outputs": [
    {
     "name": "stdout",
     "output_type": "stream",
     "text": [
      "Store                  0\n",
      "DayOfWeek              0\n",
      "Date                   0\n",
      "Sales                  0\n",
      "Customers              0\n",
      "Open                   0\n",
      "Promo                  0\n",
      "StateHoliday           0\n",
      "SchoolHoliday          0\n",
      "StoreType              0\n",
      "Assortment             0\n",
      "CompetitionDistance    0\n",
      "PromoInterval          0\n",
      "promo2_start_date      0\n",
      "dtype: int64\n"
     ]
    }
   ],
   "source": [
    "# Визначаємо та рахуємо пропущені значення по колонкам\n",
    "print(df.isnull().sum())"
   ]
  },
  {
   "cell_type": "code",
   "execution_count": 29,
   "id": "f9fb4b72-16b7-402b-aa67-f034ac479b5a",
   "metadata": {},
   "outputs": [
    {
     "name": "stdout",
     "output_type": "stream",
     "text": [
      "<class 'pandas.core.frame.DataFrame'>\n",
      "Int64Index: 1017209 entries, 0 to 1017208\n",
      "Data columns (total 14 columns):\n",
      " #   Column               Non-Null Count    Dtype         \n",
      "---  ------               --------------    -----         \n",
      " 0   Store                1017209 non-null  int64         \n",
      " 1   DayOfWeek            1017209 non-null  int64         \n",
      " 2   Date                 1017209 non-null  datetime64[ns]\n",
      " 3   Sales                1017209 non-null  int64         \n",
      " 4   Customers            1017209 non-null  int64         \n",
      " 5   Open                 1017209 non-null  int64         \n",
      " 6   Promo                1017209 non-null  int64         \n",
      " 7   StateHoliday         1017209 non-null  object        \n",
      " 8   SchoolHoliday        1017209 non-null  int64         \n",
      " 9   StoreType            1017209 non-null  object        \n",
      " 10  Assortment           1017209 non-null  object        \n",
      " 11  CompetitionDistance  1017209 non-null  float64       \n",
      " 12  PromoInterval        1017209 non-null  object        \n",
      " 13  promo2_start_date    1017209 non-null  datetime64[ns]\n",
      "dtypes: datetime64[ns](2), float64(1), int64(7), object(4)\n",
      "memory usage: 116.4+ MB\n"
     ]
    }
   ],
   "source": [
    "#конвертуємо дані з датою в формат datetime\n",
    "df.Date = pd.to_datetime(df.Date)\n",
    "df.promo2_start_date = pd.to_datetime(df.promo2_start_date)\n",
    "df.info()"
   ]
  },
  {
   "cell_type": "code",
   "execution_count": 30,
   "id": "b6c6f3e9-0a92-4d6e-958a-23e754f76e40",
   "metadata": {},
   "outputs": [
    {
     "data": {
      "text/html": [
       "<div>\n",
       "<style scoped>\n",
       "    .dataframe tbody tr th:only-of-type {\n",
       "        vertical-align: middle;\n",
       "    }\n",
       "\n",
       "    .dataframe tbody tr th {\n",
       "        vertical-align: top;\n",
       "    }\n",
       "\n",
       "    .dataframe thead th {\n",
       "        text-align: right;\n",
       "    }\n",
       "</style>\n",
       "<table border=\"1\" class=\"dataframe\">\n",
       "  <thead>\n",
       "    <tr style=\"text-align: right;\">\n",
       "      <th></th>\n",
       "      <th>Store</th>\n",
       "      <th>DayOfWeek</th>\n",
       "      <th>Date</th>\n",
       "      <th>Sales</th>\n",
       "      <th>Customers</th>\n",
       "      <th>Open</th>\n",
       "      <th>Promo</th>\n",
       "      <th>StateHoliday</th>\n",
       "      <th>SchoolHoliday</th>\n",
       "      <th>StoreType</th>\n",
       "      <th>Assortment</th>\n",
       "      <th>CompetitionDistance</th>\n",
       "      <th>PromoInterval</th>\n",
       "      <th>promo2_start_date</th>\n",
       "      <th>Promo2_active</th>\n",
       "    </tr>\n",
       "  </thead>\n",
       "  <tbody>\n",
       "    <tr>\n",
       "      <th>0</th>\n",
       "      <td>1115</td>\n",
       "      <td>2</td>\n",
       "      <td>2013-01-01</td>\n",
       "      <td>0</td>\n",
       "      <td>0</td>\n",
       "      <td>0</td>\n",
       "      <td>0</td>\n",
       "      <td>a</td>\n",
       "      <td>1</td>\n",
       "      <td>d</td>\n",
       "      <td>c</td>\n",
       "      <td>5350.0</td>\n",
       "      <td>Mar,Jun,Sept,Dec</td>\n",
       "      <td>2012-06-03</td>\n",
       "      <td>1</td>\n",
       "    </tr>\n",
       "    <tr>\n",
       "      <th>1</th>\n",
       "      <td>1115</td>\n",
       "      <td>3</td>\n",
       "      <td>2013-01-02</td>\n",
       "      <td>3697</td>\n",
       "      <td>305</td>\n",
       "      <td>1</td>\n",
       "      <td>0</td>\n",
       "      <td>0</td>\n",
       "      <td>1</td>\n",
       "      <td>d</td>\n",
       "      <td>c</td>\n",
       "      <td>5350.0</td>\n",
       "      <td>Mar,Jun,Sept,Dec</td>\n",
       "      <td>2012-06-03</td>\n",
       "      <td>1</td>\n",
       "    </tr>\n",
       "    <tr>\n",
       "      <th>2</th>\n",
       "      <td>1115</td>\n",
       "      <td>4</td>\n",
       "      <td>2013-01-03</td>\n",
       "      <td>4297</td>\n",
       "      <td>300</td>\n",
       "      <td>1</td>\n",
       "      <td>0</td>\n",
       "      <td>0</td>\n",
       "      <td>1</td>\n",
       "      <td>d</td>\n",
       "      <td>c</td>\n",
       "      <td>5350.0</td>\n",
       "      <td>Mar,Jun,Sept,Dec</td>\n",
       "      <td>2012-06-03</td>\n",
       "      <td>1</td>\n",
       "    </tr>\n",
       "    <tr>\n",
       "      <th>3</th>\n",
       "      <td>1115</td>\n",
       "      <td>5</td>\n",
       "      <td>2013-01-04</td>\n",
       "      <td>4540</td>\n",
       "      <td>326</td>\n",
       "      <td>1</td>\n",
       "      <td>0</td>\n",
       "      <td>0</td>\n",
       "      <td>1</td>\n",
       "      <td>d</td>\n",
       "      <td>c</td>\n",
       "      <td>5350.0</td>\n",
       "      <td>Mar,Jun,Sept,Dec</td>\n",
       "      <td>2012-06-03</td>\n",
       "      <td>1</td>\n",
       "    </tr>\n",
       "    <tr>\n",
       "      <th>4</th>\n",
       "      <td>1115</td>\n",
       "      <td>6</td>\n",
       "      <td>2013-01-05</td>\n",
       "      <td>4771</td>\n",
       "      <td>339</td>\n",
       "      <td>1</td>\n",
       "      <td>0</td>\n",
       "      <td>0</td>\n",
       "      <td>1</td>\n",
       "      <td>d</td>\n",
       "      <td>c</td>\n",
       "      <td>5350.0</td>\n",
       "      <td>Mar,Jun,Sept,Dec</td>\n",
       "      <td>2012-06-03</td>\n",
       "      <td>1</td>\n",
       "    </tr>\n",
       "  </tbody>\n",
       "</table>\n",
       "</div>"
      ],
      "text/plain": [
       "   Store  DayOfWeek       Date  Sales  Customers  Open  Promo StateHoliday  \\\n",
       "0   1115          2 2013-01-01      0          0     0      0            a   \n",
       "1   1115          3 2013-01-02   3697        305     1      0            0   \n",
       "2   1115          4 2013-01-03   4297        300     1      0            0   \n",
       "3   1115          5 2013-01-04   4540        326     1      0            0   \n",
       "4   1115          6 2013-01-05   4771        339     1      0            0   \n",
       "\n",
       "   SchoolHoliday StoreType Assortment  CompetitionDistance     PromoInterval  \\\n",
       "0              1         d          c               5350.0  Mar,Jun,Sept,Dec   \n",
       "1              1         d          c               5350.0  Mar,Jun,Sept,Dec   \n",
       "2              1         d          c               5350.0  Mar,Jun,Sept,Dec   \n",
       "3              1         d          c               5350.0  Mar,Jun,Sept,Dec   \n",
       "4              1         d          c               5350.0  Mar,Jun,Sept,Dec   \n",
       "\n",
       "  promo2_start_date  Promo2_active  \n",
       "0        2012-06-03              1  \n",
       "1        2012-06-03              1  \n",
       "2        2012-06-03              1  \n",
       "3        2012-06-03              1  \n",
       "4        2012-06-03              1  "
      ]
     },
     "execution_count": 30,
     "metadata": {},
     "output_type": "execute_result"
    }
   ],
   "source": [
    "# Створюємо нову колонку, яка показує чи активне Promo2\n",
    "df['Promo2_active'] = np.where(df['Date'] >= df['promo2_start_date'], 1 , 0)\n",
    "df.head()"
   ]
  },
  {
   "cell_type": "code",
   "execution_count": 31,
   "id": "06733c27-4410-46f4-b876-d421093fe4d6",
   "metadata": {},
   "outputs": [
    {
     "data": {
      "text/html": [
       "<div>\n",
       "<style scoped>\n",
       "    .dataframe tbody tr th:only-of-type {\n",
       "        vertical-align: middle;\n",
       "    }\n",
       "\n",
       "    .dataframe tbody tr th {\n",
       "        vertical-align: top;\n",
       "    }\n",
       "\n",
       "    .dataframe thead th {\n",
       "        text-align: right;\n",
       "    }\n",
       "</style>\n",
       "<table border=\"1\" class=\"dataframe\">\n",
       "  <thead>\n",
       "    <tr style=\"text-align: right;\">\n",
       "      <th></th>\n",
       "      <th>Store</th>\n",
       "      <th>DayOfWeek</th>\n",
       "      <th>Date</th>\n",
       "      <th>Sales</th>\n",
       "      <th>Customers</th>\n",
       "      <th>Open</th>\n",
       "      <th>Promo</th>\n",
       "      <th>StateHoliday</th>\n",
       "      <th>SchoolHoliday</th>\n",
       "      <th>StoreType</th>\n",
       "      <th>Assortment</th>\n",
       "      <th>CompetitionDistance</th>\n",
       "      <th>PromoInterval</th>\n",
       "      <th>Promo2_active</th>\n",
       "    </tr>\n",
       "  </thead>\n",
       "  <tbody>\n",
       "    <tr>\n",
       "      <th>0</th>\n",
       "      <td>1115</td>\n",
       "      <td>2</td>\n",
       "      <td>2013-01-01</td>\n",
       "      <td>0</td>\n",
       "      <td>0</td>\n",
       "      <td>0</td>\n",
       "      <td>0</td>\n",
       "      <td>a</td>\n",
       "      <td>1</td>\n",
       "      <td>d</td>\n",
       "      <td>c</td>\n",
       "      <td>5350.0</td>\n",
       "      <td>Mar,Jun,Sept,Dec</td>\n",
       "      <td>1</td>\n",
       "    </tr>\n",
       "    <tr>\n",
       "      <th>1</th>\n",
       "      <td>1115</td>\n",
       "      <td>3</td>\n",
       "      <td>2013-01-02</td>\n",
       "      <td>3697</td>\n",
       "      <td>305</td>\n",
       "      <td>1</td>\n",
       "      <td>0</td>\n",
       "      <td>0</td>\n",
       "      <td>1</td>\n",
       "      <td>d</td>\n",
       "      <td>c</td>\n",
       "      <td>5350.0</td>\n",
       "      <td>Mar,Jun,Sept,Dec</td>\n",
       "      <td>1</td>\n",
       "    </tr>\n",
       "    <tr>\n",
       "      <th>2</th>\n",
       "      <td>1115</td>\n",
       "      <td>4</td>\n",
       "      <td>2013-01-03</td>\n",
       "      <td>4297</td>\n",
       "      <td>300</td>\n",
       "      <td>1</td>\n",
       "      <td>0</td>\n",
       "      <td>0</td>\n",
       "      <td>1</td>\n",
       "      <td>d</td>\n",
       "      <td>c</td>\n",
       "      <td>5350.0</td>\n",
       "      <td>Mar,Jun,Sept,Dec</td>\n",
       "      <td>1</td>\n",
       "    </tr>\n",
       "    <tr>\n",
       "      <th>3</th>\n",
       "      <td>1115</td>\n",
       "      <td>5</td>\n",
       "      <td>2013-01-04</td>\n",
       "      <td>4540</td>\n",
       "      <td>326</td>\n",
       "      <td>1</td>\n",
       "      <td>0</td>\n",
       "      <td>0</td>\n",
       "      <td>1</td>\n",
       "      <td>d</td>\n",
       "      <td>c</td>\n",
       "      <td>5350.0</td>\n",
       "      <td>Mar,Jun,Sept,Dec</td>\n",
       "      <td>1</td>\n",
       "    </tr>\n",
       "    <tr>\n",
       "      <th>4</th>\n",
       "      <td>1115</td>\n",
       "      <td>6</td>\n",
       "      <td>2013-01-05</td>\n",
       "      <td>4771</td>\n",
       "      <td>339</td>\n",
       "      <td>1</td>\n",
       "      <td>0</td>\n",
       "      <td>0</td>\n",
       "      <td>1</td>\n",
       "      <td>d</td>\n",
       "      <td>c</td>\n",
       "      <td>5350.0</td>\n",
       "      <td>Mar,Jun,Sept,Dec</td>\n",
       "      <td>1</td>\n",
       "    </tr>\n",
       "  </tbody>\n",
       "</table>\n",
       "</div>"
      ],
      "text/plain": [
       "   Store  DayOfWeek       Date  Sales  Customers  Open  Promo StateHoliday  \\\n",
       "0   1115          2 2013-01-01      0          0     0      0            a   \n",
       "1   1115          3 2013-01-02   3697        305     1      0            0   \n",
       "2   1115          4 2013-01-03   4297        300     1      0            0   \n",
       "3   1115          5 2013-01-04   4540        326     1      0            0   \n",
       "4   1115          6 2013-01-05   4771        339     1      0            0   \n",
       "\n",
       "   SchoolHoliday StoreType Assortment  CompetitionDistance     PromoInterval  \\\n",
       "0              1         d          c               5350.0  Mar,Jun,Sept,Dec   \n",
       "1              1         d          c               5350.0  Mar,Jun,Sept,Dec   \n",
       "2              1         d          c               5350.0  Mar,Jun,Sept,Dec   \n",
       "3              1         d          c               5350.0  Mar,Jun,Sept,Dec   \n",
       "4              1         d          c               5350.0  Mar,Jun,Sept,Dec   \n",
       "\n",
       "   Promo2_active  \n",
       "0              1  \n",
       "1              1  \n",
       "2              1  \n",
       "3              1  \n",
       "4              1  "
      ]
     },
     "execution_count": 31,
     "metadata": {},
     "output_type": "execute_result"
    }
   ],
   "source": [
    "# Тепер колонку promo2_start_date можемо видалити\n",
    "df.drop(columns = ['promo2_start_date'], axis=1,inplace= True)\n",
    "df.head()"
   ]
  },
  {
   "cell_type": "code",
   "execution_count": 32,
   "id": "5f68fbc8-a74d-4624-b8ee-1fa9f2e1dd61",
   "metadata": {},
   "outputs": [
    {
     "name": "stdout",
     "output_type": "stream",
     "text": [
      "['a' '0' 'b' 'c' 0]\n"
     ]
    }
   ],
   "source": [
    "# Виведемо унікальні значення поля StateHoliday\n",
    "print(df['StateHoliday'].unique())"
   ]
  },
  {
   "cell_type": "code",
   "execution_count": 33,
   "id": "5ac3b680-0e17-4bb0-8623-edd1c8122730",
   "metadata": {},
   "outputs": [
    {
     "name": "stdout",
     "output_type": "stream",
     "text": [
      "['a' 0 'b' 'c']\n"
     ]
    }
   ],
   "source": [
    "# Як бачимо, датасет містить 2 типи значення 0, тому їх потрібно привести до одного типу\n",
    "df['StateHoliday'].replace({'0':0}, inplace=True)\n",
    "print(df['StateHoliday'].unique())"
   ]
  },
  {
   "cell_type": "code",
   "execution_count": 34,
   "id": "415d9e89-6241-4c0e-8ef9-3e29ea6ce1ef",
   "metadata": {},
   "outputs": [
    {
     "name": "stdout",
     "output_type": "stream",
     "text": [
      "<class 'pandas.core.frame.DataFrame'>\n",
      "Int64Index: 1017209 entries, 0 to 1017208\n",
      "Data columns (total 14 columns):\n",
      " #   Column               Non-Null Count    Dtype         \n",
      "---  ------               --------------    -----         \n",
      " 0   Store                1017209 non-null  int64         \n",
      " 1   DayOfWeek            1017209 non-null  int64         \n",
      " 2   Date                 1017209 non-null  datetime64[ns]\n",
      " 3   Sales                1017209 non-null  int64         \n",
      " 4   Customers            1017209 non-null  int64         \n",
      " 5   Open                 1017209 non-null  int64         \n",
      " 6   Promo                1017209 non-null  int64         \n",
      " 7   StateHoliday         1017209 non-null  object        \n",
      " 8   SchoolHoliday        1017209 non-null  int64         \n",
      " 9   StoreType            1017209 non-null  object        \n",
      " 10  Assortment           1017209 non-null  object        \n",
      " 11  CompetitionDistance  1017209 non-null  float64       \n",
      " 12  PromoInterval        1017209 non-null  object        \n",
      " 13  Promo2_active        1017209 non-null  int32         \n",
      "dtypes: datetime64[ns](1), float64(1), int32(1), int64(7), object(4)\n",
      "memory usage: 112.5+ MB\n"
     ]
    }
   ],
   "source": [
    "df.info()"
   ]
  },
  {
   "cell_type": "markdown",
   "id": "9f0e9b80-2c52-4d3d-ba0d-c9983599fa86",
   "metadata": {},
   "source": [
    "### Отже ми провели попередню обробку наших даних та об'єднали дані з 2х файлів для подальшої ретельної обробки та аналізу."
   ]
  },
  {
   "cell_type": "markdown",
   "id": "8493434e-6d88-4e79-ba83-35e1682fee4c",
   "metadata": {},
   "source": [
    "## `2. Дослідження даних`"
   ]
  },
  {
   "cell_type": "markdown",
   "id": "7930f1b6-3e14-4641-abdc-3e154914f771",
   "metadata": {},
   "source": [
    "#### Наш датасет складається з 2х частин - це тещо ми будемо прогнозувати (Sales) та всі інші дані. \n",
    "#### Для візуалізації залежності між нашими елементами будуємо теплову карту."
   ]
  },
  {
   "cell_type": "code",
   "execution_count": 35,
   "id": "7827bdec-dbc6-4e85-8464-a7a28db0ceea",
   "metadata": {},
   "outputs": [
    {
     "data": {
      "image/png": "[encoded data removed]",
      "text/plain": [
       "<Figure size 1200x800 with 2 Axes>"
      ]
     },
     "metadata": {},
     "output_type": "display_data"
    }
   ],
   "source": [
    "plt.figure(figsize=(12,8))\n",
    "sns.heatmap(df.corr(),cmap='icefire', annot=True)\n",
    "plt.show()"
   ]
  },
  {
   "cell_type": "code",
   "execution_count": 36,
   "id": "381eb65f-3481-4e4e-aebe-bfadec354a70",
   "metadata": {},
   "outputs": [
    {
     "name": "stdout",
     "output_type": "stream",
     "text": [
      "<class 'pandas.core.frame.DataFrame'>\n",
      "Int64Index: 1017209 entries, 0 to 1017208\n",
      "Data columns (total 14 columns):\n",
      " #   Column               Non-Null Count    Dtype         \n",
      "---  ------               --------------    -----         \n",
      " 0   Store                1017209 non-null  int64         \n",
      " 1   DayOfWeek            1017209 non-null  int64         \n",
      " 2   Date                 1017209 non-null  datetime64[ns]\n",
      " 3   Sales                1017209 non-null  int64         \n",
      " 4   Customers            1017209 non-null  int64         \n",
      " 5   Open                 1017209 non-null  int64         \n",
      " 6   Promo                1017209 non-null  int64         \n",
      " 7   StateHoliday         1017209 non-null  object        \n",
      " 8   SchoolHoliday        1017209 non-null  int64         \n",
      " 9   StoreType            1017209 non-null  object        \n",
      " 10  Assortment           1017209 non-null  object        \n",
      " 11  CompetitionDistance  1017209 non-null  float64       \n",
      " 12  PromoInterval        1017209 non-null  object        \n",
      " 13  Promo2_active        1017209 non-null  int32         \n",
      "dtypes: datetime64[ns](1), float64(1), int32(1), int64(7), object(4)\n",
      "memory usage: 112.5+ MB\n"
     ]
    }
   ],
   "source": [
    "df.info()"
   ]
  },
  {
   "cell_type": "code",
   "execution_count": 37,
   "id": "c7d5e9bc-03ec-4f08-b866-5e4461b8e63b",
   "metadata": {},
   "outputs": [
    {
     "name": "stdout",
     "output_type": "stream",
     "text": [
      "Унікальні значення в стовпці DayOfWeek : [2 3 4 5 6 7 1]\n",
      "Унікальні значення в стовпці Open : [0 1]\n",
      "Унікальні значення в стовпці Promo : [0 1]\n",
      "Унікальні значення в стовпці StateHoliday : ['a' 0 'b' 'c']\n",
      "Унікальні значення в стовпці SchoolHoliday : [1 0]\n",
      "Унікальні значення в стовпці StoreType : ['d' 'a' 'c' 'b']\n",
      "Унікальні значення в стовпці Assortment : ['c' 'a' 'b']\n",
      "Унікальні значення в стовпці PromoInterval : ['Mar,Jun,Sept,Dec' 'None' 'Feb,May,Aug,Nov' 'Jan,Apr,Jul,Oct']\n",
      "Унікальні значення в стовпці Promo2_active : [1 0]\n"
     ]
    }
   ],
   "source": [
    "for col in df.columns:\n",
    "  if col in ['CompetitionDistance', 'Sales', 'Date', 'Store', 'DayOfYear', 'Customers']:\n",
    "    continue\n",
    "  else:\n",
    "    print(f'Унікальні значення в стовпці {col} :', df[col].unique())"
   ]
  },
  {
   "cell_type": "markdown",
   "id": "e311a4fe-ad8c-473e-b053-a49b6cedc2b3",
   "metadata": {},
   "source": [
    "#### Візуалізуємо залежність категорійних даних і продажів"
   ]
  },
  {
   "cell_type": "code",
   "execution_count": 38,
   "id": "32813884-bce4-412c-a70e-dd61cc0215cb",
   "metadata": {},
   "outputs": [
    {
     "data": {
      "image/png": "[encoded data removed]",
      "text/plain": [
       "<Figure size 640x480 with 1 Axes>"
      ]
     },
     "metadata": {},
     "output_type": "display_data"
    },
    {
     "data": {
      "image/png": "[encoded data removed]",
      "text/plain": [
       "<Figure size 640x480 with 1 Axes>"
      ]
     },
     "metadata": {},
     "output_type": "display_data"
    },
    {
     "data": {
      "image/png": "[encoded data removed]",
      "text/plain": [
       "<Figure size 640x480 with 1 Axes>"
      ]
     },
     "metadata": {},
     "output_type": "display_data"
    },
    {
     "data": {
      "image/png": "[encoded data removed]",
      "text/plain": [
       "<Figure size 640x480 with 1 Axes>"
      ]
     },
     "metadata": {},
     "output_type": "display_data"
    },
    {
     "data": {
      "image/png": "[encoded data removed]",
      "text/plain": [
       "<Figure size 640x480 with 1 Axes>"
      ]
     },
     "metadata": {},
     "output_type": "display_data"
    },
    {
     "data": {
      "image/png": "[encoded data removed]",
      "text/plain": [
       "<Figure size 640x480 with 1 Axes>"
      ]
     },
     "metadata": {},
     "output_type": "display_data"
    },
    {
     "data": {
      "image/png": "[encoded data removed]",
      "text/plain": [
       "<Figure size 640x480 with 1 Axes>"
      ]
     },
     "metadata": {},
     "output_type": "display_data"
    },
    {
     "data": {
      "image/png": "[encoded data removed]",
      "text/plain": [
       "<Figure size 640x480 with 1 Axes>"
      ]
     },
     "metadata": {},
     "output_type": "display_data"
    }
   ],
   "source": [
    "independent_variables = ['Promo', 'StateHoliday','SchoolHoliday','StoreType','Assortment',\n",
    "                         'PromoInterval','Promo2_active', 'DayOfWeek']\n",
    "for var in independent_variables:\n",
    "  ax = sns.barplot(x=df[var], y=df['Sales'])\n",
    "  totals = []\n",
    "  for i in ax.patches:\n",
    "      totals.append(i.get_height())\n",
    "      total = sum(totals)\n",
    "  for i in ax.patches:  \n",
    "      ax.text(i.get_x() + .01, i.get_height() + 2.5, str(round((i.get_height()/total)*100, 2))+'%', fontsize=12)\n",
    "\n",
    "  plt.show()"
   ]
  },
  {
   "cell_type": "markdown",
   "id": "d38a1da9-1cdb-459d-ac70-41a7ddc75766",
   "metadata": {},
   "source": [
    "### Висновки:"
   ]
  },
  {
   "cell_type": "markdown",
   "id": "0910aa8d-5b8a-4608-8bfa-b303b11c4fdb",
   "metadata": {},
   "source": [
    "* #### З вівторка по п'ятницю об'єм продажів коливається в середньому від 14,5% до 17,3%. В неділю продажі дуже незначні, оскільки більшість магазинів закриті в цей день. Відповідно в понеділок продажі найбільші через відкладений попит."
   ]
  },
  {
   "cell_type": "markdown",
   "id": "65e79b62-4b37-4d7c-ac94-a30c49c1d2ee",
   "metadata": {},
   "source": [
    "* #### При активному промо спостерірається дуже значне зростання об'єму продажів."
   ]
  },
  {
   "cell_type": "markdown",
   "id": "287fdf51-2ef3-44d9-84d9-01ed1027e4ae",
   "metadata": {},
   "source": [
    "* #### При активному промо 2 спостерірається незначне зростання об'єму продажів."
   ]
  },
  {
   "cell_type": "markdown",
   "id": "1236b85a-8f5d-42d9-affd-8099857d0540",
   "metadata": {},
   "source": [
    "* #### Під час шкільних канікул спостерігається зростання об'єму продажів."
   ]
  },
  {
   "cell_type": "markdown",
   "id": "ad688d1c-f440-40e8-8a75-f598d332c588",
   "metadata": {},
   "source": [
    "* #### Магазини типів a, c, d показують приблизно однакові сумарні продажі, а от магазини типу b мають набагато більші об'єми продажів, хоча цих магазинів менше всього по кількості."
   ]
  },
  {
   "cell_type": "markdown",
   "id": "18f32d95-7690-4b50-a5d4-9eae21f52aaa",
   "metadata": {},
   "source": [
    "* #### Магазини з асортиментом типів a, c показують приблизно однакові сумарні продажі, а от магазини з асортиментом типу b мають набагато більші об'єми продажів, хоча таких магазинів менше всього по кількості."
   ]
  },
  {
   "cell_type": "code",
   "execution_count": 39,
   "id": "78478b62-6910-4e89-bddd-ea954e4859a1",
   "metadata": {},
   "outputs": [
    {
     "data": {
      "text/plain": [
       "(0, 14)"
      ]
     },
     "execution_count": 39,
     "metadata": {},
     "output_type": "execute_result"
    }
   ],
   "source": [
    "# Дослідимо звязок між продажами і тим, чи був відкритий магазин\n",
    "df[df.Open==0][df.Sales!=0].shape"
   ]
  },
  {
   "cell_type": "markdown",
   "id": "60005161-1f6c-42de-8b0e-90f45327e654",
   "metadata": {},
   "source": [
    "* #### Отже очевидно, що продажів у закритих магазинах немає. Тому ми можемо видалити такі рядки з наших даних для моделювання, а також видалити колонку Open. "
   ]
  },
  {
   "cell_type": "code",
   "execution_count": 40,
   "id": "e7ab1554-77ae-4c85-b343-0ed0eac8179f",
   "metadata": {},
   "outputs": [],
   "source": [
    "df = df[df.Open!=0]"
   ]
  },
  {
   "cell_type": "markdown",
   "id": "b537c5f1-7206-49e6-82a1-7be30e73df62",
   "metadata": {},
   "source": [
    "* #### Також згідно нашої теплової карти, ми бачимо, що колонки Sales та Customers мають дуже високу залежність, тому колонку Customers ми також видаляємо з наших даних для моделювання. \n",
    "\n",
    "* #### Очевидно що поле Customers також можна брати для прогнозування. "
   ]
  },
  {
   "cell_type": "code",
   "execution_count": 41,
   "id": "8b439cc8-e986-417d-939e-ce2e615656f9",
   "metadata": {},
   "outputs": [
    {
     "data": {
      "text/html": [
       "<div>\n",
       "<style scoped>\n",
       "    .dataframe tbody tr th:only-of-type {\n",
       "        vertical-align: middle;\n",
       "    }\n",
       "\n",
       "    .dataframe tbody tr th {\n",
       "        vertical-align: top;\n",
       "    }\n",
       "\n",
       "    .dataframe thead th {\n",
       "        text-align: right;\n",
       "    }\n",
       "</style>\n",
       "<table border=\"1\" class=\"dataframe\">\n",
       "  <thead>\n",
       "    <tr style=\"text-align: right;\">\n",
       "      <th></th>\n",
       "      <th>Store</th>\n",
       "      <th>DayOfWeek</th>\n",
       "      <th>Date</th>\n",
       "      <th>Sales</th>\n",
       "      <th>Promo</th>\n",
       "      <th>StateHoliday</th>\n",
       "      <th>SchoolHoliday</th>\n",
       "      <th>StoreType</th>\n",
       "      <th>Assortment</th>\n",
       "      <th>CompetitionDistance</th>\n",
       "      <th>PromoInterval</th>\n",
       "      <th>Promo2_active</th>\n",
       "    </tr>\n",
       "  </thead>\n",
       "  <tbody>\n",
       "    <tr>\n",
       "      <th>1</th>\n",
       "      <td>1115</td>\n",
       "      <td>3</td>\n",
       "      <td>2013-01-02</td>\n",
       "      <td>3697</td>\n",
       "      <td>0</td>\n",
       "      <td>0</td>\n",
       "      <td>1</td>\n",
       "      <td>d</td>\n",
       "      <td>c</td>\n",
       "      <td>5350.0</td>\n",
       "      <td>Mar,Jun,Sept,Dec</td>\n",
       "      <td>1</td>\n",
       "    </tr>\n",
       "    <tr>\n",
       "      <th>2</th>\n",
       "      <td>1115</td>\n",
       "      <td>4</td>\n",
       "      <td>2013-01-03</td>\n",
       "      <td>4297</td>\n",
       "      <td>0</td>\n",
       "      <td>0</td>\n",
       "      <td>1</td>\n",
       "      <td>d</td>\n",
       "      <td>c</td>\n",
       "      <td>5350.0</td>\n",
       "      <td>Mar,Jun,Sept,Dec</td>\n",
       "      <td>1</td>\n",
       "    </tr>\n",
       "    <tr>\n",
       "      <th>3</th>\n",
       "      <td>1115</td>\n",
       "      <td>5</td>\n",
       "      <td>2013-01-04</td>\n",
       "      <td>4540</td>\n",
       "      <td>0</td>\n",
       "      <td>0</td>\n",
       "      <td>1</td>\n",
       "      <td>d</td>\n",
       "      <td>c</td>\n",
       "      <td>5350.0</td>\n",
       "      <td>Mar,Jun,Sept,Dec</td>\n",
       "      <td>1</td>\n",
       "    </tr>\n",
       "    <tr>\n",
       "      <th>4</th>\n",
       "      <td>1115</td>\n",
       "      <td>6</td>\n",
       "      <td>2013-01-05</td>\n",
       "      <td>4771</td>\n",
       "      <td>0</td>\n",
       "      <td>0</td>\n",
       "      <td>1</td>\n",
       "      <td>d</td>\n",
       "      <td>c</td>\n",
       "      <td>5350.0</td>\n",
       "      <td>Mar,Jun,Sept,Dec</td>\n",
       "      <td>1</td>\n",
       "    </tr>\n",
       "    <tr>\n",
       "      <th>6</th>\n",
       "      <td>1115</td>\n",
       "      <td>1</td>\n",
       "      <td>2013-01-07</td>\n",
       "      <td>6905</td>\n",
       "      <td>1</td>\n",
       "      <td>0</td>\n",
       "      <td>1</td>\n",
       "      <td>d</td>\n",
       "      <td>c</td>\n",
       "      <td>5350.0</td>\n",
       "      <td>Mar,Jun,Sept,Dec</td>\n",
       "      <td>1</td>\n",
       "    </tr>\n",
       "  </tbody>\n",
       "</table>\n",
       "</div>"
      ],
      "text/plain": [
       "   Store  DayOfWeek       Date  Sales  Promo StateHoliday  SchoolHoliday  \\\n",
       "1   1115          3 2013-01-02   3697      0            0              1   \n",
       "2   1115          4 2013-01-03   4297      0            0              1   \n",
       "3   1115          5 2013-01-04   4540      0            0              1   \n",
       "4   1115          6 2013-01-05   4771      0            0              1   \n",
       "6   1115          1 2013-01-07   6905      1            0              1   \n",
       "\n",
       "  StoreType Assortment  CompetitionDistance     PromoInterval  Promo2_active  \n",
       "1         d          c               5350.0  Mar,Jun,Sept,Dec              1  \n",
       "2         d          c               5350.0  Mar,Jun,Sept,Dec              1  \n",
       "3         d          c               5350.0  Mar,Jun,Sept,Dec              1  \n",
       "4         d          c               5350.0  Mar,Jun,Sept,Dec              1  \n",
       "6         d          c               5350.0  Mar,Jun,Sept,Dec              1  "
      ]
     },
     "execution_count": 41,
     "metadata": {},
     "output_type": "execute_result"
    }
   ],
   "source": [
    "# Видаляємо колонки 'Open' та 'Customers'\n",
    "df.drop(columns = ['Open', 'Customers'], axis=1,inplace= True)\n",
    "df.head()"
   ]
  },
  {
   "cell_type": "code",
   "execution_count": 42,
   "id": "48805e54-0ddc-4bad-ae69-10fc9f9c1c2c",
   "metadata": {},
   "outputs": [
    {
     "data": {
      "image/png": "[encoded data removed]",
      "text/plain": [
       "<Figure size 1200x800 with 1 Axes>"
      ]
     },
     "metadata": {},
     "output_type": "display_data"
    }
   ],
   "source": [
    "# Візуалізуємо значення нашої досліджуваної величини - поля Sales\n",
    "dependent_feature = df.Sales\n",
    "plt.figure(figsize=(12,8))\n",
    "sns.distplot(dependent_feature)\n",
    "plt.show()"
   ]
  },
  {
   "cell_type": "code",
   "execution_count": 43,
   "id": "0be227a1-0238-4ded-9560-51721962794d",
   "metadata": {},
   "outputs": [],
   "source": [
    "# Виділяємо рік, місяць і день зі стовпця «Дата»\n",
    "df['year'] = df['Date'].dt.year\n",
    "df['month'] = df['Date'].dt.month\n",
    "df['DayOfYear'] = df['Date'].dt.dayofyear"
   ]
  },
  {
   "cell_type": "code",
   "execution_count": 44,
   "id": "649ecc04-535b-43f7-8b6b-04bf12710015",
   "metadata": {},
   "outputs": [],
   "source": [
    "# Видаляємо колонки 'Date'\n",
    "df.drop(columns = ['Date'], axis=1,inplace= True)"
   ]
  },
  {
   "cell_type": "code",
   "execution_count": 45,
   "id": "06f590a2-6971-4677-aca8-800a86181ee1",
   "metadata": {},
   "outputs": [
    {
     "data": {
      "image/png": "[encoded data removed]",
      "text/plain": [
       "<Figure size 640x480 with 1 Axes>"
      ]
     },
     "metadata": {},
     "output_type": "display_data"
    },
    {
     "data": {
      "image/png": "[encoded data removed]",
      "text/plain": [
       "<Figure size 640x480 with 1 Axes>"
      ]
     },
     "metadata": {},
     "output_type": "display_data"
    }
   ],
   "source": [
    "date_variables = ['year', 'month']\n",
    "for var in date_variables:\n",
    "  ax = sns.barplot(x=df[var], y=df['Sales'])\n",
    "  totals = []\n",
    "  for i in ax.patches:\n",
    "      totals.append(i.get_height())\n",
    "      total = sum(totals)\n",
    "  for i in ax.patches:  \n",
    "      ax.text(i.get_x() + .01, i.get_height() + 100 , str(round((i.get_height()/total)*100, 2))+'%', fontsize=9)\n",
    "\n",
    "  plt.show()"
   ]
  },
  {
   "cell_type": "markdown",
   "id": "47f8a88f-f839-4d5b-b692-ea2905887739",
   "metadata": {},
   "source": [
    "* #### Спостерігається тенденція зростання об'єму річних продажів мережі.\n",
    "* #### Об'єми продажів відповідно до місяців змінююся відповідно в межах 7,81% - 8.58% з січня по листопад. В грудні спостерігається значне зростання продажів до 10,27% через Різдво та новорічні свята."
   ]
  },
  {
   "cell_type": "code",
   "execution_count": 46,
   "id": "d45117fd-4e9f-440d-9ed4-b4723f415fec",
   "metadata": {},
   "outputs": [
    {
     "name": "stdout",
     "output_type": "stream",
     "text": [
      "<class 'pandas.core.frame.DataFrame'>\n",
      "Int64Index: 844392 entries, 1 to 1017208\n",
      "Data columns (total 14 columns):\n",
      " #   Column               Non-Null Count   Dtype  \n",
      "---  ------               --------------   -----  \n",
      " 0   Store                844392 non-null  int64  \n",
      " 1   DayOfWeek            844392 non-null  int64  \n",
      " 2   Sales                844392 non-null  int64  \n",
      " 3   Promo                844392 non-null  int64  \n",
      " 4   StateHoliday         844392 non-null  object \n",
      " 5   SchoolHoliday        844392 non-null  int64  \n",
      " 6   StoreType            844392 non-null  object \n",
      " 7   Assortment           844392 non-null  object \n",
      " 8   CompetitionDistance  844392 non-null  float64\n",
      " 9   PromoInterval        844392 non-null  object \n",
      " 10  Promo2_active        844392 non-null  int32  \n",
      " 11  year                 844392 non-null  int64  \n",
      " 12  month                844392 non-null  int64  \n",
      " 13  DayOfYear            844392 non-null  int64  \n",
      "dtypes: float64(1), int32(1), int64(8), object(4)\n",
      "memory usage: 93.4+ MB\n"
     ]
    }
   ],
   "source": [
    "df.info() "
   ]
  },
  {
   "cell_type": "markdown",
   "id": "4d138294-03a4-4b04-8043-1bfb6dc02fc2",
   "metadata": {},
   "source": [
    "#### Замінюємо категорійні дані на числові в відповідних полях"
   ]
  },
  {
   "cell_type": "code",
   "execution_count": 47,
   "id": "f2b6769d-56e5-4eb6-884e-225ff98d8e62",
   "metadata": {},
   "outputs": [
    {
     "data": {
      "text/plain": [
       "a    444909\n",
       "c    391271\n",
       "b      8212\n",
       "Name: Assortment, dtype: int64"
      ]
     },
     "execution_count": 47,
     "metadata": {},
     "output_type": "execute_result"
    }
   ],
   "source": [
    "df.Assortment.value_counts()"
   ]
  },
  {
   "cell_type": "code",
   "execution_count": 48,
   "id": "2bc295c2-7ba5-4227-888c-1bc858bd79eb",
   "metadata": {},
   "outputs": [],
   "source": [
    "# Замінюємо категорійні дані на числові в полі \"Assortment\"\n",
    "encoders_nums = {\"Assortment\":{\"a\":1,\"b\":2,\"c\":3} }\n",
    "df = df.replace(encoders_nums)"
   ]
  },
  {
   "cell_type": "code",
   "execution_count": 49,
   "id": "34613776-1d2a-4306-ba8a-0d09af074c98",
   "metadata": {},
   "outputs": [
    {
     "data": {
      "text/plain": [
       "1    444909\n",
       "3    391271\n",
       "2      8212\n",
       "Name: Assortment, dtype: int64"
      ]
     },
     "execution_count": 49,
     "metadata": {},
     "output_type": "execute_result"
    }
   ],
   "source": [
    "df.Assortment.value_counts()"
   ]
  },
  {
   "cell_type": "code",
   "execution_count": 50,
   "id": "6e7499c8-d29b-4457-b37d-92f4cc83e284",
   "metadata": {},
   "outputs": [
    {
     "name": "stdout",
     "output_type": "stream",
     "text": [
      "0    843482\n",
      "a       694\n",
      "b       145\n",
      "c        71\n",
      "Name: StateHoliday, dtype: int64\n"
     ]
    }
   ],
   "source": [
    "print(df.StateHoliday.value_counts())"
   ]
  },
  {
   "cell_type": "code",
   "execution_count": 51,
   "id": "faab7ced-64f3-4f44-99c2-c28522f9f52e",
   "metadata": {},
   "outputs": [],
   "source": [
    "# Замінюємо категорійні дані на числові в полі \"StateHoliday\"\n",
    "encoders_nums = {\"StateHoliday\":{\"a\":1,\"b\":2,\"c\":3} }\n",
    "df = df.replace(encoders_nums)"
   ]
  },
  {
   "cell_type": "code",
   "execution_count": 52,
   "id": "0a9e4447-55ca-472b-87a4-7f62c50f2fd7",
   "metadata": {},
   "outputs": [
    {
     "data": {
      "text/plain": [
       "0    843482\n",
       "1       694\n",
       "2       145\n",
       "3        71\n",
       "Name: StateHoliday, dtype: int64"
      ]
     },
     "execution_count": 52,
     "metadata": {},
     "output_type": "execute_result"
    }
   ],
   "source": [
    "df.StateHoliday.value_counts()"
   ]
  },
  {
   "cell_type": "code",
   "execution_count": 53,
   "id": "5427d127-792d-47b0-a700-6dc49db54f66",
   "metadata": {},
   "outputs": [
    {
     "data": {
      "text/plain": [
       "a    457077\n",
       "d    258774\n",
       "c    112978\n",
       "b     15563\n",
       "Name: StoreType, dtype: int64"
      ]
     },
     "execution_count": 53,
     "metadata": {},
     "output_type": "execute_result"
    }
   ],
   "source": [
    "df.StoreType.value_counts()"
   ]
  },
  {
   "cell_type": "code",
   "execution_count": 54,
   "id": "7db2d559-5ca8-473f-8efb-f80d1535aeea",
   "metadata": {},
   "outputs": [],
   "source": [
    "# Замінюємо категорійні дані на числові в полі \"StoreType\"\n",
    "encoders_nums = {\"StoreType\":{\"a\":1,\"b\":2,\"c\":3,\"d\":4 } }\n",
    "df = df.replace(encoders_nums)"
   ]
  },
  {
   "cell_type": "code",
   "execution_count": 55,
   "id": "4604269f-f587-4505-9c89-30cf3705b601",
   "metadata": {},
   "outputs": [
    {
     "data": {
      "text/plain": [
       "1    457077\n",
       "4    258774\n",
       "3    112978\n",
       "2     15563\n",
       "Name: StoreType, dtype: int64"
      ]
     },
     "execution_count": 55,
     "metadata": {},
     "output_type": "execute_result"
    }
   ],
   "source": [
    "df.StoreType.value_counts()"
   ]
  },
  {
   "cell_type": "code",
   "execution_count": 56,
   "id": "c1d959a0-b48a-4f7e-bddd-b5bc70c4fd2f",
   "metadata": {},
   "outputs": [
    {
     "data": {
      "text/plain": [
       "None                423307\n",
       "Jan,Apr,Jul,Oct     242411\n",
       "Feb,May,Aug,Nov      98005\n",
       "Mar,Jun,Sept,Dec     80669\n",
       "Name: PromoInterval, dtype: int64"
      ]
     },
     "execution_count": 56,
     "metadata": {},
     "output_type": "execute_result"
    }
   ],
   "source": [
    "df.PromoInterval.value_counts()"
   ]
  },
  {
   "cell_type": "code",
   "execution_count": 57,
   "id": "cc89bf41-8c64-401a-8815-d016cd6be1b7",
   "metadata": {},
   "outputs": [],
   "source": [
    "# Замінюємо категорійні дані на числові в полі \"PromoInterval\"\n",
    "encoders_nums = {\"PromoInterval\":{\"Jan,Apr,Jul,Oct\":1,\"Feb,May,Aug,Nov\":2,\"Mar,Jun,Sept,Dec\":3,'None':4 } }\n",
    "df = df.replace(encoders_nums)"
   ]
  },
  {
   "cell_type": "code",
   "execution_count": 58,
   "id": "93844e2d-def8-44f9-9cb7-9ca74f0c2798",
   "metadata": {},
   "outputs": [
    {
     "data": {
      "text/plain": [
       "4    423307\n",
       "1    242411\n",
       "2     98005\n",
       "3     80669\n",
       "Name: PromoInterval, dtype: int64"
      ]
     },
     "execution_count": 58,
     "metadata": {},
     "output_type": "execute_result"
    }
   ],
   "source": [
    "df.PromoInterval.value_counts()"
   ]
  },
  {
   "cell_type": "code",
   "execution_count": 59,
   "id": "4597a6ff-38e8-4033-bdf6-8dac50cbc7d2",
   "metadata": {},
   "outputs": [
    {
     "name": "stdout",
     "output_type": "stream",
     "text": [
      "<class 'pandas.core.frame.DataFrame'>\n",
      "Int64Index: 844392 entries, 1 to 1017208\n",
      "Data columns (total 14 columns):\n",
      " #   Column               Non-Null Count   Dtype  \n",
      "---  ------               --------------   -----  \n",
      " 0   Store                844392 non-null  int64  \n",
      " 1   DayOfWeek            844392 non-null  int64  \n",
      " 2   Sales                844392 non-null  int64  \n",
      " 3   Promo                844392 non-null  int64  \n",
      " 4   StateHoliday         844392 non-null  int64  \n",
      " 5   SchoolHoliday        844392 non-null  int64  \n",
      " 6   StoreType            844392 non-null  int64  \n",
      " 7   Assortment           844392 non-null  int64  \n",
      " 8   CompetitionDistance  844392 non-null  float64\n",
      " 9   PromoInterval        844392 non-null  int64  \n",
      " 10  Promo2_active        844392 non-null  int32  \n",
      " 11  year                 844392 non-null  int64  \n",
      " 12  month                844392 non-null  int64  \n",
      " 13  DayOfYear            844392 non-null  int64  \n",
      "dtypes: float64(1), int32(1), int64(12)\n",
      "memory usage: 93.4 MB\n"
     ]
    }
   ],
   "source": [
    "df.info()"
   ]
  },
  {
   "cell_type": "code",
   "execution_count": 60,
   "id": "e3a2db5d-9c99-43eb-840f-124d03a384fb",
   "metadata": {},
   "outputs": [],
   "source": [
    "# збереження фінального датасету\n",
    "df.to_csv('Data/final_train_data.csv')"
   ]
  },
  {
   "cell_type": "code",
   "execution_count": 61,
   "id": "addd0702-1cf8-465f-83c0-518cb3a50d21",
   "metadata": {},
   "outputs": [],
   "source": [
    "# завантаження збереженого фінального датасету\n",
    "df = pd.read_csv('Data/final_train_data.csv', index_col=0)"
   ]
  },
  {
   "cell_type": "markdown",
   "id": "3e6cec06-cedc-40d7-b3cc-2cae056f4dfc",
   "metadata": {},
   "source": [
    "#### Отже ми провели всі підготовчі маніпуляції з даними датасету та підготували датасет до створення моделі машинного навчання."
   ]
  },
  {
   "cell_type": "markdown",
   "id": "79567c8a-f34f-467c-84d9-c72fbbc2eae2",
   "metadata": {},
   "source": [
    "## `3. Побудова моделі машинного навчання`"
   ]
  },
  {
   "cell_type": "code",
   "execution_count": 62,
   "id": "1812e3bc-dab5-4528-80ca-927220336cb8",
   "metadata": {},
   "outputs": [],
   "source": [
    "# Визначаємо наші залежні та незалежні величини Х та y\n",
    "y = df[['Sales']]\n",
    "X = df.drop('Sales', axis=1)"
   ]
  },
  {
   "cell_type": "code",
   "execution_count": 63,
   "id": "b27da4d8-ede9-4508-90c9-26fdb01c4501",
   "metadata": {},
   "outputs": [],
   "source": [
    "# Розділяємо датасет на тренувальну на навчальну частину\n",
    "X_train, X_test, y_train, y_test = train_test_split(X, y, test_size=0.2, random_state=42)"
   ]
  },
  {
   "cell_type": "code",
   "execution_count": 64,
   "id": "f6eba001-8f49-4915-830d-1efd9311833a",
   "metadata": {},
   "outputs": [
    {
     "data": {
      "text/html": [
       "<div>\n",
       "<style scoped>\n",
       "    .dataframe tbody tr th:only-of-type {\n",
       "        vertical-align: middle;\n",
       "    }\n",
       "\n",
       "    .dataframe tbody tr th {\n",
       "        vertical-align: top;\n",
       "    }\n",
       "\n",
       "    .dataframe thead th {\n",
       "        text-align: right;\n",
       "    }\n",
       "</style>\n",
       "<table border=\"1\" class=\"dataframe\">\n",
       "  <thead>\n",
       "    <tr style=\"text-align: right;\">\n",
       "      <th></th>\n",
       "      <th>Model</th>\n",
       "      <th>MSE</th>\n",
       "      <th>MAE</th>\n",
       "      <th>RMSE</th>\n",
       "      <th>R2 Score</th>\n",
       "      <th>Adjusted R2</th>\n",
       "    </tr>\n",
       "  </thead>\n",
       "  <tbody>\n",
       "  </tbody>\n",
       "</table>\n",
       "</div>"
      ],
      "text/plain": [
       "Empty DataFrame\n",
       "Columns: [Model, MSE, MAE, RMSE, R2 Score, Adjusted R2]\n",
       "Index: []"
      ]
     },
     "execution_count": 64,
     "metadata": {},
     "output_type": "execute_result"
    }
   ],
   "source": [
    "# Метрики для оцінки нашої моделі\n",
    "metrics = pd.DataFrame(columns=['Model','MSE','MAE','RMSE','R2 Score', 'Adjusted R2'])\n",
    "metrics"
   ]
  },
  {
   "cell_type": "markdown",
   "id": "f29678e2-0db6-43c1-82a9-66c1eda9e170",
   "metadata": {},
   "source": [
    "* #### 'MSE' означає середньоквадратичну помилку (mean squared error) і є метрикою, яка вимірює середню квадратичну відстань між прогнозованими і фактичними значеннями. Вона обчислюється як середнє значення квадратів відхилень між прогнозованими і фактичними значеннями.\n",
    "\n",
    "* #### 'MAE' означає середню абсолютну помилку (mean absolute error) і є метрикою, яка вимірює середню абсолютну відстань між прогнозованими і фактичними значеннями. Вона обчислюється як середнє значення абсолютних відхилень між прогнозованими і фактичними значеннями.\n",
    "\n",
    "* #### 'RMSE' означає квадратний корінь середньоквадратичної помилки (root mean squared error) і є метрикою, яка вимірює середню квадратичну відстань між прогнозованими і фактичними значеннями, але зі значенням, яке є в тих самих одиницях, що й самі дані. Вона обчислюється як корінь з середнього значення квадратів відхилень між прогнозованими і фактичними значеннями.\n",
    "\n",
    "* #### 'R2 Score' означає коефіцієнт детермінації (coefficient of determination) і є метрикою, яка вимірює відповідність між прогнозованими і фактичними значеннями. Вона показує, яку частину змінної відповіді в моделі можна пояснити змінними пояснювальними. Значення R2 Score може бути в діапазоні від 0 до 1, де 1 означає ідеальну відповідність, а 0 - жодної відповідності.\n",
    "* #### 'Adjusted R2' - враховує кількість змінних, використаних у моделі, та відображає, наскільки добре модель прогнозує дані, враховуючи рівень складності моделі. Він може бути корисним інструментом для порівняння різних моделей з різною кількістю змінних та визначенням того, яка модель має кращу здатність прогнозувати дані з урахуванням складності моделі. Він визначається як: Adjusted R2 = 1 - [(1-R2)*(n-1)/(n-k-1)], де n є кількістю спостережень у вибірці, а k є кількістю змінних, використаних у моделі."
   ]
  },
  {
   "cell_type": "markdown",
   "id": "0bc79114-3939-4d08-bc9d-7108281e1b20",
   "metadata": {},
   "source": [
    "## `Linear Regression`"
   ]
  },
  {
   "cell_type": "code",
   "execution_count": 65,
   "id": "00af6154-9fbb-4c59-9f35-1f1e969b8e92",
   "metadata": {},
   "outputs": [
    {
     "data": {
      "text/html": [
       "<style>#sk-container-id-1 {color: black;background-color: white;}#sk-container-id-1 pre{padding: 0;}#sk-container-id-1 div.sk-toggleable {background-color: white;}#sk-container-id-1 label.sk-toggleable__label {cursor: pointer;display: block;width: 100%;margin-bottom: 0;padding: 0.3em;box-sizing: border-box;text-align: center;}#sk-container-id-1 label.sk-toggleable__label-arrow:before {content: \"▸\";float: left;margin-right: 0.25em;color: #696969;}#sk-container-id-1 label.sk-toggleable__label-arrow:hover:before {color: black;}#sk-container-id-1 div.sk-estimator:hover label.sk-toggleable__label-arrow:before {color: black;}#sk-container-id-1 div.sk-toggleable__content {max-height: 0;max-width: 0;overflow: hidden;text-align: left;background-color: #f0f8ff;}#sk-container-id-1 div.sk-toggleable__content pre {margin: 0.2em;color: black;border-radius: 0.25em;background-color: #f0f8ff;}#sk-container-id-1 input.sk-toggleable__control:checked~div.sk-toggleable__content {max-height: 200px;max-width: 100%;overflow: auto;}#sk-container-id-1 input.sk-toggleable__control:checked~label.sk-toggleable__label-arrow:before {content: \"▾\";}#sk-container-id-1 div.sk-estimator input.sk-toggleable__control:checked~label.sk-toggleable__label {background-color: #d4ebff;}#sk-container-id-1 div.sk-label input.sk-toggleable__control:checked~label.sk-toggleable__label {background-color: #d4ebff;}#sk-container-id-1 input.sk-hidden--visually {border: 0;clip: rect(1px 1px 1px 1px);clip: rect(1px, 1px, 1px, 1px);height: 1px;margin: -1px;overflow: hidden;padding: 0;position: absolute;width: 1px;}#sk-container-id-1 div.sk-estimator {font-family: monospace;background-color: #f0f8ff;border: 1px dotted black;border-radius: 0.25em;box-sizing: border-box;margin-bottom: 0.5em;}#sk-container-id-1 div.sk-estimator:hover {background-color: #d4ebff;}#sk-container-id-1 div.sk-parallel-item::after {content: \"\";width: 100%;border-bottom: 1px solid gray;flex-grow: 1;}#sk-container-id-1 div.sk-label:hover label.sk-toggleable__label {background-color: #d4ebff;}#sk-container-id-1 div.sk-serial::before {content: \"\";position: absolute;border-left: 1px solid gray;box-sizing: border-box;top: 0;bottom: 0;left: 50%;z-index: 0;}#sk-container-id-1 div.sk-serial {display: flex;flex-direction: column;align-items: center;background-color: white;padding-right: 0.2em;padding-left: 0.2em;position: relative;}#sk-container-id-1 div.sk-item {position: relative;z-index: 1;}#sk-container-id-1 div.sk-parallel {display: flex;align-items: stretch;justify-content: center;background-color: white;position: relative;}#sk-container-id-1 div.sk-item::before, #sk-container-id-1 div.sk-parallel-item::before {content: \"\";position: absolute;border-left: 1px solid gray;box-sizing: border-box;top: 0;bottom: 0;left: 50%;z-index: -1;}#sk-container-id-1 div.sk-parallel-item {display: flex;flex-direction: column;z-index: 1;position: relative;background-color: white;}#sk-container-id-1 div.sk-parallel-item:first-child::after {align-self: flex-end;width: 50%;}#sk-container-id-1 div.sk-parallel-item:last-child::after {align-self: flex-start;width: 50%;}#sk-container-id-1 div.sk-parallel-item:only-child::after {width: 0;}#sk-container-id-1 div.sk-dashed-wrapped {border: 1px dashed gray;margin: 0 0.4em 0.5em 0.4em;box-sizing: border-box;padding-bottom: 0.4em;background-color: white;}#sk-container-id-1 div.sk-label label {font-family: monospace;font-weight: bold;display: inline-block;line-height: 1.2em;}#sk-container-id-1 div.sk-label-container {text-align: center;}#sk-container-id-1 div.sk-container {/* jupyter's `normalize.less` sets `[hidden] { display: none; }` but bootstrap.min.css set `[hidden] { display: none !important; }` so we also need the `!important` here to be able to override the default hidden behavior on the sphinx rendered scikit-learn.org. See: https://github.com/scikit-learn/scikit-learn/issues/21755 */display: inline-block !important;position: relative;}#sk-container-id-1 div.sk-text-repr-fallback {display: none;}</style><div id=\"sk-container-id-1\" class=\"sk-top-container\"><div class=\"sk-text-repr-fallback\"><pre>LinearRegression()</pre><b>In a Jupyter environment, please rerun this cell to show the HTML representation or trust the notebook. <br />On GitHub, the HTML representation is unable to render, please try loading this page with nbviewer.org.</b></div><div class=\"sk-container\" hidden><div class=\"sk-item\"><div class=\"sk-estimator sk-toggleable\"><input class=\"sk-toggleable__control sk-hidden--visually\" id=\"sk-estimator-id-1\" type=\"checkbox\" checked><label for=\"sk-estimator-id-1\" class=\"sk-toggleable__label sk-toggleable__label-arrow\">LinearRegression</label><div class=\"sk-toggleable__content\"><pre>LinearRegression()</pre></div></div></div></div></div>"
      ],
      "text/plain": [
       "LinearRegression()"
      ]
     },
     "execution_count": 65,
     "metadata": {},
     "output_type": "execute_result"
    }
   ],
   "source": [
    "# Тренуємо модель\n",
    "Linear_reg = LinearRegression()\n",
    "Linear_reg.fit(X_train,y_train)"
   ]
  },
  {
   "cell_type": "code",
   "execution_count": 66,
   "id": "c74add35-8180-4ff7-b84d-ed185e664916",
   "metadata": {},
   "outputs": [
    {
     "data": {
      "text/plain": [
       "0.1827132390585091"
      ]
     },
     "execution_count": 66,
     "metadata": {},
     "output_type": "execute_result"
    }
   ],
   "source": [
    "# Оцінюємо точність моделі на тренувальних даних\n",
    "Linear_reg.score(X_train,y_train)"
   ]
  },
  {
   "cell_type": "code",
   "execution_count": 67,
   "id": "650c0fc2-2349-4d6c-b302-7b9fc07d5023",
   "metadata": {},
   "outputs": [],
   "source": [
    "# Робимо прогноз на тестувальну частину\n",
    "y_pred = Linear_reg.predict(X_test)"
   ]
  },
  {
   "cell_type": "code",
   "execution_count": 68,
   "id": "2a2f2524-7301-43ff-93b3-e327b351fa36",
   "metadata": {},
   "outputs": [
    {
     "name": "stdout",
     "output_type": "stream",
     "text": [
      "MSE : 7856396.105590719\n",
      "MAE : 2035.5195424888932\n",
      "RMSE : 2802.9263468009144\n",
      "R2 : 0.1824125668005101\n",
      "Adjusted R2 :  0.1823496251806861\n"
     ]
    }
   ],
   "source": [
    "# Оцінюємо показники моделі\n",
    "\n",
    "MSE  = mean_squared_error(y_test, y_pred)\n",
    "print(\"MSE :\" , MSE)\n",
    "\n",
    "MAE=mean_absolute_error(y_test, y_pred)\n",
    "print(\"MAE :\" ,MAE)\n",
    "\n",
    "RMSE = np.sqrt(MSE)\n",
    "print(\"RMSE :\" ,RMSE)\n",
    "\n",
    "r2 = r2_score(y_test, y_pred)\n",
    "print(\"R2 :\" ,r2)\n",
    "\n",
    "Adjusted_R2 = 1-(1-r2_score(y_test, y_pred))*((X_test.shape[0]-1)/(X_test.shape[0]-X_test.shape[1]-1))\n",
    "print(\"Adjusted R2 : \",Adjusted_R2)"
   ]
  },
  {
   "cell_type": "code",
   "execution_count": 69,
   "id": "5a256b5b-1a07-4da7-9ba1-907ad3a5b5a9",
   "metadata": {},
   "outputs": [
    {
     "data": {
      "text/html": [
       "<div>\n",
       "<style scoped>\n",
       "    .dataframe tbody tr th:only-of-type {\n",
       "        vertical-align: middle;\n",
       "    }\n",
       "\n",
       "    .dataframe tbody tr th {\n",
       "        vertical-align: top;\n",
       "    }\n",
       "\n",
       "    .dataframe thead th {\n",
       "        text-align: right;\n",
       "    }\n",
       "</style>\n",
       "<table border=\"1\" class=\"dataframe\">\n",
       "  <thead>\n",
       "    <tr style=\"text-align: right;\">\n",
       "      <th></th>\n",
       "      <th>Model</th>\n",
       "      <th>MSE</th>\n",
       "      <th>MAE</th>\n",
       "      <th>RMSE</th>\n",
       "      <th>R2 Score</th>\n",
       "      <th>Adjusted R2</th>\n",
       "    </tr>\n",
       "  </thead>\n",
       "  <tbody>\n",
       "    <tr>\n",
       "      <th>0</th>\n",
       "      <td>Linear Regression</td>\n",
       "      <td>7.856396e+06</td>\n",
       "      <td>2035.519542</td>\n",
       "      <td>2802.926347</td>\n",
       "      <td>0.182413</td>\n",
       "      <td>0.18235</td>\n",
       "    </tr>\n",
       "  </tbody>\n",
       "</table>\n",
       "</div>"
      ],
      "text/plain": [
       "               Model           MSE          MAE         RMSE  R2 Score  \\\n",
       "0  Linear Regression  7.856396e+06  2035.519542  2802.926347  0.182413   \n",
       "\n",
       "   Adjusted R2  \n",
       "0      0.18235  "
      ]
     },
     "execution_count": 69,
     "metadata": {},
     "output_type": "execute_result"
    }
   ],
   "source": [
    "# Добавляємо показники моделі в список для порівняння\n",
    "LR = {'Model':'Linear Regression', 'MSE': MSE, 'MAE':MAE, 'RMSE':RMSE, 'R2 Score': r2,'Adjusted R2': Adjusted_R2}\n",
    "metrics = metrics.append(LR, ignore_index=True)\n",
    "metrics"
   ]
  },
  {
   "cell_type": "markdown",
   "id": "bb96f941-5786-4726-90fc-43d54a6b5b05",
   "metadata": {},
   "source": [
    "## `Lasso Regression`"
   ]
  },
  {
   "cell_type": "code",
   "execution_count": 70,
   "id": "b5e62e78-ee05-4b8a-8a63-de2333061fd5",
   "metadata": {},
   "outputs": [],
   "source": [
    "# Створюємо модель\n",
    "lasso = Lasso(alpha=0.005,max_iter=3000)"
   ]
  },
  {
   "cell_type": "code",
   "execution_count": 71,
   "id": "c1fadaff-05c6-47fb-9644-6953d99833a1",
   "metadata": {},
   "outputs": [
    {
     "data": {
      "text/html": [
       "<style>#sk-container-id-2 {color: black;background-color: white;}#sk-container-id-2 pre{padding: 0;}#sk-container-id-2 div.sk-toggleable {background-color: white;}#sk-container-id-2 label.sk-toggleable__label {cursor: pointer;display: block;width: 100%;margin-bottom: 0;padding: 0.3em;box-sizing: border-box;text-align: center;}#sk-container-id-2 label.sk-toggleable__label-arrow:before {content: \"▸\";float: left;margin-right: 0.25em;color: #696969;}#sk-container-id-2 label.sk-toggleable__label-arrow:hover:before {color: black;}#sk-container-id-2 div.sk-estimator:hover label.sk-toggleable__label-arrow:before {color: black;}#sk-container-id-2 div.sk-toggleable__content {max-height: 0;max-width: 0;overflow: hidden;text-align: left;background-color: #f0f8ff;}#sk-container-id-2 div.sk-toggleable__content pre {margin: 0.2em;color: black;border-radius: 0.25em;background-color: #f0f8ff;}#sk-container-id-2 input.sk-toggleable__control:checked~div.sk-toggleable__content {max-height: 200px;max-width: 100%;overflow: auto;}#sk-container-id-2 input.sk-toggleable__control:checked~label.sk-toggleable__label-arrow:before {content: \"▾\";}#sk-container-id-2 div.sk-estimator input.sk-toggleable__control:checked~label.sk-toggleable__label {background-color: #d4ebff;}#sk-container-id-2 div.sk-label input.sk-toggleable__control:checked~label.sk-toggleable__label {background-color: #d4ebff;}#sk-container-id-2 input.sk-hidden--visually {border: 0;clip: rect(1px 1px 1px 1px);clip: rect(1px, 1px, 1px, 1px);height: 1px;margin: -1px;overflow: hidden;padding: 0;position: absolute;width: 1px;}#sk-container-id-2 div.sk-estimator {font-family: monospace;background-color: #f0f8ff;border: 1px dotted black;border-radius: 0.25em;box-sizing: border-box;margin-bottom: 0.5em;}#sk-container-id-2 div.sk-estimator:hover {background-color: #d4ebff;}#sk-container-id-2 div.sk-parallel-item::after {content: \"\";width: 100%;border-bottom: 1px solid gray;flex-grow: 1;}#sk-container-id-2 div.sk-label:hover label.sk-toggleable__label {background-color: #d4ebff;}#sk-container-id-2 div.sk-serial::before {content: \"\";position: absolute;border-left: 1px solid gray;box-sizing: border-box;top: 0;bottom: 0;left: 50%;z-index: 0;}#sk-container-id-2 div.sk-serial {display: flex;flex-direction: column;align-items: center;background-color: white;padding-right: 0.2em;padding-left: 0.2em;position: relative;}#sk-container-id-2 div.sk-item {position: relative;z-index: 1;}#sk-container-id-2 div.sk-parallel {display: flex;align-items: stretch;justify-content: center;background-color: white;position: relative;}#sk-container-id-2 div.sk-item::before, #sk-container-id-2 div.sk-parallel-item::before {content: \"\";position: absolute;border-left: 1px solid gray;box-sizing: border-box;top: 0;bottom: 0;left: 50%;z-index: -1;}#sk-container-id-2 div.sk-parallel-item {display: flex;flex-direction: column;z-index: 1;position: relative;background-color: white;}#sk-container-id-2 div.sk-parallel-item:first-child::after {align-self: flex-end;width: 50%;}#sk-container-id-2 div.sk-parallel-item:last-child::after {align-self: flex-start;width: 50%;}#sk-container-id-2 div.sk-parallel-item:only-child::after {width: 0;}#sk-container-id-2 div.sk-dashed-wrapped {border: 1px dashed gray;margin: 0 0.4em 0.5em 0.4em;box-sizing: border-box;padding-bottom: 0.4em;background-color: white;}#sk-container-id-2 div.sk-label label {font-family: monospace;font-weight: bold;display: inline-block;line-height: 1.2em;}#sk-container-id-2 div.sk-label-container {text-align: center;}#sk-container-id-2 div.sk-container {/* jupyter's `normalize.less` sets `[hidden] { display: none; }` but bootstrap.min.css set `[hidden] { display: none !important; }` so we also need the `!important` here to be able to override the default hidden behavior on the sphinx rendered scikit-learn.org. See: https://github.com/scikit-learn/scikit-learn/issues/21755 */display: inline-block !important;position: relative;}#sk-container-id-2 div.sk-text-repr-fallback {display: none;}</style><div id=\"sk-container-id-2\" class=\"sk-top-container\"><div class=\"sk-text-repr-fallback\"><pre>Lasso(alpha=0.005, max_iter=3000)</pre><b>In a Jupyter environment, please rerun this cell to show the HTML representation or trust the notebook. <br />On GitHub, the HTML representation is unable to render, please try loading this page with nbviewer.org.</b></div><div class=\"sk-container\" hidden><div class=\"sk-item\"><div class=\"sk-estimator sk-toggleable\"><input class=\"sk-toggleable__control sk-hidden--visually\" id=\"sk-estimator-id-2\" type=\"checkbox\" checked><label for=\"sk-estimator-id-2\" class=\"sk-toggleable__label sk-toggleable__label-arrow\">Lasso</label><div class=\"sk-toggleable__content\"><pre>Lasso(alpha=0.005, max_iter=3000)</pre></div></div></div></div></div>"
      ],
      "text/plain": [
       "Lasso(alpha=0.005, max_iter=3000)"
      ]
     },
     "execution_count": 71,
     "metadata": {},
     "output_type": "execute_result"
    }
   ],
   "source": [
    "# Тренуємо модель\n",
    "lasso.fit(X_train,y_train)"
   ]
  },
  {
   "cell_type": "code",
   "execution_count": 72,
   "id": "55522598-cb45-40cd-bbc4-f9dd210d88ea",
   "metadata": {},
   "outputs": [
    {
     "data": {
      "text/plain": [
       "0.18271323786400695"
      ]
     },
     "execution_count": 72,
     "metadata": {},
     "output_type": "execute_result"
    }
   ],
   "source": [
    "# Оцінюємо точність моделі на тренувальних даних\n",
    "lasso.score(X_train,y_train)"
   ]
  },
  {
   "cell_type": "code",
   "execution_count": 73,
   "id": "46fc6c69-39c2-48e6-b369-48c828de4fa3",
   "metadata": {},
   "outputs": [],
   "source": [
    "# Робимо прогноз на тестувальну частину\n",
    "y_pred_lasso = lasso.predict(X_test)"
   ]
  },
  {
   "cell_type": "code",
   "execution_count": 74,
   "id": "14a2348a-e780-4cd4-815f-48535f50f1fe",
   "metadata": {},
   "outputs": [
    {
     "name": "stdout",
     "output_type": "stream",
     "text": [
      "MSE : 7856396.521611397\n",
      "MAE : 2035.5193516517622\n",
      "RMSE : 2802.9264210127594\n",
      "R2 : 0.18241252350670534\n",
      "Adjusted R2 :  0.18234958188354833\n"
     ]
    }
   ],
   "source": [
    "# Оцінюємо показники моделі\n",
    "\n",
    "MSE  = mean_squared_error(y_test, y_pred_lasso)\n",
    "print(\"MSE :\" , MSE)\n",
    "\n",
    "MAE=mean_absolute_error(y_test, y_pred_lasso)\n",
    "print(\"MAE :\" ,MAE)\n",
    "\n",
    "RMSE = np.sqrt(MSE)\n",
    "print(\"RMSE :\" ,RMSE)\n",
    "\n",
    "r2 = r2_score(y_test, y_pred_lasso)\n",
    "print(\"R2 :\" ,r2)\n",
    "\n",
    "Adjusted_R2 = 1-(1-r2_score(y_test, y_pred_lasso))*((X_test.shape[0]-1)/(X_test.shape[0]-X_test.shape[1]-1))\n",
    "print(\"Adjusted R2 : \", Adjusted_R2)"
   ]
  },
  {
   "cell_type": "code",
   "execution_count": 75,
   "id": "20386d95-552e-4c50-a737-1326159b4190",
   "metadata": {},
   "outputs": [
    {
     "data": {
      "text/html": [
       "<div>\n",
       "<style scoped>\n",
       "    .dataframe tbody tr th:only-of-type {\n",
       "        vertical-align: middle;\n",
       "    }\n",
       "\n",
       "    .dataframe tbody tr th {\n",
       "        vertical-align: top;\n",
       "    }\n",
       "\n",
       "    .dataframe thead th {\n",
       "        text-align: right;\n",
       "    }\n",
       "</style>\n",
       "<table border=\"1\" class=\"dataframe\">\n",
       "  <thead>\n",
       "    <tr style=\"text-align: right;\">\n",
       "      <th></th>\n",
       "      <th>Model</th>\n",
       "      <th>MSE</th>\n",
       "      <th>MAE</th>\n",
       "      <th>RMSE</th>\n",
       "      <th>R2 Score</th>\n",
       "      <th>Adjusted R2</th>\n",
       "    </tr>\n",
       "  </thead>\n",
       "  <tbody>\n",
       "    <tr>\n",
       "      <th>0</th>\n",
       "      <td>Linear Regression</td>\n",
       "      <td>7.856396e+06</td>\n",
       "      <td>2035.519542</td>\n",
       "      <td>2802.926347</td>\n",
       "      <td>0.182413</td>\n",
       "      <td>0.18235</td>\n",
       "    </tr>\n",
       "    <tr>\n",
       "      <th>1</th>\n",
       "      <td>Lasso Regression</td>\n",
       "      <td>7.856397e+06</td>\n",
       "      <td>2035.519352</td>\n",
       "      <td>2802.926421</td>\n",
       "      <td>0.182413</td>\n",
       "      <td>0.18235</td>\n",
       "    </tr>\n",
       "  </tbody>\n",
       "</table>\n",
       "</div>"
      ],
      "text/plain": [
       "               Model           MSE          MAE         RMSE  R2 Score  \\\n",
       "0  Linear Regression  7.856396e+06  2035.519542  2802.926347  0.182413   \n",
       "1   Lasso Regression  7.856397e+06  2035.519352  2802.926421  0.182413   \n",
       "\n",
       "   Adjusted R2  \n",
       "0      0.18235  \n",
       "1      0.18235  "
      ]
     },
     "execution_count": 75,
     "metadata": {},
     "output_type": "execute_result"
    }
   ],
   "source": [
    "# Добавляємо показники моделі в список для порівняння\n",
    "LaR = {'Model':'Lasso Regression', 'MSE': MSE, 'MAE':MAE, 'RMSE':RMSE, 'R2 Score': r2,'Adjusted R2': Adjusted_R2}\n",
    "metrics = metrics.append(LaR, ignore_index=True)\n",
    "metrics"
   ]
  },
  {
   "cell_type": "markdown",
   "id": "357ee9ac-051a-4d24-88fc-e6de563d1781",
   "metadata": {},
   "source": [
    "## `Ridge Regression`"
   ]
  },
  {
   "cell_type": "code",
   "execution_count": 76,
   "id": "7324e67d-2264-4638-a125-ece83051a49d",
   "metadata": {},
   "outputs": [],
   "source": [
    "# Створюємо модель\n",
    "ridge = Ridge(alpha=0.1)"
   ]
  },
  {
   "cell_type": "code",
   "execution_count": 77,
   "id": "34f2fd6a-5a2f-4231-90b1-fbba191eab3f",
   "metadata": {},
   "outputs": [
    {
     "data": {
      "text/html": [
       "<style>#sk-container-id-3 {color: black;background-color: white;}#sk-container-id-3 pre{padding: 0;}#sk-container-id-3 div.sk-toggleable {background-color: white;}#sk-container-id-3 label.sk-toggleable__label {cursor: pointer;display: block;width: 100%;margin-bottom: 0;padding: 0.3em;box-sizing: border-box;text-align: center;}#sk-container-id-3 label.sk-toggleable__label-arrow:before {content: \"▸\";float: left;margin-right: 0.25em;color: #696969;}#sk-container-id-3 label.sk-toggleable__label-arrow:hover:before {color: black;}#sk-container-id-3 div.sk-estimator:hover label.sk-toggleable__label-arrow:before {color: black;}#sk-container-id-3 div.sk-toggleable__content {max-height: 0;max-width: 0;overflow: hidden;text-align: left;background-color: #f0f8ff;}#sk-container-id-3 div.sk-toggleable__content pre {margin: 0.2em;color: black;border-radius: 0.25em;background-color: #f0f8ff;}#sk-container-id-3 input.sk-toggleable__control:checked~div.sk-toggleable__content {max-height: 200px;max-width: 100%;overflow: auto;}#sk-container-id-3 input.sk-toggleable__control:checked~label.sk-toggleable__label-arrow:before {content: \"▾\";}#sk-container-id-3 div.sk-estimator input.sk-toggleable__control:checked~label.sk-toggleable__label {background-color: #d4ebff;}#sk-container-id-3 div.sk-label input.sk-toggleable__control:checked~label.sk-toggleable__label {background-color: #d4ebff;}#sk-container-id-3 input.sk-hidden--visually {border: 0;clip: rect(1px 1px 1px 1px);clip: rect(1px, 1px, 1px, 1px);height: 1px;margin: -1px;overflow: hidden;padding: 0;position: absolute;width: 1px;}#sk-container-id-3 div.sk-estimator {font-family: monospace;background-color: #f0f8ff;border: 1px dotted black;border-radius: 0.25em;box-sizing: border-box;margin-bottom: 0.5em;}#sk-container-id-3 div.sk-estimator:hover {background-color: #d4ebff;}#sk-container-id-3 div.sk-parallel-item::after {content: \"\";width: 100%;border-bottom: 1px solid gray;flex-grow: 1;}#sk-container-id-3 div.sk-label:hover label.sk-toggleable__label {background-color: #d4ebff;}#sk-container-id-3 div.sk-serial::before {content: \"\";position: absolute;border-left: 1px solid gray;box-sizing: border-box;top: 0;bottom: 0;left: 50%;z-index: 0;}#sk-container-id-3 div.sk-serial {display: flex;flex-direction: column;align-items: center;background-color: white;padding-right: 0.2em;padding-left: 0.2em;position: relative;}#sk-container-id-3 div.sk-item {position: relative;z-index: 1;}#sk-container-id-3 div.sk-parallel {display: flex;align-items: stretch;justify-content: center;background-color: white;position: relative;}#sk-container-id-3 div.sk-item::before, #sk-container-id-3 div.sk-parallel-item::before {content: \"\";position: absolute;border-left: 1px solid gray;box-sizing: border-box;top: 0;bottom: 0;left: 50%;z-index: -1;}#sk-container-id-3 div.sk-parallel-item {display: flex;flex-direction: column;z-index: 1;position: relative;background-color: white;}#sk-container-id-3 div.sk-parallel-item:first-child::after {align-self: flex-end;width: 50%;}#sk-container-id-3 div.sk-parallel-item:last-child::after {align-self: flex-start;width: 50%;}#sk-container-id-3 div.sk-parallel-item:only-child::after {width: 0;}#sk-container-id-3 div.sk-dashed-wrapped {border: 1px dashed gray;margin: 0 0.4em 0.5em 0.4em;box-sizing: border-box;padding-bottom: 0.4em;background-color: white;}#sk-container-id-3 div.sk-label label {font-family: monospace;font-weight: bold;display: inline-block;line-height: 1.2em;}#sk-container-id-3 div.sk-label-container {text-align: center;}#sk-container-id-3 div.sk-container {/* jupyter's `normalize.less` sets `[hidden] { display: none; }` but bootstrap.min.css set `[hidden] { display: none !important; }` so we also need the `!important` here to be able to override the default hidden behavior on the sphinx rendered scikit-learn.org. See: https://github.com/scikit-learn/scikit-learn/issues/21755 */display: inline-block !important;position: relative;}#sk-container-id-3 div.sk-text-repr-fallback {display: none;}</style><div id=\"sk-container-id-3\" class=\"sk-top-container\"><div class=\"sk-text-repr-fallback\"><pre>Ridge(alpha=0.1)</pre><b>In a Jupyter environment, please rerun this cell to show the HTML representation or trust the notebook. <br />On GitHub, the HTML representation is unable to render, please try loading this page with nbviewer.org.</b></div><div class=\"sk-container\" hidden><div class=\"sk-item\"><div class=\"sk-estimator sk-toggleable\"><input class=\"sk-toggleable__control sk-hidden--visually\" id=\"sk-estimator-id-3\" type=\"checkbox\" checked><label for=\"sk-estimator-id-3\" class=\"sk-toggleable__label sk-toggleable__label-arrow\">Ridge</label><div class=\"sk-toggleable__content\"><pre>Ridge(alpha=0.1)</pre></div></div></div></div></div>"
      ],
      "text/plain": [
       "Ridge(alpha=0.1)"
      ]
     },
     "execution_count": 77,
     "metadata": {},
     "output_type": "execute_result"
    }
   ],
   "source": [
    "# Тренуємо модель\n",
    "ridge.fit(X_train,y_train)"
   ]
  },
  {
   "cell_type": "code",
   "execution_count": 78,
   "id": "77e79db1-01ff-468e-aae3-2247b28bdec3",
   "metadata": {},
   "outputs": [
    {
     "data": {
      "text/plain": [
       "0.18271323905694037"
      ]
     },
     "execution_count": 78,
     "metadata": {},
     "output_type": "execute_result"
    }
   ],
   "source": [
    "# Оцінюємо точність моделі на тренувальних даних\n",
    "ridge.score(X_train, y_train)"
   ]
  },
  {
   "cell_type": "code",
   "execution_count": 79,
   "id": "671e0cb1-9e77-408a-9f3c-0b6c16a69a64",
   "metadata": {},
   "outputs": [],
   "source": [
    "# Робимо прогноз на тестувальну частину\n",
    "y_pred_ridge = ridge.predict(X_test)"
   ]
  },
  {
   "cell_type": "code",
   "execution_count": 80,
   "id": "b66ec5ad-9eb2-4018-9573-93a88e0ee3aa",
   "metadata": {},
   "outputs": [
    {
     "name": "stdout",
     "output_type": "stream",
     "text": [
      "MSE : 7856396.108197413\n",
      "MAE : 2035.5195422400693\n",
      "RMSE : 2802.9263472659095\n",
      "R2 : 0.18241256652924054\n",
      "Adjusted R2 :  0.18234962490939555\n"
     ]
    }
   ],
   "source": [
    "# Оцінюємо показники моделі\n",
    "\n",
    "MSE  = mean_squared_error(y_test, y_pred_ridge)\n",
    "print(\"MSE :\" , MSE)\n",
    "\n",
    "MAE=mean_absolute_error(y_test, y_pred_ridge)\n",
    "print(\"MAE :\" ,MAE)\n",
    "\n",
    "RMSE = np.sqrt(MSE)\n",
    "print(\"RMSE :\" ,RMSE)\n",
    "\n",
    "r2 = r2_score(y_test, y_pred_ridge)\n",
    "print(\"R2 :\" ,r2)\n",
    "\n",
    "Adjusted_R2 = 1-(1-r2_score(y_test, y_pred_ridge))*((X_test.shape[0]-1)/(X_test.shape[0]-X_test.shape[1]-1))\n",
    "print(\"Adjusted R2 : \", Adjusted_R2)"
   ]
  },
  {
   "cell_type": "code",
   "execution_count": 81,
   "id": "5c99ec46-84bd-4485-a06c-12315beb14b8",
   "metadata": {},
   "outputs": [
    {
     "data": {
      "text/html": [
       "<div>\n",
       "<style scoped>\n",
       "    .dataframe tbody tr th:only-of-type {\n",
       "        vertical-align: middle;\n",
       "    }\n",
       "\n",
       "    .dataframe tbody tr th {\n",
       "        vertical-align: top;\n",
       "    }\n",
       "\n",
       "    .dataframe thead th {\n",
       "        text-align: right;\n",
       "    }\n",
       "</style>\n",
       "<table border=\"1\" class=\"dataframe\">\n",
       "  <thead>\n",
       "    <tr style=\"text-align: right;\">\n",
       "      <th></th>\n",
       "      <th>Model</th>\n",
       "      <th>MSE</th>\n",
       "      <th>MAE</th>\n",
       "      <th>RMSE</th>\n",
       "      <th>R2 Score</th>\n",
       "      <th>Adjusted R2</th>\n",
       "    </tr>\n",
       "  </thead>\n",
       "  <tbody>\n",
       "    <tr>\n",
       "      <th>0</th>\n",
       "      <td>Linear Regression</td>\n",
       "      <td>7.856396e+06</td>\n",
       "      <td>2035.519542</td>\n",
       "      <td>2802.926347</td>\n",
       "      <td>0.182413</td>\n",
       "      <td>0.18235</td>\n",
       "    </tr>\n",
       "    <tr>\n",
       "      <th>1</th>\n",
       "      <td>Lasso Regression</td>\n",
       "      <td>7.856397e+06</td>\n",
       "      <td>2035.519352</td>\n",
       "      <td>2802.926421</td>\n",
       "      <td>0.182413</td>\n",
       "      <td>0.18235</td>\n",
       "    </tr>\n",
       "    <tr>\n",
       "      <th>2</th>\n",
       "      <td>Ridge Regression</td>\n",
       "      <td>7.856396e+06</td>\n",
       "      <td>2035.519542</td>\n",
       "      <td>2802.926347</td>\n",
       "      <td>0.182413</td>\n",
       "      <td>0.18235</td>\n",
       "    </tr>\n",
       "  </tbody>\n",
       "</table>\n",
       "</div>"
      ],
      "text/plain": [
       "               Model           MSE          MAE         RMSE  R2 Score  \\\n",
       "0  Linear Regression  7.856396e+06  2035.519542  2802.926347  0.182413   \n",
       "1   Lasso Regression  7.856397e+06  2035.519352  2802.926421  0.182413   \n",
       "2   Ridge Regression  7.856396e+06  2035.519542  2802.926347  0.182413   \n",
       "\n",
       "   Adjusted R2  \n",
       "0      0.18235  \n",
       "1      0.18235  \n",
       "2      0.18235  "
      ]
     },
     "execution_count": 81,
     "metadata": {},
     "output_type": "execute_result"
    }
   ],
   "source": [
    "# Добавляємо показники моделі в список для порівняння\n",
    "RR = {'Model':'Ridge Regression', 'MSE': MSE, 'MAE':MAE, 'RMSE':RMSE, 'R2 Score': r2, 'Adjusted R2': Adjusted_R2}\n",
    "metrics = metrics.append(RR,ignore_index=True)\n",
    "metrics"
   ]
  },
  {
   "cell_type": "markdown",
   "id": "0b2f7b9d-b950-4f45-a502-ee52ca57ffd8",
   "metadata": {},
   "source": [
    "## `XG Boost Regressor`"
   ]
  },
  {
   "cell_type": "code",
   "execution_count": 82,
   "id": "40c5ae4b-6d99-419c-98ca-e454f4c6e2fa",
   "metadata": {},
   "outputs": [],
   "source": [
    "# Створюємо модель\n",
    "xgbr = XGBRegressor()"
   ]
  },
  {
   "cell_type": "code",
   "execution_count": 83,
   "id": "bd06a4bc-3ede-44e7-9948-1532c78fb07c",
   "metadata": {},
   "outputs": [
    {
     "data": {
      "text/html": [
       "<style>#sk-container-id-4 {color: black;background-color: white;}#sk-container-id-4 pre{padding: 0;}#sk-container-id-4 div.sk-toggleable {background-color: white;}#sk-container-id-4 label.sk-toggleable__label {cursor: pointer;display: block;width: 100%;margin-bottom: 0;padding: 0.3em;box-sizing: border-box;text-align: center;}#sk-container-id-4 label.sk-toggleable__label-arrow:before {content: \"▸\";float: left;margin-right: 0.25em;color: #696969;}#sk-container-id-4 label.sk-toggleable__label-arrow:hover:before {color: black;}#sk-container-id-4 div.sk-estimator:hover label.sk-toggleable__label-arrow:before {color: black;}#sk-container-id-4 div.sk-toggleable__content {max-height: 0;max-width: 0;overflow: hidden;text-align: left;background-color: #f0f8ff;}#sk-container-id-4 div.sk-toggleable__content pre {margin: 0.2em;color: black;border-radius: 0.25em;background-color: #f0f8ff;}#sk-container-id-4 input.sk-toggleable__control:checked~div.sk-toggleable__content {max-height: 200px;max-width: 100%;overflow: auto;}#sk-container-id-4 input.sk-toggleable__control:checked~label.sk-toggleable__label-arrow:before {content: \"▾\";}#sk-container-id-4 div.sk-estimator input.sk-toggleable__control:checked~label.sk-toggleable__label {background-color: #d4ebff;}#sk-container-id-4 div.sk-label input.sk-toggleable__control:checked~label.sk-toggleable__label {background-color: #d4ebff;}#sk-container-id-4 input.sk-hidden--visually {border: 0;clip: rect(1px 1px 1px 1px);clip: rect(1px, 1px, 1px, 1px);height: 1px;margin: -1px;overflow: hidden;padding: 0;position: absolute;width: 1px;}#sk-container-id-4 div.sk-estimator {font-family: monospace;background-color: #f0f8ff;border: 1px dotted black;border-radius: 0.25em;box-sizing: border-box;margin-bottom: 0.5em;}#sk-container-id-4 div.sk-estimator:hover {background-color: #d4ebff;}#sk-container-id-4 div.sk-parallel-item::after {content: \"\";width: 100%;border-bottom: 1px solid gray;flex-grow: 1;}#sk-container-id-4 div.sk-label:hover label.sk-toggleable__label {background-color: #d4ebff;}#sk-container-id-4 div.sk-serial::before {content: \"\";position: absolute;border-left: 1px solid gray;box-sizing: border-box;top: 0;bottom: 0;left: 50%;z-index: 0;}#sk-container-id-4 div.sk-serial {display: flex;flex-direction: column;align-items: center;background-color: white;padding-right: 0.2em;padding-left: 0.2em;position: relative;}#sk-container-id-4 div.sk-item {position: relative;z-index: 1;}#sk-container-id-4 div.sk-parallel {display: flex;align-items: stretch;justify-content: center;background-color: white;position: relative;}#sk-container-id-4 div.sk-item::before, #sk-container-id-4 div.sk-parallel-item::before {content: \"\";position: absolute;border-left: 1px solid gray;box-sizing: border-box;top: 0;bottom: 0;left: 50%;z-index: -1;}#sk-container-id-4 div.sk-parallel-item {display: flex;flex-direction: column;z-index: 1;position: relative;background-color: white;}#sk-container-id-4 div.sk-parallel-item:first-child::after {align-self: flex-end;width: 50%;}#sk-container-id-4 div.sk-parallel-item:last-child::after {align-self: flex-start;width: 50%;}#sk-container-id-4 div.sk-parallel-item:only-child::after {width: 0;}#sk-container-id-4 div.sk-dashed-wrapped {border: 1px dashed gray;margin: 0 0.4em 0.5em 0.4em;box-sizing: border-box;padding-bottom: 0.4em;background-color: white;}#sk-container-id-4 div.sk-label label {font-family: monospace;font-weight: bold;display: inline-block;line-height: 1.2em;}#sk-container-id-4 div.sk-label-container {text-align: center;}#sk-container-id-4 div.sk-container {/* jupyter's `normalize.less` sets `[hidden] { display: none; }` but bootstrap.min.css set `[hidden] { display: none !important; }` so we also need the `!important` here to be able to override the default hidden behavior on the sphinx rendered scikit-learn.org. See: https://github.com/scikit-learn/scikit-learn/issues/21755 */display: inline-block !important;position: relative;}#sk-container-id-4 div.sk-text-repr-fallback {display: none;}</style><div id=\"sk-container-id-4\" class=\"sk-top-container\"><div class=\"sk-text-repr-fallback\"><pre>XGBRegressor(base_score=None, booster=None, callbacks=None,\n",
       "             colsample_bylevel=None, colsample_bynode=None,\n",
       "             colsample_bytree=None, early_stopping_rounds=None,\n",
       "             enable_categorical=False, eval_metric=None, feature_types=None,\n",
       "             gamma=None, gpu_id=None, grow_policy=None, importance_type=None,\n",
       "             interaction_constraints=None, learning_rate=None, max_bin=None,\n",
       "             max_cat_threshold=None, max_cat_to_onehot=None,\n",
       "             max_delta_step=None, max_depth=None, max_leaves=None,\n",
       "             min_child_weight=None, missing=nan, monotone_constraints=None,\n",
       "             n_estimators=100, n_jobs=None, num_parallel_tree=None,\n",
       "             predictor=None, random_state=None, ...)</pre><b>In a Jupyter environment, please rerun this cell to show the HTML representation or trust the notebook. <br />On GitHub, the HTML representation is unable to render, please try loading this page with nbviewer.org.</b></div><div class=\"sk-container\" hidden><div class=\"sk-item\"><div class=\"sk-estimator sk-toggleable\"><input class=\"sk-toggleable__control sk-hidden--visually\" id=\"sk-estimator-id-4\" type=\"checkbox\" checked><label for=\"sk-estimator-id-4\" class=\"sk-toggleable__label sk-toggleable__label-arrow\">XGBRegressor</label><div class=\"sk-toggleable__content\"><pre>XGBRegressor(base_score=None, booster=None, callbacks=None,\n",
       "             colsample_bylevel=None, colsample_bynode=None,\n",
       "             colsample_bytree=None, early_stopping_rounds=None,\n",
       "             enable_categorical=False, eval_metric=None, feature_types=None,\n",
       "             gamma=None, gpu_id=None, grow_policy=None, importance_type=None,\n",
       "             interaction_constraints=None, learning_rate=None, max_bin=None,\n",
       "             max_cat_threshold=None, max_cat_to_onehot=None,\n",
       "             max_delta_step=None, max_depth=None, max_leaves=None,\n",
       "             min_child_weight=None, missing=nan, monotone_constraints=None,\n",
       "             n_estimators=100, n_jobs=None, num_parallel_tree=None,\n",
       "             predictor=None, random_state=None, ...)</pre></div></div></div></div></div>"
      ],
      "text/plain": [
       "XGBRegressor(base_score=None, booster=None, callbacks=None,\n",
       "             colsample_bylevel=None, colsample_bynode=None,\n",
       "             colsample_bytree=None, early_stopping_rounds=None,\n",
       "             enable_categorical=False, eval_metric=None, feature_types=None,\n",
       "             gamma=None, gpu_id=None, grow_policy=None, importance_type=None,\n",
       "             interaction_constraints=None, learning_rate=None, max_bin=None,\n",
       "             max_cat_threshold=None, max_cat_to_onehot=None,\n",
       "             max_delta_step=None, max_depth=None, max_leaves=None,\n",
       "             min_child_weight=None, missing=nan, monotone_constraints=None,\n",
       "             n_estimators=100, n_jobs=None, num_parallel_tree=None,\n",
       "             predictor=None, random_state=None, ...)"
      ]
     },
     "execution_count": 83,
     "metadata": {},
     "output_type": "execute_result"
    }
   ],
   "source": [
    "# Тренуємо модель\n",
    "xgbr.fit(X_train,y_train)"
   ]
  },
  {
   "cell_type": "code",
   "execution_count": 84,
   "id": "21d00ca3-60d7-47b0-bd74-be7575d57899",
   "metadata": {},
   "outputs": [
    {
     "data": {
      "text/plain": [
       "0.8461849398610114"
      ]
     },
     "execution_count": 84,
     "metadata": {},
     "output_type": "execute_result"
    }
   ],
   "source": [
    "# Оцінюємо точність моделі на тренувальних даних\n",
    "xgbr.score(X_train, y_train)"
   ]
  },
  {
   "cell_type": "code",
   "execution_count": 85,
   "id": "df1f6721-bf60-4c5b-9ba4-b22ef6d44621",
   "metadata": {},
   "outputs": [],
   "source": [
    "# Робимо прогноз на тестувальну частину\n",
    "y_pred_xgbr = xgbr.predict(X_test)"
   ]
  },
  {
   "cell_type": "code",
   "execution_count": 86,
   "id": "81358f44-8674-4bc5-ab70-aad46f26c2a4",
   "metadata": {},
   "outputs": [
    {
     "name": "stdout",
     "output_type": "stream",
     "text": [
      "MSE : 1482685.2803423682\n",
      "MAE : 869.0402358387971\n",
      "RMSE : 1217.655649328811\n",
      "R2 : 0.8457021723058048\n",
      "Adjusted R2 :  0.8456902937533515\n"
     ]
    }
   ],
   "source": [
    "# Оцінюємо показники моделі\n",
    "\n",
    "MSE  = mean_squared_error(y_test, y_pred_xgbr)\n",
    "print(\"MSE :\" , MSE)\n",
    "\n",
    "MAE=mean_absolute_error(y_test, y_pred_xgbr)\n",
    "print(\"MAE :\" ,MAE)\n",
    "\n",
    "RMSE = np.sqrt(MSE)\n",
    "print(\"RMSE :\" ,RMSE)\n",
    "\n",
    "r2 = r2_score(y_test, y_pred_xgbr)\n",
    "print(\"R2 :\" ,r2)\n",
    "\n",
    "Adjusted_R2 = 1-(1-r2_score(y_test, y_pred_xgbr))*((X_test.shape[0]-1)/(X_test.shape[0]-X_test.shape[1]-1))\n",
    "print(\"Adjusted R2 : \", Adjusted_R2)"
   ]
  },
  {
   "cell_type": "code",
   "execution_count": 87,
   "id": "ba005010-cc1e-4228-a2d1-194fffe7d9a4",
   "metadata": {},
   "outputs": [
    {
     "data": {
      "text/html": [
       "<div>\n",
       "<style scoped>\n",
       "    .dataframe tbody tr th:only-of-type {\n",
       "        vertical-align: middle;\n",
       "    }\n",
       "\n",
       "    .dataframe tbody tr th {\n",
       "        vertical-align: top;\n",
       "    }\n",
       "\n",
       "    .dataframe thead th {\n",
       "        text-align: right;\n",
       "    }\n",
       "</style>\n",
       "<table border=\"1\" class=\"dataframe\">\n",
       "  <thead>\n",
       "    <tr style=\"text-align: right;\">\n",
       "      <th></th>\n",
       "      <th>Model</th>\n",
       "      <th>MSE</th>\n",
       "      <th>MAE</th>\n",
       "      <th>RMSE</th>\n",
       "      <th>R2 Score</th>\n",
       "      <th>Adjusted R2</th>\n",
       "    </tr>\n",
       "  </thead>\n",
       "  <tbody>\n",
       "    <tr>\n",
       "      <th>0</th>\n",
       "      <td>Linear Regression</td>\n",
       "      <td>7.856396e+06</td>\n",
       "      <td>2035.519542</td>\n",
       "      <td>2802.926347</td>\n",
       "      <td>0.182413</td>\n",
       "      <td>0.18235</td>\n",
       "    </tr>\n",
       "    <tr>\n",
       "      <th>1</th>\n",
       "      <td>Lasso Regression</td>\n",
       "      <td>7.856397e+06</td>\n",
       "      <td>2035.519352</td>\n",
       "      <td>2802.926421</td>\n",
       "      <td>0.182413</td>\n",
       "      <td>0.18235</td>\n",
       "    </tr>\n",
       "    <tr>\n",
       "      <th>2</th>\n",
       "      <td>Ridge Regression</td>\n",
       "      <td>7.856396e+06</td>\n",
       "      <td>2035.519542</td>\n",
       "      <td>2802.926347</td>\n",
       "      <td>0.182413</td>\n",
       "      <td>0.18235</td>\n",
       "    </tr>\n",
       "    <tr>\n",
       "      <th>3</th>\n",
       "      <td>XGBoost Regression</td>\n",
       "      <td>1.482685e+06</td>\n",
       "      <td>869.040236</td>\n",
       "      <td>1217.655649</td>\n",
       "      <td>0.845702</td>\n",
       "      <td>0.84569</td>\n",
       "    </tr>\n",
       "  </tbody>\n",
       "</table>\n",
       "</div>"
      ],
      "text/plain": [
       "                Model           MSE          MAE         RMSE  R2 Score  \\\n",
       "0   Linear Regression  7.856396e+06  2035.519542  2802.926347  0.182413   \n",
       "1    Lasso Regression  7.856397e+06  2035.519352  2802.926421  0.182413   \n",
       "2    Ridge Regression  7.856396e+06  2035.519542  2802.926347  0.182413   \n",
       "3  XGBoost Regression  1.482685e+06   869.040236  1217.655649  0.845702   \n",
       "\n",
       "   Adjusted R2  \n",
       "0      0.18235  \n",
       "1      0.18235  \n",
       "2      0.18235  \n",
       "3      0.84569  "
      ]
     },
     "execution_count": 87,
     "metadata": {},
     "output_type": "execute_result"
    }
   ],
   "source": [
    "# Добавляємо показники моделі в список для порівняння\n",
    "XG = {'Model':'XGBoost Regression', 'MSE': MSE, 'MAE':MAE, 'RMSE':RMSE, 'R2 Score': r2, 'Adjusted R2': Adjusted_R2}\n",
    "metrics = metrics.append(XG,ignore_index=True)\n",
    "metrics"
   ]
  },
  {
   "cell_type": "code",
   "execution_count": 88,
   "id": "b5a0b900-18fe-46f8-a74e-e9eb6aff5ac1",
   "metadata": {},
   "outputs": [
    {
     "data": {
      "image/png": "[encoded data removed]",
      "text/plain": [
       "<Figure size 640x480 with 1 Axes>"
      ]
     },
     "metadata": {},
     "output_type": "display_data"
    }
   ],
   "source": [
    "# Візуалізуємо значимість показників в нашій моделі\n",
    "important_features = pd.Series(xgbr.feature_importances_, index=X.columns)\n",
    "important_features.nlargest(10).plot(kind='barh')\n",
    "plt.title('Значимість змінних для XGBoost Model')\n",
    "plt.show()"
   ]
  },
  {
   "cell_type": "markdown",
   "id": "160d2585-3ce9-4e2b-b715-2d9fcf76927c",
   "metadata": {},
   "source": [
    "## `XG Boost Regressor з кросс валідацією`"
   ]
  },
  {
   "cell_type": "code",
   "execution_count": 89,
   "id": "49d8d2c4-f7c5-40ad-bfbe-406646c79f4b",
   "metadata": {},
   "outputs": [
    {
     "data": {
      "text/html": [
       "<style>#sk-container-id-5 {color: black;background-color: white;}#sk-container-id-5 pre{padding: 0;}#sk-container-id-5 div.sk-toggleable {background-color: white;}#sk-container-id-5 label.sk-toggleable__label {cursor: pointer;display: block;width: 100%;margin-bottom: 0;padding: 0.3em;box-sizing: border-box;text-align: center;}#sk-container-id-5 label.sk-toggleable__label-arrow:before {content: \"▸\";float: left;margin-right: 0.25em;color: #696969;}#sk-container-id-5 label.sk-toggleable__label-arrow:hover:before {color: black;}#sk-container-id-5 div.sk-estimator:hover label.sk-toggleable__label-arrow:before {color: black;}#sk-container-id-5 div.sk-toggleable__content {max-height: 0;max-width: 0;overflow: hidden;text-align: left;background-color: #f0f8ff;}#sk-container-id-5 div.sk-toggleable__content pre {margin: 0.2em;color: black;border-radius: 0.25em;background-color: #f0f8ff;}#sk-container-id-5 input.sk-toggleable__control:checked~div.sk-toggleable__content {max-height: 200px;max-width: 100%;overflow: auto;}#sk-container-id-5 input.sk-toggleable__control:checked~label.sk-toggleable__label-arrow:before {content: \"▾\";}#sk-container-id-5 div.sk-estimator input.sk-toggleable__control:checked~label.sk-toggleable__label {background-color: #d4ebff;}#sk-container-id-5 div.sk-label input.sk-toggleable__control:checked~label.sk-toggleable__label {background-color: #d4ebff;}#sk-container-id-5 input.sk-hidden--visually {border: 0;clip: rect(1px 1px 1px 1px);clip: rect(1px, 1px, 1px, 1px);height: 1px;margin: -1px;overflow: hidden;padding: 0;position: absolute;width: 1px;}#sk-container-id-5 div.sk-estimator {font-family: monospace;background-color: #f0f8ff;border: 1px dotted black;border-radius: 0.25em;box-sizing: border-box;margin-bottom: 0.5em;}#sk-container-id-5 div.sk-estimator:hover {background-color: #d4ebff;}#sk-container-id-5 div.sk-parallel-item::after {content: \"\";width: 100%;border-bottom: 1px solid gray;flex-grow: 1;}#sk-container-id-5 div.sk-label:hover label.sk-toggleable__label {background-color: #d4ebff;}#sk-container-id-5 div.sk-serial::before {content: \"\";position: absolute;border-left: 1px solid gray;box-sizing: border-box;top: 0;bottom: 0;left: 50%;z-index: 0;}#sk-container-id-5 div.sk-serial {display: flex;flex-direction: column;align-items: center;background-color: white;padding-right: 0.2em;padding-left: 0.2em;position: relative;}#sk-container-id-5 div.sk-item {position: relative;z-index: 1;}#sk-container-id-5 div.sk-parallel {display: flex;align-items: stretch;justify-content: center;background-color: white;position: relative;}#sk-container-id-5 div.sk-item::before, #sk-container-id-5 div.sk-parallel-item::before {content: \"\";position: absolute;border-left: 1px solid gray;box-sizing: border-box;top: 0;bottom: 0;left: 50%;z-index: -1;}#sk-container-id-5 div.sk-parallel-item {display: flex;flex-direction: column;z-index: 1;position: relative;background-color: white;}#sk-container-id-5 div.sk-parallel-item:first-child::after {align-self: flex-end;width: 50%;}#sk-container-id-5 div.sk-parallel-item:last-child::after {align-self: flex-start;width: 50%;}#sk-container-id-5 div.sk-parallel-item:only-child::after {width: 0;}#sk-container-id-5 div.sk-dashed-wrapped {border: 1px dashed gray;margin: 0 0.4em 0.5em 0.4em;box-sizing: border-box;padding-bottom: 0.4em;background-color: white;}#sk-container-id-5 div.sk-label label {font-family: monospace;font-weight: bold;display: inline-block;line-height: 1.2em;}#sk-container-id-5 div.sk-label-container {text-align: center;}#sk-container-id-5 div.sk-container {/* jupyter's `normalize.less` sets `[hidden] { display: none; }` but bootstrap.min.css set `[hidden] { display: none !important; }` so we also need the `!important` here to be able to override the default hidden behavior on the sphinx rendered scikit-learn.org. See: https://github.com/scikit-learn/scikit-learn/issues/21755 */display: inline-block !important;position: relative;}#sk-container-id-5 div.sk-text-repr-fallback {display: none;}</style><div id=\"sk-container-id-5\" class=\"sk-top-container\"><div class=\"sk-text-repr-fallback\"><pre>GridSearchCV(cv=5,\n",
       "             estimator=XGBRegressor(base_score=None, booster=None,\n",
       "                                    callbacks=None, colsample_bylevel=None,\n",
       "                                    colsample_bynode=None,\n",
       "                                    colsample_bytree=None,\n",
       "                                    early_stopping_rounds=None,\n",
       "                                    enable_categorical=False, eval_metric=None,\n",
       "                                    feature_types=None, gamma=None, gpu_id=None,\n",
       "                                    grow_policy=None, importance_type=None,\n",
       "                                    interaction_constraints=None,\n",
       "                                    learning_rate=None, max_bin=None,\n",
       "                                    max_cat_threshold=None,\n",
       "                                    max_cat_to_onehot=None, max_delta_step=None,\n",
       "                                    max_depth=None, max_leaves=None,\n",
       "                                    min_child_weight=None, missing=nan,\n",
       "                                    monotone_constraints=None, n_estimators=100,\n",
       "                                    n_jobs=None, num_parallel_tree=None,\n",
       "                                    predictor=None, random_state=None, ...),\n",
       "             param_grid={}, scoring=&#x27;neg_mean_squared_error&#x27;)</pre><b>In a Jupyter environment, please rerun this cell to show the HTML representation or trust the notebook. <br />On GitHub, the HTML representation is unable to render, please try loading this page with nbviewer.org.</b></div><div class=\"sk-container\" hidden><div class=\"sk-item sk-dashed-wrapped\"><div class=\"sk-label-container\"><div class=\"sk-label sk-toggleable\"><input class=\"sk-toggleable__control sk-hidden--visually\" id=\"sk-estimator-id-5\" type=\"checkbox\" ><label for=\"sk-estimator-id-5\" class=\"sk-toggleable__label sk-toggleable__label-arrow\">GridSearchCV</label><div class=\"sk-toggleable__content\"><pre>GridSearchCV(cv=5,\n",
       "             estimator=XGBRegressor(base_score=None, booster=None,\n",
       "                                    callbacks=None, colsample_bylevel=None,\n",
       "                                    colsample_bynode=None,\n",
       "                                    colsample_bytree=None,\n",
       "                                    early_stopping_rounds=None,\n",
       "                                    enable_categorical=False, eval_metric=None,\n",
       "                                    feature_types=None, gamma=None, gpu_id=None,\n",
       "                                    grow_policy=None, importance_type=None,\n",
       "                                    interaction_constraints=None,\n",
       "                                    learning_rate=None, max_bin=None,\n",
       "                                    max_cat_threshold=None,\n",
       "                                    max_cat_to_onehot=None, max_delta_step=None,\n",
       "                                    max_depth=None, max_leaves=None,\n",
       "                                    min_child_weight=None, missing=nan,\n",
       "                                    monotone_constraints=None, n_estimators=100,\n",
       "                                    n_jobs=None, num_parallel_tree=None,\n",
       "                                    predictor=None, random_state=None, ...),\n",
       "             param_grid={}, scoring=&#x27;neg_mean_squared_error&#x27;)</pre></div></div></div><div class=\"sk-parallel\"><div class=\"sk-parallel-item\"><div class=\"sk-item\"><div class=\"sk-label-container\"><div class=\"sk-label sk-toggleable\"><input class=\"sk-toggleable__control sk-hidden--visually\" id=\"sk-estimator-id-6\" type=\"checkbox\" ><label for=\"sk-estimator-id-6\" class=\"sk-toggleable__label sk-toggleable__label-arrow\">estimator: XGBRegressor</label><div class=\"sk-toggleable__content\"><pre>XGBRegressor(base_score=None, booster=None, callbacks=None,\n",
       "             colsample_bylevel=None, colsample_bynode=None,\n",
       "             colsample_bytree=None, early_stopping_rounds=None,\n",
       "             enable_categorical=False, eval_metric=None, feature_types=None,\n",
       "             gamma=None, gpu_id=None, grow_policy=None, importance_type=None,\n",
       "             interaction_constraints=None, learning_rate=None, max_bin=None,\n",
       "             max_cat_threshold=None, max_cat_to_onehot=None,\n",
       "             max_delta_step=None, max_depth=None, max_leaves=None,\n",
       "             min_child_weight=None, missing=nan, monotone_constraints=None,\n",
       "             n_estimators=100, n_jobs=None, num_parallel_tree=None,\n",
       "             predictor=None, random_state=None, ...)</pre></div></div></div><div class=\"sk-serial\"><div class=\"sk-item\"><div class=\"sk-estimator sk-toggleable\"><input class=\"sk-toggleable__control sk-hidden--visually\" id=\"sk-estimator-id-7\" type=\"checkbox\" ><label for=\"sk-estimator-id-7\" class=\"sk-toggleable__label sk-toggleable__label-arrow\">XGBRegressor</label><div class=\"sk-toggleable__content\"><pre>XGBRegressor(base_score=None, booster=None, callbacks=None,\n",
       "             colsample_bylevel=None, colsample_bynode=None,\n",
       "             colsample_bytree=None, early_stopping_rounds=None,\n",
       "             enable_categorical=False, eval_metric=None, feature_types=None,\n",
       "             gamma=None, gpu_id=None, grow_policy=None, importance_type=None,\n",
       "             interaction_constraints=None, learning_rate=None, max_bin=None,\n",
       "             max_cat_threshold=None, max_cat_to_onehot=None,\n",
       "             max_delta_step=None, max_depth=None, max_leaves=None,\n",
       "             min_child_weight=None, missing=nan, monotone_constraints=None,\n",
       "             n_estimators=100, n_jobs=None, num_parallel_tree=None,\n",
       "             predictor=None, random_state=None, ...)</pre></div></div></div></div></div></div></div></div></div></div>"
      ],
      "text/plain": [
       "GridSearchCV(cv=5,\n",
       "             estimator=XGBRegressor(base_score=None, booster=None,\n",
       "                                    callbacks=None, colsample_bylevel=None,\n",
       "                                    colsample_bynode=None,\n",
       "                                    colsample_bytree=None,\n",
       "                                    early_stopping_rounds=None,\n",
       "                                    enable_categorical=False, eval_metric=None,\n",
       "                                    feature_types=None, gamma=None, gpu_id=None,\n",
       "                                    grow_policy=None, importance_type=None,\n",
       "                                    interaction_constraints=None,\n",
       "                                    learning_rate=None, max_bin=None,\n",
       "                                    max_cat_threshold=None,\n",
       "                                    max_cat_to_onehot=None, max_delta_step=None,\n",
       "                                    max_depth=None, max_leaves=None,\n",
       "                                    min_child_weight=None, missing=nan,\n",
       "                                    monotone_constraints=None, n_estimators=100,\n",
       "                                    n_jobs=None, num_parallel_tree=None,\n",
       "                                    predictor=None, random_state=None, ...),\n",
       "             param_grid={}, scoring='neg_mean_squared_error')"
      ]
     },
     "execution_count": 89,
     "metadata": {},
     "output_type": "execute_result"
    }
   ],
   "source": [
    "#Cross Validation with Grid Search CV\n",
    "xgbr = XGBRegressor()\n",
    "parameters = {}\n",
    "xgbr_regressor = GridSearchCV(xgbr, parameters, scoring='neg_mean_squared_error', cv=5)\n",
    "xgbr_regressor.fit(X_train, y_train)"
   ]
  },
  {
   "cell_type": "code",
   "execution_count": 90,
   "id": "ce3e896b-9a19-4a8a-8221-64929f4c97ac",
   "metadata": {},
   "outputs": [
    {
     "data": {
      "text/plain": [
       "-1483216.3064384186"
      ]
     },
     "execution_count": 90,
     "metadata": {},
     "output_type": "execute_result"
    }
   ],
   "source": [
    "# Оцінюємо точність моделі на тренувальних даних\n",
    "xgbr_regressor.score(X_train, y_train)"
   ]
  },
  {
   "cell_type": "code",
   "execution_count": 91,
   "id": "a78b7bbf-f026-4b52-9426-609c5ff0d2a3",
   "metadata": {},
   "outputs": [],
   "source": [
    "# Робимо прогноз на тестувальну частину\n",
    "y_pred_xgbr1 = xgbr_regressor.predict(X_test)"
   ]
  },
  {
   "cell_type": "code",
   "execution_count": 92,
   "id": "59130899-9715-4087-80e2-df021518d3f3",
   "metadata": {},
   "outputs": [
    {
     "name": "stdout",
     "output_type": "stream",
     "text": [
      "MSE : 1482685.2803423682\n",
      "MAE : 869.0402358387971\n",
      "RMSE : 1217.655649328811\n",
      "R2 : 0.8457021723058048\n",
      "Adjusted R2 :  0.8456902937533515\n"
     ]
    }
   ],
   "source": [
    "# Оцінюємо показники моделі\n",
    "\n",
    "MSE  = mean_squared_error(y_test, y_pred_xgbr1)\n",
    "print(\"MSE :\" , MSE)\n",
    "\n",
    "MAE=mean_absolute_error(y_test, y_pred_xgbr1)\n",
    "print(\"MAE :\" ,MAE)\n",
    "\n",
    "RMSE = np.sqrt(MSE)\n",
    "print(\"RMSE :\" ,RMSE)\n",
    "\n",
    "r2 = r2_score(y_test, y_pred_xgbr1)\n",
    "print(\"R2 :\" ,r2)\n",
    "\n",
    "Adjusted_R2 = 1-(1-r2_score(y_test, y_pred_xgbr1))*((X_test.shape[0]-1)/(X_test.shape[0]-X_test.shape[1]-1))\n",
    "print(\"Adjusted R2 : \", Adjusted_R2)"
   ]
  },
  {
   "cell_type": "code",
   "execution_count": 93,
   "id": "d0f2f514-5206-4bb1-9541-84f2ab6e36b3",
   "metadata": {},
   "outputs": [
    {
     "data": {
      "text/html": [
       "<div>\n",
       "<style scoped>\n",
       "    .dataframe tbody tr th:only-of-type {\n",
       "        vertical-align: middle;\n",
       "    }\n",
       "\n",
       "    .dataframe tbody tr th {\n",
       "        vertical-align: top;\n",
       "    }\n",
       "\n",
       "    .dataframe thead th {\n",
       "        text-align: right;\n",
       "    }\n",
       "</style>\n",
       "<table border=\"1\" class=\"dataframe\">\n",
       "  <thead>\n",
       "    <tr style=\"text-align: right;\">\n",
       "      <th></th>\n",
       "      <th>Model</th>\n",
       "      <th>MSE</th>\n",
       "      <th>MAE</th>\n",
       "      <th>RMSE</th>\n",
       "      <th>R2 Score</th>\n",
       "      <th>Adjusted R2</th>\n",
       "    </tr>\n",
       "  </thead>\n",
       "  <tbody>\n",
       "    <tr>\n",
       "      <th>0</th>\n",
       "      <td>Linear Regression</td>\n",
       "      <td>7.856396e+06</td>\n",
       "      <td>2035.519542</td>\n",
       "      <td>2802.926347</td>\n",
       "      <td>0.182413</td>\n",
       "      <td>0.18235</td>\n",
       "    </tr>\n",
       "    <tr>\n",
       "      <th>1</th>\n",
       "      <td>Lasso Regression</td>\n",
       "      <td>7.856397e+06</td>\n",
       "      <td>2035.519352</td>\n",
       "      <td>2802.926421</td>\n",
       "      <td>0.182413</td>\n",
       "      <td>0.18235</td>\n",
       "    </tr>\n",
       "    <tr>\n",
       "      <th>2</th>\n",
       "      <td>Ridge Regression</td>\n",
       "      <td>7.856396e+06</td>\n",
       "      <td>2035.519542</td>\n",
       "      <td>2802.926347</td>\n",
       "      <td>0.182413</td>\n",
       "      <td>0.18235</td>\n",
       "    </tr>\n",
       "    <tr>\n",
       "      <th>3</th>\n",
       "      <td>XGBoost Regression</td>\n",
       "      <td>1.482685e+06</td>\n",
       "      <td>869.040236</td>\n",
       "      <td>1217.655649</td>\n",
       "      <td>0.845702</td>\n",
       "      <td>0.84569</td>\n",
       "    </tr>\n",
       "    <tr>\n",
       "      <th>4</th>\n",
       "      <td>XGBoost Regression (with CV)</td>\n",
       "      <td>1.482685e+06</td>\n",
       "      <td>869.040236</td>\n",
       "      <td>1217.655649</td>\n",
       "      <td>0.845702</td>\n",
       "      <td>0.84569</td>\n",
       "    </tr>\n",
       "  </tbody>\n",
       "</table>\n",
       "</div>"
      ],
      "text/plain": [
       "                          Model           MSE          MAE         RMSE  \\\n",
       "0             Linear Regression  7.856396e+06  2035.519542  2802.926347   \n",
       "1              Lasso Regression  7.856397e+06  2035.519352  2802.926421   \n",
       "2              Ridge Regression  7.856396e+06  2035.519542  2802.926347   \n",
       "3            XGBoost Regression  1.482685e+06   869.040236  1217.655649   \n",
       "4  XGBoost Regression (with CV)  1.482685e+06   869.040236  1217.655649   \n",
       "\n",
       "   R2 Score  Adjusted R2  \n",
       "0  0.182413      0.18235  \n",
       "1  0.182413      0.18235  \n",
       "2  0.182413      0.18235  \n",
       "3  0.845702      0.84569  \n",
       "4  0.845702      0.84569  "
      ]
     },
     "execution_count": 93,
     "metadata": {},
     "output_type": "execute_result"
    }
   ],
   "source": [
    "# Добавляємо показники моделі в список для порівняння\n",
    "XG1 = {'Model':'XGBoost Regression (with CV)', 'MSE': MSE, 'MAE':MAE, 'RMSE':RMSE, 'R2 Score': r2, 'Adjusted R2': Adjusted_R2}\n",
    "metrics = metrics.append(XG1,ignore_index=True)\n",
    "metrics"
   ]
  },
  {
   "cell_type": "markdown",
   "id": "3a1a49eb-86c8-4696-b684-15adeb1430d7",
   "metadata": {},
   "source": [
    "## `XG Boost Regressor з кросс валідацією та гіперпараметрами`"
   ]
  },
  {
   "cell_type": "code",
   "execution_count": 94,
   "id": "6bccb91b-02d6-4c4f-abf1-0bcffb2aa6c5",
   "metadata": {},
   "outputs": [
    {
     "data": {
      "text/html": [
       "<style>#sk-container-id-6 {color: black;background-color: white;}#sk-container-id-6 pre{padding: 0;}#sk-container-id-6 div.sk-toggleable {background-color: white;}#sk-container-id-6 label.sk-toggleable__label {cursor: pointer;display: block;width: 100%;margin-bottom: 0;padding: 0.3em;box-sizing: border-box;text-align: center;}#sk-container-id-6 label.sk-toggleable__label-arrow:before {content: \"▸\";float: left;margin-right: 0.25em;color: #696969;}#sk-container-id-6 label.sk-toggleable__label-arrow:hover:before {color: black;}#sk-container-id-6 div.sk-estimator:hover label.sk-toggleable__label-arrow:before {color: black;}#sk-container-id-6 div.sk-toggleable__content {max-height: 0;max-width: 0;overflow: hidden;text-align: left;background-color: #f0f8ff;}#sk-container-id-6 div.sk-toggleable__content pre {margin: 0.2em;color: black;border-radius: 0.25em;background-color: #f0f8ff;}#sk-container-id-6 input.sk-toggleable__control:checked~div.sk-toggleable__content {max-height: 200px;max-width: 100%;overflow: auto;}#sk-container-id-6 input.sk-toggleable__control:checked~label.sk-toggleable__label-arrow:before {content: \"▾\";}#sk-container-id-6 div.sk-estimator input.sk-toggleable__control:checked~label.sk-toggleable__label {background-color: #d4ebff;}#sk-container-id-6 div.sk-label input.sk-toggleable__control:checked~label.sk-toggleable__label {background-color: #d4ebff;}#sk-container-id-6 input.sk-hidden--visually {border: 0;clip: rect(1px 1px 1px 1px);clip: rect(1px, 1px, 1px, 1px);height: 1px;margin: -1px;overflow: hidden;padding: 0;position: absolute;width: 1px;}#sk-container-id-6 div.sk-estimator {font-family: monospace;background-color: #f0f8ff;border: 1px dotted black;border-radius: 0.25em;box-sizing: border-box;margin-bottom: 0.5em;}#sk-container-id-6 div.sk-estimator:hover {background-color: #d4ebff;}#sk-container-id-6 div.sk-parallel-item::after {content: \"\";width: 100%;border-bottom: 1px solid gray;flex-grow: 1;}#sk-container-id-6 div.sk-label:hover label.sk-toggleable__label {background-color: #d4ebff;}#sk-container-id-6 div.sk-serial::before {content: \"\";position: absolute;border-left: 1px solid gray;box-sizing: border-box;top: 0;bottom: 0;left: 50%;z-index: 0;}#sk-container-id-6 div.sk-serial {display: flex;flex-direction: column;align-items: center;background-color: white;padding-right: 0.2em;padding-left: 0.2em;position: relative;}#sk-container-id-6 div.sk-item {position: relative;z-index: 1;}#sk-container-id-6 div.sk-parallel {display: flex;align-items: stretch;justify-content: center;background-color: white;position: relative;}#sk-container-id-6 div.sk-item::before, #sk-container-id-6 div.sk-parallel-item::before {content: \"\";position: absolute;border-left: 1px solid gray;box-sizing: border-box;top: 0;bottom: 0;left: 50%;z-index: -1;}#sk-container-id-6 div.sk-parallel-item {display: flex;flex-direction: column;z-index: 1;position: relative;background-color: white;}#sk-container-id-6 div.sk-parallel-item:first-child::after {align-self: flex-end;width: 50%;}#sk-container-id-6 div.sk-parallel-item:last-child::after {align-self: flex-start;width: 50%;}#sk-container-id-6 div.sk-parallel-item:only-child::after {width: 0;}#sk-container-id-6 div.sk-dashed-wrapped {border: 1px dashed gray;margin: 0 0.4em 0.5em 0.4em;box-sizing: border-box;padding-bottom: 0.4em;background-color: white;}#sk-container-id-6 div.sk-label label {font-family: monospace;font-weight: bold;display: inline-block;line-height: 1.2em;}#sk-container-id-6 div.sk-label-container {text-align: center;}#sk-container-id-6 div.sk-container {/* jupyter's `normalize.less` sets `[hidden] { display: none; }` but bootstrap.min.css set `[hidden] { display: none !important; }` so we also need the `!important` here to be able to override the default hidden behavior on the sphinx rendered scikit-learn.org. See: https://github.com/scikit-learn/scikit-learn/issues/21755 */display: inline-block !important;position: relative;}#sk-container-id-6 div.sk-text-repr-fallback {display: none;}</style><div id=\"sk-container-id-6\" class=\"sk-top-container\"><div class=\"sk-text-repr-fallback\"><pre>GridSearchCV(cv=5,\n",
       "             estimator=XGBRegressor(base_score=None, booster=None,\n",
       "                                    callbacks=None, colsample_bylevel=None,\n",
       "                                    colsample_bynode=None,\n",
       "                                    colsample_bytree=None,\n",
       "                                    early_stopping_rounds=None,\n",
       "                                    enable_categorical=False, eval_metric=None,\n",
       "                                    feature_types=None, gamma=None, gpu_id=None,\n",
       "                                    grow_policy=None, importance_type=None,\n",
       "                                    interaction_constraints=None,\n",
       "                                    learning_rate=None, m...\n",
       "                                    max_cat_threshold=None,\n",
       "                                    max_cat_to_onehot=None, max_delta_step=None,\n",
       "                                    max_depth=None, max_leaves=None,\n",
       "                                    min_child_weight=None, missing=nan,\n",
       "                                    monotone_constraints=None, n_estimators=100,\n",
       "                                    n_jobs=None, num_parallel_tree=None,\n",
       "                                    predictor=None, random_state=None, ...),\n",
       "             n_jobs=-1,\n",
       "             param_grid={&#x27;max_depth&#x27;: [15], &#x27;n_estimators&#x27;: [120],\n",
       "                         &#x27;subsample&#x27;: [0.7]},\n",
       "             scoring=&#x27;neg_mean_squared_error&#x27;)</pre><b>In a Jupyter environment, please rerun this cell to show the HTML representation or trust the notebook. <br />On GitHub, the HTML representation is unable to render, please try loading this page with nbviewer.org.</b></div><div class=\"sk-container\" hidden><div class=\"sk-item sk-dashed-wrapped\"><div class=\"sk-label-container\"><div class=\"sk-label sk-toggleable\"><input class=\"sk-toggleable__control sk-hidden--visually\" id=\"sk-estimator-id-8\" type=\"checkbox\" ><label for=\"sk-estimator-id-8\" class=\"sk-toggleable__label sk-toggleable__label-arrow\">GridSearchCV</label><div class=\"sk-toggleable__content\"><pre>GridSearchCV(cv=5,\n",
       "             estimator=XGBRegressor(base_score=None, booster=None,\n",
       "                                    callbacks=None, colsample_bylevel=None,\n",
       "                                    colsample_bynode=None,\n",
       "                                    colsample_bytree=None,\n",
       "                                    early_stopping_rounds=None,\n",
       "                                    enable_categorical=False, eval_metric=None,\n",
       "                                    feature_types=None, gamma=None, gpu_id=None,\n",
       "                                    grow_policy=None, importance_type=None,\n",
       "                                    interaction_constraints=None,\n",
       "                                    learning_rate=None, m...\n",
       "                                    max_cat_threshold=None,\n",
       "                                    max_cat_to_onehot=None, max_delta_step=None,\n",
       "                                    max_depth=None, max_leaves=None,\n",
       "                                    min_child_weight=None, missing=nan,\n",
       "                                    monotone_constraints=None, n_estimators=100,\n",
       "                                    n_jobs=None, num_parallel_tree=None,\n",
       "                                    predictor=None, random_state=None, ...),\n",
       "             n_jobs=-1,\n",
       "             param_grid={&#x27;max_depth&#x27;: [15], &#x27;n_estimators&#x27;: [120],\n",
       "                         &#x27;subsample&#x27;: [0.7]},\n",
       "             scoring=&#x27;neg_mean_squared_error&#x27;)</pre></div></div></div><div class=\"sk-parallel\"><div class=\"sk-parallel-item\"><div class=\"sk-item\"><div class=\"sk-label-container\"><div class=\"sk-label sk-toggleable\"><input class=\"sk-toggleable__control sk-hidden--visually\" id=\"sk-estimator-id-9\" type=\"checkbox\" ><label for=\"sk-estimator-id-9\" class=\"sk-toggleable__label sk-toggleable__label-arrow\">estimator: XGBRegressor</label><div class=\"sk-toggleable__content\"><pre>XGBRegressor(base_score=None, booster=None, callbacks=None,\n",
       "             colsample_bylevel=None, colsample_bynode=None,\n",
       "             colsample_bytree=None, early_stopping_rounds=None,\n",
       "             enable_categorical=False, eval_metric=None, feature_types=None,\n",
       "             gamma=None, gpu_id=None, grow_policy=None, importance_type=None,\n",
       "             interaction_constraints=None, learning_rate=None, max_bin=None,\n",
       "             max_cat_threshold=None, max_cat_to_onehot=None,\n",
       "             max_delta_step=None, max_depth=None, max_leaves=None,\n",
       "             min_child_weight=None, missing=nan, monotone_constraints=None,\n",
       "             n_estimators=100, n_jobs=None, num_parallel_tree=None,\n",
       "             predictor=None, random_state=None, ...)</pre></div></div></div><div class=\"sk-serial\"><div class=\"sk-item\"><div class=\"sk-estimator sk-toggleable\"><input class=\"sk-toggleable__control sk-hidden--visually\" id=\"sk-estimator-id-10\" type=\"checkbox\" ><label for=\"sk-estimator-id-10\" class=\"sk-toggleable__label sk-toggleable__label-arrow\">XGBRegressor</label><div class=\"sk-toggleable__content\"><pre>XGBRegressor(base_score=None, booster=None, callbacks=None,\n",
       "             colsample_bylevel=None, colsample_bynode=None,\n",
       "             colsample_bytree=None, early_stopping_rounds=None,\n",
       "             enable_categorical=False, eval_metric=None, feature_types=None,\n",
       "             gamma=None, gpu_id=None, grow_policy=None, importance_type=None,\n",
       "             interaction_constraints=None, learning_rate=None, max_bin=None,\n",
       "             max_cat_threshold=None, max_cat_to_onehot=None,\n",
       "             max_delta_step=None, max_depth=None, max_leaves=None,\n",
       "             min_child_weight=None, missing=nan, monotone_constraints=None,\n",
       "             n_estimators=100, n_jobs=None, num_parallel_tree=None,\n",
       "             predictor=None, random_state=None, ...)</pre></div></div></div></div></div></div></div></div></div></div>"
      ],
      "text/plain": [
       "GridSearchCV(cv=5,\n",
       "             estimator=XGBRegressor(base_score=None, booster=None,\n",
       "                                    callbacks=None, colsample_bylevel=None,\n",
       "                                    colsample_bynode=None,\n",
       "                                    colsample_bytree=None,\n",
       "                                    early_stopping_rounds=None,\n",
       "                                    enable_categorical=False, eval_metric=None,\n",
       "                                    feature_types=None, gamma=None, gpu_id=None,\n",
       "                                    grow_policy=None, importance_type=None,\n",
       "                                    interaction_constraints=None,\n",
       "                                    learning_rate=None, m...\n",
       "                                    max_cat_threshold=None,\n",
       "                                    max_cat_to_onehot=None, max_delta_step=None,\n",
       "                                    max_depth=None, max_leaves=None,\n",
       "                                    min_child_weight=None, missing=nan,\n",
       "                                    monotone_constraints=None, n_estimators=100,\n",
       "                                    n_jobs=None, num_parallel_tree=None,\n",
       "                                    predictor=None, random_state=None, ...),\n",
       "             n_jobs=-1,\n",
       "             param_grid={'max_depth': [15], 'n_estimators': [120],\n",
       "                         'subsample': [0.7]},\n",
       "             scoring='neg_mean_squared_error')"
      ]
     },
     "execution_count": 94,
     "metadata": {},
     "output_type": "execute_result"
    }
   ],
   "source": [
    "xgbr = XGBRegressor()\n",
    "parameters = {\n",
    "             'max_depth': [15],\n",
    "             'n_estimators': [120],\n",
    "             'subsample': [0.7]\n",
    "             }\n",
    "xgbr_regressor = GridSearchCV(xgbr, parameters, scoring='neg_mean_squared_error', cv=5, n_jobs = -1)\n",
    "xgbr_regressor.fit(X_train, y_train)"
   ]
  },
  {
   "cell_type": "code",
   "execution_count": 95,
   "id": "25a392f4-00b3-4a18-9081-8cd5e6adcef9",
   "metadata": {},
   "outputs": [
    {
     "data": {
      "text/plain": [
       "-95719.45224897623"
      ]
     },
     "execution_count": 95,
     "metadata": {},
     "output_type": "execute_result"
    }
   ],
   "source": [
    "# Оцінюємо точність моделі на тренувальних даних\n",
    "xgbr_regressor.score(X_train, y_train)"
   ]
  },
  {
   "cell_type": "code",
   "execution_count": 96,
   "id": "1cc5c86f-62ca-4b34-b837-d0f18b74adad",
   "metadata": {},
   "outputs": [],
   "source": [
    "# Робимо прогноз на тестувальну частину\n",
    "y_pred_xgbr2 = xgbr_regressor.predict(X_test)"
   ]
  },
  {
   "cell_type": "code",
   "execution_count": 97,
   "id": "c1edbe4b-77d4-4ac0-aed1-3f997a2be9f2",
   "metadata": {},
   "outputs": [
    {
     "name": "stdout",
     "output_type": "stream",
     "text": [
      "MSE : 548156.45066276\n",
      "MAE : 502.08694544792235\n",
      "RMSE : 740.3758847117861\n",
      "R2 : 0.942955291527347\n",
      "Adjusted R2 :  0.9429508999647962\n"
     ]
    }
   ],
   "source": [
    "# Оцінюємо показники моделі\n",
    "\n",
    "MSE  = mean_squared_error(y_test, y_pred_xgbr2)\n",
    "print(\"MSE :\" , MSE)\n",
    "\n",
    "MAE=mean_absolute_error(y_test, y_pred_xgbr2)\n",
    "print(\"MAE :\" ,MAE)\n",
    "\n",
    "RMSE = np.sqrt(MSE)\n",
    "print(\"RMSE :\" ,RMSE)\n",
    "\n",
    "r2 = r2_score(y_test, y_pred_xgbr2)\n",
    "print(\"R2 :\" ,r2)\n",
    "\n",
    "Adjusted_R2 = 1-(1-r2_score(y_test, y_pred_xgbr2))*((X_test.shape[0]-1)/(X_test.shape[0]-X_test.shape[1]-1))\n",
    "print(\"Adjusted R2 : \", Adjusted_R2)"
   ]
  },
  {
   "cell_type": "code",
   "execution_count": 98,
   "id": "5a38936f-f7b1-47c4-b7a4-4efc0bb49832",
   "metadata": {},
   "outputs": [
    {
     "data": {
      "text/html": [
       "<div>\n",
       "<style scoped>\n",
       "    .dataframe tbody tr th:only-of-type {\n",
       "        vertical-align: middle;\n",
       "    }\n",
       "\n",
       "    .dataframe tbody tr th {\n",
       "        vertical-align: top;\n",
       "    }\n",
       "\n",
       "    .dataframe thead th {\n",
       "        text-align: right;\n",
       "    }\n",
       "</style>\n",
       "<table border=\"1\" class=\"dataframe\">\n",
       "  <thead>\n",
       "    <tr style=\"text-align: right;\">\n",
       "      <th></th>\n",
       "      <th>Model</th>\n",
       "      <th>MSE</th>\n",
       "      <th>MAE</th>\n",
       "      <th>RMSE</th>\n",
       "      <th>R2 Score</th>\n",
       "      <th>Adjusted R2</th>\n",
       "    </tr>\n",
       "  </thead>\n",
       "  <tbody>\n",
       "    <tr>\n",
       "      <th>0</th>\n",
       "      <td>Linear Regression</td>\n",
       "      <td>7.856396e+06</td>\n",
       "      <td>2035.519542</td>\n",
       "      <td>2802.926347</td>\n",
       "      <td>0.182413</td>\n",
       "      <td>0.182350</td>\n",
       "    </tr>\n",
       "    <tr>\n",
       "      <th>1</th>\n",
       "      <td>Lasso Regression</td>\n",
       "      <td>7.856397e+06</td>\n",
       "      <td>2035.519352</td>\n",
       "      <td>2802.926421</td>\n",
       "      <td>0.182413</td>\n",
       "      <td>0.182350</td>\n",
       "    </tr>\n",
       "    <tr>\n",
       "      <th>2</th>\n",
       "      <td>Ridge Regression</td>\n",
       "      <td>7.856396e+06</td>\n",
       "      <td>2035.519542</td>\n",
       "      <td>2802.926347</td>\n",
       "      <td>0.182413</td>\n",
       "      <td>0.182350</td>\n",
       "    </tr>\n",
       "    <tr>\n",
       "      <th>3</th>\n",
       "      <td>XGBoost Regression</td>\n",
       "      <td>1.482685e+06</td>\n",
       "      <td>869.040236</td>\n",
       "      <td>1217.655649</td>\n",
       "      <td>0.845702</td>\n",
       "      <td>0.845690</td>\n",
       "    </tr>\n",
       "    <tr>\n",
       "      <th>4</th>\n",
       "      <td>XGBoost Regression (with CV)</td>\n",
       "      <td>1.482685e+06</td>\n",
       "      <td>869.040236</td>\n",
       "      <td>1217.655649</td>\n",
       "      <td>0.845702</td>\n",
       "      <td>0.845690</td>\n",
       "    </tr>\n",
       "    <tr>\n",
       "      <th>5</th>\n",
       "      <td>XGBoost Regression (with CV and HP)</td>\n",
       "      <td>5.481565e+05</td>\n",
       "      <td>502.086945</td>\n",
       "      <td>740.375885</td>\n",
       "      <td>0.942955</td>\n",
       "      <td>0.942951</td>\n",
       "    </tr>\n",
       "  </tbody>\n",
       "</table>\n",
       "</div>"
      ],
      "text/plain": [
       "                                 Model           MSE          MAE  \\\n",
       "0                    Linear Regression  7.856396e+06  2035.519542   \n",
       "1                     Lasso Regression  7.856397e+06  2035.519352   \n",
       "2                     Ridge Regression  7.856396e+06  2035.519542   \n",
       "3                   XGBoost Regression  1.482685e+06   869.040236   \n",
       "4         XGBoost Regression (with CV)  1.482685e+06   869.040236   \n",
       "5  XGBoost Regression (with CV and HP)  5.481565e+05   502.086945   \n",
       "\n",
       "          RMSE  R2 Score  Adjusted R2  \n",
       "0  2802.926347  0.182413     0.182350  \n",
       "1  2802.926421  0.182413     0.182350  \n",
       "2  2802.926347  0.182413     0.182350  \n",
       "3  1217.655649  0.845702     0.845690  \n",
       "4  1217.655649  0.845702     0.845690  \n",
       "5   740.375885  0.942955     0.942951  "
      ]
     },
     "execution_count": 98,
     "metadata": {},
     "output_type": "execute_result"
    }
   ],
   "source": [
    "# Добавляємо показники моделі в список для порівняння\n",
    "XG2 = {'Model':'XGBoost Regression (with CV and HP)', 'MSE': MSE, 'MAE':MAE, 'RMSE':RMSE, 'R2 Score': r2, 'Adjusted R2': Adjusted_R2}\n",
    "metrics = metrics.append(XG2,ignore_index=True)\n",
    "metrics"
   ]
  },
  {
   "cell_type": "markdown",
   "id": "5941a233-7fa5-44cb-a914-40a7e1166f28",
   "metadata": {},
   "source": [
    "## `Random Forest Regressor`"
   ]
  },
  {
   "cell_type": "code",
   "execution_count": 99,
   "id": "f81fe493-8558-4fde-872c-72bc2c27ae5d",
   "metadata": {},
   "outputs": [],
   "source": [
    "# Створюємо модель\n",
    "rf_regressor = RandomForestRegressor()"
   ]
  },
  {
   "cell_type": "code",
   "execution_count": 100,
   "id": "8b2420de-7709-4dbe-9858-239eea104e90",
   "metadata": {},
   "outputs": [
    {
     "data": {
      "text/html": [
       "<style>#sk-container-id-7 {color: black;background-color: white;}#sk-container-id-7 pre{padding: 0;}#sk-container-id-7 div.sk-toggleable {background-color: white;}#sk-container-id-7 label.sk-toggleable__label {cursor: pointer;display: block;width: 100%;margin-bottom: 0;padding: 0.3em;box-sizing: border-box;text-align: center;}#sk-container-id-7 label.sk-toggleable__label-arrow:before {content: \"▸\";float: left;margin-right: 0.25em;color: #696969;}#sk-container-id-7 label.sk-toggleable__label-arrow:hover:before {color: black;}#sk-container-id-7 div.sk-estimator:hover label.sk-toggleable__label-arrow:before {color: black;}#sk-container-id-7 div.sk-toggleable__content {max-height: 0;max-width: 0;overflow: hidden;text-align: left;background-color: #f0f8ff;}#sk-container-id-7 div.sk-toggleable__content pre {margin: 0.2em;color: black;border-radius: 0.25em;background-color: #f0f8ff;}#sk-container-id-7 input.sk-toggleable__control:checked~div.sk-toggleable__content {max-height: 200px;max-width: 100%;overflow: auto;}#sk-container-id-7 input.sk-toggleable__control:checked~label.sk-toggleable__label-arrow:before {content: \"▾\";}#sk-container-id-7 div.sk-estimator input.sk-toggleable__control:checked~label.sk-toggleable__label {background-color: #d4ebff;}#sk-container-id-7 div.sk-label input.sk-toggleable__control:checked~label.sk-toggleable__label {background-color: #d4ebff;}#sk-container-id-7 input.sk-hidden--visually {border: 0;clip: rect(1px 1px 1px 1px);clip: rect(1px, 1px, 1px, 1px);height: 1px;margin: -1px;overflow: hidden;padding: 0;position: absolute;width: 1px;}#sk-container-id-7 div.sk-estimator {font-family: monospace;background-color: #f0f8ff;border: 1px dotted black;border-radius: 0.25em;box-sizing: border-box;margin-bottom: 0.5em;}#sk-container-id-7 div.sk-estimator:hover {background-color: #d4ebff;}#sk-container-id-7 div.sk-parallel-item::after {content: \"\";width: 100%;border-bottom: 1px solid gray;flex-grow: 1;}#sk-container-id-7 div.sk-label:hover label.sk-toggleable__label {background-color: #d4ebff;}#sk-container-id-7 div.sk-serial::before {content: \"\";position: absolute;border-left: 1px solid gray;box-sizing: border-box;top: 0;bottom: 0;left: 50%;z-index: 0;}#sk-container-id-7 div.sk-serial {display: flex;flex-direction: column;align-items: center;background-color: white;padding-right: 0.2em;padding-left: 0.2em;position: relative;}#sk-container-id-7 div.sk-item {position: relative;z-index: 1;}#sk-container-id-7 div.sk-parallel {display: flex;align-items: stretch;justify-content: center;background-color: white;position: relative;}#sk-container-id-7 div.sk-item::before, #sk-container-id-7 div.sk-parallel-item::before {content: \"\";position: absolute;border-left: 1px solid gray;box-sizing: border-box;top: 0;bottom: 0;left: 50%;z-index: -1;}#sk-container-id-7 div.sk-parallel-item {display: flex;flex-direction: column;z-index: 1;position: relative;background-color: white;}#sk-container-id-7 div.sk-parallel-item:first-child::after {align-self: flex-end;width: 50%;}#sk-container-id-7 div.sk-parallel-item:last-child::after {align-self: flex-start;width: 50%;}#sk-container-id-7 div.sk-parallel-item:only-child::after {width: 0;}#sk-container-id-7 div.sk-dashed-wrapped {border: 1px dashed gray;margin: 0 0.4em 0.5em 0.4em;box-sizing: border-box;padding-bottom: 0.4em;background-color: white;}#sk-container-id-7 div.sk-label label {font-family: monospace;font-weight: bold;display: inline-block;line-height: 1.2em;}#sk-container-id-7 div.sk-label-container {text-align: center;}#sk-container-id-7 div.sk-container {/* jupyter's `normalize.less` sets `[hidden] { display: none; }` but bootstrap.min.css set `[hidden] { display: none !important; }` so we also need the `!important` here to be able to override the default hidden behavior on the sphinx rendered scikit-learn.org. See: https://github.com/scikit-learn/scikit-learn/issues/21755 */display: inline-block !important;position: relative;}#sk-container-id-7 div.sk-text-repr-fallback {display: none;}</style><div id=\"sk-container-id-7\" class=\"sk-top-container\"><div class=\"sk-text-repr-fallback\"><pre>RandomForestRegressor()</pre><b>In a Jupyter environment, please rerun this cell to show the HTML representation or trust the notebook. <br />On GitHub, the HTML representation is unable to render, please try loading this page with nbviewer.org.</b></div><div class=\"sk-container\" hidden><div class=\"sk-item\"><div class=\"sk-estimator sk-toggleable\"><input class=\"sk-toggleable__control sk-hidden--visually\" id=\"sk-estimator-id-11\" type=\"checkbox\" checked><label for=\"sk-estimator-id-11\" class=\"sk-toggleable__label sk-toggleable__label-arrow\">RandomForestRegressor</label><div class=\"sk-toggleable__content\"><pre>RandomForestRegressor()</pre></div></div></div></div></div>"
      ],
      "text/plain": [
       "RandomForestRegressor()"
      ]
     },
     "execution_count": 100,
     "metadata": {},
     "output_type": "execute_result"
    }
   ],
   "source": [
    "# Тренуємо модель\n",
    "rf_regressor.fit(X_train,y_train)"
   ]
  },
  {
   "cell_type": "code",
   "execution_count": 101,
   "id": "602b4c96-9802-47ba-bab3-8c4b483f402e",
   "metadata": {},
   "outputs": [
    {
     "data": {
      "text/plain": [
       "0.986734087217892"
      ]
     },
     "execution_count": 101,
     "metadata": {},
     "output_type": "execute_result"
    }
   ],
   "source": [
    "# Оцінюємо точність моделі на тренувальних даних\n",
    "rf_regressor.score(X_train,y_train)"
   ]
  },
  {
   "cell_type": "code",
   "execution_count": 102,
   "id": "586da6e8-0fa7-48dc-98bb-2b1207cf9e6d",
   "metadata": {},
   "outputs": [],
   "source": [
    "# Робимо прогноз на тестувальну частину\n",
    "y_pred_rf = rf_regressor.predict(X_test)"
   ]
  },
  {
   "cell_type": "code",
   "execution_count": 103,
   "id": "f68095f4-db28-46ab-b938-03271e23f06d",
   "metadata": {},
   "outputs": [
    {
     "name": "stdout",
     "output_type": "stream",
     "text": [
      "MSE : 896195.1669772597\n",
      "MAE : 615.2258675146112\n",
      "RMSE : 946.6758510584601\n",
      "R2 : 0.9067361298530615\n",
      "Adjusted R2 :  0.9067289499737976\n"
     ]
    }
   ],
   "source": [
    "# Оцінюємо показники моделі\n",
    "\n",
    "MSE  = mean_squared_error(y_test, y_pred_rf)\n",
    "print(\"MSE :\" , MSE)\n",
    "\n",
    "MAE=mean_absolute_error(y_test, y_pred_rf)\n",
    "print(\"MAE :\" ,MAE)\n",
    "\n",
    "RMSE = np.sqrt(MSE)\n",
    "print(\"RMSE :\" ,RMSE)\n",
    "\n",
    "r2 = r2_score(y_test, y_pred_rf)\n",
    "print(\"R2 :\" ,r2)\n",
    "\n",
    "Adjusted_R2 = 1-(1-r2_score(y_test, y_pred_rf))*((X_test.shape[0]-1)/(X_test.shape[0]-X_test.shape[1]-1))\n",
    "print(\"Adjusted R2 : \", Adjusted_R2)"
   ]
  },
  {
   "cell_type": "code",
   "execution_count": 104,
   "id": "070665b0-c393-445d-a0a1-414822d48edf",
   "metadata": {},
   "outputs": [
    {
     "data": {
      "image/png": "[encoded data removed]",
      "text/plain": [
       "<Figure size 640x480 with 1 Axes>"
      ]
     },
     "metadata": {},
     "output_type": "display_data"
    }
   ],
   "source": [
    "# Візуалізуємо значимість змінніх в нашій моделі\n",
    "important_features = pd.Series(rf_regressor.feature_importances_, index=X.columns)\n",
    "important_features.nlargest(8).plot(kind='barh')\n",
    "plt.title('Значимість змінніх для Random Forest Regressor Model')\n",
    "plt.show()"
   ]
  },
  {
   "cell_type": "code",
   "execution_count": 105,
   "id": "b2eafbc9-712e-4965-a04e-6d26e09cc41b",
   "metadata": {},
   "outputs": [
    {
     "data": {
      "text/html": [
       "<div>\n",
       "<style scoped>\n",
       "    .dataframe tbody tr th:only-of-type {\n",
       "        vertical-align: middle;\n",
       "    }\n",
       "\n",
       "    .dataframe tbody tr th {\n",
       "        vertical-align: top;\n",
       "    }\n",
       "\n",
       "    .dataframe thead th {\n",
       "        text-align: right;\n",
       "    }\n",
       "</style>\n",
       "<table border=\"1\" class=\"dataframe\">\n",
       "  <thead>\n",
       "    <tr style=\"text-align: right;\">\n",
       "      <th></th>\n",
       "      <th>Model</th>\n",
       "      <th>MSE</th>\n",
       "      <th>MAE</th>\n",
       "      <th>RMSE</th>\n",
       "      <th>R2 Score</th>\n",
       "      <th>Adjusted R2</th>\n",
       "    </tr>\n",
       "  </thead>\n",
       "  <tbody>\n",
       "    <tr>\n",
       "      <th>0</th>\n",
       "      <td>Linear Regression</td>\n",
       "      <td>7.856396e+06</td>\n",
       "      <td>2035.519542</td>\n",
       "      <td>2802.926347</td>\n",
       "      <td>0.182413</td>\n",
       "      <td>0.182350</td>\n",
       "    </tr>\n",
       "    <tr>\n",
       "      <th>1</th>\n",
       "      <td>Lasso Regression</td>\n",
       "      <td>7.856397e+06</td>\n",
       "      <td>2035.519352</td>\n",
       "      <td>2802.926421</td>\n",
       "      <td>0.182413</td>\n",
       "      <td>0.182350</td>\n",
       "    </tr>\n",
       "    <tr>\n",
       "      <th>2</th>\n",
       "      <td>Ridge Regression</td>\n",
       "      <td>7.856396e+06</td>\n",
       "      <td>2035.519542</td>\n",
       "      <td>2802.926347</td>\n",
       "      <td>0.182413</td>\n",
       "      <td>0.182350</td>\n",
       "    </tr>\n",
       "    <tr>\n",
       "      <th>3</th>\n",
       "      <td>XGBoost Regression</td>\n",
       "      <td>1.482685e+06</td>\n",
       "      <td>869.040236</td>\n",
       "      <td>1217.655649</td>\n",
       "      <td>0.845702</td>\n",
       "      <td>0.845690</td>\n",
       "    </tr>\n",
       "    <tr>\n",
       "      <th>4</th>\n",
       "      <td>XGBoost Regression (with CV)</td>\n",
       "      <td>1.482685e+06</td>\n",
       "      <td>869.040236</td>\n",
       "      <td>1217.655649</td>\n",
       "      <td>0.845702</td>\n",
       "      <td>0.845690</td>\n",
       "    </tr>\n",
       "    <tr>\n",
       "      <th>5</th>\n",
       "      <td>XGBoost Regression (with CV and HP)</td>\n",
       "      <td>5.481565e+05</td>\n",
       "      <td>502.086945</td>\n",
       "      <td>740.375885</td>\n",
       "      <td>0.942955</td>\n",
       "      <td>0.942951</td>\n",
       "    </tr>\n",
       "    <tr>\n",
       "      <th>6</th>\n",
       "      <td>Random Forest Regression</td>\n",
       "      <td>8.961952e+05</td>\n",
       "      <td>615.225868</td>\n",
       "      <td>946.675851</td>\n",
       "      <td>0.906736</td>\n",
       "      <td>0.906729</td>\n",
       "    </tr>\n",
       "  </tbody>\n",
       "</table>\n",
       "</div>"
      ],
      "text/plain": [
       "                                 Model           MSE          MAE  \\\n",
       "0                    Linear Regression  7.856396e+06  2035.519542   \n",
       "1                     Lasso Regression  7.856397e+06  2035.519352   \n",
       "2                     Ridge Regression  7.856396e+06  2035.519542   \n",
       "3                   XGBoost Regression  1.482685e+06   869.040236   \n",
       "4         XGBoost Regression (with CV)  1.482685e+06   869.040236   \n",
       "5  XGBoost Regression (with CV and HP)  5.481565e+05   502.086945   \n",
       "6            Random Forest Regression   8.961952e+05   615.225868   \n",
       "\n",
       "          RMSE  R2 Score  Adjusted R2  \n",
       "0  2802.926347  0.182413     0.182350  \n",
       "1  2802.926421  0.182413     0.182350  \n",
       "2  2802.926347  0.182413     0.182350  \n",
       "3  1217.655649  0.845702     0.845690  \n",
       "4  1217.655649  0.845702     0.845690  \n",
       "5   740.375885  0.942955     0.942951  \n",
       "6   946.675851  0.906736     0.906729  "
      ]
     },
     "execution_count": 105,
     "metadata": {},
     "output_type": "execute_result"
    }
   ],
   "source": [
    "# Добавляємо показники моделі в список для порівняння\n",
    "RF = {'Model':'Random Forest Regression ', 'MSE': MSE, 'MAE':MAE, 'RMSE':RMSE, 'R2 Score': r2, 'Adjusted R2': Adjusted_R2}\n",
    "metrics = metrics.append(RF,ignore_index=True)\n",
    "metrics"
   ]
  },
  {
   "cell_type": "markdown",
   "id": "dfe7d7e6-a2b8-4ed8-9fec-0b53a5eda8f2",
   "metadata": {},
   "source": [
    "## `Random Forest Regressor з кросс валідацією`"
   ]
  },
  {
   "cell_type": "code",
   "execution_count": 106,
   "id": "615e6baa-6da0-488e-a3ac-6d6cf49e5029",
   "metadata": {},
   "outputs": [
    {
     "data": {
      "text/html": [
       "<style>#sk-container-id-8 {color: black;background-color: white;}#sk-container-id-8 pre{padding: 0;}#sk-container-id-8 div.sk-toggleable {background-color: white;}#sk-container-id-8 label.sk-toggleable__label {cursor: pointer;display: block;width: 100%;margin-bottom: 0;padding: 0.3em;box-sizing: border-box;text-align: center;}#sk-container-id-8 label.sk-toggleable__label-arrow:before {content: \"▸\";float: left;margin-right: 0.25em;color: #696969;}#sk-container-id-8 label.sk-toggleable__label-arrow:hover:before {color: black;}#sk-container-id-8 div.sk-estimator:hover label.sk-toggleable__label-arrow:before {color: black;}#sk-container-id-8 div.sk-toggleable__content {max-height: 0;max-width: 0;overflow: hidden;text-align: left;background-color: #f0f8ff;}#sk-container-id-8 div.sk-toggleable__content pre {margin: 0.2em;color: black;border-radius: 0.25em;background-color: #f0f8ff;}#sk-container-id-8 input.sk-toggleable__control:checked~div.sk-toggleable__content {max-height: 200px;max-width: 100%;overflow: auto;}#sk-container-id-8 input.sk-toggleable__control:checked~label.sk-toggleable__label-arrow:before {content: \"▾\";}#sk-container-id-8 div.sk-estimator input.sk-toggleable__control:checked~label.sk-toggleable__label {background-color: #d4ebff;}#sk-container-id-8 div.sk-label input.sk-toggleable__control:checked~label.sk-toggleable__label {background-color: #d4ebff;}#sk-container-id-8 input.sk-hidden--visually {border: 0;clip: rect(1px 1px 1px 1px);clip: rect(1px, 1px, 1px, 1px);height: 1px;margin: -1px;overflow: hidden;padding: 0;position: absolute;width: 1px;}#sk-container-id-8 div.sk-estimator {font-family: monospace;background-color: #f0f8ff;border: 1px dotted black;border-radius: 0.25em;box-sizing: border-box;margin-bottom: 0.5em;}#sk-container-id-8 div.sk-estimator:hover {background-color: #d4ebff;}#sk-container-id-8 div.sk-parallel-item::after {content: \"\";width: 100%;border-bottom: 1px solid gray;flex-grow: 1;}#sk-container-id-8 div.sk-label:hover label.sk-toggleable__label {background-color: #d4ebff;}#sk-container-id-8 div.sk-serial::before {content: \"\";position: absolute;border-left: 1px solid gray;box-sizing: border-box;top: 0;bottom: 0;left: 50%;z-index: 0;}#sk-container-id-8 div.sk-serial {display: flex;flex-direction: column;align-items: center;background-color: white;padding-right: 0.2em;padding-left: 0.2em;position: relative;}#sk-container-id-8 div.sk-item {position: relative;z-index: 1;}#sk-container-id-8 div.sk-parallel {display: flex;align-items: stretch;justify-content: center;background-color: white;position: relative;}#sk-container-id-8 div.sk-item::before, #sk-container-id-8 div.sk-parallel-item::before {content: \"\";position: absolute;border-left: 1px solid gray;box-sizing: border-box;top: 0;bottom: 0;left: 50%;z-index: -1;}#sk-container-id-8 div.sk-parallel-item {display: flex;flex-direction: column;z-index: 1;position: relative;background-color: white;}#sk-container-id-8 div.sk-parallel-item:first-child::after {align-self: flex-end;width: 50%;}#sk-container-id-8 div.sk-parallel-item:last-child::after {align-self: flex-start;width: 50%;}#sk-container-id-8 div.sk-parallel-item:only-child::after {width: 0;}#sk-container-id-8 div.sk-dashed-wrapped {border: 1px dashed gray;margin: 0 0.4em 0.5em 0.4em;box-sizing: border-box;padding-bottom: 0.4em;background-color: white;}#sk-container-id-8 div.sk-label label {font-family: monospace;font-weight: bold;display: inline-block;line-height: 1.2em;}#sk-container-id-8 div.sk-label-container {text-align: center;}#sk-container-id-8 div.sk-container {/* jupyter's `normalize.less` sets `[hidden] { display: none; }` but bootstrap.min.css set `[hidden] { display: none !important; }` so we also need the `!important` here to be able to override the default hidden behavior on the sphinx rendered scikit-learn.org. See: https://github.com/scikit-learn/scikit-learn/issues/21755 */display: inline-block !important;position: relative;}#sk-container-id-8 div.sk-text-repr-fallback {display: none;}</style><div id=\"sk-container-id-8\" class=\"sk-top-container\"><div class=\"sk-text-repr-fallback\"><pre>GridSearchCV(cv=5, estimator=RandomForestRegressor(), n_jobs=-1, param_grid={},\n",
       "             scoring=&#x27;neg_mean_squared_error&#x27;)</pre><b>In a Jupyter environment, please rerun this cell to show the HTML representation or trust the notebook. <br />On GitHub, the HTML representation is unable to render, please try loading this page with nbviewer.org.</b></div><div class=\"sk-container\" hidden><div class=\"sk-item sk-dashed-wrapped\"><div class=\"sk-label-container\"><div class=\"sk-label sk-toggleable\"><input class=\"sk-toggleable__control sk-hidden--visually\" id=\"sk-estimator-id-12\" type=\"checkbox\" ><label for=\"sk-estimator-id-12\" class=\"sk-toggleable__label sk-toggleable__label-arrow\">GridSearchCV</label><div class=\"sk-toggleable__content\"><pre>GridSearchCV(cv=5, estimator=RandomForestRegressor(), n_jobs=-1, param_grid={},\n",
       "             scoring=&#x27;neg_mean_squared_error&#x27;)</pre></div></div></div><div class=\"sk-parallel\"><div class=\"sk-parallel-item\"><div class=\"sk-item\"><div class=\"sk-label-container\"><div class=\"sk-label sk-toggleable\"><input class=\"sk-toggleable__control sk-hidden--visually\" id=\"sk-estimator-id-13\" type=\"checkbox\" ><label for=\"sk-estimator-id-13\" class=\"sk-toggleable__label sk-toggleable__label-arrow\">estimator: RandomForestRegressor</label><div class=\"sk-toggleable__content\"><pre>RandomForestRegressor()</pre></div></div></div><div class=\"sk-serial\"><div class=\"sk-item\"><div class=\"sk-estimator sk-toggleable\"><input class=\"sk-toggleable__control sk-hidden--visually\" id=\"sk-estimator-id-14\" type=\"checkbox\" ><label for=\"sk-estimator-id-14\" class=\"sk-toggleable__label sk-toggleable__label-arrow\">RandomForestRegressor</label><div class=\"sk-toggleable__content\"><pre>RandomForestRegressor()</pre></div></div></div></div></div></div></div></div></div></div>"
      ],
      "text/plain": [
       "GridSearchCV(cv=5, estimator=RandomForestRegressor(), n_jobs=-1, param_grid={},\n",
       "             scoring='neg_mean_squared_error')"
      ]
     },
     "execution_count": 106,
     "metadata": {},
     "output_type": "execute_result"
    }
   ],
   "source": [
    "#Cross Validation with Grid Search CV\n",
    "\n",
    "rf_regressor = RandomForestRegressor()\n",
    "parameters = {}\n",
    "rf_regressor = GridSearchCV(rf_regressor,parameters, scoring='neg_mean_squared_error', cv=5, n_jobs = -1)\n",
    "rf_regressor.fit(X_train, y_train)"
   ]
  },
  {
   "cell_type": "code",
   "execution_count": 107,
   "id": "faea8712-fc9a-4567-8637-a38a15484a51",
   "metadata": {},
   "outputs": [
    {
     "data": {
      "text/plain": [
       "<bound method BaseSearchCV.score of GridSearchCV(cv=5, estimator=RandomForestRegressor(), n_jobs=-1, param_grid={},\n",
       "             scoring='neg_mean_squared_error')>"
      ]
     },
     "execution_count": 107,
     "metadata": {},
     "output_type": "execute_result"
    }
   ],
   "source": [
    "rf_regressor.score"
   ]
  },
  {
   "cell_type": "code",
   "execution_count": 108,
   "id": "673503e6-674a-43c9-8d22-8b5ffd40fa3e",
   "metadata": {},
   "outputs": [],
   "source": [
    "# Робимо прогноз на тестувальну частину\n",
    "y_pred_rf_cv = rf_regressor.predict(X_test)"
   ]
  },
  {
   "cell_type": "code",
   "execution_count": 109,
   "id": "a0c35b36-7786-47ce-be34-d6637efb7526",
   "metadata": {},
   "outputs": [
    {
     "name": "stdout",
     "output_type": "stream",
     "text": [
      "MSE : 894080.8004179928\n",
      "MAE : 614.5968009047896\n",
      "RMSE : 945.558459545465\n",
      "R2 : 0.9069561645235135\n",
      "Adjusted R2 :  0.9069490015835248\n"
     ]
    }
   ],
   "source": [
    "# Оцінюємо показники моделі\n",
    "\n",
    "MSE  = mean_squared_error(y_test, y_pred_rf_cv)\n",
    "print(\"MSE :\" , MSE)\n",
    "\n",
    "MAE=mean_absolute_error(y_test, y_pred_rf_cv)\n",
    "print(\"MAE :\" ,MAE)\n",
    "\n",
    "RMSE = np.sqrt(MSE)\n",
    "print(\"RMSE :\" ,RMSE)\n",
    "\n",
    "r2 = r2_score(y_test, y_pred_rf_cv)\n",
    "print(\"R2 :\" ,r2)\n",
    "\n",
    "Adjusted_R2 = 1-(1-r2_score(y_test, y_pred_rf_cv))*((X_test.shape[0]-1)/(X_test.shape[0]-X_test.shape[1]-1))\n",
    "print(\"Adjusted R2 : \", Adjusted_R2)"
   ]
  },
  {
   "cell_type": "code",
   "execution_count": 110,
   "id": "b8602df5-5296-4ae8-bc85-a6aad3b534d7",
   "metadata": {},
   "outputs": [
    {
     "data": {
      "text/html": [
       "<div>\n",
       "<style scoped>\n",
       "    .dataframe tbody tr th:only-of-type {\n",
       "        vertical-align: middle;\n",
       "    }\n",
       "\n",
       "    .dataframe tbody tr th {\n",
       "        vertical-align: top;\n",
       "    }\n",
       "\n",
       "    .dataframe thead th {\n",
       "        text-align: right;\n",
       "    }\n",
       "</style>\n",
       "<table border=\"1\" class=\"dataframe\">\n",
       "  <thead>\n",
       "    <tr style=\"text-align: right;\">\n",
       "      <th></th>\n",
       "      <th>Model</th>\n",
       "      <th>MSE</th>\n",
       "      <th>MAE</th>\n",
       "      <th>RMSE</th>\n",
       "      <th>R2 Score</th>\n",
       "      <th>Adjusted R2</th>\n",
       "    </tr>\n",
       "  </thead>\n",
       "  <tbody>\n",
       "    <tr>\n",
       "      <th>0</th>\n",
       "      <td>Linear Regression</td>\n",
       "      <td>7.856396e+06</td>\n",
       "      <td>2035.519542</td>\n",
       "      <td>2802.926347</td>\n",
       "      <td>0.182413</td>\n",
       "      <td>0.182350</td>\n",
       "    </tr>\n",
       "    <tr>\n",
       "      <th>1</th>\n",
       "      <td>Lasso Regression</td>\n",
       "      <td>7.856397e+06</td>\n",
       "      <td>2035.519352</td>\n",
       "      <td>2802.926421</td>\n",
       "      <td>0.182413</td>\n",
       "      <td>0.182350</td>\n",
       "    </tr>\n",
       "    <tr>\n",
       "      <th>2</th>\n",
       "      <td>Ridge Regression</td>\n",
       "      <td>7.856396e+06</td>\n",
       "      <td>2035.519542</td>\n",
       "      <td>2802.926347</td>\n",
       "      <td>0.182413</td>\n",
       "      <td>0.182350</td>\n",
       "    </tr>\n",
       "    <tr>\n",
       "      <th>3</th>\n",
       "      <td>XGBoost Regression</td>\n",
       "      <td>1.482685e+06</td>\n",
       "      <td>869.040236</td>\n",
       "      <td>1217.655649</td>\n",
       "      <td>0.845702</td>\n",
       "      <td>0.845690</td>\n",
       "    </tr>\n",
       "    <tr>\n",
       "      <th>4</th>\n",
       "      <td>XGBoost Regression (with CV)</td>\n",
       "      <td>1.482685e+06</td>\n",
       "      <td>869.040236</td>\n",
       "      <td>1217.655649</td>\n",
       "      <td>0.845702</td>\n",
       "      <td>0.845690</td>\n",
       "    </tr>\n",
       "    <tr>\n",
       "      <th>5</th>\n",
       "      <td>XGBoost Regression (with CV and HP)</td>\n",
       "      <td>5.481565e+05</td>\n",
       "      <td>502.086945</td>\n",
       "      <td>740.375885</td>\n",
       "      <td>0.942955</td>\n",
       "      <td>0.942951</td>\n",
       "    </tr>\n",
       "    <tr>\n",
       "      <th>6</th>\n",
       "      <td>Random Forest Regression</td>\n",
       "      <td>8.961952e+05</td>\n",
       "      <td>615.225868</td>\n",
       "      <td>946.675851</td>\n",
       "      <td>0.906736</td>\n",
       "      <td>0.906729</td>\n",
       "    </tr>\n",
       "    <tr>\n",
       "      <th>7</th>\n",
       "      <td>Random Forest Regression (with CV)</td>\n",
       "      <td>8.940808e+05</td>\n",
       "      <td>614.596801</td>\n",
       "      <td>945.558460</td>\n",
       "      <td>0.906956</td>\n",
       "      <td>0.906949</td>\n",
       "    </tr>\n",
       "  </tbody>\n",
       "</table>\n",
       "</div>"
      ],
      "text/plain": [
       "                                 Model           MSE          MAE  \\\n",
       "0                    Linear Regression  7.856396e+06  2035.519542   \n",
       "1                     Lasso Regression  7.856397e+06  2035.519352   \n",
       "2                     Ridge Regression  7.856396e+06  2035.519542   \n",
       "3                   XGBoost Regression  1.482685e+06   869.040236   \n",
       "4         XGBoost Regression (with CV)  1.482685e+06   869.040236   \n",
       "5  XGBoost Regression (with CV and HP)  5.481565e+05   502.086945   \n",
       "6            Random Forest Regression   8.961952e+05   615.225868   \n",
       "7   Random Forest Regression (with CV)  8.940808e+05   614.596801   \n",
       "\n",
       "          RMSE  R2 Score  Adjusted R2  \n",
       "0  2802.926347  0.182413     0.182350  \n",
       "1  2802.926421  0.182413     0.182350  \n",
       "2  2802.926347  0.182413     0.182350  \n",
       "3  1217.655649  0.845702     0.845690  \n",
       "4  1217.655649  0.845702     0.845690  \n",
       "5   740.375885  0.942955     0.942951  \n",
       "6   946.675851  0.906736     0.906729  \n",
       "7   945.558460  0.906956     0.906949  "
      ]
     },
     "execution_count": 110,
     "metadata": {},
     "output_type": "execute_result"
    }
   ],
   "source": [
    "# Добавляємо показники моделі в список для порівняння\n",
    "RF1 = {'Model':'Random Forest Regression (with CV)', 'MSE': MSE, 'MAE':MAE, 'RMSE':RMSE, 'R2 Score': r2, 'Adjusted R2': Adjusted_R2}\n",
    "metrics = metrics.append(RF1,ignore_index=True)\n",
    "metrics"
   ]
  },
  {
   "cell_type": "markdown",
   "id": "ce269daf-7dd7-4709-9e2e-9c17f7f7933d",
   "metadata": {},
   "source": [
    "## `Random Forest Regressor з кросс валідацією та гіперпараметрами`"
   ]
  },
  {
   "cell_type": "code",
   "execution_count": 111,
   "id": "2e307ff7-00b7-4c12-9ba9-ca014149f9ae",
   "metadata": {},
   "outputs": [
    {
     "name": "stdout",
     "output_type": "stream",
     "text": [
      "Fitting 5 folds for each of 2 candidates, totalling 10 fits\n"
     ]
    },
    {
     "data": {
      "text/html": [
       "<style>#sk-container-id-9 {color: black;background-color: white;}#sk-container-id-9 pre{padding: 0;}#sk-container-id-9 div.sk-toggleable {background-color: white;}#sk-container-id-9 label.sk-toggleable__label {cursor: pointer;display: block;width: 100%;margin-bottom: 0;padding: 0.3em;box-sizing: border-box;text-align: center;}#sk-container-id-9 label.sk-toggleable__label-arrow:before {content: \"▸\";float: left;margin-right: 0.25em;color: #696969;}#sk-container-id-9 label.sk-toggleable__label-arrow:hover:before {color: black;}#sk-container-id-9 div.sk-estimator:hover label.sk-toggleable__label-arrow:before {color: black;}#sk-container-id-9 div.sk-toggleable__content {max-height: 0;max-width: 0;overflow: hidden;text-align: left;background-color: #f0f8ff;}#sk-container-id-9 div.sk-toggleable__content pre {margin: 0.2em;color: black;border-radius: 0.25em;background-color: #f0f8ff;}#sk-container-id-9 input.sk-toggleable__control:checked~div.sk-toggleable__content {max-height: 200px;max-width: 100%;overflow: auto;}#sk-container-id-9 input.sk-toggleable__control:checked~label.sk-toggleable__label-arrow:before {content: \"▾\";}#sk-container-id-9 div.sk-estimator input.sk-toggleable__control:checked~label.sk-toggleable__label {background-color: #d4ebff;}#sk-container-id-9 div.sk-label input.sk-toggleable__control:checked~label.sk-toggleable__label {background-color: #d4ebff;}#sk-container-id-9 input.sk-hidden--visually {border: 0;clip: rect(1px 1px 1px 1px);clip: rect(1px, 1px, 1px, 1px);height: 1px;margin: -1px;overflow: hidden;padding: 0;position: absolute;width: 1px;}#sk-container-id-9 div.sk-estimator {font-family: monospace;background-color: #f0f8ff;border: 1px dotted black;border-radius: 0.25em;box-sizing: border-box;margin-bottom: 0.5em;}#sk-container-id-9 div.sk-estimator:hover {background-color: #d4ebff;}#sk-container-id-9 div.sk-parallel-item::after {content: \"\";width: 100%;border-bottom: 1px solid gray;flex-grow: 1;}#sk-container-id-9 div.sk-label:hover label.sk-toggleable__label {background-color: #d4ebff;}#sk-container-id-9 div.sk-serial::before {content: \"\";position: absolute;border-left: 1px solid gray;box-sizing: border-box;top: 0;bottom: 0;left: 50%;z-index: 0;}#sk-container-id-9 div.sk-serial {display: flex;flex-direction: column;align-items: center;background-color: white;padding-right: 0.2em;padding-left: 0.2em;position: relative;}#sk-container-id-9 div.sk-item {position: relative;z-index: 1;}#sk-container-id-9 div.sk-parallel {display: flex;align-items: stretch;justify-content: center;background-color: white;position: relative;}#sk-container-id-9 div.sk-item::before, #sk-container-id-9 div.sk-parallel-item::before {content: \"\";position: absolute;border-left: 1px solid gray;box-sizing: border-box;top: 0;bottom: 0;left: 50%;z-index: -1;}#sk-container-id-9 div.sk-parallel-item {display: flex;flex-direction: column;z-index: 1;position: relative;background-color: white;}#sk-container-id-9 div.sk-parallel-item:first-child::after {align-self: flex-end;width: 50%;}#sk-container-id-9 div.sk-parallel-item:last-child::after {align-self: flex-start;width: 50%;}#sk-container-id-9 div.sk-parallel-item:only-child::after {width: 0;}#sk-container-id-9 div.sk-dashed-wrapped {border: 1px dashed gray;margin: 0 0.4em 0.5em 0.4em;box-sizing: border-box;padding-bottom: 0.4em;background-color: white;}#sk-container-id-9 div.sk-label label {font-family: monospace;font-weight: bold;display: inline-block;line-height: 1.2em;}#sk-container-id-9 div.sk-label-container {text-align: center;}#sk-container-id-9 div.sk-container {/* jupyter's `normalize.less` sets `[hidden] { display: none; }` but bootstrap.min.css set `[hidden] { display: none !important; }` so we also need the `!important` here to be able to override the default hidden behavior on the sphinx rendered scikit-learn.org. See: https://github.com/scikit-learn/scikit-learn/issues/21755 */display: inline-block !important;position: relative;}#sk-container-id-9 div.sk-text-repr-fallback {display: none;}</style><div id=\"sk-container-id-9\" class=\"sk-top-container\"><div class=\"sk-text-repr-fallback\"><pre>GridSearchCV(cv=5, estimator=RandomForestRegressor(), n_jobs=-1,\n",
       "             param_grid={&#x27;bootstrap&#x27;: [True], &#x27;max_depth&#x27;: [80],\n",
       "                         &#x27;max_features&#x27;: [3], &#x27;min_samples_leaf&#x27;: [3, 5],\n",
       "                         &#x27;min_samples_split&#x27;: [8], &#x27;n_estimators&#x27;: [100],\n",
       "                         &#x27;random_state&#x27;: [42]},\n",
       "             scoring=&#x27;neg_mean_squared_error&#x27;, verbose=2)</pre><b>In a Jupyter environment, please rerun this cell to show the HTML representation or trust the notebook. <br />On GitHub, the HTML representation is unable to render, please try loading this page with nbviewer.org.</b></div><div class=\"sk-container\" hidden><div class=\"sk-item sk-dashed-wrapped\"><div class=\"sk-label-container\"><div class=\"sk-label sk-toggleable\"><input class=\"sk-toggleable__control sk-hidden--visually\" id=\"sk-estimator-id-15\" type=\"checkbox\" ><label for=\"sk-estimator-id-15\" class=\"sk-toggleable__label sk-toggleable__label-arrow\">GridSearchCV</label><div class=\"sk-toggleable__content\"><pre>GridSearchCV(cv=5, estimator=RandomForestRegressor(), n_jobs=-1,\n",
       "             param_grid={&#x27;bootstrap&#x27;: [True], &#x27;max_depth&#x27;: [80],\n",
       "                         &#x27;max_features&#x27;: [3], &#x27;min_samples_leaf&#x27;: [3, 5],\n",
       "                         &#x27;min_samples_split&#x27;: [8], &#x27;n_estimators&#x27;: [100],\n",
       "                         &#x27;random_state&#x27;: [42]},\n",
       "             scoring=&#x27;neg_mean_squared_error&#x27;, verbose=2)</pre></div></div></div><div class=\"sk-parallel\"><div class=\"sk-parallel-item\"><div class=\"sk-item\"><div class=\"sk-label-container\"><div class=\"sk-label sk-toggleable\"><input class=\"sk-toggleable__control sk-hidden--visually\" id=\"sk-estimator-id-16\" type=\"checkbox\" ><label for=\"sk-estimator-id-16\" class=\"sk-toggleable__label sk-toggleable__label-arrow\">estimator: RandomForestRegressor</label><div class=\"sk-toggleable__content\"><pre>RandomForestRegressor()</pre></div></div></div><div class=\"sk-serial\"><div class=\"sk-item\"><div class=\"sk-estimator sk-toggleable\"><input class=\"sk-toggleable__control sk-hidden--visually\" id=\"sk-estimator-id-17\" type=\"checkbox\" ><label for=\"sk-estimator-id-17\" class=\"sk-toggleable__label sk-toggleable__label-arrow\">RandomForestRegressor</label><div class=\"sk-toggleable__content\"><pre>RandomForestRegressor()</pre></div></div></div></div></div></div></div></div></div></div>"
      ],
      "text/plain": [
       "GridSearchCV(cv=5, estimator=RandomForestRegressor(), n_jobs=-1,\n",
       "             param_grid={'bootstrap': [True], 'max_depth': [80],\n",
       "                         'max_features': [3], 'min_samples_leaf': [3, 5],\n",
       "                         'min_samples_split': [8], 'n_estimators': [100],\n",
       "                         'random_state': [42]},\n",
       "             scoring='neg_mean_squared_error', verbose=2)"
      ]
     },
     "execution_count": 111,
     "metadata": {},
     "output_type": "execute_result"
    }
   ],
   "source": [
    "#Cross Validation with Grid Search CV and HP\n",
    "#parameters = {\n",
    "#    'max_depth': [80, 100],\n",
    "#    'max_features': [2, 3],\n",
    "#    'min_samples_leaf': [3, 5],\n",
    "#    'min_samples_split': [8, 12],\n",
    "#    'n_estimators': [10, 100, 1000]\n",
    "#    'random_state': [0, 42]\n",
    "#}\n",
    "\n",
    "\n",
    "rf_regressor = RandomForestRegressor()\n",
    "parameters = {\n",
    "    'bootstrap': [True],\n",
    "    'max_depth': [80],\n",
    "    'n_estimators': [100],\n",
    "    'max_features': [3],\n",
    "    'min_samples_split': [8],\n",
    "    'min_samples_leaf': [3, 5],\n",
    "    'random_state': [42]\n",
    "}\n",
    "\n",
    "rf_regressor = GridSearchCV(rf_regressor,parameters, scoring='neg_mean_squared_error', cv=5, n_jobs = -1, verbose = 2)\n",
    "rf_regressor.fit(X_train, y_train)"
   ]
  },
  {
   "cell_type": "code",
   "execution_count": 112,
   "id": "0d6673a0-121b-43dd-a854-37869fb21053",
   "metadata": {},
   "outputs": [
    {
     "data": {
      "text/plain": [
       "<bound method BaseSearchCV.score of GridSearchCV(cv=5, estimator=RandomForestRegressor(), n_jobs=-1,\n",
       "             param_grid={'bootstrap': [True], 'max_depth': [80],\n",
       "                         'max_features': [3], 'min_samples_leaf': [3, 5],\n",
       "                         'min_samples_split': [8], 'n_estimators': [100],\n",
       "                         'random_state': [42]},\n",
       "             scoring='neg_mean_squared_error', verbose=2)>"
      ]
     },
     "execution_count": 112,
     "metadata": {},
     "output_type": "execute_result"
    }
   ],
   "source": [
    "rf_regressor.score"
   ]
  },
  {
   "cell_type": "code",
   "execution_count": 113,
   "id": "54d534f0-508d-4317-9058-a00a21fb7f1c",
   "metadata": {},
   "outputs": [
    {
     "name": "stdout",
     "output_type": "stream",
     "text": [
      "Визначено найкращі показники гіперпараметрів: {'bootstrap': True, 'max_depth': 80, 'max_features': 3, 'min_samples_leaf': 3, 'min_samples_split': 8, 'n_estimators': 100, 'random_state': 42}\n",
      "The negative mean squared error is:  -2054799.8961444206\n"
     ]
    }
   ],
   "source": [
    "print(\"Визначено найкращі показники гіперпараметрів:\" ,rf_regressor.best_params_)\n",
    "print(\"The negative mean squared error is: \", rf_regressor.best_score_)"
   ]
  },
  {
   "cell_type": "code",
   "execution_count": 114,
   "id": "d7cfe09b-b1af-428d-ab10-6e6fceefe892",
   "metadata": {},
   "outputs": [],
   "source": [
    "# Робимо прогноз на тестувальну частину\n",
    "y_pred_rf_cvhp = rf_regressor.predict(X_test)"
   ]
  },
  {
   "cell_type": "code",
   "execution_count": 115,
   "id": "ddddc4cb-9c43-4892-bf34-75628533d588",
   "metadata": {},
   "outputs": [
    {
     "name": "stdout",
     "output_type": "stream",
     "text": [
      "MSE : 1901039.319964816\n",
      "MAE : 951.818418994033\n",
      "RMSE : 1378.781824642614\n",
      "R2 : 0.8021655429370088\n",
      "Adjusted R2 :  0.802150312735713\n"
     ]
    }
   ],
   "source": [
    "# Оцінюємо показники моделі\n",
    "\n",
    "MSE  = mean_squared_error(y_test, y_pred_rf_cvhp)\n",
    "print(\"MSE :\" , MSE)\n",
    "\n",
    "MAE=mean_absolute_error(y_test, y_pred_rf_cvhp)\n",
    "print(\"MAE :\" ,MAE)\n",
    "\n",
    "RMSE = np.sqrt(MSE)\n",
    "print(\"RMSE :\" ,RMSE)\n",
    "\n",
    "r2 = r2_score(y_test, y_pred_rf_cvhp)\n",
    "print(\"R2 :\" ,r2)\n",
    "\n",
    "Adjusted_R2 = 1-(1-r2_score(y_test, y_pred_rf_cvhp))*((X_test.shape[0]-1)/(X_test.shape[0]-X_test.shape[1]-1))\n",
    "print(\"Adjusted R2 : \", Adjusted_R2)"
   ]
  },
  {
   "cell_type": "code",
   "execution_count": 116,
   "id": "20c12d37-0fe3-49b6-b761-73eb22bef93b",
   "metadata": {},
   "outputs": [
    {
     "data": {
      "text/html": [
       "<style>#sk-container-id-10 {color: black;background-color: white;}#sk-container-id-10 pre{padding: 0;}#sk-container-id-10 div.sk-toggleable {background-color: white;}#sk-container-id-10 label.sk-toggleable__label {cursor: pointer;display: block;width: 100%;margin-bottom: 0;padding: 0.3em;box-sizing: border-box;text-align: center;}#sk-container-id-10 label.sk-toggleable__label-arrow:before {content: \"▸\";float: left;margin-right: 0.25em;color: #696969;}#sk-container-id-10 label.sk-toggleable__label-arrow:hover:before {color: black;}#sk-container-id-10 div.sk-estimator:hover label.sk-toggleable__label-arrow:before {color: black;}#sk-container-id-10 div.sk-toggleable__content {max-height: 0;max-width: 0;overflow: hidden;text-align: left;background-color: #f0f8ff;}#sk-container-id-10 div.sk-toggleable__content pre {margin: 0.2em;color: black;border-radius: 0.25em;background-color: #f0f8ff;}#sk-container-id-10 input.sk-toggleable__control:checked~div.sk-toggleable__content {max-height: 200px;max-width: 100%;overflow: auto;}#sk-container-id-10 input.sk-toggleable__control:checked~label.sk-toggleable__label-arrow:before {content: \"▾\";}#sk-container-id-10 div.sk-estimator input.sk-toggleable__control:checked~label.sk-toggleable__label {background-color: #d4ebff;}#sk-container-id-10 div.sk-label input.sk-toggleable__control:checked~label.sk-toggleable__label {background-color: #d4ebff;}#sk-container-id-10 input.sk-hidden--visually {border: 0;clip: rect(1px 1px 1px 1px);clip: rect(1px, 1px, 1px, 1px);height: 1px;margin: -1px;overflow: hidden;padding: 0;position: absolute;width: 1px;}#sk-container-id-10 div.sk-estimator {font-family: monospace;background-color: #f0f8ff;border: 1px dotted black;border-radius: 0.25em;box-sizing: border-box;margin-bottom: 0.5em;}#sk-container-id-10 div.sk-estimator:hover {background-color: #d4ebff;}#sk-container-id-10 div.sk-parallel-item::after {content: \"\";width: 100%;border-bottom: 1px solid gray;flex-grow: 1;}#sk-container-id-10 div.sk-label:hover label.sk-toggleable__label {background-color: #d4ebff;}#sk-container-id-10 div.sk-serial::before {content: \"\";position: absolute;border-left: 1px solid gray;box-sizing: border-box;top: 0;bottom: 0;left: 50%;z-index: 0;}#sk-container-id-10 div.sk-serial {display: flex;flex-direction: column;align-items: center;background-color: white;padding-right: 0.2em;padding-left: 0.2em;position: relative;}#sk-container-id-10 div.sk-item {position: relative;z-index: 1;}#sk-container-id-10 div.sk-parallel {display: flex;align-items: stretch;justify-content: center;background-color: white;position: relative;}#sk-container-id-10 div.sk-item::before, #sk-container-id-10 div.sk-parallel-item::before {content: \"\";position: absolute;border-left: 1px solid gray;box-sizing: border-box;top: 0;bottom: 0;left: 50%;z-index: -1;}#sk-container-id-10 div.sk-parallel-item {display: flex;flex-direction: column;z-index: 1;position: relative;background-color: white;}#sk-container-id-10 div.sk-parallel-item:first-child::after {align-self: flex-end;width: 50%;}#sk-container-id-10 div.sk-parallel-item:last-child::after {align-self: flex-start;width: 50%;}#sk-container-id-10 div.sk-parallel-item:only-child::after {width: 0;}#sk-container-id-10 div.sk-dashed-wrapped {border: 1px dashed gray;margin: 0 0.4em 0.5em 0.4em;box-sizing: border-box;padding-bottom: 0.4em;background-color: white;}#sk-container-id-10 div.sk-label label {font-family: monospace;font-weight: bold;display: inline-block;line-height: 1.2em;}#sk-container-id-10 div.sk-label-container {text-align: center;}#sk-container-id-10 div.sk-container {/* jupyter's `normalize.less` sets `[hidden] { display: none; }` but bootstrap.min.css set `[hidden] { display: none !important; }` so we also need the `!important` here to be able to override the default hidden behavior on the sphinx rendered scikit-learn.org. See: https://github.com/scikit-learn/scikit-learn/issues/21755 */display: inline-block !important;position: relative;}#sk-container-id-10 div.sk-text-repr-fallback {display: none;}</style><div id=\"sk-container-id-10\" class=\"sk-top-container\"><div class=\"sk-text-repr-fallback\"><pre>GridSearchCV(cv=5, estimator=RandomForestRegressor(), n_jobs=-1,\n",
       "             param_grid={&#x27;max_depth&#x27;: [80], &#x27;n_estimators&#x27;: [100],\n",
       "                         &#x27;random_state&#x27;: [0, 42]},\n",
       "             scoring=&#x27;neg_mean_squared_error&#x27;)</pre><b>In a Jupyter environment, please rerun this cell to show the HTML representation or trust the notebook. <br />On GitHub, the HTML representation is unable to render, please try loading this page with nbviewer.org.</b></div><div class=\"sk-container\" hidden><div class=\"sk-item sk-dashed-wrapped\"><div class=\"sk-label-container\"><div class=\"sk-label sk-toggleable\"><input class=\"sk-toggleable__control sk-hidden--visually\" id=\"sk-estimator-id-18\" type=\"checkbox\" ><label for=\"sk-estimator-id-18\" class=\"sk-toggleable__label sk-toggleable__label-arrow\">GridSearchCV</label><div class=\"sk-toggleable__content\"><pre>GridSearchCV(cv=5, estimator=RandomForestRegressor(), n_jobs=-1,\n",
       "             param_grid={&#x27;max_depth&#x27;: [80], &#x27;n_estimators&#x27;: [100],\n",
       "                         &#x27;random_state&#x27;: [0, 42]},\n",
       "             scoring=&#x27;neg_mean_squared_error&#x27;)</pre></div></div></div><div class=\"sk-parallel\"><div class=\"sk-parallel-item\"><div class=\"sk-item\"><div class=\"sk-label-container\"><div class=\"sk-label sk-toggleable\"><input class=\"sk-toggleable__control sk-hidden--visually\" id=\"sk-estimator-id-19\" type=\"checkbox\" ><label for=\"sk-estimator-id-19\" class=\"sk-toggleable__label sk-toggleable__label-arrow\">estimator: RandomForestRegressor</label><div class=\"sk-toggleable__content\"><pre>RandomForestRegressor()</pre></div></div></div><div class=\"sk-serial\"><div class=\"sk-item\"><div class=\"sk-estimator sk-toggleable\"><input class=\"sk-toggleable__control sk-hidden--visually\" id=\"sk-estimator-id-20\" type=\"checkbox\" ><label for=\"sk-estimator-id-20\" class=\"sk-toggleable__label sk-toggleable__label-arrow\">RandomForestRegressor</label><div class=\"sk-toggleable__content\"><pre>RandomForestRegressor()</pre></div></div></div></div></div></div></div></div></div></div>"
      ],
      "text/plain": [
       "GridSearchCV(cv=5, estimator=RandomForestRegressor(), n_jobs=-1,\n",
       "             param_grid={'max_depth': [80], 'n_estimators': [100],\n",
       "                         'random_state': [0, 42]},\n",
       "             scoring='neg_mean_squared_error')"
      ]
     },
     "execution_count": 116,
     "metadata": {},
     "output_type": "execute_result"
    }
   ],
   "source": [
    "#Cross Validation with Grid Search CV and HP\n",
    "\n",
    "rf_regressor = RandomForestRegressor()\n",
    "parameters = {\n",
    "    'max_depth': [80],\n",
    "    'n_estimators': [100],\n",
    "    'random_state': [0, 42]\n",
    "}\n",
    "\n",
    "rf_regressor = GridSearchCV(rf_regressor,parameters, scoring='neg_mean_squared_error', cv=5, n_jobs = -1)\n",
    "rf_regressor.fit(X_train, y_train)"
   ]
  },
  {
   "cell_type": "code",
   "execution_count": 117,
   "id": "67ec2a43-7f3d-4976-90eb-6877fb7257bf",
   "metadata": {},
   "outputs": [
    {
     "data": {
      "text/plain": [
       "<bound method BaseSearchCV.score of GridSearchCV(cv=5, estimator=RandomForestRegressor(), n_jobs=-1,\n",
       "             param_grid={'max_depth': [80], 'n_estimators': [100],\n",
       "                         'random_state': [0, 42]},\n",
       "             scoring='neg_mean_squared_error')>"
      ]
     },
     "execution_count": 117,
     "metadata": {},
     "output_type": "execute_result"
    }
   ],
   "source": [
    "rf_regressor.score"
   ]
  },
  {
   "cell_type": "code",
   "execution_count": 118,
   "id": "bd7400b6-0bb4-4222-8434-b796ae370a47",
   "metadata": {},
   "outputs": [
    {
     "name": "stdout",
     "output_type": "stream",
     "text": [
      "Визначено найкращі показники гіперпараметрів: {'max_depth': 80, 'n_estimators': 100, 'random_state': 42}\n",
      "The negative mean squared error is:  -967935.1806440059\n"
     ]
    }
   ],
   "source": [
    "print(\"Визначено найкращі показники гіперпараметрів:\" ,rf_regressor.best_params_)\n",
    "print(\"The negative mean squared error is: \", rf_regressor.best_score_)"
   ]
  },
  {
   "cell_type": "code",
   "execution_count": 119,
   "id": "6de65077-eac2-4efb-bc14-882cc43c25d1",
   "metadata": {},
   "outputs": [],
   "source": [
    "# Робимо прогноз на тестувальну частину\n",
    "y_pred_rf_cvhp = rf_regressor.predict(X_test)"
   ]
  },
  {
   "cell_type": "code",
   "execution_count": 120,
   "id": "376c12d0-650c-4976-ae51-43f428df2eb9",
   "metadata": {},
   "outputs": [
    {
     "name": "stdout",
     "output_type": "stream",
     "text": [
      "MSE : 900581.556668841\n",
      "MAE : 615.9619833134966\n",
      "RMSE : 948.9897558292403\n",
      "R2 : 0.9062796537486553\n",
      "Adjusted R2 :  0.9062724387277731\n"
     ]
    }
   ],
   "source": [
    "# Оцінюємо показники моделі\n",
    "\n",
    "MSE  = mean_squared_error(y_test, y_pred_rf_cvhp)\n",
    "print(\"MSE :\" , MSE)\n",
    "\n",
    "MAE=mean_absolute_error(y_test, y_pred_rf_cvhp)\n",
    "print(\"MAE :\" ,MAE)\n",
    "\n",
    "RMSE = np.sqrt(MSE)\n",
    "print(\"RMSE :\" ,RMSE)\n",
    "\n",
    "r2 = r2_score(y_test, y_pred_rf_cvhp)\n",
    "print(\"R2 :\" ,r2)\n",
    "\n",
    "Adjusted_R2 = 1-(1-r2_score(y_test, y_pred_rf_cvhp))*((X_test.shape[0]-1)/(X_test.shape[0]-X_test.shape[1]-1))\n",
    "print(\"Adjusted R2 : \", Adjusted_R2)"
   ]
  },
  {
   "cell_type": "code",
   "execution_count": 121,
   "id": "4adc049a-f4ca-418d-9c90-8e5f79586976",
   "metadata": {},
   "outputs": [
    {
     "data": {
      "text/html": [
       "<div>\n",
       "<style scoped>\n",
       "    .dataframe tbody tr th:only-of-type {\n",
       "        vertical-align: middle;\n",
       "    }\n",
       "\n",
       "    .dataframe tbody tr th {\n",
       "        vertical-align: top;\n",
       "    }\n",
       "\n",
       "    .dataframe thead th {\n",
       "        text-align: right;\n",
       "    }\n",
       "</style>\n",
       "<table border=\"1\" class=\"dataframe\">\n",
       "  <thead>\n",
       "    <tr style=\"text-align: right;\">\n",
       "      <th></th>\n",
       "      <th>Model</th>\n",
       "      <th>MSE</th>\n",
       "      <th>MAE</th>\n",
       "      <th>RMSE</th>\n",
       "      <th>R2 Score</th>\n",
       "      <th>Adjusted R2</th>\n",
       "    </tr>\n",
       "  </thead>\n",
       "  <tbody>\n",
       "    <tr>\n",
       "      <th>0</th>\n",
       "      <td>Linear Regression</td>\n",
       "      <td>7.856396e+06</td>\n",
       "      <td>2035.519542</td>\n",
       "      <td>2802.926347</td>\n",
       "      <td>0.182413</td>\n",
       "      <td>0.182350</td>\n",
       "    </tr>\n",
       "    <tr>\n",
       "      <th>1</th>\n",
       "      <td>Lasso Regression</td>\n",
       "      <td>7.856397e+06</td>\n",
       "      <td>2035.519352</td>\n",
       "      <td>2802.926421</td>\n",
       "      <td>0.182413</td>\n",
       "      <td>0.182350</td>\n",
       "    </tr>\n",
       "    <tr>\n",
       "      <th>2</th>\n",
       "      <td>Ridge Regression</td>\n",
       "      <td>7.856396e+06</td>\n",
       "      <td>2035.519542</td>\n",
       "      <td>2802.926347</td>\n",
       "      <td>0.182413</td>\n",
       "      <td>0.182350</td>\n",
       "    </tr>\n",
       "    <tr>\n",
       "      <th>3</th>\n",
       "      <td>XGBoost Regression</td>\n",
       "      <td>1.482685e+06</td>\n",
       "      <td>869.040236</td>\n",
       "      <td>1217.655649</td>\n",
       "      <td>0.845702</td>\n",
       "      <td>0.845690</td>\n",
       "    </tr>\n",
       "    <tr>\n",
       "      <th>4</th>\n",
       "      <td>XGBoost Regression (with CV)</td>\n",
       "      <td>1.482685e+06</td>\n",
       "      <td>869.040236</td>\n",
       "      <td>1217.655649</td>\n",
       "      <td>0.845702</td>\n",
       "      <td>0.845690</td>\n",
       "    </tr>\n",
       "    <tr>\n",
       "      <th>5</th>\n",
       "      <td>XGBoost Regression (with CV and HP)</td>\n",
       "      <td>5.481565e+05</td>\n",
       "      <td>502.086945</td>\n",
       "      <td>740.375885</td>\n",
       "      <td>0.942955</td>\n",
       "      <td>0.942951</td>\n",
       "    </tr>\n",
       "    <tr>\n",
       "      <th>6</th>\n",
       "      <td>Random Forest Regression</td>\n",
       "      <td>8.961952e+05</td>\n",
       "      <td>615.225868</td>\n",
       "      <td>946.675851</td>\n",
       "      <td>0.906736</td>\n",
       "      <td>0.906729</td>\n",
       "    </tr>\n",
       "    <tr>\n",
       "      <th>7</th>\n",
       "      <td>Random Forest Regression (with CV)</td>\n",
       "      <td>8.940808e+05</td>\n",
       "      <td>614.596801</td>\n",
       "      <td>945.558460</td>\n",
       "      <td>0.906956</td>\n",
       "      <td>0.906949</td>\n",
       "    </tr>\n",
       "    <tr>\n",
       "      <th>8</th>\n",
       "      <td>Random Forest Regression (with CV and HP)</td>\n",
       "      <td>9.005816e+05</td>\n",
       "      <td>615.961983</td>\n",
       "      <td>948.989756</td>\n",
       "      <td>0.906280</td>\n",
       "      <td>0.906272</td>\n",
       "    </tr>\n",
       "  </tbody>\n",
       "</table>\n",
       "</div>"
      ],
      "text/plain": [
       "                                       Model           MSE          MAE  \\\n",
       "0                          Linear Regression  7.856396e+06  2035.519542   \n",
       "1                           Lasso Regression  7.856397e+06  2035.519352   \n",
       "2                           Ridge Regression  7.856396e+06  2035.519542   \n",
       "3                         XGBoost Regression  1.482685e+06   869.040236   \n",
       "4               XGBoost Regression (with CV)  1.482685e+06   869.040236   \n",
       "5        XGBoost Regression (with CV and HP)  5.481565e+05   502.086945   \n",
       "6                  Random Forest Regression   8.961952e+05   615.225868   \n",
       "7         Random Forest Regression (with CV)  8.940808e+05   614.596801   \n",
       "8  Random Forest Regression (with CV and HP)  9.005816e+05   615.961983   \n",
       "\n",
       "          RMSE  R2 Score  Adjusted R2  \n",
       "0  2802.926347  0.182413     0.182350  \n",
       "1  2802.926421  0.182413     0.182350  \n",
       "2  2802.926347  0.182413     0.182350  \n",
       "3  1217.655649  0.845702     0.845690  \n",
       "4  1217.655649  0.845702     0.845690  \n",
       "5   740.375885  0.942955     0.942951  \n",
       "6   946.675851  0.906736     0.906729  \n",
       "7   945.558460  0.906956     0.906949  \n",
       "8   948.989756  0.906280     0.906272  "
      ]
     },
     "execution_count": 121,
     "metadata": {},
     "output_type": "execute_result"
    }
   ],
   "source": [
    "# Добавляємо показники моделі в список для порівняння\n",
    "RF2 = {'Model':'Random Forest Regression (with CV and HP)', 'MSE': MSE, 'MAE':MAE, 'RMSE':RMSE, 'R2 Score': r2, 'Adjusted R2': Adjusted_R2}\n",
    "metrics = metrics.append(RF2,ignore_index=True)\n",
    "metrics"
   ]
  },
  {
   "cell_type": "markdown",
   "id": "28355bcf-d347-4fdf-9e86-c2b4bc570742",
   "metadata": {},
   "source": [
    "## `Cat Boost Regressor`"
   ]
  },
  {
   "cell_type": "code",
   "execution_count": 122,
   "id": "c6740825-4e3f-436e-a344-9b0286a9a9ed",
   "metadata": {},
   "outputs": [
    {
     "name": "stdout",
     "output_type": "stream",
     "text": [
      "Learning rate set to 0.141628\n",
      "0:\tlearn: 3005.6790634\ttest: 3001.0786227\tbest: 3001.0786227 (0)\ttotal: 216ms\tremaining: 3m 36s\n",
      "200:\tlearn: 1835.2017140\ttest: 1830.6846156\tbest: 1830.6846156 (200)\ttotal: 11.3s\tremaining: 44.9s\n",
      "400:\tlearn: 1494.9459704\ttest: 1488.1512217\tbest: 1488.1512217 (400)\ttotal: 22.6s\tremaining: 33.7s\n",
      "600:\tlearn: 1298.7193930\ttest: 1291.6337938\tbest: 1291.6337938 (600)\ttotal: 34s\tremaining: 22.6s\n",
      "800:\tlearn: 1187.6949420\ttest: 1180.9579582\tbest: 1180.9579582 (800)\ttotal: 45.3s\tremaining: 11.3s\n",
      "999:\tlearn: 1109.4805978\ttest: 1104.0037281\tbest: 1104.0037281 (999)\ttotal: 57.2s\tremaining: 0us\n",
      "\n",
      "bestTest = 1104.003728\n",
      "bestIteration = 999\n",
      "\n"
     ]
    },
    {
     "data": {
      "text/plain": [
       "<catboost.core.CatBoostRegressor at 0x1aa0f7cfcd0>"
      ]
     },
     "execution_count": 122,
     "metadata": {},
     "output_type": "execute_result"
    }
   ],
   "source": [
    "# Створюємо модель та тренуємо її\n",
    "cat_r = CatBoostRegressor()\n",
    "\n",
    "cat_r.fit(X_train, y_train, \n",
    "          eval_set=(X_test, y_test),\n",
    "          verbose=200, plot=False)"
   ]
  },
  {
   "cell_type": "code",
   "execution_count": 123,
   "id": "2b548634-265b-4ee4-9d57-2a9b309706bb",
   "metadata": {},
   "outputs": [],
   "source": [
    "# Робимо прогноз на тестувальну частину\n",
    "y_pred_cat = cat_r.predict(X_test)"
   ]
  },
  {
   "cell_type": "code",
   "execution_count": 124,
   "id": "a8dd51c6-93bc-43ba-a3e2-3abdefee9a9e",
   "metadata": {},
   "outputs": [
    {
     "name": "stdout",
     "output_type": "stream",
     "text": [
      "MSE : 1218824.231693128\n",
      "MAE : 782.142051464191\n",
      "RMSE : 1104.0037281155928\n",
      "R2 : 0.8731612610008035\n",
      "Adjusted R2 :  0.8731514963745814\n"
     ]
    }
   ],
   "source": [
    "# Оцінюємо показники моделі\n",
    "\n",
    "MSE  = mean_squared_error(y_test, y_pred_cat)\n",
    "print(\"MSE :\" , MSE)\n",
    "\n",
    "MAE=mean_absolute_error(y_test, y_pred_cat)\n",
    "print(\"MAE :\" ,MAE)\n",
    "\n",
    "RMSE = np.sqrt(MSE)\n",
    "print(\"RMSE :\" ,RMSE)\n",
    "\n",
    "r2 = r2_score(y_test, y_pred_cat)\n",
    "print(\"R2 :\" ,r2)\n",
    "\n",
    "Adjusted_R2 = 1-(1-r2_score(y_test, y_pred_cat))*((X_test.shape[0]-1)/(X_test.shape[0]-X_test.shape[1]-1))\n",
    "print(\"Adjusted R2 : \", Adjusted_R2)"
   ]
  },
  {
   "cell_type": "code",
   "execution_count": 125,
   "id": "a29e9c35-e868-460f-b7d4-ff2e1d5eaff0",
   "metadata": {},
   "outputs": [
    {
     "data": {
      "text/html": [
       "<div>\n",
       "<style scoped>\n",
       "    .dataframe tbody tr th:only-of-type {\n",
       "        vertical-align: middle;\n",
       "    }\n",
       "\n",
       "    .dataframe tbody tr th {\n",
       "        vertical-align: top;\n",
       "    }\n",
       "\n",
       "    .dataframe thead th {\n",
       "        text-align: right;\n",
       "    }\n",
       "</style>\n",
       "<table border=\"1\" class=\"dataframe\">\n",
       "  <thead>\n",
       "    <tr style=\"text-align: right;\">\n",
       "      <th></th>\n",
       "      <th>Feature Id</th>\n",
       "      <th>Importances</th>\n",
       "    </tr>\n",
       "  </thead>\n",
       "  <tbody>\n",
       "    <tr>\n",
       "      <th>0</th>\n",
       "      <td>CompetitionDistance</td>\n",
       "      <td>28.944962</td>\n",
       "    </tr>\n",
       "    <tr>\n",
       "      <th>1</th>\n",
       "      <td>Store</td>\n",
       "      <td>27.480032</td>\n",
       "    </tr>\n",
       "    <tr>\n",
       "      <th>2</th>\n",
       "      <td>Promo</td>\n",
       "      <td>9.016855</td>\n",
       "    </tr>\n",
       "    <tr>\n",
       "      <th>3</th>\n",
       "      <td>StoreType</td>\n",
       "      <td>8.381116</td>\n",
       "    </tr>\n",
       "    <tr>\n",
       "      <th>4</th>\n",
       "      <td>PromoInterval</td>\n",
       "      <td>7.270651</td>\n",
       "    </tr>\n",
       "    <tr>\n",
       "      <th>5</th>\n",
       "      <td>Assortment</td>\n",
       "      <td>6.384992</td>\n",
       "    </tr>\n",
       "    <tr>\n",
       "      <th>6</th>\n",
       "      <td>DayOfYear</td>\n",
       "      <td>4.828780</td>\n",
       "    </tr>\n",
       "    <tr>\n",
       "      <th>7</th>\n",
       "      <td>DayOfWeek</td>\n",
       "      <td>4.467328</td>\n",
       "    </tr>\n",
       "    <tr>\n",
       "      <th>8</th>\n",
       "      <td>Promo2_active</td>\n",
       "      <td>1.492803</td>\n",
       "    </tr>\n",
       "    <tr>\n",
       "      <th>9</th>\n",
       "      <td>year</td>\n",
       "      <td>0.805882</td>\n",
       "    </tr>\n",
       "    <tr>\n",
       "      <th>10</th>\n",
       "      <td>month</td>\n",
       "      <td>0.596863</td>\n",
       "    </tr>\n",
       "    <tr>\n",
       "      <th>11</th>\n",
       "      <td>SchoolHoliday</td>\n",
       "      <td>0.252617</td>\n",
       "    </tr>\n",
       "    <tr>\n",
       "      <th>12</th>\n",
       "      <td>StateHoliday</td>\n",
       "      <td>0.077121</td>\n",
       "    </tr>\n",
       "  </tbody>\n",
       "</table>\n",
       "</div>"
      ],
      "text/plain": [
       "             Feature Id  Importances\n",
       "0   CompetitionDistance    28.944962\n",
       "1                 Store    27.480032\n",
       "2                 Promo     9.016855\n",
       "3             StoreType     8.381116\n",
       "4         PromoInterval     7.270651\n",
       "5            Assortment     6.384992\n",
       "6             DayOfYear     4.828780\n",
       "7             DayOfWeek     4.467328\n",
       "8         Promo2_active     1.492803\n",
       "9                  year     0.805882\n",
       "10                month     0.596863\n",
       "11        SchoolHoliday     0.252617\n",
       "12         StateHoliday     0.077121"
      ]
     },
     "execution_count": 125,
     "metadata": {},
     "output_type": "execute_result"
    }
   ],
   "source": [
    "# Візуалізуємо значимість змінніх в нашій моделі\n",
    "cat_r.get_feature_importance(prettified=True, type='FeatureImportance')"
   ]
  },
  {
   "cell_type": "code",
   "execution_count": 126,
   "id": "aae1bf06-a08d-485e-b911-01dabed65db2",
   "metadata": {},
   "outputs": [
    {
     "data": {
      "text/html": [
       "<div>\n",
       "<style scoped>\n",
       "    .dataframe tbody tr th:only-of-type {\n",
       "        vertical-align: middle;\n",
       "    }\n",
       "\n",
       "    .dataframe tbody tr th {\n",
       "        vertical-align: top;\n",
       "    }\n",
       "\n",
       "    .dataframe thead th {\n",
       "        text-align: right;\n",
       "    }\n",
       "</style>\n",
       "<table border=\"1\" class=\"dataframe\">\n",
       "  <thead>\n",
       "    <tr style=\"text-align: right;\">\n",
       "      <th></th>\n",
       "      <th>Model</th>\n",
       "      <th>MSE</th>\n",
       "      <th>MAE</th>\n",
       "      <th>RMSE</th>\n",
       "      <th>R2 Score</th>\n",
       "      <th>Adjusted R2</th>\n",
       "    </tr>\n",
       "  </thead>\n",
       "  <tbody>\n",
       "    <tr>\n",
       "      <th>0</th>\n",
       "      <td>Linear Regression</td>\n",
       "      <td>7.856396e+06</td>\n",
       "      <td>2035.519542</td>\n",
       "      <td>2802.926347</td>\n",
       "      <td>0.182413</td>\n",
       "      <td>0.182350</td>\n",
       "    </tr>\n",
       "    <tr>\n",
       "      <th>1</th>\n",
       "      <td>Lasso Regression</td>\n",
       "      <td>7.856397e+06</td>\n",
       "      <td>2035.519352</td>\n",
       "      <td>2802.926421</td>\n",
       "      <td>0.182413</td>\n",
       "      <td>0.182350</td>\n",
       "    </tr>\n",
       "    <tr>\n",
       "      <th>2</th>\n",
       "      <td>Ridge Regression</td>\n",
       "      <td>7.856396e+06</td>\n",
       "      <td>2035.519542</td>\n",
       "      <td>2802.926347</td>\n",
       "      <td>0.182413</td>\n",
       "      <td>0.182350</td>\n",
       "    </tr>\n",
       "    <tr>\n",
       "      <th>3</th>\n",
       "      <td>XGBoost Regression</td>\n",
       "      <td>1.482685e+06</td>\n",
       "      <td>869.040236</td>\n",
       "      <td>1217.655649</td>\n",
       "      <td>0.845702</td>\n",
       "      <td>0.845690</td>\n",
       "    </tr>\n",
       "    <tr>\n",
       "      <th>4</th>\n",
       "      <td>XGBoost Regression (with CV)</td>\n",
       "      <td>1.482685e+06</td>\n",
       "      <td>869.040236</td>\n",
       "      <td>1217.655649</td>\n",
       "      <td>0.845702</td>\n",
       "      <td>0.845690</td>\n",
       "    </tr>\n",
       "    <tr>\n",
       "      <th>5</th>\n",
       "      <td>XGBoost Regression (with CV and HP)</td>\n",
       "      <td>5.481565e+05</td>\n",
       "      <td>502.086945</td>\n",
       "      <td>740.375885</td>\n",
       "      <td>0.942955</td>\n",
       "      <td>0.942951</td>\n",
       "    </tr>\n",
       "    <tr>\n",
       "      <th>6</th>\n",
       "      <td>Random Forest Regression</td>\n",
       "      <td>8.961952e+05</td>\n",
       "      <td>615.225868</td>\n",
       "      <td>946.675851</td>\n",
       "      <td>0.906736</td>\n",
       "      <td>0.906729</td>\n",
       "    </tr>\n",
       "    <tr>\n",
       "      <th>7</th>\n",
       "      <td>Random Forest Regression (with CV)</td>\n",
       "      <td>8.940808e+05</td>\n",
       "      <td>614.596801</td>\n",
       "      <td>945.558460</td>\n",
       "      <td>0.906956</td>\n",
       "      <td>0.906949</td>\n",
       "    </tr>\n",
       "    <tr>\n",
       "      <th>8</th>\n",
       "      <td>Random Forest Regression (with CV and HP)</td>\n",
       "      <td>9.005816e+05</td>\n",
       "      <td>615.961983</td>\n",
       "      <td>948.989756</td>\n",
       "      <td>0.906280</td>\n",
       "      <td>0.906272</td>\n",
       "    </tr>\n",
       "    <tr>\n",
       "      <th>9</th>\n",
       "      <td>Cat Boost Regressor</td>\n",
       "      <td>1.218824e+06</td>\n",
       "      <td>782.142051</td>\n",
       "      <td>1104.003728</td>\n",
       "      <td>0.873161</td>\n",
       "      <td>0.873151</td>\n",
       "    </tr>\n",
       "  </tbody>\n",
       "</table>\n",
       "</div>"
      ],
      "text/plain": [
       "                                       Model           MSE          MAE  \\\n",
       "0                          Linear Regression  7.856396e+06  2035.519542   \n",
       "1                           Lasso Regression  7.856397e+06  2035.519352   \n",
       "2                           Ridge Regression  7.856396e+06  2035.519542   \n",
       "3                         XGBoost Regression  1.482685e+06   869.040236   \n",
       "4               XGBoost Regression (with CV)  1.482685e+06   869.040236   \n",
       "5        XGBoost Regression (with CV and HP)  5.481565e+05   502.086945   \n",
       "6                  Random Forest Regression   8.961952e+05   615.225868   \n",
       "7         Random Forest Regression (with CV)  8.940808e+05   614.596801   \n",
       "8  Random Forest Regression (with CV and HP)  9.005816e+05   615.961983   \n",
       "9                        Cat Boost Regressor  1.218824e+06   782.142051   \n",
       "\n",
       "          RMSE  R2 Score  Adjusted R2  \n",
       "0  2802.926347  0.182413     0.182350  \n",
       "1  2802.926421  0.182413     0.182350  \n",
       "2  2802.926347  0.182413     0.182350  \n",
       "3  1217.655649  0.845702     0.845690  \n",
       "4  1217.655649  0.845702     0.845690  \n",
       "5   740.375885  0.942955     0.942951  \n",
       "6   946.675851  0.906736     0.906729  \n",
       "7   945.558460  0.906956     0.906949  \n",
       "8   948.989756  0.906280     0.906272  \n",
       "9  1104.003728  0.873161     0.873151  "
      ]
     },
     "execution_count": 126,
     "metadata": {},
     "output_type": "execute_result"
    }
   ],
   "source": [
    "# Добавляємо показники моделі в список для порівняння\n",
    "CB1 = {'Model':'Cat Boost Regressor', 'MSE': MSE, 'MAE':MAE, 'RMSE':RMSE, 'R2 Score': r2, 'Adjusted R2': Adjusted_R2}\n",
    "metrics = metrics.append(CB1,ignore_index=True)\n",
    "metrics"
   ]
  },
  {
   "cell_type": "markdown",
   "id": "038b5b4a-cabd-4777-a638-3da889f35fc7",
   "metadata": {},
   "source": [
    "## `Cat Boost Regressor з гіперпараметрами`"
   ]
  },
  {
   "cell_type": "code",
   "execution_count": 127,
   "id": "f923f805-8e5b-4193-b126-919a72070e28",
   "metadata": {},
   "outputs": [
    {
     "name": "stdout",
     "output_type": "stream",
     "text": [
      "Learning rate set to 0.072461\n",
      "0:\tlearn: 3052.8392458\ttest: 3047.8370152\tbest: 3047.8370152 (0)\ttotal: 55.8ms\tremaining: 2m 47s\n",
      "200:\tlearn: 2128.4792222\ttest: 2124.6484296\tbest: 2124.6484296 (200)\ttotal: 11s\tremaining: 2m 32s\n",
      "400:\tlearn: 1834.6202788\ttest: 1828.6632866\tbest: 1828.6632866 (400)\ttotal: 22s\tremaining: 2m 22s\n",
      "600:\tlearn: 1635.8391381\ttest: 1629.4111402\tbest: 1629.4111402 (600)\ttotal: 33.5s\tremaining: 2m 13s\n",
      "800:\tlearn: 1493.5346086\ttest: 1486.7888014\tbest: 1486.7888014 (800)\ttotal: 44.6s\tremaining: 2m 2s\n",
      "1000:\tlearn: 1388.7873061\ttest: 1381.1889425\tbest: 1381.1889425 (1000)\ttotal: 55.7s\tremaining: 1m 51s\n",
      "1200:\tlearn: 1308.8238333\ttest: 1301.0395129\tbest: 1301.0395129 (1200)\ttotal: 1m 6s\tremaining: 1m 40s\n",
      "1400:\tlearn: 1242.9038007\ttest: 1235.4503287\tbest: 1235.4503287 (1400)\ttotal: 1m 18s\tremaining: 1m 29s\n",
      "1600:\tlearn: 1190.2888140\ttest: 1182.8061038\tbest: 1182.8061038 (1600)\ttotal: 1m 29s\tremaining: 1m 18s\n",
      "1800:\tlearn: 1148.8166390\ttest: 1141.7099752\tbest: 1141.7099752 (1800)\ttotal: 1m 41s\tremaining: 1m 7s\n",
      "2000:\tlearn: 1112.1912849\ttest: 1105.3055334\tbest: 1105.3055334 (2000)\ttotal: 1m 52s\tremaining: 56.1s\n",
      "2200:\tlearn: 1080.1302610\ttest: 1073.8690893\tbest: 1073.8690893 (2200)\ttotal: 2m 3s\tremaining: 44.8s\n",
      "2400:\tlearn: 1054.8726513\ttest: 1049.1812829\tbest: 1049.1812829 (2400)\ttotal: 2m 14s\tremaining: 33.6s\n",
      "2600:\tlearn: 1032.0810295\ttest: 1026.6362933\tbest: 1026.6362933 (2600)\ttotal: 2m 25s\tremaining: 22.3s\n",
      "2800:\tlearn: 1010.0793305\ttest: 1004.9626441\tbest: 1004.9626441 (2800)\ttotal: 2m 37s\tremaining: 11.2s\n",
      "2999:\tlearn: 991.5749311\ttest: 986.7235787\tbest: 986.7235787 (2999)\ttotal: 2m 48s\tremaining: 0us\n",
      "\n",
      "bestTest = 986.7235787\n",
      "bestIteration = 2999\n",
      "\n"
     ]
    },
    {
     "data": {
      "text/plain": [
       "<catboost.core.CatBoostRegressor at 0x1aa0f7fb640>"
      ]
     },
     "execution_count": 127,
     "metadata": {},
     "output_type": "execute_result"
    }
   ],
   "source": [
    "# Створюємо модель та тренуємо її\n",
    "cat_rh = CatBoostRegressor(iterations=3000, thread_count=-1)\n",
    "\n",
    "cat_rh.fit(X_train, y_train, \n",
    "          eval_set=(X_test, y_test),\n",
    "          verbose=200, plot=False)"
   ]
  },
  {
   "cell_type": "code",
   "execution_count": 128,
   "id": "8c82e288-ff99-4240-8665-f18ac7eb0735",
   "metadata": {},
   "outputs": [],
   "source": [
    "# Робимо прогноз на тестувальну частину\n",
    "y_pred_cath = cat_rh.predict(X_test)"
   ]
  },
  {
   "cell_type": "code",
   "execution_count": 129,
   "id": "4f9378e5-fd2c-4583-9b45-e6d1761c51bf",
   "metadata": {},
   "outputs": [
    {
     "name": "stdout",
     "output_type": "stream",
     "text": [
      "MSE : 973623.420690534\n",
      "MAE : 692.2964568458804\n",
      "RMSE : 986.7235786635151\n",
      "R2 : 0.8986784445785746\n",
      "Adjusted R2 :  0.8986706443818466\n"
     ]
    }
   ],
   "source": [
    "# Оцінюємо показники моделі\n",
    "\n",
    "MSE  = mean_squared_error(y_test, y_pred_cath)\n",
    "print(\"MSE :\" , MSE)\n",
    "\n",
    "MAE=mean_absolute_error(y_test, y_pred_cath)\n",
    "print(\"MAE :\" ,MAE)\n",
    "\n",
    "RMSE = np.sqrt(MSE)\n",
    "print(\"RMSE :\" ,RMSE)\n",
    "\n",
    "r2 = r2_score(y_test, y_pred_cath)\n",
    "print(\"R2 :\" ,r2)\n",
    "\n",
    "Adjusted_R2 = 1-(1-r2_score(y_test, y_pred_cath))*((X_test.shape[0]-1)/(X_test.shape[0]-X_test.shape[1]-1))\n",
    "print(\"Adjusted R2 : \", Adjusted_R2)"
   ]
  },
  {
   "cell_type": "code",
   "execution_count": 130,
   "id": "e58fc9ba-b2d2-4430-8abc-df1076ef9548",
   "metadata": {},
   "outputs": [
    {
     "data": {
      "text/html": [
       "<div>\n",
       "<style scoped>\n",
       "    .dataframe tbody tr th:only-of-type {\n",
       "        vertical-align: middle;\n",
       "    }\n",
       "\n",
       "    .dataframe tbody tr th {\n",
       "        vertical-align: top;\n",
       "    }\n",
       "\n",
       "    .dataframe thead th {\n",
       "        text-align: right;\n",
       "    }\n",
       "</style>\n",
       "<table border=\"1\" class=\"dataframe\">\n",
       "  <thead>\n",
       "    <tr style=\"text-align: right;\">\n",
       "      <th></th>\n",
       "      <th>Model</th>\n",
       "      <th>MSE</th>\n",
       "      <th>MAE</th>\n",
       "      <th>RMSE</th>\n",
       "      <th>R2 Score</th>\n",
       "      <th>Adjusted R2</th>\n",
       "    </tr>\n",
       "  </thead>\n",
       "  <tbody>\n",
       "    <tr>\n",
       "      <th>0</th>\n",
       "      <td>Linear Regression</td>\n",
       "      <td>7.856396e+06</td>\n",
       "      <td>2035.519542</td>\n",
       "      <td>2802.926347</td>\n",
       "      <td>0.182413</td>\n",
       "      <td>0.182350</td>\n",
       "    </tr>\n",
       "    <tr>\n",
       "      <th>1</th>\n",
       "      <td>Lasso Regression</td>\n",
       "      <td>7.856397e+06</td>\n",
       "      <td>2035.519352</td>\n",
       "      <td>2802.926421</td>\n",
       "      <td>0.182413</td>\n",
       "      <td>0.182350</td>\n",
       "    </tr>\n",
       "    <tr>\n",
       "      <th>2</th>\n",
       "      <td>Ridge Regression</td>\n",
       "      <td>7.856396e+06</td>\n",
       "      <td>2035.519542</td>\n",
       "      <td>2802.926347</td>\n",
       "      <td>0.182413</td>\n",
       "      <td>0.182350</td>\n",
       "    </tr>\n",
       "    <tr>\n",
       "      <th>3</th>\n",
       "      <td>XGBoost Regression</td>\n",
       "      <td>1.482685e+06</td>\n",
       "      <td>869.040236</td>\n",
       "      <td>1217.655649</td>\n",
       "      <td>0.845702</td>\n",
       "      <td>0.845690</td>\n",
       "    </tr>\n",
       "    <tr>\n",
       "      <th>4</th>\n",
       "      <td>XGBoost Regression (with CV)</td>\n",
       "      <td>1.482685e+06</td>\n",
       "      <td>869.040236</td>\n",
       "      <td>1217.655649</td>\n",
       "      <td>0.845702</td>\n",
       "      <td>0.845690</td>\n",
       "    </tr>\n",
       "    <tr>\n",
       "      <th>5</th>\n",
       "      <td>XGBoost Regression (with CV and HP)</td>\n",
       "      <td>5.481565e+05</td>\n",
       "      <td>502.086945</td>\n",
       "      <td>740.375885</td>\n",
       "      <td>0.942955</td>\n",
       "      <td>0.942951</td>\n",
       "    </tr>\n",
       "    <tr>\n",
       "      <th>6</th>\n",
       "      <td>Random Forest Regression</td>\n",
       "      <td>8.961952e+05</td>\n",
       "      <td>615.225868</td>\n",
       "      <td>946.675851</td>\n",
       "      <td>0.906736</td>\n",
       "      <td>0.906729</td>\n",
       "    </tr>\n",
       "    <tr>\n",
       "      <th>7</th>\n",
       "      <td>Random Forest Regression (with CV)</td>\n",
       "      <td>8.940808e+05</td>\n",
       "      <td>614.596801</td>\n",
       "      <td>945.558460</td>\n",
       "      <td>0.906956</td>\n",
       "      <td>0.906949</td>\n",
       "    </tr>\n",
       "    <tr>\n",
       "      <th>8</th>\n",
       "      <td>Random Forest Regression (with CV and HP)</td>\n",
       "      <td>9.005816e+05</td>\n",
       "      <td>615.961983</td>\n",
       "      <td>948.989756</td>\n",
       "      <td>0.906280</td>\n",
       "      <td>0.906272</td>\n",
       "    </tr>\n",
       "    <tr>\n",
       "      <th>9</th>\n",
       "      <td>Cat Boost Regressor</td>\n",
       "      <td>1.218824e+06</td>\n",
       "      <td>782.142051</td>\n",
       "      <td>1104.003728</td>\n",
       "      <td>0.873161</td>\n",
       "      <td>0.873151</td>\n",
       "    </tr>\n",
       "    <tr>\n",
       "      <th>10</th>\n",
       "      <td>Cat Boost Regressor with HP</td>\n",
       "      <td>9.736234e+05</td>\n",
       "      <td>692.296457</td>\n",
       "      <td>986.723579</td>\n",
       "      <td>0.898678</td>\n",
       "      <td>0.898671</td>\n",
       "    </tr>\n",
       "  </tbody>\n",
       "</table>\n",
       "</div>"
      ],
      "text/plain": [
       "                                        Model           MSE          MAE  \\\n",
       "0                           Linear Regression  7.856396e+06  2035.519542   \n",
       "1                            Lasso Regression  7.856397e+06  2035.519352   \n",
       "2                            Ridge Regression  7.856396e+06  2035.519542   \n",
       "3                          XGBoost Regression  1.482685e+06   869.040236   \n",
       "4                XGBoost Regression (with CV)  1.482685e+06   869.040236   \n",
       "5         XGBoost Regression (with CV and HP)  5.481565e+05   502.086945   \n",
       "6                   Random Forest Regression   8.961952e+05   615.225868   \n",
       "7          Random Forest Regression (with CV)  8.940808e+05   614.596801   \n",
       "8   Random Forest Regression (with CV and HP)  9.005816e+05   615.961983   \n",
       "9                         Cat Boost Regressor  1.218824e+06   782.142051   \n",
       "10                Cat Boost Regressor with HP  9.736234e+05   692.296457   \n",
       "\n",
       "           RMSE  R2 Score  Adjusted R2  \n",
       "0   2802.926347  0.182413     0.182350  \n",
       "1   2802.926421  0.182413     0.182350  \n",
       "2   2802.926347  0.182413     0.182350  \n",
       "3   1217.655649  0.845702     0.845690  \n",
       "4   1217.655649  0.845702     0.845690  \n",
       "5    740.375885  0.942955     0.942951  \n",
       "6    946.675851  0.906736     0.906729  \n",
       "7    945.558460  0.906956     0.906949  \n",
       "8    948.989756  0.906280     0.906272  \n",
       "9   1104.003728  0.873161     0.873151  \n",
       "10   986.723579  0.898678     0.898671  "
      ]
     },
     "execution_count": 130,
     "metadata": {},
     "output_type": "execute_result"
    }
   ],
   "source": [
    "# Добавляємо показники моделі в список для порівняння\n",
    "CB2 = {'Model':'Cat Boost Regressor with HP', 'MSE': MSE, 'MAE':MAE, 'RMSE':RMSE, 'R2 Score': r2, 'Adjusted R2': Adjusted_R2}\n",
    "metrics = metrics.append(CB2,ignore_index=True)\n",
    "metrics"
   ]
  },
  {
   "cell_type": "markdown",
   "id": "d78a986b-1cf6-43e3-b47f-a60b022c5e12",
   "metadata": {},
   "source": [
    "## `LightGBM`"
   ]
  },
  {
   "cell_type": "code",
   "execution_count": 131,
   "id": "ef0058c0-48b5-49e7-941f-529dd34c801a",
   "metadata": {},
   "outputs": [
    {
     "name": "stdout",
     "output_type": "stream",
     "text": [
      "[LightGBM] [Warning] Auto-choosing row-wise multi-threading, the overhead of testing was 0.017929 seconds.\n",
      "You can set `force_row_wise=true` to remove the overhead.\n",
      "And if memory is not enough, you can set `force_col_wise=true`.\n",
      "[LightGBM] [Info] Total Bins 810\n",
      "[LightGBM] [Info] Number of data points in the train set: 675513, number of used features: 13\n",
      "[LightGBM] [Info] Start training from score 6956.624022\n",
      "[20]\tvalid_0's l1: 1837.28\n",
      "[40]\tvalid_0's l1: 1664.91\n",
      "[60]\tvalid_0's l1: 1555.3\n",
      "[80]\tvalid_0's l1: 1451.77\n",
      "[100]\tvalid_0's l1: 1367.59\n"
     ]
    }
   ],
   "source": [
    "# Створюємо модель та тренуємо її\n",
    "lgb_train = lgb.Dataset(X_train, y_train)\n",
    "lgb_eval = lgb.Dataset(X_test, y_test, reference=lgb_train)\n",
    "\n",
    "params = {\n",
    "    'task': 'train', \n",
    "    'boosting': 'gbdt',\n",
    "    'objective': 'regression',\n",
    "    'metric': 'mae'\n",
    "}\n",
    "\n",
    "lgb_r = lgb.train(params,\n",
    "                 train_set=lgb_train,\n",
    "                 valid_sets=lgb_eval,\n",
    "                 verbose_eval=20)"
   ]
  },
  {
   "cell_type": "code",
   "execution_count": 132,
   "id": "9172e033-9f57-4f8a-bfc6-7f54f70c42dd",
   "metadata": {},
   "outputs": [],
   "source": [
    "# Робимо прогноз на тестувальну частину\n",
    "y_pred_lgb = lgb_r.predict(X_test)"
   ]
  },
  {
   "cell_type": "code",
   "execution_count": 133,
   "id": "69f585f6-38bb-40fa-8983-fbf4be9a45b6",
   "metadata": {},
   "outputs": [
    {
     "name": "stdout",
     "output_type": "stream",
     "text": [
      "MSE : 3356154.8230958455\n",
      "MAE : 1367.5882801065784\n",
      "RMSE : 1831.981119743281\n",
      "R2 : 0.6507368047185925\n",
      "Adjusted R2 :  0.650709916840473\n"
     ]
    }
   ],
   "source": [
    "# Оцінюємо показники моделі\n",
    "\n",
    "MSE  = mean_squared_error(y_test, y_pred_lgb)\n",
    "print(\"MSE :\" , MSE)\n",
    "\n",
    "MAE=mean_absolute_error(y_test, y_pred_lgb)\n",
    "print(\"MAE :\" ,MAE)\n",
    "\n",
    "RMSE = np.sqrt(MSE)\n",
    "print(\"RMSE :\" ,RMSE)\n",
    "\n",
    "r2 = r2_score(y_test, y_pred_lgb)\n",
    "print(\"R2 :\" ,r2)\n",
    "\n",
    "Adjusted_R2 = 1-(1-r2_score(y_test, y_pred_lgb))*((X_test.shape[0]-1)/(X_test.shape[0]-X_test.shape[1]-1))\n",
    "print(\"Adjusted R2 : \", Adjusted_R2)"
   ]
  },
  {
   "cell_type": "code",
   "execution_count": 134,
   "id": "3dd4ceed-6422-48cf-a3ac-5e590c14cf46",
   "metadata": {},
   "outputs": [
    {
     "data": {
      "text/html": [
       "<div>\n",
       "<style scoped>\n",
       "    .dataframe tbody tr th:only-of-type {\n",
       "        vertical-align: middle;\n",
       "    }\n",
       "\n",
       "    .dataframe tbody tr th {\n",
       "        vertical-align: top;\n",
       "    }\n",
       "\n",
       "    .dataframe thead th {\n",
       "        text-align: right;\n",
       "    }\n",
       "</style>\n",
       "<table border=\"1\" class=\"dataframe\">\n",
       "  <thead>\n",
       "    <tr style=\"text-align: right;\">\n",
       "      <th></th>\n",
       "      <th>feature</th>\n",
       "      <th>importance</th>\n",
       "    </tr>\n",
       "  </thead>\n",
       "  <tbody>\n",
       "    <tr>\n",
       "      <th>0</th>\n",
       "      <td>Store</td>\n",
       "      <td>914</td>\n",
       "    </tr>\n",
       "    <tr>\n",
       "      <th>7</th>\n",
       "      <td>CompetitionDistance</td>\n",
       "      <td>875</td>\n",
       "    </tr>\n",
       "    <tr>\n",
       "      <th>12</th>\n",
       "      <td>DayOfYear</td>\n",
       "      <td>354</td>\n",
       "    </tr>\n",
       "    <tr>\n",
       "      <th>1</th>\n",
       "      <td>DayOfWeek</td>\n",
       "      <td>166</td>\n",
       "    </tr>\n",
       "    <tr>\n",
       "      <th>6</th>\n",
       "      <td>Assortment</td>\n",
       "      <td>165</td>\n",
       "    </tr>\n",
       "    <tr>\n",
       "      <th>5</th>\n",
       "      <td>StoreType</td>\n",
       "      <td>164</td>\n",
       "    </tr>\n",
       "    <tr>\n",
       "      <th>8</th>\n",
       "      <td>PromoInterval</td>\n",
       "      <td>159</td>\n",
       "    </tr>\n",
       "    <tr>\n",
       "      <th>10</th>\n",
       "      <td>year</td>\n",
       "      <td>63</td>\n",
       "    </tr>\n",
       "    <tr>\n",
       "      <th>2</th>\n",
       "      <td>Promo</td>\n",
       "      <td>60</td>\n",
       "    </tr>\n",
       "    <tr>\n",
       "      <th>9</th>\n",
       "      <td>Promo2_active</td>\n",
       "      <td>41</td>\n",
       "    </tr>\n",
       "    <tr>\n",
       "      <th>11</th>\n",
       "      <td>month</td>\n",
       "      <td>21</td>\n",
       "    </tr>\n",
       "    <tr>\n",
       "      <th>4</th>\n",
       "      <td>SchoolHoliday</td>\n",
       "      <td>15</td>\n",
       "    </tr>\n",
       "    <tr>\n",
       "      <th>3</th>\n",
       "      <td>StateHoliday</td>\n",
       "      <td>3</td>\n",
       "    </tr>\n",
       "  </tbody>\n",
       "</table>\n",
       "</div>"
      ],
      "text/plain": [
       "                feature  importance\n",
       "0                 Store         914\n",
       "7   CompetitionDistance         875\n",
       "12            DayOfYear         354\n",
       "1             DayOfWeek         166\n",
       "6            Assortment         165\n",
       "5             StoreType         164\n",
       "8         PromoInterval         159\n",
       "10                 year          63\n",
       "2                 Promo          60\n",
       "9         Promo2_active          41\n",
       "11                month          21\n",
       "4         SchoolHoliday          15\n",
       "3          StateHoliday           3"
      ]
     },
     "execution_count": 134,
     "metadata": {},
     "output_type": "execute_result"
    }
   ],
   "source": [
    "# Візуалізуємо значимість змінніх в нашій моделі\n",
    "df_feature_importance = (\n",
    "    pd.DataFrame({\n",
    "        'feature': lgb_r.feature_name(),\n",
    "        'importance': lgb_r.feature_importance(),\n",
    "    })\n",
    "    .sort_values('importance', ascending=False)\n",
    ")\n",
    "\n",
    "df_feature_importance"
   ]
  },
  {
   "cell_type": "code",
   "execution_count": 135,
   "id": "6ce30cb4-6855-42e5-8b99-ef166be26c05",
   "metadata": {},
   "outputs": [
    {
     "data": {
      "text/html": [
       "<div>\n",
       "<style scoped>\n",
       "    .dataframe tbody tr th:only-of-type {\n",
       "        vertical-align: middle;\n",
       "    }\n",
       "\n",
       "    .dataframe tbody tr th {\n",
       "        vertical-align: top;\n",
       "    }\n",
       "\n",
       "    .dataframe thead th {\n",
       "        text-align: right;\n",
       "    }\n",
       "</style>\n",
       "<table border=\"1\" class=\"dataframe\">\n",
       "  <thead>\n",
       "    <tr style=\"text-align: right;\">\n",
       "      <th></th>\n",
       "      <th>Model</th>\n",
       "      <th>MSE</th>\n",
       "      <th>MAE</th>\n",
       "      <th>RMSE</th>\n",
       "      <th>R2 Score</th>\n",
       "      <th>Adjusted R2</th>\n",
       "    </tr>\n",
       "  </thead>\n",
       "  <tbody>\n",
       "    <tr>\n",
       "      <th>0</th>\n",
       "      <td>Linear Regression</td>\n",
       "      <td>7.856396e+06</td>\n",
       "      <td>2035.519542</td>\n",
       "      <td>2802.926347</td>\n",
       "      <td>0.182413</td>\n",
       "      <td>0.182350</td>\n",
       "    </tr>\n",
       "    <tr>\n",
       "      <th>1</th>\n",
       "      <td>Lasso Regression</td>\n",
       "      <td>7.856397e+06</td>\n",
       "      <td>2035.519352</td>\n",
       "      <td>2802.926421</td>\n",
       "      <td>0.182413</td>\n",
       "      <td>0.182350</td>\n",
       "    </tr>\n",
       "    <tr>\n",
       "      <th>2</th>\n",
       "      <td>Ridge Regression</td>\n",
       "      <td>7.856396e+06</td>\n",
       "      <td>2035.519542</td>\n",
       "      <td>2802.926347</td>\n",
       "      <td>0.182413</td>\n",
       "      <td>0.182350</td>\n",
       "    </tr>\n",
       "    <tr>\n",
       "      <th>3</th>\n",
       "      <td>XGBoost Regression</td>\n",
       "      <td>1.482685e+06</td>\n",
       "      <td>869.040236</td>\n",
       "      <td>1217.655649</td>\n",
       "      <td>0.845702</td>\n",
       "      <td>0.845690</td>\n",
       "    </tr>\n",
       "    <tr>\n",
       "      <th>4</th>\n",
       "      <td>XGBoost Regression (with CV)</td>\n",
       "      <td>1.482685e+06</td>\n",
       "      <td>869.040236</td>\n",
       "      <td>1217.655649</td>\n",
       "      <td>0.845702</td>\n",
       "      <td>0.845690</td>\n",
       "    </tr>\n",
       "    <tr>\n",
       "      <th>5</th>\n",
       "      <td>XGBoost Regression (with CV and HP)</td>\n",
       "      <td>5.481565e+05</td>\n",
       "      <td>502.086945</td>\n",
       "      <td>740.375885</td>\n",
       "      <td>0.942955</td>\n",
       "      <td>0.942951</td>\n",
       "    </tr>\n",
       "    <tr>\n",
       "      <th>6</th>\n",
       "      <td>Random Forest Regression</td>\n",
       "      <td>8.961952e+05</td>\n",
       "      <td>615.225868</td>\n",
       "      <td>946.675851</td>\n",
       "      <td>0.906736</td>\n",
       "      <td>0.906729</td>\n",
       "    </tr>\n",
       "    <tr>\n",
       "      <th>7</th>\n",
       "      <td>Random Forest Regression (with CV)</td>\n",
       "      <td>8.940808e+05</td>\n",
       "      <td>614.596801</td>\n",
       "      <td>945.558460</td>\n",
       "      <td>0.906956</td>\n",
       "      <td>0.906949</td>\n",
       "    </tr>\n",
       "    <tr>\n",
       "      <th>8</th>\n",
       "      <td>Random Forest Regression (with CV and HP)</td>\n",
       "      <td>9.005816e+05</td>\n",
       "      <td>615.961983</td>\n",
       "      <td>948.989756</td>\n",
       "      <td>0.906280</td>\n",
       "      <td>0.906272</td>\n",
       "    </tr>\n",
       "    <tr>\n",
       "      <th>9</th>\n",
       "      <td>Cat Boost Regressor</td>\n",
       "      <td>1.218824e+06</td>\n",
       "      <td>782.142051</td>\n",
       "      <td>1104.003728</td>\n",
       "      <td>0.873161</td>\n",
       "      <td>0.873151</td>\n",
       "    </tr>\n",
       "    <tr>\n",
       "      <th>10</th>\n",
       "      <td>Cat Boost Regressor with HP</td>\n",
       "      <td>9.736234e+05</td>\n",
       "      <td>692.296457</td>\n",
       "      <td>986.723579</td>\n",
       "      <td>0.898678</td>\n",
       "      <td>0.898671</td>\n",
       "    </tr>\n",
       "    <tr>\n",
       "      <th>11</th>\n",
       "      <td>LightGBM</td>\n",
       "      <td>3.356155e+06</td>\n",
       "      <td>1367.588280</td>\n",
       "      <td>1831.981120</td>\n",
       "      <td>0.650737</td>\n",
       "      <td>0.650710</td>\n",
       "    </tr>\n",
       "  </tbody>\n",
       "</table>\n",
       "</div>"
      ],
      "text/plain": [
       "                                        Model           MSE          MAE  \\\n",
       "0                           Linear Regression  7.856396e+06  2035.519542   \n",
       "1                            Lasso Regression  7.856397e+06  2035.519352   \n",
       "2                            Ridge Regression  7.856396e+06  2035.519542   \n",
       "3                          XGBoost Regression  1.482685e+06   869.040236   \n",
       "4                XGBoost Regression (with CV)  1.482685e+06   869.040236   \n",
       "5         XGBoost Regression (with CV and HP)  5.481565e+05   502.086945   \n",
       "6                   Random Forest Regression   8.961952e+05   615.225868   \n",
       "7          Random Forest Regression (with CV)  8.940808e+05   614.596801   \n",
       "8   Random Forest Regression (with CV and HP)  9.005816e+05   615.961983   \n",
       "9                         Cat Boost Regressor  1.218824e+06   782.142051   \n",
       "10                Cat Boost Regressor with HP  9.736234e+05   692.296457   \n",
       "11                                   LightGBM  3.356155e+06  1367.588280   \n",
       "\n",
       "           RMSE  R2 Score  Adjusted R2  \n",
       "0   2802.926347  0.182413     0.182350  \n",
       "1   2802.926421  0.182413     0.182350  \n",
       "2   2802.926347  0.182413     0.182350  \n",
       "3   1217.655649  0.845702     0.845690  \n",
       "4   1217.655649  0.845702     0.845690  \n",
       "5    740.375885  0.942955     0.942951  \n",
       "6    946.675851  0.906736     0.906729  \n",
       "7    945.558460  0.906956     0.906949  \n",
       "8    948.989756  0.906280     0.906272  \n",
       "9   1104.003728  0.873161     0.873151  \n",
       "10   986.723579  0.898678     0.898671  \n",
       "11  1831.981120  0.650737     0.650710  "
      ]
     },
     "execution_count": 135,
     "metadata": {},
     "output_type": "execute_result"
    }
   ],
   "source": [
    "# Добавляємо показники моделі в список для порівняння\n",
    "LGB1 = {'Model':'LightGBM', 'MSE': MSE, 'MAE':MAE, 'RMSE':RMSE, 'R2 Score': r2, 'Adjusted R2': Adjusted_R2}\n",
    "metrics = metrics.append(LGB1,ignore_index=True)\n",
    "metrics"
   ]
  },
  {
   "cell_type": "markdown",
   "id": "894ec3af-5282-44b3-a1de-d93ff6b4e38c",
   "metadata": {},
   "source": [
    "## `LightGBM з гіперпараметрами`"
   ]
  },
  {
   "cell_type": "code",
   "execution_count": 136,
   "id": "8d7634ba-afa5-46ab-93cb-0c6d855b6dc8",
   "metadata": {},
   "outputs": [
    {
     "name": "stdout",
     "output_type": "stream",
     "text": [
      "Training until validation scores don't improve for 30 rounds\n",
      "[100]\tvalid_0's l1: 1365.3\n",
      "[200]\tvalid_0's l1: 1062.51\n",
      "[300]\tvalid_0's l1: 913.448\n",
      "[400]\tvalid_0's l1: 821.352\n",
      "[500]\tvalid_0's l1: 763.69\n",
      "[600]\tvalid_0's l1: 722.374\n",
      "[700]\tvalid_0's l1: 687.548\n",
      "[800]\tvalid_0's l1: 664.526\n",
      "[900]\tvalid_0's l1: 646.031\n",
      "[1000]\tvalid_0's l1: 629.845\n",
      "Did not meet early stopping. Best iteration is:\n",
      "[1000]\tvalid_0's l1: 629.845\n"
     ]
    }
   ],
   "source": [
    "# Створюємо модель та тренуємо її\n",
    "lgb_train = lgb.Dataset(X_train, y_train)\n",
    "lgb_eval = lgb.Dataset(X_test, y_test, reference=lgb_train)\n",
    "\n",
    "params = {\n",
    "    'task': 'train', \n",
    "    'boosting': 'gbdt',\n",
    "    'objective': 'regression',\n",
    "    'metric': 'mae',\n",
    "    'num_boost_round':1000,\n",
    "    'early_stopping_rounds':30,\n",
    "    'seed': 42,\n",
    "    'verbose': -1\n",
    "}\n",
    "\n",
    "lgb_rh = lgb.train(params,\n",
    "                 train_set=lgb_train,\n",
    "                 valid_sets=lgb_eval,\n",
    "                 verbose_eval=100)"
   ]
  },
  {
   "cell_type": "code",
   "execution_count": 137,
   "id": "ab031c6b-4fa4-4cf3-ae22-a4789eb7ee95",
   "metadata": {},
   "outputs": [],
   "source": [
    "# Робимо прогноз на тестувальну частину\n",
    "y_pred_lgbh = lgb_rh.predict(X_test)"
   ]
  },
  {
   "cell_type": "code",
   "execution_count": 138,
   "id": "af375a4d-545f-4ab1-aaae-4038905b4ca7",
   "metadata": {},
   "outputs": [
    {
     "name": "stdout",
     "output_type": "stream",
     "text": [
      "MSE : 800583.9897762334\n",
      "MAE : 629.8453028552506\n",
      "RMSE : 894.7535916531621\n",
      "R2 : 0.9166860478437471\n",
      "Adjusted R2 :  0.9166796339546758\n"
     ]
    }
   ],
   "source": [
    "# Оцінюємо показники моделі\n",
    "\n",
    "MSE  = mean_squared_error(y_test, y_pred_lgbh)\n",
    "print(\"MSE :\" , MSE)\n",
    "\n",
    "MAE=mean_absolute_error(y_test, y_pred_lgbh)\n",
    "print(\"MAE :\" ,MAE)\n",
    "\n",
    "RMSE = np.sqrt(MSE)\n",
    "print(\"RMSE :\" ,RMSE)\n",
    "\n",
    "r2 = r2_score(y_test, y_pred_lgbh)\n",
    "print(\"R2 :\" ,r2)\n",
    "\n",
    "Adjusted_R2 = 1-(1-r2_score(y_test, y_pred_lgbh))*((X_test.shape[0]-1)/(X_test.shape[0]-X_test.shape[1]-1))\n",
    "print(\"Adjusted R2 : \", Adjusted_R2)"
   ]
  },
  {
   "cell_type": "code",
   "execution_count": 139,
   "id": "7be7156d-167b-40d7-bb5d-9c1bc2253460",
   "metadata": {},
   "outputs": [
    {
     "data": {
      "text/html": [
       "<div>\n",
       "<style scoped>\n",
       "    .dataframe tbody tr th:only-of-type {\n",
       "        vertical-align: middle;\n",
       "    }\n",
       "\n",
       "    .dataframe tbody tr th {\n",
       "        vertical-align: top;\n",
       "    }\n",
       "\n",
       "    .dataframe thead th {\n",
       "        text-align: right;\n",
       "    }\n",
       "</style>\n",
       "<table border=\"1\" class=\"dataframe\">\n",
       "  <thead>\n",
       "    <tr style=\"text-align: right;\">\n",
       "      <th></th>\n",
       "      <th>feature</th>\n",
       "      <th>importance</th>\n",
       "    </tr>\n",
       "  </thead>\n",
       "  <tbody>\n",
       "    <tr>\n",
       "      <th>0</th>\n",
       "      <td>Store</td>\n",
       "      <td>7612</td>\n",
       "    </tr>\n",
       "    <tr>\n",
       "      <th>7</th>\n",
       "      <td>CompetitionDistance</td>\n",
       "      <td>7210</td>\n",
       "    </tr>\n",
       "    <tr>\n",
       "      <th>1</th>\n",
       "      <td>DayOfWeek</td>\n",
       "      <td>3344</td>\n",
       "    </tr>\n",
       "    <tr>\n",
       "      <th>12</th>\n",
       "      <td>DayOfYear</td>\n",
       "      <td>3249</td>\n",
       "    </tr>\n",
       "    <tr>\n",
       "      <th>2</th>\n",
       "      <td>Promo</td>\n",
       "      <td>1697</td>\n",
       "    </tr>\n",
       "    <tr>\n",
       "      <th>5</th>\n",
       "      <td>StoreType</td>\n",
       "      <td>1649</td>\n",
       "    </tr>\n",
       "    <tr>\n",
       "      <th>8</th>\n",
       "      <td>PromoInterval</td>\n",
       "      <td>1510</td>\n",
       "    </tr>\n",
       "    <tr>\n",
       "      <th>6</th>\n",
       "      <td>Assortment</td>\n",
       "      <td>1224</td>\n",
       "    </tr>\n",
       "    <tr>\n",
       "      <th>10</th>\n",
       "      <td>year</td>\n",
       "      <td>1172</td>\n",
       "    </tr>\n",
       "    <tr>\n",
       "      <th>9</th>\n",
       "      <td>Promo2_active</td>\n",
       "      <td>576</td>\n",
       "    </tr>\n",
       "    <tr>\n",
       "      <th>11</th>\n",
       "      <td>month</td>\n",
       "      <td>351</td>\n",
       "    </tr>\n",
       "    <tr>\n",
       "      <th>4</th>\n",
       "      <td>SchoolHoliday</td>\n",
       "      <td>248</td>\n",
       "    </tr>\n",
       "    <tr>\n",
       "      <th>3</th>\n",
       "      <td>StateHoliday</td>\n",
       "      <td>158</td>\n",
       "    </tr>\n",
       "  </tbody>\n",
       "</table>\n",
       "</div>"
      ],
      "text/plain": [
       "                feature  importance\n",
       "0                 Store        7612\n",
       "7   CompetitionDistance        7210\n",
       "1             DayOfWeek        3344\n",
       "12            DayOfYear        3249\n",
       "2                 Promo        1697\n",
       "5             StoreType        1649\n",
       "8         PromoInterval        1510\n",
       "6            Assortment        1224\n",
       "10                 year        1172\n",
       "9         Promo2_active         576\n",
       "11                month         351\n",
       "4         SchoolHoliday         248\n",
       "3          StateHoliday         158"
      ]
     },
     "execution_count": 139,
     "metadata": {},
     "output_type": "execute_result"
    }
   ],
   "source": [
    "# Візуалізуємо значимість змінніх в нашій моделі\n",
    "df_feature_importance = (\n",
    "    pd.DataFrame({\n",
    "        'feature': lgb_rh.feature_name(),\n",
    "        'importance': lgb_rh.feature_importance(),\n",
    "    })\n",
    "    .sort_values('importance', ascending=False)\n",
    ")\n",
    "\n",
    "df_feature_importance"
   ]
  },
  {
   "cell_type": "code",
   "execution_count": 140,
   "id": "34eb9159-953b-4819-9004-7b97f87d894f",
   "metadata": {},
   "outputs": [],
   "source": [
    "# Добавляємо показники моделі в список для порівняння\n",
    "LGB2 = {'Model':'LightGBM (with HP)', 'MSE': MSE, 'MAE':MAE, 'RMSE':RMSE, 'R2 Score': r2, 'Adjusted R2': Adjusted_R2}\n",
    "metrics = metrics.append(LGB2,ignore_index=True)"
   ]
  },
  {
   "cell_type": "code",
   "execution_count": 141,
   "id": "ab06e88c-f79a-4ab0-8230-b67093d26e7e",
   "metadata": {},
   "outputs": [
    {
     "data": {
      "text/html": [
       "<div>\n",
       "<style scoped>\n",
       "    .dataframe tbody tr th:only-of-type {\n",
       "        vertical-align: middle;\n",
       "    }\n",
       "\n",
       "    .dataframe tbody tr th {\n",
       "        vertical-align: top;\n",
       "    }\n",
       "\n",
       "    .dataframe thead th {\n",
       "        text-align: right;\n",
       "    }\n",
       "</style>\n",
       "<table border=\"1\" class=\"dataframe\">\n",
       "  <thead>\n",
       "    <tr style=\"text-align: right;\">\n",
       "      <th></th>\n",
       "      <th>Model</th>\n",
       "      <th>MSE</th>\n",
       "      <th>MAE</th>\n",
       "      <th>RMSE</th>\n",
       "      <th>R2 Score</th>\n",
       "      <th>Adjusted R2</th>\n",
       "    </tr>\n",
       "  </thead>\n",
       "  <tbody>\n",
       "    <tr>\n",
       "      <th>0</th>\n",
       "      <td>Linear Regression</td>\n",
       "      <td>7856396.106</td>\n",
       "      <td>2035.520</td>\n",
       "      <td>2802.926</td>\n",
       "      <td>0.182</td>\n",
       "      <td>0.182</td>\n",
       "    </tr>\n",
       "    <tr>\n",
       "      <th>1</th>\n",
       "      <td>Lasso Regression</td>\n",
       "      <td>7856396.522</td>\n",
       "      <td>2035.519</td>\n",
       "      <td>2802.926</td>\n",
       "      <td>0.182</td>\n",
       "      <td>0.182</td>\n",
       "    </tr>\n",
       "    <tr>\n",
       "      <th>2</th>\n",
       "      <td>Ridge Regression</td>\n",
       "      <td>7856396.108</td>\n",
       "      <td>2035.520</td>\n",
       "      <td>2802.926</td>\n",
       "      <td>0.182</td>\n",
       "      <td>0.182</td>\n",
       "    </tr>\n",
       "    <tr>\n",
       "      <th>3</th>\n",
       "      <td>XGBoost Regression</td>\n",
       "      <td>1482685.280</td>\n",
       "      <td>869.040</td>\n",
       "      <td>1217.656</td>\n",
       "      <td>0.846</td>\n",
       "      <td>0.846</td>\n",
       "    </tr>\n",
       "    <tr>\n",
       "      <th>4</th>\n",
       "      <td>XGBoost Regression (with CV)</td>\n",
       "      <td>1482685.280</td>\n",
       "      <td>869.040</td>\n",
       "      <td>1217.656</td>\n",
       "      <td>0.846</td>\n",
       "      <td>0.846</td>\n",
       "    </tr>\n",
       "    <tr>\n",
       "      <th>5</th>\n",
       "      <td>XGBoost Regression (with CV and HP)</td>\n",
       "      <td>548156.451</td>\n",
       "      <td>502.087</td>\n",
       "      <td>740.376</td>\n",
       "      <td>0.943</td>\n",
       "      <td>0.943</td>\n",
       "    </tr>\n",
       "    <tr>\n",
       "      <th>6</th>\n",
       "      <td>Random Forest Regression</td>\n",
       "      <td>896195.167</td>\n",
       "      <td>615.226</td>\n",
       "      <td>946.676</td>\n",
       "      <td>0.907</td>\n",
       "      <td>0.907</td>\n",
       "    </tr>\n",
       "    <tr>\n",
       "      <th>7</th>\n",
       "      <td>Random Forest Regression (with CV)</td>\n",
       "      <td>894080.800</td>\n",
       "      <td>614.597</td>\n",
       "      <td>945.558</td>\n",
       "      <td>0.907</td>\n",
       "      <td>0.907</td>\n",
       "    </tr>\n",
       "    <tr>\n",
       "      <th>8</th>\n",
       "      <td>Random Forest Regression (with CV and HP)</td>\n",
       "      <td>900581.557</td>\n",
       "      <td>615.962</td>\n",
       "      <td>948.990</td>\n",
       "      <td>0.906</td>\n",
       "      <td>0.906</td>\n",
       "    </tr>\n",
       "    <tr>\n",
       "      <th>9</th>\n",
       "      <td>Cat Boost Regressor</td>\n",
       "      <td>1218824.232</td>\n",
       "      <td>782.142</td>\n",
       "      <td>1104.004</td>\n",
       "      <td>0.873</td>\n",
       "      <td>0.873</td>\n",
       "    </tr>\n",
       "    <tr>\n",
       "      <th>10</th>\n",
       "      <td>Cat Boost Regressor with HP</td>\n",
       "      <td>973623.421</td>\n",
       "      <td>692.296</td>\n",
       "      <td>986.724</td>\n",
       "      <td>0.899</td>\n",
       "      <td>0.899</td>\n",
       "    </tr>\n",
       "    <tr>\n",
       "      <th>11</th>\n",
       "      <td>LightGBM</td>\n",
       "      <td>3356154.823</td>\n",
       "      <td>1367.588</td>\n",
       "      <td>1831.981</td>\n",
       "      <td>0.651</td>\n",
       "      <td>0.651</td>\n",
       "    </tr>\n",
       "    <tr>\n",
       "      <th>12</th>\n",
       "      <td>LightGBM (with HP)</td>\n",
       "      <td>800583.990</td>\n",
       "      <td>629.845</td>\n",
       "      <td>894.754</td>\n",
       "      <td>0.917</td>\n",
       "      <td>0.917</td>\n",
       "    </tr>\n",
       "  </tbody>\n",
       "</table>\n",
       "</div>"
      ],
      "text/plain": [
       "                                        Model         MSE      MAE     RMSE  \\\n",
       "0                           Linear Regression 7856396.106 2035.520 2802.926   \n",
       "1                            Lasso Regression 7856396.522 2035.519 2802.926   \n",
       "2                            Ridge Regression 7856396.108 2035.520 2802.926   \n",
       "3                          XGBoost Regression 1482685.280  869.040 1217.656   \n",
       "4                XGBoost Regression (with CV) 1482685.280  869.040 1217.656   \n",
       "5         XGBoost Regression (with CV and HP)  548156.451  502.087  740.376   \n",
       "6                   Random Forest Regression   896195.167  615.226  946.676   \n",
       "7          Random Forest Regression (with CV)  894080.800  614.597  945.558   \n",
       "8   Random Forest Regression (with CV and HP)  900581.557  615.962  948.990   \n",
       "9                         Cat Boost Regressor 1218824.232  782.142 1104.004   \n",
       "10                Cat Boost Regressor with HP  973623.421  692.296  986.724   \n",
       "11                                   LightGBM 3356154.823 1367.588 1831.981   \n",
       "12                         LightGBM (with HP)  800583.990  629.845  894.754   \n",
       "\n",
       "    R2 Score  Adjusted R2  \n",
       "0      0.182        0.182  \n",
       "1      0.182        0.182  \n",
       "2      0.182        0.182  \n",
       "3      0.846        0.846  \n",
       "4      0.846        0.846  \n",
       "5      0.943        0.943  \n",
       "6      0.907        0.907  \n",
       "7      0.907        0.907  \n",
       "8      0.906        0.906  \n",
       "9      0.873        0.873  \n",
       "10     0.899        0.899  \n",
       "11     0.651        0.651  \n",
       "12     0.917        0.917  "
      ]
     },
     "execution_count": 141,
     "metadata": {},
     "output_type": "execute_result"
    }
   ],
   "source": [
    "pd.set_option('display.float_format', lambda x: '%0.3f' % x)\n",
    "metrics"
   ]
  },
  {
   "cell_type": "markdown",
   "id": "10d46025-4021-4ed1-af62-00e2dd22d11a",
   "metadata": {},
   "source": [
    "## `Висновки:`"
   ]
  },
  {
   "cell_type": "markdown",
   "id": "d2f50e36-2a7c-4e89-a710-21065e0daf4e",
   "metadata": {},
   "source": [
    "* #### Моделі `Linear Regression`, `Lasso Regression` та `Ridge Regression` показали дуже невелику та практично однакову (18.2%) точність, отже ці моделі не підходять для нашого набору даних. \n",
    "* #### `Random Forest Regression` - ця модель показала точність 90.6%. Проведена кросс валідація та застосування гіперпараметрів практично не вплинуло на покращення показників нашої моделі.\n",
    "* #### `Cat Boost Regression` - базова модель показала точність 87.3%. Додавання гіперпараметрів покращило показники точності моделі до 89.9%.\n",
    "* #### `LightGBM Regression` - базова модель показала точність 65.1%. Додавання гіперпараметрів покращило показники точності моделі до 91.7%. Також ця модель показала найшвидшу роботу серед усіх моделей градієнтного бустингу.\n",
    "* #### `XGBoost Regression` - ця модель показала найкращі результати. Базова модель показала точність 84.6%. Проведена кросс валідація не покращила показники моделі, а от додавання гіперпараметрів різко покращило показники точності моделі до 94.3%\n",
    "* #### Отже в якості фінальної моделі будемо використовувати `XGBoost Regression` з кросвалідацією і гіперпараметрами."
   ]
  }
 ],
 "metadata": {
  "kernelspec": {
   "display_name": "Python 3 (ipykernel)",
   "language": "python",
   "name": "python3"
  },
  "language_info": {
   "codemirror_mode": {
    "name": "ipython",
    "version": 3
   },
   "file_extension": ".py",
   "mimetype": "text/x-python",
   "name": "python",
   "nbconvert_exporter": "python",
   "pygments_lexer": "ipython3",
   "version": "3.10.8"
  }
 },
 "nbformat": 4,
 "nbformat_minor": 5
}
